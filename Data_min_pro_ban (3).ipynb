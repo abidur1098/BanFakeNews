{
  "cells": [
    {
      "cell_type": "markdown",
      "source": [
        "# import files"
      ],
      "metadata": {
        "id": "wPdMQAZAw-_5"
      }
    },
    {
      "cell_type": "code",
      "execution_count": null,
      "metadata": {
        "id": "RhC3QHYUuE3G"
      },
      "outputs": [],
      "source": [
        "import os\n",
        "from google.colab import files\n",
        "import pandas as pd\n",
        "import numpy as np\n",
        "import string\n",
        "import matplotlib.pyplot as plt\n",
        "import seaborn as sns\n",
        "\n",
        "from sklearn.model_selection import train_test_split\n",
        "from sklearn.feature_extraction.text import TfidfVectorizer\n",
        "from sklearn.svm import LinearSVC\n",
        "from sklearn.linear_model import LogisticRegression\n",
        "from sklearn.naive_bayes import MultinomialNB\n",
        "from sklearn.ensemble import VotingClassifier\n",
        "from sklearn.metrics import accuracy_score, classification_report, confusion_matrix\n"
      ]
    },
    {
      "cell_type": "markdown",
      "source": [
        "# inpoot banfake dataset\n"
      ],
      "metadata": {
        "id": "Oubkt7K1xhVp"
      }
    },
    {
      "cell_type": "code",
      "execution_count": null,
      "metadata": {
        "colab": {
          "base_uri": "https://localhost:8080/",
          "height": 262
        },
        "id": "f6QkwKrkuMpT",
        "outputId": "b82663fb-c900-4078-d09a-99024098d9f1"
      },
      "outputs": [
        {
          "output_type": "stream",
          "name": "stdout",
          "text": [
            "Please upload your kaggle.json file:\n"
          ]
        },
        {
          "output_type": "display_data",
          "data": {
            "text/plain": [
              "<IPython.core.display.HTML object>"
            ],
            "text/html": [
              "\n",
              "     <input type=\"file\" id=\"files-fea1376d-d7eb-452d-81cb-ae10780253d2\" name=\"files[]\" multiple disabled\n",
              "        style=\"border:none\" />\n",
              "     <output id=\"result-fea1376d-d7eb-452d-81cb-ae10780253d2\">\n",
              "      Upload widget is only available when the cell has been executed in the\n",
              "      current browser session. Please rerun this cell to enable.\n",
              "      </output>\n",
              "      <script>// Copyright 2017 Google LLC\n",
              "//\n",
              "// Licensed under the Apache License, Version 2.0 (the \"License\");\n",
              "// you may not use this file except in compliance with the License.\n",
              "// You may obtain a copy of the License at\n",
              "//\n",
              "//      http://www.apache.org/licenses/LICENSE-2.0\n",
              "//\n",
              "// Unless required by applicable law or agreed to in writing, software\n",
              "// distributed under the License is distributed on an \"AS IS\" BASIS,\n",
              "// WITHOUT WARRANTIES OR CONDITIONS OF ANY KIND, either express or implied.\n",
              "// See the License for the specific language governing permissions and\n",
              "// limitations under the License.\n",
              "\n",
              "/**\n",
              " * @fileoverview Helpers for google.colab Python module.\n",
              " */\n",
              "(function(scope) {\n",
              "function span(text, styleAttributes = {}) {\n",
              "  const element = document.createElement('span');\n",
              "  element.textContent = text;\n",
              "  for (const key of Object.keys(styleAttributes)) {\n",
              "    element.style[key] = styleAttributes[key];\n",
              "  }\n",
              "  return element;\n",
              "}\n",
              "\n",
              "// Max number of bytes which will be uploaded at a time.\n",
              "const MAX_PAYLOAD_SIZE = 100 * 1024;\n",
              "\n",
              "function _uploadFiles(inputId, outputId) {\n",
              "  const steps = uploadFilesStep(inputId, outputId);\n",
              "  const outputElement = document.getElementById(outputId);\n",
              "  // Cache steps on the outputElement to make it available for the next call\n",
              "  // to uploadFilesContinue from Python.\n",
              "  outputElement.steps = steps;\n",
              "\n",
              "  return _uploadFilesContinue(outputId);\n",
              "}\n",
              "\n",
              "// This is roughly an async generator (not supported in the browser yet),\n",
              "// where there are multiple asynchronous steps and the Python side is going\n",
              "// to poll for completion of each step.\n",
              "// This uses a Promise to block the python side on completion of each step,\n",
              "// then passes the result of the previous step as the input to the next step.\n",
              "function _uploadFilesContinue(outputId) {\n",
              "  const outputElement = document.getElementById(outputId);\n",
              "  const steps = outputElement.steps;\n",
              "\n",
              "  const next = steps.next(outputElement.lastPromiseValue);\n",
              "  return Promise.resolve(next.value.promise).then((value) => {\n",
              "    // Cache the last promise value to make it available to the next\n",
              "    // step of the generator.\n",
              "    outputElement.lastPromiseValue = value;\n",
              "    return next.value.response;\n",
              "  });\n",
              "}\n",
              "\n",
              "/**\n",
              " * Generator function which is called between each async step of the upload\n",
              " * process.\n",
              " * @param {string} inputId Element ID of the input file picker element.\n",
              " * @param {string} outputId Element ID of the output display.\n",
              " * @return {!Iterable<!Object>} Iterable of next steps.\n",
              " */\n",
              "function* uploadFilesStep(inputId, outputId) {\n",
              "  const inputElement = document.getElementById(inputId);\n",
              "  inputElement.disabled = false;\n",
              "\n",
              "  const outputElement = document.getElementById(outputId);\n",
              "  outputElement.innerHTML = '';\n",
              "\n",
              "  const pickedPromise = new Promise((resolve) => {\n",
              "    inputElement.addEventListener('change', (e) => {\n",
              "      resolve(e.target.files);\n",
              "    });\n",
              "  });\n",
              "\n",
              "  const cancel = document.createElement('button');\n",
              "  inputElement.parentElement.appendChild(cancel);\n",
              "  cancel.textContent = 'Cancel upload';\n",
              "  const cancelPromise = new Promise((resolve) => {\n",
              "    cancel.onclick = () => {\n",
              "      resolve(null);\n",
              "    };\n",
              "  });\n",
              "\n",
              "  // Wait for the user to pick the files.\n",
              "  const files = yield {\n",
              "    promise: Promise.race([pickedPromise, cancelPromise]),\n",
              "    response: {\n",
              "      action: 'starting',\n",
              "    }\n",
              "  };\n",
              "\n",
              "  cancel.remove();\n",
              "\n",
              "  // Disable the input element since further picks are not allowed.\n",
              "  inputElement.disabled = true;\n",
              "\n",
              "  if (!files) {\n",
              "    return {\n",
              "      response: {\n",
              "        action: 'complete',\n",
              "      }\n",
              "    };\n",
              "  }\n",
              "\n",
              "  for (const file of files) {\n",
              "    const li = document.createElement('li');\n",
              "    li.append(span(file.name, {fontWeight: 'bold'}));\n",
              "    li.append(span(\n",
              "        `(${file.type || 'n/a'}) - ${file.size} bytes, ` +\n",
              "        `last modified: ${\n",
              "            file.lastModifiedDate ? file.lastModifiedDate.toLocaleDateString() :\n",
              "                                    'n/a'} - `));\n",
              "    const percent = span('0% done');\n",
              "    li.appendChild(percent);\n",
              "\n",
              "    outputElement.appendChild(li);\n",
              "\n",
              "    const fileDataPromise = new Promise((resolve) => {\n",
              "      const reader = new FileReader();\n",
              "      reader.onload = (e) => {\n",
              "        resolve(e.target.result);\n",
              "      };\n",
              "      reader.readAsArrayBuffer(file);\n",
              "    });\n",
              "    // Wait for the data to be ready.\n",
              "    let fileData = yield {\n",
              "      promise: fileDataPromise,\n",
              "      response: {\n",
              "        action: 'continue',\n",
              "      }\n",
              "    };\n",
              "\n",
              "    // Use a chunked sending to avoid message size limits. See b/62115660.\n",
              "    let position = 0;\n",
              "    do {\n",
              "      const length = Math.min(fileData.byteLength - position, MAX_PAYLOAD_SIZE);\n",
              "      const chunk = new Uint8Array(fileData, position, length);\n",
              "      position += length;\n",
              "\n",
              "      const base64 = btoa(String.fromCharCode.apply(null, chunk));\n",
              "      yield {\n",
              "        response: {\n",
              "          action: 'append',\n",
              "          file: file.name,\n",
              "          data: base64,\n",
              "        },\n",
              "      };\n",
              "\n",
              "      let percentDone = fileData.byteLength === 0 ?\n",
              "          100 :\n",
              "          Math.round((position / fileData.byteLength) * 100);\n",
              "      percent.textContent = `${percentDone}% done`;\n",
              "\n",
              "    } while (position < fileData.byteLength);\n",
              "  }\n",
              "\n",
              "  // All done.\n",
              "  yield {\n",
              "    response: {\n",
              "      action: 'complete',\n",
              "    }\n",
              "  };\n",
              "}\n",
              "\n",
              "scope.google = scope.google || {};\n",
              "scope.google.colab = scope.google.colab || {};\n",
              "scope.google.colab._files = {\n",
              "  _uploadFiles,\n",
              "  _uploadFilesContinue,\n",
              "};\n",
              "})(self);\n",
              "</script> "
            ]
          },
          "metadata": {}
        },
        {
          "output_type": "stream",
          "name": "stdout",
          "text": [
            "Saving kaggle.json to kaggle.json\n",
            "Dataset URL: https://www.kaggle.com/datasets/hrithikmajumdar/bangla-fake-news\n",
            "License(s): apache-2.0\n",
            "Downloading bangla-fake-news.zip to /content\n",
            " 82% 53.0M/64.4M [00:00<00:00, 518MB/s]\n",
            "100% 64.4M/64.4M [00:00<00:00, 395MB/s]\n",
            "Archive:  bangla-fake-news.zip\n",
            "  inflating: ./banfake-news/test_cleaned.csv  \n",
            "  inflating: ./banfake-news/train_cleaned.csv  \n",
            "  inflating: ./banfake-news/val_cleaned.csv  \n",
            "test_cleaned.csv  train_cleaned.csv  val_cleaned.csv\n"
          ]
        }
      ],
      "source": [
        "# Upload kaggle.json if needed\n",
        "if not os.path.exists('kaggle.json'):\n",
        "    print(\"Please upload your kaggle.json file:\")\n",
        "    uploaded = files.upload()\n",
        "else:\n",
        "    print(\"kaggle.json already exists. Skipping upload.\")\n",
        "\n",
        "# Install packages\n",
        "!pip install -q kaggle xgboost lightgbm imbalanced-learn\n",
        "\n",
        "# Kaggle CLI setup\n",
        "!mkdir -p ~/.kaggle\n",
        "!cp kaggle.json ~/.kaggle/\n",
        "!chmod 600 ~/.kaggle/kaggle.json\n",
        "\n",
        "# Download and unzip dataset\n",
        "!kaggle datasets download -d hrithikmajumdar/bangla-fake-news\n",
        "!unzip -o bangla-fake-news.zip -d ./banfake-news\n",
        "\n",
        "!ls ./banfake-news/"
      ]
    },
    {
      "cell_type": "markdown",
      "source": [
        "lode banfake dataset"
      ],
      "metadata": {
        "id": "0__2MJr6x11f"
      }
    },
    {
      "cell_type": "code",
      "execution_count": null,
      "metadata": {
        "id": "LGossyZZuQFr"
      },
      "outputs": [],
      "source": [
        "# Load datasets\n",
        "train_df = pd.read_csv('/content/banfake-news/train_cleaned.csv')\n",
        "test_df = pd.read_csv('/content/banfake-news/test_cleaned.csv')\n",
        "validation_df = pd.read_csv('/content/banfake-news/val_cleaned.csv')"
      ]
    },
    {
      "cell_type": "markdown",
      "source": [
        "take Fake (0) -> 0, Real (3) -> 1"
      ],
      "metadata": {
        "id": "cUhtDB6px9-X"
      }
    },
    {
      "cell_type": "code",
      "execution_count": null,
      "metadata": {
        "id": "8Z1Dst9AuThR"
      },
      "outputs": [],
      "source": [
        "label_column = 'Label'\n",
        "\n",
        "# Combine all data\n",
        "df_all = pd.concat([train_df, test_df, validation_df], ignore_index=True)\n",
        "\n",
        "# Binary label mapping: Fake (0) -> 0, Real (3) -> 1\n",
        "real_df = df_all[df_all['Label'] == 3].copy()\n",
        "fake_df = df_all[df_all['Label'] == 0].copy()\n",
        "\n",
        "real_df['Label'] = 1\n",
        "fake_df['Label'] = 0"
      ]
    },
    {
      "cell_type": "code",
      "source": [
        "real_df['text'] = real_df['Headline'].fillna('') + ' ' + real_df['Content'].fillna('')\n",
        "real_df['text'] = real_df['text'].astype(str).str.lower().str.translate(str.maketrans('', '', string.punctuation))\n",
        "\n",
        "fake_df['text'] = fake_df['Headline'].fillna('') + ' ' + fake_df['Content'].fillna('')\n",
        "fake_df['text'] = fake_df['text'].astype(str).str.lower().str.translate(str.maketrans('', '', string.punctuation))"
      ],
      "metadata": {
        "id": "NQ5ES9I_a1Jg"
      },
      "execution_count": null,
      "outputs": []
    },
    {
      "cell_type": "markdown",
      "source": [
        "# lode bangla_fake500 dataset"
      ],
      "metadata": {
        "id": "4SyOywmHyJhg"
      }
    },
    {
      "cell_type": "code",
      "execution_count": null,
      "metadata": {
        "colab": {
          "base_uri": "https://localhost:8080/"
        },
        "id": "K0eZr5xYtYKb",
        "outputId": "69714808-ddaf-4bcc-ac4d-62c3089ae67c"
      },
      "outputs": [
        {
          "output_type": "stream",
          "name": "stdout",
          "text": [
            "Dataset URL: https://www.kaggle.com/datasets/zihadbappy/banglafakenews500\n",
            "License(s): CC0-1.0\n",
            "Downloading banglafakenews500.zip to /content\n",
            "  0% 0.00/682k [00:00<?, ?B/s]\n",
            "100% 682k/682k [00:00<00:00, 542MB/s]\n",
            "Archive:  banglafakenews500.zip\n",
            "  inflating: ./bangla_fake500/BanglaFakeNews500.xlsx  \n",
            "Requirement already satisfied: openpyxl in /usr/local/lib/python3.11/dist-packages (3.1.5)\n",
            "Requirement already satisfied: et-xmlfile in /usr/local/lib/python3.11/dist-packages (from openpyxl) (2.0.0)\n"
          ]
        }
      ],
      "source": [
        "!kaggle datasets download -d zihadbappy/banglafakenews500\n",
        "!mkdir -p ./bangla_fake500\n",
        "!unzip -o banglafakenews500.zip -d ./bangla_fake500\n",
        "\n",
        "# Install openpyxl\n",
        "!pip install openpyxl\n",
        "\n",
        "# Load Excel and clean\n",
        "df500 = pd.read_excel('./bangla_fake500/BanglaFakeNews500.xlsx')\n",
        "df500['text'] = df500['headline'].fillna('') + ' ' + df500['Content'].fillna('')\n",
        "df500['text'] = df500['text'].astype(str).str.lower().str.translate(str.maketrans('', '', string.punctuation))\n",
        "df500['label'] = 0\n",
        "\n",
        "df500 = df500[['text', 'label']]"
      ]
    },
    {
      "cell_type": "markdown",
      "source": [
        "# marge buth dataset"
      ],
      "metadata": {
        "id": "WMeuk_AHycHS"
      }
    },
    {
      "cell_type": "code",
      "source": [
        "import pandas as pd\n",
        "# Rename 'label' column in df500 to match 'Label' in fake_df\n",
        "df500.rename(columns={'label': 'Label'}, inplace=True)\n",
        "\n",
        "# Concatenate fake_df and df500\n",
        "fake_df = pd.concat([fake_df, df500], ignore_index=True)\n",
        "\n",
        "print(f\"Number of fake news articles after adding df500: {len(fake_df)}\")"
      ],
      "metadata": {
        "colab": {
          "base_uri": "https://localhost:8080/"
        },
        "id": "WBLWxCs2YbQp",
        "outputId": "fea4b3da-d32b-4ed9-842e-2cb1eb4e086e"
      },
      "execution_count": null,
      "outputs": [
        {
          "output_type": "stream",
          "name": "stdout",
          "text": [
            "Number of fake news articles after adding df500: 2682\n"
          ]
        },
        {
          "output_type": "stream",
          "name": "stderr",
          "text": [
            "/tmp/ipython-input-12-3464124454.py:5: SettingWithCopyWarning: \n",
            "A value is trying to be set on a copy of a slice from a DataFrame\n",
            "\n",
            "See the caveats in the documentation: https://pandas.pydata.org/pandas-docs/stable/user_guide/indexing.html#returning-a-view-versus-a-copy\n",
            "  df500.rename(columns={'label': 'Label'}, inplace=True)\n"
          ]
        }
      ]
    },
    {
      "cell_type": "code",
      "source": [
        "if len(real_df) > 2682:\n",
        "    real_df = real_df.sample(n=2682, random_state=42).reset_index(drop=True)\n",
        "\n",
        "print(f\"Final number of real news articles: {len(real_df)}\")"
      ],
      "metadata": {
        "colab": {
          "base_uri": "https://localhost:8080/"
        },
        "id": "yT-O0BDgZNbh",
        "outputId": "2a6c8679-eb4d-48a6-b018-0e7a61d682cd"
      },
      "execution_count": null,
      "outputs": [
        {
          "output_type": "stream",
          "name": "stdout",
          "text": [
            "Final number of real news articles: 2682\n"
          ]
        }
      ]
    },
    {
      "cell_type": "code",
      "source": [
        "import pandas as pd\n",
        "# Concatenate real_df and fake_df into All_df\n",
        "All_df = pd.concat([real_df, fake_df], ignore_index=True)\n",
        "\n",
        "print(f\"Total number of articles in All_df: {len(All_df)}\")\n",
        "print(All_df['Label'].value_counts())"
      ],
      "metadata": {
        "colab": {
          "base_uri": "https://localhost:8080/"
        },
        "id": "fNYEOBAHcgLX",
        "outputId": "d633a225-47b8-4469-a8f9-784a459767a8"
      },
      "execution_count": null,
      "outputs": [
        {
          "output_type": "stream",
          "name": "stdout",
          "text": [
            "Total number of articles in All_df: 5364\n",
            "Label\n",
            "1    2682\n",
            "0    2682\n",
            "Name: count, dtype: int64\n"
          ]
        }
      ]
    },
    {
      "cell_type": "code",
      "source": [
        "# prompt: show the dize of All_df\n",
        "\n",
        "print(f\"Size of All_df: {All_df.shape}\")\n",
        "All_df.head()"
      ],
      "metadata": {
        "colab": {
          "base_uri": "https://localhost:8080/",
          "height": 224
        },
        "id": "mIdMY5ksc7JX",
        "outputId": "4f4ba37b-4180-42e0-cffd-0320d497bdac"
      },
      "execution_count": null,
      "outputs": [
        {
          "output_type": "stream",
          "name": "stdout",
          "text": [
            "Size of All_df: (5364, 4)\n"
          ]
        },
        {
          "output_type": "execute_result",
          "data": {
            "text/plain": [
              "                                            Headline  \\\n",
              "0                                   পলাতকরা কে কোথায়   \n",
              "1  ইসরাইলি বিমান হামলা সিরিয়ার সার্বভৌমত্বের লঙ্ঘ...   \n",
              "2  ঢাবিতে বিক্ষোভ সমাবেশ, আদিবাসী কোটা ৫ শতাংশ রা...   \n",
              "3                 এবারও সেরাদের সেরা রাজশাহীর মেয়েরা   \n",
              "4   জাতীয় ঐক্য’র যৌথ নেতৃত্বে বদরুদ্দোজা-কামাল-ফখরুল   \n",
              "\n",
              "                                             Content  Label  \\\n",
              "0  ভয়াবহ ২১ আগস্ট গ্রেনেড হামলার মামলায় পলাতক ১৮ ...      1   \n",
              "1  আন্তর্জাতিক ডেস্ক আরটিএনএন মস্কো: রাশিয়ার প্রে...      1   \n",
              "2  দ্য রিপোর্ট ডেস্ক : সরকারি চাকরিতে প্রথম ও দ্ব...      1   \n",
              "3  বিতর্ক উৎসবে শ্রেষ্ঠত্ব অর্জন করল রাজশাহী শহরে...      1   \n",
              "4  নিজস্ব প্রতিবেদক আরটিএনএন ঢাকা: জাতীয় ঐক্যকে এ...      1   \n",
              "\n",
              "                                                text  \n",
              "0  পলাতকরা কে কোথায় ভয়াবহ ২১ আগস্ট গ্রেনেড হামলার...  \n",
              "1  ইসরাইলি বিমান হামলা সিরিয়ার সার্বভৌমত্বের লঙ্ঘ...  \n",
              "2  ঢাবিতে বিক্ষোভ সমাবেশ আদিবাসী কোটা ৫ শতাংশ রাখ...  \n",
              "3  এবারও সেরাদের সেরা রাজশাহীর মেয়েরা বিতর্ক উৎসব...  \n",
              "4  জাতীয় ঐক্য’র যৌথ নেতৃত্বে বদরুদ্দোজাকামালফখরুল...  "
            ],
            "text/html": [
              "\n",
              "  <div id=\"df-502543fd-a1fb-40fb-860f-7c3618b9d089\" class=\"colab-df-container\">\n",
              "    <div>\n",
              "<style scoped>\n",
              "    .dataframe tbody tr th:only-of-type {\n",
              "        vertical-align: middle;\n",
              "    }\n",
              "\n",
              "    .dataframe tbody tr th {\n",
              "        vertical-align: top;\n",
              "    }\n",
              "\n",
              "    .dataframe thead th {\n",
              "        text-align: right;\n",
              "    }\n",
              "</style>\n",
              "<table border=\"1\" class=\"dataframe\">\n",
              "  <thead>\n",
              "    <tr style=\"text-align: right;\">\n",
              "      <th></th>\n",
              "      <th>Headline</th>\n",
              "      <th>Content</th>\n",
              "      <th>Label</th>\n",
              "      <th>text</th>\n",
              "    </tr>\n",
              "  </thead>\n",
              "  <tbody>\n",
              "    <tr>\n",
              "      <th>0</th>\n",
              "      <td>পলাতকরা কে কোথায়</td>\n",
              "      <td>ভয়াবহ ২১ আগস্ট গ্রেনেড হামলার মামলায় পলাতক ১৮ ...</td>\n",
              "      <td>1</td>\n",
              "      <td>পলাতকরা কে কোথায় ভয়াবহ ২১ আগস্ট গ্রেনেড হামলার...</td>\n",
              "    </tr>\n",
              "    <tr>\n",
              "      <th>1</th>\n",
              "      <td>ইসরাইলি বিমান হামলা সিরিয়ার সার্বভৌমত্বের লঙ্ঘ...</td>\n",
              "      <td>আন্তর্জাতিক ডেস্ক আরটিএনএন মস্কো: রাশিয়ার প্রে...</td>\n",
              "      <td>1</td>\n",
              "      <td>ইসরাইলি বিমান হামলা সিরিয়ার সার্বভৌমত্বের লঙ্ঘ...</td>\n",
              "    </tr>\n",
              "    <tr>\n",
              "      <th>2</th>\n",
              "      <td>ঢাবিতে বিক্ষোভ সমাবেশ, আদিবাসী কোটা ৫ শতাংশ রা...</td>\n",
              "      <td>দ্য রিপোর্ট ডেস্ক : সরকারি চাকরিতে প্রথম ও দ্ব...</td>\n",
              "      <td>1</td>\n",
              "      <td>ঢাবিতে বিক্ষোভ সমাবেশ আদিবাসী কোটা ৫ শতাংশ রাখ...</td>\n",
              "    </tr>\n",
              "    <tr>\n",
              "      <th>3</th>\n",
              "      <td>এবারও সেরাদের সেরা রাজশাহীর মেয়েরা</td>\n",
              "      <td>বিতর্ক উৎসবে শ্রেষ্ঠত্ব অর্জন করল রাজশাহী শহরে...</td>\n",
              "      <td>1</td>\n",
              "      <td>এবারও সেরাদের সেরা রাজশাহীর মেয়েরা বিতর্ক উৎসব...</td>\n",
              "    </tr>\n",
              "    <tr>\n",
              "      <th>4</th>\n",
              "      <td>জাতীয় ঐক্য’র যৌথ নেতৃত্বে বদরুদ্দোজা-কামাল-ফখরুল</td>\n",
              "      <td>নিজস্ব প্রতিবেদক আরটিএনএন ঢাকা: জাতীয় ঐক্যকে এ...</td>\n",
              "      <td>1</td>\n",
              "      <td>জাতীয় ঐক্য’র যৌথ নেতৃত্বে বদরুদ্দোজাকামালফখরুল...</td>\n",
              "    </tr>\n",
              "  </tbody>\n",
              "</table>\n",
              "</div>\n",
              "    <div class=\"colab-df-buttons\">\n",
              "\n",
              "  <div class=\"colab-df-container\">\n",
              "    <button class=\"colab-df-convert\" onclick=\"convertToInteractive('df-502543fd-a1fb-40fb-860f-7c3618b9d089')\"\n",
              "            title=\"Convert this dataframe to an interactive table.\"\n",
              "            style=\"display:none;\">\n",
              "\n",
              "  <svg xmlns=\"http://www.w3.org/2000/svg\" height=\"24px\" viewBox=\"0 -960 960 960\">\n",
              "    <path d=\"M120-120v-720h720v720H120Zm60-500h600v-160H180v160Zm220 220h160v-160H400v160Zm0 220h160v-160H400v160ZM180-400h160v-160H180v160Zm440 0h160v-160H620v160ZM180-180h160v-160H180v160Zm440 0h160v-160H620v160Z\"/>\n",
              "  </svg>\n",
              "    </button>\n",
              "\n",
              "  <style>\n",
              "    .colab-df-container {\n",
              "      display:flex;\n",
              "      gap: 12px;\n",
              "    }\n",
              "\n",
              "    .colab-df-convert {\n",
              "      background-color: #E8F0FE;\n",
              "      border: none;\n",
              "      border-radius: 50%;\n",
              "      cursor: pointer;\n",
              "      display: none;\n",
              "      fill: #1967D2;\n",
              "      height: 32px;\n",
              "      padding: 0 0 0 0;\n",
              "      width: 32px;\n",
              "    }\n",
              "\n",
              "    .colab-df-convert:hover {\n",
              "      background-color: #E2EBFA;\n",
              "      box-shadow: 0px 1px 2px rgba(60, 64, 67, 0.3), 0px 1px 3px 1px rgba(60, 64, 67, 0.15);\n",
              "      fill: #174EA6;\n",
              "    }\n",
              "\n",
              "    .colab-df-buttons div {\n",
              "      margin-bottom: 4px;\n",
              "    }\n",
              "\n",
              "    [theme=dark] .colab-df-convert {\n",
              "      background-color: #3B4455;\n",
              "      fill: #D2E3FC;\n",
              "    }\n",
              "\n",
              "    [theme=dark] .colab-df-convert:hover {\n",
              "      background-color: #434B5C;\n",
              "      box-shadow: 0px 1px 3px 1px rgba(0, 0, 0, 0.15);\n",
              "      filter: drop-shadow(0px 1px 2px rgba(0, 0, 0, 0.3));\n",
              "      fill: #FFFFFF;\n",
              "    }\n",
              "  </style>\n",
              "\n",
              "    <script>\n",
              "      const buttonEl =\n",
              "        document.querySelector('#df-502543fd-a1fb-40fb-860f-7c3618b9d089 button.colab-df-convert');\n",
              "      buttonEl.style.display =\n",
              "        google.colab.kernel.accessAllowed ? 'block' : 'none';\n",
              "\n",
              "      async function convertToInteractive(key) {\n",
              "        const element = document.querySelector('#df-502543fd-a1fb-40fb-860f-7c3618b9d089');\n",
              "        const dataTable =\n",
              "          await google.colab.kernel.invokeFunction('convertToInteractive',\n",
              "                                                    [key], {});\n",
              "        if (!dataTable) return;\n",
              "\n",
              "        const docLinkHtml = 'Like what you see? Visit the ' +\n",
              "          '<a target=\"_blank\" href=https://colab.research.google.com/notebooks/data_table.ipynb>data table notebook</a>'\n",
              "          + ' to learn more about interactive tables.';\n",
              "        element.innerHTML = '';\n",
              "        dataTable['output_type'] = 'display_data';\n",
              "        await google.colab.output.renderOutput(dataTable, element);\n",
              "        const docLink = document.createElement('div');\n",
              "        docLink.innerHTML = docLinkHtml;\n",
              "        element.appendChild(docLink);\n",
              "      }\n",
              "    </script>\n",
              "  </div>\n",
              "\n",
              "\n",
              "    <div id=\"df-d3bb9fc3-55a1-43b5-afb0-681798bd5064\">\n",
              "      <button class=\"colab-df-quickchart\" onclick=\"quickchart('df-d3bb9fc3-55a1-43b5-afb0-681798bd5064')\"\n",
              "                title=\"Suggest charts\"\n",
              "                style=\"display:none;\">\n",
              "\n",
              "<svg xmlns=\"http://www.w3.org/2000/svg\" height=\"24px\"viewBox=\"0 0 24 24\"\n",
              "     width=\"24px\">\n",
              "    <g>\n",
              "        <path d=\"M19 3H5c-1.1 0-2 .9-2 2v14c0 1.1.9 2 2 2h14c1.1 0 2-.9 2-2V5c0-1.1-.9-2-2-2zM9 17H7v-7h2v7zm4 0h-2V7h2v10zm4 0h-2v-4h2v4z\"/>\n",
              "    </g>\n",
              "</svg>\n",
              "      </button>\n",
              "\n",
              "<style>\n",
              "  .colab-df-quickchart {\n",
              "      --bg-color: #E8F0FE;\n",
              "      --fill-color: #1967D2;\n",
              "      --hover-bg-color: #E2EBFA;\n",
              "      --hover-fill-color: #174EA6;\n",
              "      --disabled-fill-color: #AAA;\n",
              "      --disabled-bg-color: #DDD;\n",
              "  }\n",
              "\n",
              "  [theme=dark] .colab-df-quickchart {\n",
              "      --bg-color: #3B4455;\n",
              "      --fill-color: #D2E3FC;\n",
              "      --hover-bg-color: #434B5C;\n",
              "      --hover-fill-color: #FFFFFF;\n",
              "      --disabled-bg-color: #3B4455;\n",
              "      --disabled-fill-color: #666;\n",
              "  }\n",
              "\n",
              "  .colab-df-quickchart {\n",
              "    background-color: var(--bg-color);\n",
              "    border: none;\n",
              "    border-radius: 50%;\n",
              "    cursor: pointer;\n",
              "    display: none;\n",
              "    fill: var(--fill-color);\n",
              "    height: 32px;\n",
              "    padding: 0;\n",
              "    width: 32px;\n",
              "  }\n",
              "\n",
              "  .colab-df-quickchart:hover {\n",
              "    background-color: var(--hover-bg-color);\n",
              "    box-shadow: 0 1px 2px rgba(60, 64, 67, 0.3), 0 1px 3px 1px rgba(60, 64, 67, 0.15);\n",
              "    fill: var(--button-hover-fill-color);\n",
              "  }\n",
              "\n",
              "  .colab-df-quickchart-complete:disabled,\n",
              "  .colab-df-quickchart-complete:disabled:hover {\n",
              "    background-color: var(--disabled-bg-color);\n",
              "    fill: var(--disabled-fill-color);\n",
              "    box-shadow: none;\n",
              "  }\n",
              "\n",
              "  .colab-df-spinner {\n",
              "    border: 2px solid var(--fill-color);\n",
              "    border-color: transparent;\n",
              "    border-bottom-color: var(--fill-color);\n",
              "    animation:\n",
              "      spin 1s steps(1) infinite;\n",
              "  }\n",
              "\n",
              "  @keyframes spin {\n",
              "    0% {\n",
              "      border-color: transparent;\n",
              "      border-bottom-color: var(--fill-color);\n",
              "      border-left-color: var(--fill-color);\n",
              "    }\n",
              "    20% {\n",
              "      border-color: transparent;\n",
              "      border-left-color: var(--fill-color);\n",
              "      border-top-color: var(--fill-color);\n",
              "    }\n",
              "    30% {\n",
              "      border-color: transparent;\n",
              "      border-left-color: var(--fill-color);\n",
              "      border-top-color: var(--fill-color);\n",
              "      border-right-color: var(--fill-color);\n",
              "    }\n",
              "    40% {\n",
              "      border-color: transparent;\n",
              "      border-right-color: var(--fill-color);\n",
              "      border-top-color: var(--fill-color);\n",
              "    }\n",
              "    60% {\n",
              "      border-color: transparent;\n",
              "      border-right-color: var(--fill-color);\n",
              "    }\n",
              "    80% {\n",
              "      border-color: transparent;\n",
              "      border-right-color: var(--fill-color);\n",
              "      border-bottom-color: var(--fill-color);\n",
              "    }\n",
              "    90% {\n",
              "      border-color: transparent;\n",
              "      border-bottom-color: var(--fill-color);\n",
              "    }\n",
              "  }\n",
              "</style>\n",
              "\n",
              "      <script>\n",
              "        async function quickchart(key) {\n",
              "          const quickchartButtonEl =\n",
              "            document.querySelector('#' + key + ' button');\n",
              "          quickchartButtonEl.disabled = true;  // To prevent multiple clicks.\n",
              "          quickchartButtonEl.classList.add('colab-df-spinner');\n",
              "          try {\n",
              "            const charts = await google.colab.kernel.invokeFunction(\n",
              "                'suggestCharts', [key], {});\n",
              "          } catch (error) {\n",
              "            console.error('Error during call to suggestCharts:', error);\n",
              "          }\n",
              "          quickchartButtonEl.classList.remove('colab-df-spinner');\n",
              "          quickchartButtonEl.classList.add('colab-df-quickchart-complete');\n",
              "        }\n",
              "        (() => {\n",
              "          let quickchartButtonEl =\n",
              "            document.querySelector('#df-d3bb9fc3-55a1-43b5-afb0-681798bd5064 button');\n",
              "          quickchartButtonEl.style.display =\n",
              "            google.colab.kernel.accessAllowed ? 'block' : 'none';\n",
              "        })();\n",
              "      </script>\n",
              "    </div>\n",
              "\n",
              "    </div>\n",
              "  </div>\n"
            ],
            "application/vnd.google.colaboratory.intrinsic+json": {
              "type": "dataframe",
              "variable_name": "All_df",
              "summary": "{\n  \"name\": \"All_df\",\n  \"rows\": 5364,\n  \"fields\": [\n    {\n      \"column\": \"Headline\",\n      \"properties\": {\n        \"dtype\": \"string\",\n        \"num_unique_values\": 4458,\n        \"samples\": [\n          \"\\u099b\\u09df \\u0995\\u09b0\\u09cd\\u09ae\\u0995\\u09b0\\u09cd\\u09a4\\u09be\\u0995\\u09c7 \\u09b8\\u09bf\\u09a8\\u09bf\\u09df\\u09b0 \\u09b8\\u099a\\u09bf\\u09ac \\u0993 \\u09b8\\u099a\\u09bf\\u09ac \\u09aa\\u09b0\\u09cd\\u09af\\u09be\\u09df\\u09c7 \\u09b0\\u09a6\\u09ac\\u09a6\\u09b2\",\n          \"\\u09ae\\u09be\\u09a4\\u09be\\u09b2 \\u09b6\\u09b0\\u09a3\\u09be\\u09b0\\u09cd\\u09a5\\u09c0\\u09a6\\u09c7\\u09b0 \\u09ae\\u09c1\\u0996\\u09c7 \\u09a5\\u09c1\\u09a5\\u09c1 \\u09ab\\u09c7\\u09b2\\u09c7 \\u098f\\u09ac\\u0982 \\u099c\\u09be\\u09b0\\u09cd\\u09ae\\u09be\\u09a8 \\u09a8\\u09be\\u09b0\\u09cd\\u09b8\\u09a6\\u09c7\\u09b0 \\u0995\\u09be\\u09ae\\u09a1\\u09bc \\u09a6\\u09c7\\u09af\\u09bc:\",\n          \"\\u09a6\\u09be\\u09ac\\u09bf \\u0986\\u09a6\\u09be\\u09df\\u09c7 \\u0990\\u0995\\u09cd\\u09af\\u09ac\\u09a6\\u09cd\\u09a7 \\u0986\\u09a8\\u09cd\\u09a6\\u09cb\\u09b2\\u09a8\\u09c7\\u09b0 \\u0986\\u09b9\\u09cd\\u09ac\\u09be\\u09a8\"\n        ],\n        \"semantic_type\": \"\",\n        \"description\": \"\"\n      }\n    },\n    {\n      \"column\": \"Content\",\n      \"properties\": {\n        \"dtype\": \"string\",\n        \"num_unique_values\": 4558,\n        \"samples\": [\n          \"\\u09b8\\u09b0\\u09cd\\u09ac\\u09cb\\u099a\\u09cd\\u099a \\u09b6\\u09be\\u09b8\\u09cd\\u09a4\\u09bf \\u09ae\\u09c3\\u09a4\\u09cd\\u09af\\u09c1\\u09a6\\u09a3\\u09cd\\u09a1\\u09c7\\u09b0 \\u09ac\\u09bf\\u09a7\\u09be\\u09a8 \\u09b0\\u09c7\\u0996\\u09c7 \\u09a8\\u09a4\\u09c1\\u09a8 \\u2018\\u09ae\\u09be\\u09a6\\u0995\\u09a6\\u09cd\\u09b0\\u09ac\\u09cd\\u09af \\u09a8\\u09bf\\u09df\\u09a8\\u09cd\\u09a4\\u09cd\\u09b0\\u09a3 \\u0986\\u0987\\u09a8, \\u09e8\\u09e6\\u09e7\\u09ee\\u2019 \\u098f\\u09b0 \\u0996\\u09b8\\u09dc\\u09be \\u09a8\\u09c0\\u09a4\\u09bf\\u0997\\u09a4\\u09ad\\u09be\\u09ac\\u09c7 \\u0985\\u09a8\\u09c1\\u09ae\\u09cb\\u09a6\\u09a8 \\u09a6\\u09bf\\u09df\\u09c7\\u099b\\u09c7 \\u09ae\\u09a8\\u09cd\\u09a4\\u09cd\\u09b0\\u09bf\\u09b8\\u09ad\\u09be\\u0964 \\u09b8\\u09cb\\u09ae\\u09ac\\u09be\\u09b0 \\u09b0\\u09be\\u099c\\u09a7\\u09be\\u09a8\\u09c0\\u09b0 \\u09a4\\u09c7\\u099c\\u0997\\u09be\\u0981\\u0993\\u09df\\u09c7 \\u09aa\\u09cd\\u09b0\\u09a7\\u09be\\u09a8\\u09ae\\u09a8\\u09cd\\u09a4\\u09cd\\u09b0\\u09c0\\u09b0 \\u0995\\u09be\\u09b0\\u09cd\\u09af\\u09be\\u09b2\\u09df\\u09c7 \\u09ae\\u09a8\\u09cd\\u09a4\\u09cd\\u09b0\\u09bf\\u09b8\\u09ad\\u09be \\u09ac\\u09c8\\u09a0\\u0995\\u09c7 \\u098f\\u0987 \\u0985\\u09a8\\u09c1\\u09ae\\u09cb\\u09a6\\u09a8 \\u09a6\\u09c7\\u09df\\u09be \\u09b9\\u09df\\u0964 \\u09aa\\u09cd\\u09b0\\u09a7\\u09be\\u09a8\\u09ae\\u09a8\\u09cd\\u09a4\\u09cd\\u09b0\\u09c0 \\u09b6\\u09c7\\u0996 \\u09b9\\u09be\\u09b8\\u09bf\\u09a8\\u09be \\u09ac\\u09c8\\u09a0\\u0995\\u09c7 \\u09b8\\u09ad\\u09be\\u09aa\\u09a4\\u09bf\\u09a4\\u09cd\\u09ac \\u0995\\u09b0\\u09c7\\u09a8\\u0964 \\u09ac\\u09c8\\u09a0\\u0995 \\u09b6\\u09c7\\u09b7\\u09c7 \\u09b8\\u099a\\u09bf\\u09ac\\u09be\\u09b2\\u09df\\u09c7 \\u09ae\\u09a8\\u09cd\\u09a4\\u09cd\\u09b0\\u09bf\\u09aa\\u09b0\\u09bf\\u09b7\\u09a6 \\u09b8\\u099a\\u09bf\\u09ac \\u09ae\\u09cb\\u09b9\\u09be\\u09ae\\u09cd\\u09ae\\u09a6 \\u09b6\\u09ab\\u09bf\\u0989\\u09b2 \\u0986\\u09b2\\u09ae \\u098f\\u0987 \\u0985\\u09a8\\u09c1\\u09ae\\u09cb\\u09a6\\u09a8\\u09c7\\u09b0 \\u0995\\u09a5\\u09be \\u099c\\u09be\\u09a8\\u09be\\u09a8\\u0964 \\u09a8\\u09a4\\u09c1\\u09a8 \\u0986\\u0987\\u09a8 \\u09b8\\u09ae\\u09cd\\u09aa\\u09b0\\u09cd\\u0995\\u09c7 \\u09ae\\u09a8\\u09cd\\u09a4\\u09cd\\u09b0\\u09bf\\u09aa\\u09b0\\u09bf\\u09b7\\u09a6 \\u09b8\\u099a\\u09bf\\u09ac \\u099c\\u09be\\u09a8\\u09be\\u09a8, \\u09aa\\u09cd\\u09b0\\u09b8\\u09cd\\u09a4\\u09be\\u09ac\\u09bf\\u09a4 \\u0986\\u0987\\u09a8 \\u0985\\u09a8\\u09c1\\u09af\\u09be\\u09df\\u09c0 \\u09aa\\u09be\\u0981\\u099a \\u0997\\u09cd\\u09b0\\u09be\\u09ae\\u09c7\\u09b0 \\u09ac\\u09c7\\u09b6\\u09bf \\u0987\\u09df\\u09be\\u09ac\\u09be \\u09aa\\u09b0\\u09bf\\u09ac\\u09b9\\u09a8, \\u09ae\\u099c\\u09c1\\u09a6, \\u09ac\\u09bf\\u09aa\\u09a3\\u09a8 \\u0993 \\u09b8\\u09c7\\u09ac\\u09a8\\u09c7\\u09b0 \\u0995\\u09cd\\u09b7\\u09c7\\u09a4\\u09cd\\u09b0\\u09c7 \\u09b8\\u09b0\\u09cd\\u09ac\\u09cb\\u099a\\u09cd\\u099a \\u09b6\\u09be\\u09b8\\u09cd\\u09a4\\u09bf \\u09ae\\u09c3\\u09a4\\u09cd\\u09af\\u09c1\\u09a6\\u09a3\\u09cd\\u09a1\\u0964 \\u09e8\\u09eb \\u0997\\u09cd\\u09b0\\u09be\\u09ae\\u09c7\\u09b0 \\u09ac\\u09c7\\u09b6\\u09bf \\u09b9\\u09c7\\u09b0\\u09cb\\u0987\\u09a8, \\u0995\\u09cb\\u0995\\u09c7\\u09a8\\u09b8\\u09b9 \\u09b8\\u09ae\\u099c\\u09be\\u09a4\\u09c0\\u09df \\u09ae\\u09be\\u09a6\\u0995\\u09a6\\u09cd\\u09b0\\u09ac\\u09cd\\u09af\\u09c7\\u09b0 \\u0995\\u09cd\\u09b7\\u09c7\\u09a4\\u09cd\\u09b0\\u09c7 \\u09b8\\u09b0\\u09cd\\u09ac\\u09cb\\u099a\\u09cd\\u099a \\u09b6\\u09be\\u09b8\\u09cd\\u09a4\\u09bf\\u0993 \\u09ae\\u09c3\\u09a4\\u09cd\\u09af\\u09c1\\u09a6\\u09a3\\u09cd\\u09a1\\u0964 \\u0986\\u0997\\u09c7\\u09b0 \\u0986\\u0987\\u09a8\\u09c7 \\u09ae\\u09be\\u09a6\\u0995\\u09a6\\u09cd\\u09b0\\u09ac\\u09cd\\u09af \\u09b8\\u0982\\u0995\\u09cd\\u09b0\\u09be\\u09a8\\u09cd\\u09a4 \\u0985\\u09aa\\u09b0\\u09be\\u09a7\\u09c7\\u09b0 \\u09b8\\u09b0\\u09cd\\u09ac\\u09cb\\u099a\\u09cd\\u099a \\u09b6\\u09be\\u09b8\\u09cd\\u09a4\\u09bf \\u099b\\u09bf\\u09b2 \\u09e7\\u09eb \\u09ac\\u099b\\u09b0\\u09c7\\u09b0 \\u0995\\u09be\\u09b0\\u09be\\u09a6\\u09a3\\u09cd\\u09a1\\u0964 \\u09ac\\u09bf\\u09b8\\u09cd\\u09a4\\u09be\\u09b0\\u09bf\\u09a4 \\u0986\\u09b8\\u099b\\u09c7... \\u0986\\u09b0\\u098f\\u09ae\\u098f\\u09ae/\\u098f\\u09ae\\u098f\\u0986\\u09b0/\\u09aa\\u09bf\\u0986\\u09b0\",\n          \"\\u09a8\\u09bf\\u099c\\u09b8\\u09cd\\u09ac \\u09ae\\u09a4\\u09bf\\u09ac\\u09c7\\u09a6\\u0995\\u201c\\u09aa\\u09cd\\u09b0\\u09bf\\u09a8\\u09cd\\u09b8\\u09bf\\u09aa\\u09be\\u09b2 \\u0987\\u09ac\\u09cd\\u09b0\\u09be\\u09b9\\u09c0\\u09ae \\u0996\\u09be\\u0981 \\u09ae\\u09c1\\u09b8\\u09b2\\u09bf\\u09ae \\u09ac\\u09be\\u0982\\u09b2\\u09be\\u09b0 \\u09b8\\u09be\\u09b9\\u09bf\\u09a4\\u09cd\\u09af \\u099c\\u0997\\u09a4\\u09c7\\u09b0 \\u098f\\u0995 \\u0985\\u09ac\\u09bf\\u09b8\\u09cd\\u09ae\\u09b0\\u09a8\\u09c0\\u09af\\u09bc \\u09a4\\u09be\\u09b0\\u0995\\u09be\\u0964 \\u09a4\\u09be\\u0981\\u09b0 \\u09b0\\u099a\\u09bf\\u09a4 \\u0985\\u09ae\\u09b0 \\u09b8\\u09be\\u09b9\\u09bf\\u09a4\\u09cd\\u09af\\u0995\\u09c0\\u09b0\\u09cd\\u09a4\\u09bf\\u09b0 \\u0986\\u09ae\\u09bf \\u0985\\u09a4\\u09c1\\u09b2 \\u09ad\\u0995\\u09cd\\u09a4\\u0964 \\u09a4\\u09be\\u0987 \\u09a4\\u09be\\u0981\\u09b0 \\u0997\\u09b2\\u09cd\\u09aa \\u201c\\u09aa\\u09c1\\u099f\\u09c1\\u201d \\u0985\\u09a8\\u09c1\\u09b8\\u09be\\u09b0\\u09c7 \\u0986\\u09ae\\u09bf\\u0993 \\u0986\\u09ae\\u09be\\u09b0 \\u09aa\\u09cb\\u09b7\\u09be \\u099b\\u09be\\u0997\\u09b2\\u09c7\\u09b0 \\u09a8\\u09be\\u09ae \\u09b0\\u09be\\u0996\\u09b2\\u09be\\u09ae \\u09aa\\u09c1\\u099f\\u09c1\\u0964\\u201d\\u0986\\u099c \\u098f\\u0995 \\u09b8\\u0982\\u09ac\\u09be\\u09a6 \\u09b8\\u09ae\\u09cd\\u09ae\\u09c7\\u09b2\\u09a8\\u09c7 \\u098f \\u0995\\u09a5\\u09be \\u09ac\\u09b2\\u09c7\\u09a8 \\u09ac\\u09bf\\u09b6\\u09bf\\u09b7\\u09cd\\u099f \\u0987\\u09a4\\u09bf\\u09b9\\u09be\\u09b8\\u09ac\\u09bf\\u09a6, \\u0995\\u09b2\\u09be\\u09ae\\u09bf\\u09b7\\u09cd\\u099f \\u0993 \\u0997\\u09be\\u09a8\\u09cd\\u09a7\\u09c0\\u09ac\\u09be\\u09a6\\u09c0 \\u0986\\u09a8\\u09cd\\u09a6\\u09cb\\u09b2\\u09a8\\u09c7\\u09b0 \\u0985\\u0997\\u09cd\\u09a8\\u09bf\\u09aa\\u09c1\\u09b0\\u09c1\\u09b7 \\u09b8\\u09c8\\u09af\\u09bc\\u09a6 \\u0986\\u09ac\\u09c1\\u09b2 \\u09ae\\u0995\\u09b8\\u09c1\\u09a6\\u0964 \\u098f \\u09b8\\u09ae\\u09af\\u09bc \\u09a4\\u09be\\u0981\\u09b0 \\u09aa\\u09cb\\u09b7\\u09be \\u099b\\u09be\\u0997\\u09b2\\u099f\\u09bf \\u09a4\\u09be\\u0981\\u09b0 \\u09aa\\u09be\\u09b6\\u09c7 \\u099b\\u09bf\\u09b2\\u0964\\u09ae\\u0995\\u09b8\\u09c1\\u09a6 \\u099c\\u09be\\u09a8\\u09be\\u09a8, \\u09aa\\u09c1\\u099f\\u09c1\\u09b0 \\u0986\\u0995\\u09c0\\u0995\\u09be \\u0989\\u09aa\\u09b2\\u0995\\u09cd\\u09b7\\u09cd\\u09af\\u09c7 \\u09a4\\u09bf\\u09a8\\u09bf \\u098f\\u0995\\u099f\\u09bf \\u0996\\u09be\\u09b8\\u09c0 \\u099c\\u09ac\\u09be\\u0987 \\u0995\\u09b0\\u09c7\\u099b\\u09c7\\u09a8\\u0964\\u0996\\u09be\\u09b8\\u09c0 \\u099c\\u09ac\\u09be\\u0987 \\u0995\\u09b0\\u09be \\u0985\\u09b9\\u09bf\\u0982\\u09b8 \\u09b0\\u09be\\u099c\\u09a8\\u09c0\\u09a4\\u09bf\\u09b0 \\u09ac\\u09bf\\u09aa\\u0995\\u09cd\\u09b7\\u09c7 \\u09af\\u09be\\u09af\\u09bc \\u0995\\u09bf \\u09a8\\u09be, \\u098f \\u09aa\\u09cd\\u09b0\\u09b6\\u09cd\\u09a8\\u09c7\\u09b0 \\u099c\\u09ac\\u09be\\u09ac\\u09c7 \\u09b8\\u09cd\\u09ae\\u09bf\\u09a4 \\u09b9\\u09c7\\u09b8\\u09c7 \\u09aa\\u09cd\\u09b0\\u09ac\\u09c0\\u09a8 \\u0987\\u09a4\\u09bf\\u09b9\\u09be\\u09b8\\u09ac\\u09bf\\u09a6 \\u09ae\\u0995\\u09b8\\u09c1\\u09a6 \\u09ac\\u09b2\\u09c7\\u09a8,  \\u201c\\u0985\\u09b9\\u09bf\\u0982\\u09b8\\u09be \\u09aa\\u09b0\\u09ae \\u09a7\\u09b0\\u09cd\\u09ae\\u0964 \\u0985\\u09b9\\u09bf\\u0982\\u09b8\\u09be\\u09b0 \\u099c\\u09a8\\u09cd\\u09af\\u0987 \\u0986\\u09ae\\u09bf \\u099b\\u09be\\u0997\\u09b2\\u09c7\\u09b0 \\u09a6\\u09c1\\u09a7 \\u0996\\u09be\\u0987\\u0964 \\u09b8\\u09c7\\u0987 \\u099b\\u09be\\u0997\\u09b2\\u09c7\\u09b0 \\u098f\\u0995\\u099f\\u09bf \\u09a8\\u09be\\u09ae \\u09b0\\u09be\\u0996\\u09be \\u098f\\u0987 \\u0985\\u09b9\\u09bf\\u0982\\u09b8\\u09be \\u09a7\\u09b0\\u09cd\\u09ae\\u09c7\\u09b0\\u0987 \\u0985\\u0982\\u09b6\\u0964 \\u0986\\u09b0 \\u09b8\\u09c7\\u0987 \\u09a8\\u09be\\u09ae \\u09b0\\u09be\\u0996\\u09a4\\u09c7 \\u0997\\u09bf\\u09af\\u09bc\\u09c7 \\u0986\\u0995\\u09c0\\u0995\\u09be\\u09b0 \\u099c\\u09a8\\u09cd\\u09af \\u0996\\u09be\\u09b8\\u09c0 \\u0995\\u09c7\\u09a8, \\u0986\\u09ae\\u09bf \\u09b9\\u09be\\u09a4\\u09bf\\u0993 \\u099c\\u09ac\\u09be\\u0987 \\u0995\\u09b0\\u09a4\\u09c7 \\u09aa\\u09cd\\u09b0\\u09b8\\u09cd\\u09a4\\u09c1\\u09a4\\u0964\\u201d\\u098f \\u09ac\\u09cd\\u09af\\u09be\\u09aa\\u09be\\u09b0\\u09c7 \\u09aa\\u09c1\\u099f\\u09c1 \\u0995\\u09cb\\u09a8 \\u09ae\\u09a8\\u09cd\\u09a4\\u09ac\\u09cd\\u09af \\u0995\\u09b0\\u09a4\\u09c7 \\u09b0\\u09be\\u099c\\u09bf \\u09b9\\u09a8\\u09a8\\u09bf\\u0964\\u0986\\u09ac\\u09c1\\u09b2 \\u09ae\\u0995\\u09b8\\u09c1\\u09a6 \\u09ae\\u09a4\\u09bf\\u09ac\\u09c7\\u09a6\\u0995\\u0995\\u09c7 \\u09ac\\u09b2\\u09c7\\u09a8, \\u09a4\\u09bf\\u09a8\\u09bf \\u09aa\\u09c1\\u099f\\u09c1\\u0995\\u09c7 \\u09b8\\u09be\\u09a5\\u09c0 \\u0995\\u09b0\\u09c7 \\u09ac\\u09b9\\u09c1\\u09a6\\u09c2\\u09b0 \\u09af\\u09be\\u09ac\\u09c7\\u09a8\\u0964 \\u09ae\\u0995\\u09b8\\u09c1\\u09a6 \\u09ac\\u09b2\\u09c7\\u09a8, \\u201c\\u098f\\u0996\\u09a8 \\u09aa\\u09c1\\u099f\\u09c1\\u0987 \\u0986\\u09ae\\u09be\\u09b0 \\u09b8\\u09ac\\u0964\\u201d\",\n          \"\\u09b0\\u09be\\u09ac\\u09bf: \\u09ac\\u09b9\\u09c1\\u09b2 \\u09aa\\u09cd\\u09b0\\u09a4\\u09bf\\u0995\\u09cd\\u09b7\\u09bf\\u09a4 \\u09b0\\u09be\\u099c\\u09b6\\u09be\\u09b9\\u09c0 \\u09ac\\u09bf\\u09b6\\u09cd\\u09ac\\u09ac\\u09bf\\u09a6\\u09cd\\u09af\\u09be\\u09b2\\u09df\\u09c7\\u09b0 (\\u09b0\\u09be\\u09ac\\u09bf) \\u09a6\\u09b6\\u09ae \\u09b8\\u09ae\\u09be\\u09ac\\u09b0\\u09cd\\u09a4\\u09a8 \\u0986\\u0997\\u09be\\u09ae\\u09c0 \\u09e8\\u09ef \\u09b8\\u09c7\\u09aa\\u09cd\\u099f\\u09c7\\u09ae\\u09cd\\u09ac\\u09b0 \\u0985\\u09a8\\u09c1\\u09b7\\u09cd\\u09a0\\u09bf\\u09a4 \\u09b9\\u09ac\\u09c7\\u0964 \\u09ac\\u09be\\u0995\\u09bf \\u0986\\u09b0 \\u09ae\\u09be\\u09a4\\u09cd\\u09b0 \\u09ec \\u09a6\\u09bf\\u09a8\\u0964 \\u0985\\u09a8\\u09c1\\u09b7\\u09cd\\u09a0\\u09be\\u09a8\\u09c7\\u09b0 \\u09b8\\u09ad\\u09be\\u09aa\\u09a4\\u09bf \\u09ac\\u09bf\\u09b6\\u09cd\\u09ac\\u09ac\\u09bf\\u09a6\\u09cd\\u09af\\u09be\\u09b2\\u09df\\u09c7\\u09b0 \\u0986\\u099a\\u09be\\u09b0\\u09cd\\u09af \\u0993 \\u09b0\\u09be\\u09b7\\u09cd\\u099f\\u09cd\\u09b0\\u09aa\\u09a4\\u09bf \\u0986\\u09ac\\u09cd\\u09a6\\u09c1\\u09b2 \\u09b9\\u09be\\u09ae\\u09bf\\u09a6 \\u098f\\u09ac\\u0982 \\u0997\\u09cd\\u09b0\\u09cd\\u09af\\u09be\\u099c\\u09c1\\u09df\\u09c7\\u099f\\u09a6\\u09c7\\u09b0 \\u09ac\\u09b0\\u09a3 \\u0995\\u09b0\\u09c7 \\u09a8\\u09bf\\u09a4\\u09c7 \\u09ac\\u09b0\\u09cd\\u09a3\\u09bf\\u09b2 \\u09b0\\u09c2\\u09aa\\u09c7 \\u09b8\\u09be\\u099c\\u09a4\\u09c7 \\u09b6\\u09c1\\u09b0\\u09c1 \\u0995\\u09b0\\u099b\\u09c7 \\u09ac\\u09bf\\u09b6\\u09cd\\u09ac\\u09ac\\u09bf\\u09a6\\u09cd\\u09af\\u09be\\u09b2\\u09df \\u0995\\u09cd\\u09af\\u09be\\u09ae\\u09cd\\u09aa\\u09be\\u09b8\\u0964\\u00a0 \\u09ac\\u09bf\\u09ad\\u09bf\\u09a8\\u09cd\\u09a8 \\u09ad\\u09ac\\u09a8 \\u0993 \\u098f\\u09b0 \\u0986\\u09b6\\u09aa\\u09be\\u09b6\\u09c7 \\u099a\\u09b2\\u099b\\u09c7 \\u09aa\\u09b0\\u09bf\\u099a\\u09cd\\u099b\\u09a8\\u09cd\\u09a8\\u09a4\\u09be \\u0993 \\u09b6\\u09cb\\u09ad\\u09be\\u09ac\\u09b0\\u09cd\\u09a7\\u09a8\\u09c7\\u09b0 \\u0995\\u09be\\u099c\\u0964 \\u09b8\\u09dc\\u0995\\u09c7\\u09b0 \\u09aa\\u09be\\u09b6\\u09c7\\u09b0 \\u0997\\u09be\\u099b\\u0997\\u09c1\\u09b2\\u09cb\\u09a4\\u09c7 \\u09b8\\u09be\\u09a6\\u09be-\\u09b2\\u09be\\u09b2 \\u09b0\\u0999\\u09df\\u09c7\\u09b0 \\u0986\\u09b2\\u09cb\\u0995\\u099a\\u09cd\\u099b\\u099f\\u09be\\u09df \\u099a\\u09bf\\u09b0\\u099a\\u09c7\\u09a8\\u09be \\u09b0\\u09c2\\u09aa\\u09c7 \\u09a8\\u09a4\\u09c1\\u09a8 \\u09ae\\u09be\\u09a4\\u09cd\\u09b0\\u09be \\u09af\\u09cb\\u0997 \\u09b9\\u09df\\u09c7\\u099b\\u09c7\\u0964 \\u09af\\u09be \\u09b8\\u09ae\\u09be\\u09ac\\u09b0\\u09cd\\u09a4\\u09a8\\u09c7\\u09b0 \\u0986\\u09ac\\u09c7\\u09b6\\u0995\\u09c7 \\u09ac\\u09be\\u09dc\\u09bf\\u09df\\u09c7 \\u09a6\\u09bf\\u09df\\u09c7\\u099b\\u09c7 \\u0995\\u09df\\u09c7\\u0995\\u0997\\u09c1\\u09a3\\u0964 \\u09ab\\u09b2\\u09c7 \\u09b8\\u09ae\\u09be\\u09ac\\u09b0\\u09cd\\u09a4\\u09a8\\u0995\\u09c7 \\u0998\\u09bf\\u09b0\\u09c7 \\u09b6\\u09bf\\u0995\\u09cd\\u09b7\\u0995-\\u09b6\\u09bf\\u0995\\u09cd\\u09b7\\u09be\\u09b0\\u09cd\\u09a5\\u09c0\\u09b8\\u09b9 \\u0995\\u09cd\\u09af\\u09be\\u09ae\\u09cd\\u09aa\\u09be\\u09b8\\u09c7\\u09b0 \\u0986\\u09a8\\u09be\\u099a\\u09c7-\\u0995\\u09be\\u09a8\\u09be\\u099a\\u09c7 \\u09af\\u09c7\\u09a8 \\u0989\\u09ce\\u09b8\\u09ac\\u09c7\\u09b0 \\u0986\\u09ae\\u09c7\\u099c \\u09ac\\u0987\\u099b\\u09c7\\u0964 \\u098f\\u099b\\u09be\\u09dc\\u09be \\u09b8\\u09ae\\u09be\\u09ac\\u09b0\\u09cd\\u09a4\\u09a8\\u0995\\u09c7 \\u0998\\u09bf\\u09b0\\u09c7 \\u0995\\u09cd\\u09af\\u09be\\u09ae\\u09cd\\u09aa\\u09be\\u09b8\\u09c7\\u09b0 \\u09b8\\u09be\\u09b0\\u09cd\\u09ac\\u09bf\\u0995 \\u09a8\\u09bf\\u09b0\\u09be\\u09aa\\u09a4\\u09cd\\u09a4\\u09be \\u09ac\\u09cd\\u09af\\u09ac\\u09b8\\u09cd\\u09a5\\u09be \\u099c\\u09cb\\u09b0\\u09a6\\u09be\\u09b0\\u09c7\\u09b0 \\u09aa\\u09cd\\u09b0\\u09b8\\u09cd\\u09a4\\u09c1\\u09a4\\u09bf\\u0993 \\u099a\\u09b2\\u099b\\u09c7\\u0964\\u00a0 \\u09ac\\u09bf\\u09b6\\u09cd\\u09ac\\u09ac\\u09bf\\u09a6\\u09cd\\u09af\\u09be\\u09b2\\u09df \\u09b8\\u09c2\\u09a4\\u09cd\\u09b0\\u09c7 \\u099c\\u09be\\u09a8\\u09be \\u09af\\u09be\\u09df, \\u0986\\u0997\\u09be\\u09ae\\u09c0 \\u09e8\\u09ef \\u09b8\\u09c7\\u09aa\\u09cd\\u099f\\u09c7\\u09ae\\u09cd\\u09ac\\u09b0 \\u09b0\\u09be\\u099c\\u09b6\\u09be\\u09b9\\u09c0 \\u09ac\\u09bf\\u09b6\\u09cd\\u09ac\\u09ac\\u09bf\\u09a6\\u09cd\\u09af\\u09be\\u09b2\\u09df\\u09c7\\u09b0 \\u09b8\\u09cd\\u099f\\u09c7\\u09a1\\u09bf\\u09df\\u09be\\u09ae\\u09c7 \\u09b8\\u09ae\\u09be\\u09ac\\u09b0\\u09cd\\u09a4\\u09a8 \\u0985\\u09a8\\u09c1\\u09b7\\u09cd\\u09a0\\u09be\\u09a8\\u09c7\\u09b0 \\u0986\\u09df\\u09cb\\u099c\\u09a8 \\u0995\\u09b0\\u09be \\u09b9\\u09ac\\u09c7\\u0964 \\u098f\\u09a4\\u09c7 \\u0985\\u0982\\u09b6 \\u09a8\\u09bf\\u09a4\\u09c7 \\u09ae\\u09cb\\u099f \\u09ec \\u09b9\\u09be\\u099c\\u09be\\u09b0 \\u09ef \\u099c\\u09a8 \\u0997\\u09cd\\u09b0\\u09cd\\u09af\\u09be\\u099c\\u09c1\\u09df\\u09c7\\u099f \\u09a8\\u09bf\\u09ac\\u09a8\\u09cd\\u09a7\\u09a8 \\u0995\\u09b0\\u09c7\\u099b\\u09c7\\u09a8\\u0964 \\u09b8\\u09ae\\u09be\\u09ac\\u09b0\\u09cd\\u09a4\\u09a8 \\u0989\\u09aa\\u09b2\\u0995\\u09cd\\u09b7\\u09c7 \\u0995\\u09cd\\u09af\\u09be\\u09ae\\u09cd\\u09aa\\u09be\\u09b8\\u09c7 \\u09ac\\u09cd\\u09af\\u09be\\u09aa\\u0995 \\u09b6\\u09cb\\u09ad\\u09be\\u09ac\\u09b0\\u09cd\\u09a7\\u09a8\\u09c7\\u09b0 \\u0995\\u09be\\u099c \\u099a\\u09b2\\u099b\\u09c7\\u0964 \\u098f \\u0995\\u09be\\u099c\\u09c7\\u09b0 \\u09a4\\u09a4\\u09cd\\u09a4\\u09cd\\u09ac\\u09be\\u09ac\\u09a7\\u09be\\u09a8\\u09c7 \\u09ac\\u09bf\\u09b6\\u09cd\\u09ac\\u09ac\\u09bf\\u09a6\\u09cd\\u09af\\u09be\\u09b2\\u09df \\u09aa\\u09cd\\u09b0\\u09b6\\u09be\\u09b8\\u09a8 \\u098f\\u0995\\u099f\\u09bf \\u0995\\u09ae\\u09bf\\u099f\\u09bf\\u0993 \\u0997\\u09a0\\u09a8 \\u0995\\u09b0\\u09c7\\u099b\\u09c7\\u0964 \\u09ac\\u09be\\u099c\\u09c7\\u099f \\u09a8\\u09bf\\u09b0\\u09cd\\u09a7\\u09be\\u09b0\\u09a3 \\u0995\\u09b0\\u09be \\u09b9\\u09df\\u09c7\\u099b\\u09c7 \\u09aa\\u09cd\\u09b0\\u09be\\u09df \\u09e8\\u09e8 \\u09b2\\u09be\\u0996 \\u099f\\u09be\\u0995\\u09be\\u0964 \\u09a8\\u09bf\\u09b0\\u09cd\\u09a7\\u09be\\u09b0\\u09bf\\u09a4 \\u09b8\\u09ae\\u09df\\u09c7\\u09b0 \\u0986\\u0997\\u09c7\\u0987 \\u0985\\u09a8\\u09c1\\u09b7\\u09cd\\u09a0\\u09be\\u09a8\\u09c7\\u09b0 \\u09b8\\u09ac \\u09aa\\u09cd\\u09b0\\u09b8\\u09cd\\u09a4\\u09c1\\u09a4\\u09bf \\u09b8\\u09ae\\u09cd\\u09aa\\u09a8\\u09cd\\u09a8 \\u0995\\u09b0\\u09a4\\u09c7 \\u09ac\\u09cd\\u09af\\u09b8\\u09cd\\u09a4 \\u09b8\\u09ae\\u09df \\u09aa\\u09be\\u09b0 \\u0995\\u09b0\\u099b\\u09c7\\u09a8 \\u09ac\\u09bf\\u09b6\\u09cd\\u09ac\\u09ac\\u09bf\\u09a6\\u09cd\\u09af\\u09be\\u09b2\\u09df \\u09aa\\u09cd\\u09b0\\u09b6\\u09be\\u09b8\\u09a8\\u09c7\\u09b0 \\u0995\\u09b0\\u09cd\\u09a4\\u09be-\\u09ac\\u09cd\\u09af\\u0995\\u09cd\\u09a4\\u09bf\\u09b0\\u09be\\u0964 \\u09b0\\u09cb\\u09ac\\u09ac\\u09be\\u09b0 (\\u09e8\\u09e9 \\u09b8\\u09c7\\u09aa\\u09cd\\u099f\\u09c7\\u09ae\\u09cd\\u09ac\\u09b0) \\u09b8\\u09b0\\u09c7\\u099c\\u09ae\\u09bf\\u09a8\\u09c7 \\u09a6\\u09c7\\u0996\\u09be \\u0997\\u09c7\\u099b\\u09c7, \\u09ac\\u09bf\\u09b6\\u09cd\\u09ac\\u09ac\\u09bf\\u09a6\\u09cd\\u09af\\u09be\\u09b2\\u09df\\u09c7\\u09b0 \\u09b8\\u09cd\\u099f\\u09c7\\u09a1\\u09bf\\u09df\\u09be\\u09ae\\u09c7 \\u09b8\\u09ae\\u09be\\u09ac\\u09b0\\u09cd\\u09a4\\u09a8 \\u0985\\u09a8\\u09c1\\u09b7\\u09cd\\u09a0\\u09be\\u09a8\\u09c7\\u09b0 \\u09ae\\u099e\\u09cd\\u099a \\u09a8\\u09bf\\u09b0\\u09cd\\u09ae\\u09be\\u09a3\\u09c7\\u09b0 \\u0995\\u09be\\u099c \\u09b6\\u09c1\\u09b0\\u09c1 \\u09b9\\u09df\\u09c7\\u099b\\u09c7\\u0964 \\u098f\\u09b0\\u0987 \\u09ae\\u09a7\\u09cd\\u09af\\u09c7 \\u09e8\\u099f\\u09bf \\u09aa\\u09cd\\u09b0\\u09b6\\u09be\\u09b8\\u09a8\\u09bf\\u0995 \\u09ad\\u09ac\\u09a8, \\u09b6\\u09b9\\u09c0\\u09a6 \\u09ae\\u09bf\\u09a8\\u09be\\u09b0 \\u099a\\u09a4\\u09cd\\u09ac\\u09b0, \\u09b8\\u09be\\u09ac\\u09be\\u09b8 \\u09ac\\u09be\\u0982\\u09b2\\u09be\\u09a6\\u09c7\\u09b6 \\u09ae\\u09be\\u09a0, \\u099c\\u09c1\\u09ac\\u09c7\\u09b0\\u09c0 \\u09ad\\u09ac\\u09a8, \\u09b6\\u09b9\\u09c0\\u09a6 \\u09b8\\u09c1\\u0996\\u09b0\\u099e\\u09cd\\u099c\\u09a8 \\u09b8\\u09ae\\u09be\\u09a6\\u09cd\\u09a6\\u09be\\u09b0 \\u099b\\u09be\\u09a4\\u09cd\\u09b0-\\u09b6\\u09bf\\u0995\\u09cd\\u09b7\\u0995 \\u09b8\\u09be\\u0982\\u09b8\\u09cd\\u0995\\u09c3\\u09a4\\u09bf\\u0995 \\u0995\\u09c7\\u09a8\\u09cd\\u09a6\\u09cd\\u09b0 (\\u099f\\u09bf\\u098f\\u09b8\\u09b8\\u09bf\\u09b8\\u09bf), \\u0995\\u09c7\\u09a8\\u09cd\\u09a6\\u09cd\\u09b0\\u09c0\\u09df \\u09ae\\u09b8\\u099c\\u09bf\\u09a6 \\u099a\\u09a4\\u09cd\\u09ac\\u09b0, \\u0995\\u09be\\u099c\\u09c0 \\u09a8\\u099c\\u09b0\\u09c1\\u09b2 \\u0987\\u09b8\\u09b2\\u09be\\u09ae \\u09ae\\u09bf\\u09b2\\u09a8\\u09be\\u09df\\u09a4\\u09a8, \\u0989\\u09aa\\u09be\\u099a\\u09be\\u09b0\\u09cd\\u09af\\u09c7\\u09b0 \\u09ac\\u09be\\u09b8\\u09ad\\u09ac\\u09a8, \\u09b6\\u09c7\\u09b0-\\u0987-\\u09ac\\u09be\\u0982\\u09b2\\u09be \\u0993 \\u09ac\\u0999\\u09cd\\u0997\\u09ac\\u09a8\\u09cd\\u09a7\\u09c1 \\u09b6\\u09c7\\u0996 \\u09ae\\u09c1\\u099c\\u09bf\\u09ac\\u09c1\\u09b0 \\u09b0\\u09b9\\u09ae\\u09be\\u09a8 \\u09b9\\u09b2\\u09b8\\u09b9 \\u09ac\\u09c7\\u09b6 \\u0995\\u09df\\u09c7\\u0995\\u099f\\u09bf \\u09ad\\u09ac\\u09a8 \\u09b0\\u0999 \\u0995\\u09b0\\u09be \\u09b9\\u099a\\u09cd\\u099b\\u09c7\\u0964\\u00a0 \\u098f\\u0995\\u09be\\u09a1\\u09c7\\u09ae\\u09bf\\u0995 \\u09ad\\u09ac\\u09a8\\u0997\\u09c1\\u09b2\\u09cb\\u09b0 \\u09ae\\u09a7\\u09cd\\u09af\\u09c7 \\u09b0\\u09ac\\u09c0\\u09a8\\u09cd\\u09a6\\u09cd\\u09b0 \\u09ad\\u09ac\\u09a8, \\u09aa\\u09cd\\u09b0\\u09a5\\u09ae, \\u09a6\\u09cd\\u09ac\\u09bf\\u09a4\\u09c0\\u09df \\u0993 \\u09a4\\u09c3\\u09a4\\u09c0\\u09df \\u09ac\\u09bf\\u099c\\u09cd\\u099e\\u09be\\u09a8 \\u09ad\\u09ac\\u09a8 \\u09b0\\u0999 \\u0995\\u09b0\\u09be\\u09b0 \\u09aa\\u09be\\u09b6\\u09be\\u09aa\\u09be\\u09b6\\u09bf \\u09ac\\u09bf\\u09ad\\u09bf\\u09a8\\u09cd\\u09a8 \\u09a7\\u09b0\\u09a8\\u09c7\\u09b0 \\u09ac\\u09be\\u09b9\\u09be\\u09b0\\u09bf \\u09ab\\u09c1\\u09b2\\u09c7\\u09b0 \\u0997\\u09be\\u099b \\u09b2\\u09be\\u0997\\u09be\\u09a8\\u09cb \\u09b9\\u099a\\u09cd\\u099b\\u09c7\\u0964 \\u098f\\u099b\\u09be\\u09dc\\u09be\\u0993 \\u09ac\\u09bf\\u09b6\\u09cd\\u09ac\\u09ac\\u09bf\\u09a6\\u09cd\\u09af\\u09be\\u09b2\\u09df\\u09c7\\u09b0 \\u09aa\\u09cd\\u09af\\u09be\\u09b0\\u09bf\\u09b8 \\u09b0\\u09cb\\u09a1\\u09c7\\u09b0 \\u0986\\u09b6\\u09aa\\u09be\\u09b6\\u09c7\\u09b0 \\u0997\\u09be\\u099b\\u0997\\u09c1\\u09b2\\u09cb\\u09a4\\u09c7 \\u09b0\\u0999 \\u0995\\u09b0\\u09be\\u09b8\\u09b9 \\u09ac\\u09c7\\u09b6 \\u0995\\u09df\\u09c7\\u0995\\u099f\\u09bf \\u09b8\\u09dc\\u0995 \\u09b8\\u0982\\u09b8\\u09cd\\u0995\\u09be\\u09b0 \\u0993 \\u099d\\u09cb\\u09aa\\u099d\\u09be\\u0981\\u09dc \\u09aa\\u09b0\\u09bf\\u099a\\u09cd\\u099b\\u09a8\\u09cd\\u09a8 \\u0995\\u09b0\\u09be \\u09b9\\u099a\\u09cd\\u099b\\u09c7\\u0964 \\u09ac\\u09bf\\u09b6\\u09cd\\u09ac\\u09ac\\u09bf\\u09a6\\u09cd\\u09af\\u09be\\u09b2\\u09df\\u09c7\\u09b0 \\u09aa\\u09cd\\u09b0\\u09a7\\u09be\\u09a8 \\u09ab\\u099f\\u0995\\u09c7\\u09b0 \\u09b8\\u09be\\u09ae\\u09a8\\u09c7 \\u09a5\\u09c7\\u0995\\u09c7 \\u09b6\\u09b9\\u09c0\\u09a6 \\u09a1. \\u09b6\\u09be\\u09ae\\u09b8\\u09c1\\u099c\\u09cd\\u099c\\u09cb\\u09b9\\u09be \\u099a\\u09a4\\u09cd\\u09ac\\u09b0 \\u09aa\\u09b0\\u09cd\\u09af\\u09a8\\u09cd\\u09a4 \\u09ab\\u09c1\\u099f\\u09aa\\u09be\\u09a4 \\u0993 \\u09ac\\u09be\\u0997\\u09be\\u09a8\\u09c7 \\u09b8\\u09cc\\u09a8\\u09cd\\u09a6\\u09b0\\u09cd\\u09af \\u09ac\\u09b0\\u09cd\\u09a7\\u09a8\\u09c7\\u09b0 \\u0995\\u09be\\u099c \\u099a\\u09b2\\u099b\\u09c7\\u0964 \\u099c\\u09c1\\u09ac\\u09c7\\u09b0\\u09c0 \\u09ad\\u09ac\\u09a8\\u09c7\\u09b0 \\u0995\\u09be\\u099b\\u09c7 \\u09aa\\u09cd\\u09b0\\u09b8\\u09cd\\u09a4\\u09c1\\u09a4 \\u0995\\u09b0\\u09be \\u09b9\\u09df\\u09c7\\u099b\\u09c7 \\u0985\\u09a4\\u09bf\\u09a5\\u09bf\\u09a6\\u09c7\\u09b0 \\u0997\\u09be\\u09dc\\u09bf \\u09aa\\u09be\\u09b0\\u09cd\\u0995\\u09bf\\u0982-\\u098f\\u09b0 \\u09b8\\u09cd\\u09a5\\u09be\\u09a8\\u0964 \\u09ac\\u09bf\\u09b6\\u09cd\\u09ac\\u09ac\\u09bf\\u09a6\\u09cd\\u09af\\u09be\\u09b2\\u09df\\u09c7\\u09b0 \\u09aa\\u09cd\\u09b0\\u09a7\\u09be\\u09a8 \\u09aa\\u09cd\\u09b0\\u0995\\u09cc\\u09b6\\u09b2\\u09c0 \\u09ae\\u09cb. \\u09b8\\u09bf\\u09b0\\u09be\\u099c\\u09c1\\u09ae \\u09ae\\u09c1\\u09a8\\u09c0\\u09b0 \\u09ac\\u09be\\u0982\\u09b2\\u09be\\u09a8\\u09bf\\u0989\\u099c\\u0995\\u09c7 \\u099c\\u09be\\u09a8\\u09be\\u09a8, \\u09b8\\u09ae\\u09be\\u09ac\\u09b0\\u09cd\\u09a4\\u09a8 \\u0989\\u09aa\\u09b2\\u0995\\u09cd\\u09b7\\u09c7 \\u09b0\\u09be\\u09b7\\u09cd\\u099f\\u09cd\\u09b0\\u09aa\\u09a4\\u09bf \\u0993 \\u0997\\u09cd\\u09b0\\u09cd\\u09af\\u09be\\u099c\\u09c1\\u09df\\u09c7\\u099f\\u09b0\\u09be \\u09ac\\u09bf\\u09b6\\u09cd\\u09ac\\u09ac\\u09bf\\u09a6\\u09cd\\u09af\\u09be\\u09b2\\u09df\\u09c7 \\u0986\\u09b8\\u099b\\u09c7\\u09a8\\u0964 \\u098f \\u0989\\u09aa\\u09b2\\u0995\\u09cd\\u09b7\\u09c7 \\u09b8\\u09ac\\u09be\\u09b0 \\u0995\\u09be\\u099b\\u09c7 \\u09ac\\u09bf\\u09b6\\u09cd\\u09ac\\u09ac\\u09bf\\u09a6\\u09cd\\u09af\\u09be\\u09b2\\u09df\\u0995\\u09c7 \\u09a8\\u09a4\\u09c1\\u09a8 \\u0986\\u0999\\u09cd\\u0997\\u09bf\\u0995\\u09c7 \\u0989\\u09aa\\u09b8\\u09cd\\u09a5\\u09be\\u09aa\\u09a8\\u09c7\\u09b0 \\u099c\\u09a8\\u09cd\\u09af \\u09ac\\u09bf\\u09b6\\u09cd\\u09ac\\u09ac\\u09bf\\u09a6\\u09cd\\u09af\\u09be\\u09b2\\u09df \\u09aa\\u09cd\\u09b0\\u09b6\\u09be\\u09b8\\u09a8 \\u09b8\\u09b0\\u09cd\\u09ac\\u09c7\\u09be\\u099a\\u09cd\\u099a \\u099a\\u09c7\\u09b7\\u09cd\\u099f\\u09be \\u0995\\u09b0\\u099b\\u09c7\\u0964 \\u09ac\\u09bf\\u09b6\\u09cd\\u09ac\\u09ac\\u09bf\\u09a6\\u09cd\\u09af\\u09be\\u09b2\\u09df\\u09c7\\u09b0 \\u09aa\\u09cd\\u09b0\\u0995\\u09cd\\u099f\\u09b0 \\u0985\\u09a7\\u09cd\\u09af\\u09be\\u09aa\\u0995 \\u09b2\\u09c1\\u09ce\\u09ab\\u09b0 \\u09b0\\u09b9\\u09ae\\u09be\\u09a8 \\u09ac\\u09be\\u0982\\u09b2\\u09be\\u09a8\\u09bf\\u0989\\u099c\\u0995\\u09c7 \\u09ac\\u09b2\\u09c7\\u09a8, \\u2018\\u09b8\\u09ae\\u09be\\u09ac\\u09b0\\u09cd\\u09a4\\u09a8\\u0995\\u09c7 \\u0995\\u09c7\\u09a8\\u09cd\\u09a6\\u09cd\\u09b0 \\u0995\\u09b0\\u09c7 \\u0995\\u09cd\\u09af\\u09be\\u09ae\\u09cd\\u09aa\\u09be\\u09b8\\u09c7 \\u09a8\\u09bf\\u09b0\\u09be\\u09aa\\u09a4\\u09cd\\u09a4\\u09be \\u09ac\\u09cd\\u09af\\u09ac\\u09b8\\u09cd\\u09a5\\u09be \\u099c\\u09cb\\u09b0\\u09a6\\u09be\\u09b0 \\u0995\\u09b0\\u09be \\u09b9\\u09df\\u09c7\\u099b\\u09c7\\u0964 \\u0985\\u09a8\\u09c1\\u09b7\\u09cd\\u09a0\\u09be\\u09a8\\u09c7\\u09b0 \\u09a6\\u09bf\\u09a8 \\u0995\\u09cd\\u09af\\u09be\\u09ae\\u09cd\\u09aa\\u09be\\u09b8 \\u099c\\u09c1\\u09dc\\u09c7 \\u0986\\u0987\\u09a8\\u09b6\\u09c3\\u0999\\u09cd\\u0996\\u09b2\\u09be \\u09ac\\u09be\\u09b9\\u09bf\\u09a8\\u09c0 \\u09b8\\u09b0\\u09cd\\u09ac\\u09cb\\u099a\\u09cd\\u099a \\u09b8\\u09a4\\u09b0\\u09cd\\u0995\\u09be\\u09ac\\u09b8\\u09cd\\u09a5\\u09be\\u09a8\\u09c7 \\u09a5\\u09be\\u0995\\u09ac\\u09c7\\u0964 \\u098f\\u099b\\u09be\\u09dc\\u09be\\u0993 \\u09ac\\u09bf\\u09b6\\u09cd\\u09ac\\u09ac\\u09bf\\u09a6\\u09cd\\u09af\\u09be\\u09b2\\u09df\\u09c7\\u09b0 \\u09a8\\u09bf\\u099c\\u09b8\\u09cd\\u09ac \\u09b8\\u09bf\\u09b8\\u09bf \\u0995\\u09cd\\u09af\\u09be\\u09ae\\u09c7\\u09b0\\u09be\\u09b0 \\u09ac\\u09cd\\u09af\\u09ac\\u09b8\\u09cd\\u09a5\\u09be\\u0993 \\u09b0\\u09df\\u09c7\\u099b\\u09c7\\u0964\\u2019 \\u09ac\\u09be\\u0982\\u09b2\\u09be\\u09a6\\u09c7\\u09b6 \\u09b8\\u09ae\\u09df: \\u09e7\\u09ed\\u09e6\\u09ea \\u0998\\u09a3\\u09cd\\u099f\\u09be, \\u09b8\\u09c7\\u09aa\\u09cd\\u099f\\u09c7\\u09ae\\u09cd\\u09ac\\u09b0 \\u09e8\\u09e9, \\u09e8\\u09e6\\u09e7\\u09ee \\u0986\\u09b0\\u098f\"\n        ],\n        \"semantic_type\": \"\",\n        \"description\": \"\"\n      }\n    },\n    {\n      \"column\": \"Label\",\n      \"properties\": {\n        \"dtype\": \"number\",\n        \"std\": 0,\n        \"min\": 0,\n        \"max\": 1,\n        \"num_unique_values\": 2,\n        \"samples\": [\n          0,\n          1\n        ],\n        \"semantic_type\": \"\",\n        \"description\": \"\"\n      }\n    },\n    {\n      \"column\": \"text\",\n      \"properties\": {\n        \"dtype\": \"string\",\n        \"num_unique_values\": 4898,\n        \"samples\": [\n          \"\\u098f\\u09ae\\u09c7\\u0995\\u09be \\u098f\\u0996\\u09a8\\u00a0\\u09ae\\u09cb\\u09b8\\u09cd\\u09a4\\u09ab\\u09be \\u0987\\u09b8\\u09b2\\u09be\\u09ae \\u09a7\\u09b0\\u09cd\\u09ae\\u0997\\u09cd\\u09b0\\u09b9\\u09a3 \\u0995\\u09b0\\u09b2\\u09c7\\u09a8 \\u09a2\\u09be\\u0995\\u09be \\u09ae\\u09cb\\u09b9\\u09be\\u09ae\\u09c7\\u09a1\\u09be\\u09a8\\u09c7\\u09b0 \\u0995\\u09cb\\u099a \\u098f\\u09ae\\u09c7\\u0995\\u09be\\u0964 \\u0997\\u09a4\\u0995\\u09be\\u09b2 \\u09a4\\u09bf\\u09a8\\u09bf \\u09ae\\u09a4\\u09bf\\u099d\\u09bf\\u09b2\\u09b8\\u09cd\\u09a5 \\u0995\\u09cd\\u09b2\\u09be\\u09ac \\u09ad\\u09ac\\u09a8\\u09c7 \\u099c\\u09cb\\u09b9\\u09b0 \\u09a8\\u09be\\u09ae\\u09be\\u099c \\u09aa\\u09a1\\u09bc\\u09c7 \\u0996\\u09cd\\u09b0\\u09c0\\u09b8\\u09cd\\u099f\\u09be\\u09a8 \\u09a7\\u09b0\\u09cd\\u09ae \\u09a4\\u09cd\\u09af\\u09be\\u0997 \\u0995\\u09b0\\u09c7 \\u0987\\u09b8\\u09b2\\u09be\\u09ae \\u09a7\\u09b0\\u09cd\\u09ae \\u0997\\u09cd\\u09b0\\u09b9\\u09a3 \\u0995\\u09b0\\u09c7\\u09a8\\u0964 \\u09a2\\u09be\\u0995\\u09be\\u09b0 \\u09ae\\u09be\\u09a0\\u09c7 \\u0986\\u09b2\\u09cb\\u099a\\u09bf\\u09a4 \\u09a8\\u09be\\u0987\\u099c\\u09c7\\u09b0\\u09bf\\u09af\\u09bc\\u09be\\u09a8 \\u098f \\u09ab\\u09c1\\u099f\\u09ac\\u09b2\\u09be\\u09b0 \\u098f\\u09ac\\u09be\\u09b0 \\u09ae\\u09cb\\u09b9\\u09be\\u09ae\\u09c7\\u09a1\\u09be\\u09a8\\u09c7\\u09b0 \\u0995\\u09cb\\u099a\\u09c7\\u09b0 \\u09a6\\u09be\\u09af\\u09bc\\u09bf\\u09a4\\u09cd\\u09ac \\u09a8\\u09bf\\u09af\\u09bc\\u09c7\\u099b\\u09c7\\u09a8\\u0964 \\u09af\\u09c7 \\u09a6\\u09b2\\u09c7\\u09b0 \\u09a8\\u09be\\u09ae \\u09ae\\u09cb\\u09b9\\u09be\\u09ae\\u09c7\\u09a1\\u09be\\u09a8 \\u0985\\u09b0\\u09cd\\u09a5\\u09be\\u09ce \\u09ae\\u09c1\\u09b9\\u09ae\\u09cd\\u09ae\\u09a6\\u09c0\\u09df \\u09b8\\u09c7\\u0987 \\u09a6\\u09b2\\u09c7\\u09b0 \\u0995\\u09cb\\u099a \\u0985\\u09ae\\u09c1\\u09b8\\u09b2\\u09bf\\u09ae \\u09b9\\u09a4\\u09c7 \\u09aa\\u09be\\u09b0\\u09c7 \\u09a8\\u09be \\u09ac\\u09bf\\u09a7\\u09be\\u09df \\u09aa\\u09cd\\u09b0\\u09be\\u09af\\u09bc\\u0987 \\u09a4\\u09bf\\u09a8\\u09bf \\u09a4\\u09be\\u09b0 \\u09ac\\u09a8\\u09cd\\u09a7\\u09c1\\u09a6\\u09c7\\u09b0 \\u09ac\\u09b2\\u09a4\\u09c7\\u09a8 \\u0986\\u09ae\\u09be\\u0995\\u09c7 \\u09ae\\u09c1\\u09b8\\u09b2\\u09ae\\u09be\\u09a8 \\u09b9\\u09a4\\u09c7 \\u09b9\\u09ac\\u09c7\\u0964 \\u098f\\u09ae\\u09a8 \\u0995\\u09a5\\u09be \\u099a\\u09c1\\u0995\\u09cd\\u09a4\\u09bf\\u09aa\\u09a4\\u09cd\\u09b0\\u09c7\\u0993 \\u09b2\\u09c7\\u0996\\u09be \\u0986\\u099b\\u09c7\\u0964 \\u09b6\\u09c7\\u09b7 \\u09aa\\u09b0\\u09cd\\u09af\\u09a8\\u09cd\\u09a4 \\u0997\\u09a4\\u0995\\u09be\\u09b2 \\u098f\\u09ae\\u09c7\\u0995\\u09be \\u0987\\u0989\\u099c\\u09c7\\u0997\\u09be \\u09a8\\u09be\\u09ae \\u09aa\\u09b0\\u09bf\\u09ac\\u09b0\\u09cd\\u09a4\\u09a8 \\u0995\\u09b0\\u09c7 \\u0987\\u09b8\\u09b2\\u09be\\u09ae \\u09a7\\u09b0\\u09cd\\u09ae\\u0997\\u09cd\\u09b0\\u09b9\\u09a3 \\u0995\\u09b0\\u09b2\\u09c7\\u09a8\\u0964 \\u09ae\\u09c1\\u09b8\\u09b2\\u09ae\\u09be\\u09a8 \\u09b9\\u0993\\u09af\\u09bc\\u09be\\u09b0 \\u09aa\\u09b0 \\u09a4\\u09be\\u09b0 \\u09a8\\u09a4\\u09c1\\u09a8 \\u09a8\\u09be\\u09ae \\u09b0\\u09be\\u0996\\u09be \\u09b9\\u09af\\u09bc\\u09c7\\u099b\\u09c7 \\u09ae\\u09cb\\u09b8\\u09cd\\u09a4\\u09ab\\u09be \\u09ae\\u09cb\\u09b9\\u09be\\u09ae\\u09cd\\u09ae\\u09a6\\u0964 \\u09b6\\u09c1\\u09b0\\u09c1\\u09a4\\u09c7 \\u09a4\\u09bf\\u09a8\\u09bf \\u09a4\\u09be\\u09b0 \\u09a8\\u09be\\u09ae \\u098f\\u09ae\\u09c7\\u0995\\u09be \\u0987\\u0989\\u099c\\u09c7\\u0997\\u09be\\u09b0 \\u09ac\\u09a6\\u09b2\\u09c7 \\u098f\\u09ae\\u09a6\\u09be\\u09a6\\u09c1\\u09b2 \\u0987\\u0989\\u09b8\\u09c1\\u09ab \\u09b0\\u09be\\u0996\\u09a4\\u09c7 \\u099a\\u09c7\\u09df\\u09c7\\u099b\\u09bf\\u09b2\\u09c7\\u09a8 \\u0995\\u09bf\\u09a8\\u09cd\\u09a4\\u09c1 \\u09ae\\u09be\\u0993\\u09b2\\u09be\\u09a8\\u09be\\u09b0\\u09be \\u09a4\\u09be\\u0995\\u09c7 \\u09a4\\u09be\\u09b0 \\u0995\\u09c1\\u09ab\\u09b0\\u09bf \\u0985\\u09a4\\u09c0\\u09a4\\u09c7\\u09b0 \\u09b8\\u09ae\\u09b8\\u09cd\\u09a4 \\u099a\\u09bf\\u09b9\\u09cd\\u09a8 \\u09a4\\u09cd\\u09af\\u09be\\u0997 \\u0995\\u09b0\\u09be\\u09b0 \\u09aa\\u09b0\\u09be\\u09ae\\u09b0\\u09cd\\u09b6 \\u09a6\\u09c7\\u09a8\\u0964\\n\\n\\n\\u09ae\\u09cb\\u09b9\\u09be\\u09ae\\u09c7\\u09a6\\u09bf\\u09df\\u09be\\u09a8 \\u09b0\\u09cb\\u09a8\\u09be\\u09b2\\u09a6\\u09cb\\u09b0 \\u0985\\u09aa\\u09c7\\u0995\\u09cd\\u09b7\\u09be\\u09df \\u09ae\\u09cb\\u09b8\\u09cd\\u09a4\\u09ab\\u09be\\n\\n\\u0987\\u09b8\\u09b2\\u09be\\u09ae \\u0997\\u09cd\\u09b0\\u09b9\\u09a3\\u09c7\\u09b0 \\u09aa\\u09b0 \\u09a4\\u09bf\\u09a8\\u09bf \\u0986\\u09b6\\u09be \\u09aa\\u09cd\\u09b0\\u0995\\u09be\\u09b6 \\u0995\\u09b0\\u09c7 \\u09ac\\u09b2\\u09c7\\u09a8 \\u098f\\u09b0 \\u09aa\\u09b0 \\u09a5\\u09c7\\u0995\\u09c7 \\u09ae\\u09cb\\u09b9\\u09be\\u09ae\\u09c7\\u09a1\\u09be\\u09a8 \\u09a6\\u09b2\\u09c7\\u09b0 \\u0989\\u09aa\\u09b0\\u09c7 \\u0986\\u09b2\\u09cd\\u09b2\\u09be\\u09b9\\u09aa\\u09be\\u0995\\u09c7\\u09b0 \\u09b0\\u09b9\\u09ae\\u09a4 \\u09ae\\u09c1\\u09b7\\u09b2\\u09a7\\u09be\\u09b0\\u09c7 \\u09ac\\u09b0\\u09cd\\u09b7\\u09bf\\u09a4 \\u09b9\\u09ac\\u09c7 \\u0987\\u09a8\\u09b6\\u09be\\u09b2\\u09cd\\u09b2\\u09be\\u09b9\\u0964 \\u098f\\u099b\\u09be\\u09dc\\u09be \\u09b8\\u09a6\\u09cd\\u09af \\u0987\\u09b8\\u09b2\\u09be\\u09ae \\u0997\\u09cd\\u09b0\\u09b9\\u09a3\\u0995\\u09be\\u09b0\\u09c0 \\u0986\\u099e\\u09cd\\u099c\\u09c1\\u09ae\\u09be\\u09a8 \\u0986\\u09b0\\u09be \\u099c\\u09b2\\u09bf \\u098f\\u09ac\\u0982 \\u09ae\\u09be\\u0993\\u09b2\\u09be\\u09a8\\u09be \\u09b9\\u0995\\u09bf\\u0982 \\u09ae\\u09cb\\u09b9\\u09be\\u09ae\\u09c7\\u09a1\\u09be\\u09a8\\u09c7\\u09b0 \\u0989\\u09aa\\u09a6\\u09c7\\u09b7\\u09cd\\u099f\\u09be \\u09aa\\u09b0\\u09bf\\u09b7\\u09a6\\u09c7 \\u09af\\u09cb\\u0997 \\u09a6\\u09bf\\u09a4\\u09c7 \\u09aa\\u09cd\\u09b0\\u09be\\u09a5\\u09ae\\u09bf\\u0995 \\u09b8\\u09ae\\u09cd\\u09ae\\u09a4\\u09bf \\u09a6\\u09bf\\u09df\\u09c7\\u099b\\u09c7\\u09a8 \\u09ac\\u09b2\\u09c7 \\u099c\\u09be\\u09a8\\u09be \\u0997\\u09c7\\u099b\\u09c7\\u0964 \\u09a6\\u09cd\\u09ac\\u09c0\\u09a8\\u09c7\\u09b0 \\u09a8\\u09ac\\u09c0 \\u09ae\\u09cb\\u09b8\\u09cd\\u09a4\\u09ab\\u09be \\u09ae\\u09cb\\u09b9\\u09be\\u09ae\\u09c7\\u09a1\\u09be\\u09a8\\u09c7\\u09b0 \\u0995\\u09cb\\u099a \\u09ae\\u09cb\\u09b8\\u09cd\\u09a4\\u09ab\\u09be \\u0986\\u09b0\\u0993 \\u099c\\u09be\\u09a8\\u09be\\u09a8 \\u0986\\u0997\\u09be\\u09ae\\u09c0 \\u09ae\\u09cc\\u09b8\\u09c1\\u09ae\\u09c7 \\u09ae\\u09cb\\u09b9\\u09be\\u09ae\\u09c7\\u09a1\\u09be\\u09a8 \\u09a6\\u09b2\\u09c7\\u09b0 \\u09b9\\u09df\\u09c7 \\u0996\\u09c7\\u09b2\\u09be\\u09b0 \\u0987\\u099a\\u09cd\\u099b\\u09be \\u09aa\\u09cd\\u09b0\\u0995\\u09be\\u09b6 \\u0995\\u09b0\\u09c7\\u099b\\u09c7\\u09a8 \\u09b0\\u09bf\\u09df\\u09be\\u09b2 \\u09ae\\u09be\\u09a6\\u09cd\\u09b0\\u09bf\\u09a6 \\u09a6\\u09b2\\u09c7\\u09b0 \\u0995\\u09be\\u09ab\\u09c7\\u09b0 \\u09ab\\u09c1\\u099f\\u09ac\\u09b2\\u09be\\u09b0 \\u0996\\u09cd\\u09b0\\u09bf\\u09b7\\u09cd\\u099f\\u09bf\\u09df\\u09be\\u09a8 \\u09b0\\u09cb\\u09a8\\u09be\\u09b2\\u09a6\\u09cb\\u0964 \\u09a4\\u09bf\\u09a8\\u09bf\\u0993 \\u0987\\u09b8\\u09b2\\u09be\\u09ae \\u0997\\u09cd\\u09b0\\u09b9\\u09a3 \\u0995\\u09b0\\u09ac\\u09c7\\u09a8 \\u098f\\u09ac\\u0982 \\u09a8\\u09bf\\u099c\\u09c7\\u09b0 \\u0986\\u09a6\\u09bf \\u09a8\\u09be\\u09ae \\u0996\\u09cd\\u09b0\\u09bf\\u09b7\\u09cd\\u099f\\u09bf\\u09df\\u09be\\u09a8 \\u09b0\\u09cb\\u09a8\\u09be\\u09b2\\u09a6\\u09cb \\u09aa\\u09b0\\u09bf\\u09ac\\u09b0\\u09cd\\u09a4\\u09a8 \\u0995\\u09b0\\u09c7 \\u09ae\\u09cb\\u09b9\\u09be\\u09ae\\u09c7\\u09a6\\u09bf\\u09df\\u09be\\u09a8 \\u09b0\\u09cb\\u09a8\\u09be\\u09b2\\u09a6\\u09cb \\u09b0\\u09be\\u0996\\u09ac\\u09c7\\u09a8\\u0964 \\u09a4\\u09be\\u09b0 \\u099c\\u09be\\u09b0\\u09cd\\u09b8\\u09bf\\u09b0 \\u09a8\\u09ae\\u09cd\\u09ac\\u09b0 \\u09b9\\u09ac\\u09c7 \\u09ed\\u09ee\\u09ec\\u0964\\n\\n\",\n          \"\\u09ab\\u09c7\\u0987\\u09b8\\u09ac\\u09c1\\u0995\\u09c7 \\u0985\\u09a8\\u09cd\\u09af\\u09c7\\u09b0 \\u09aa\\u09cb\\u09b8\\u09cd\\u099f \\u0995\\u09aa\\u09bf \\u0995\\u09b0\\u09be \\u09af\\u09c1\\u09ac\\u0995\\u09c7\\u09b0 \\u09ac\\u0989 \\u09a8\\u09bf\\u09df\\u09c7 \\u09ad\\u09c7\\u0997\\u09c7 \\u0997\\u09c7\\u09b2\\u09cb \\u0986\\u09b0\\u09c7\\u0995 \\u0995\\u09aa\\u09bf\\u09aa\\u09c7\\u09b8\\u09cd\\u099f \\u09af\\u09c1\\u09ac\\u0995 \\u09ab\\u09c7\\u0987\\u09b8\\u09ac\\u09c1\\u0995\\u09c7 \\u098f\\u0996\\u09a8 \\u098f\\u099f\\u09be \\u0998\\u099f\\u09c7\\u0987 \\u09a5\\u09be\\u0995\\u09c7\\u0964 \\u098f\\u0995\\u099c\\u09a8\\u09c7\\u09b0 \\u09aa\\u09cb\\u09b8\\u09cd\\u099f \\u0985\\u09a8\\u09cd\\u09af\\u099c\\u09a8\\u09c7\\u09b0 \\u0995\\u09aa\\u09bf \\u0995\\u09b0\\u09be\\u0964 \\u098f\\u09ac\\u0982 \\u09b6\\u09c1\\u09a7\\u09c1 \\u0995\\u09aa\\u09bf \\u0995\\u09b0\\u09c7\\u0987 \\u0995\\u09cd\\u09b7\\u09cd\\u09af\\u09be\\u09a8\\u09cd\\u09a4 \\u09b9\\u09df \\u09a8\\u09be \\u0995\\u09ae\\u09c7\\u09a8\\u09cd\\u099f\\u09ac\\u0995\\u09cd\\u09b8\\u09c7 \\u0995\\u09c7\\u0989 \\u098f\\u099f\\u09be \\u09a7\\u09b0\\u09bf\\u09df\\u09c7 \\u09a6\\u09bf\\u09b2\\u09c7 \\u098f\\u09ae\\u09a8 \\u0986\\u099a\\u09b0\\u09a3 \\u0995\\u09b0\\u09c7 \\u09af\\u09c7\\u09a8\\u09cb \\u09a4\\u09be\\u09b0 \\u09aa\\u09cb\\u09b8\\u09cd\\u099f \\u0985\\u09a8\\u09cd\\u09af\\u0995\\u09c7\\u0989 \\u0995\\u09aa\\u09bf \\u0995\\u09b0\\u09c7\\u099b\\u09c7\\u0964 \\u0985\\u09a8\\u09c7\\u0995 \\u09ac\\u099b\\u09b0 \\u09af\\u09be\\u09ac\\u09a4 \\u098f\\u099f\\u09be \\u0998\\u099f\\u09c7 \\u0986\\u09b8\\u099b\\u09c7\\u0964 \\u09a4\\u09ac\\u09c7 \\u098f\\u0995\\u0987 \\u09ac\\u09cd\\u09af\\u09aa\\u09be\\u09b0 \\u09af\\u09c7 \\u09ac\\u09be\\u09b8\\u09cd\\u09a4\\u09ac \\u099c\\u09c0\\u09ac\\u09a8\\u09c7\\u0993 \\u0998\\u099f\\u09ac\\u09c7 \\u098f\\u099f\\u09be \\u09b9\\u09df\\u09a4\\u09cb \\u0995\\u09c7\\u0989 \\u0995\\u09cb\\u09a8\\u09a6\\u09bf\\u09a8\\u0987 \\u09ad\\u09be\\u09ac\\u09c7\\u09a8\\u09bf\\u0964 \\u09a4\\u09c7\\u09ae\\u09a8 \\u098f\\u0995\\u099f\\u09be \\u0998\\u099f\\u09a8\\u09be \\u0998\\u099f\\u09c7\\u099b\\u09c7 \\u09b0\\u09be\\u099c\\u09a7\\u09be\\u09a8\\u09c0\\u09b0 \\u09ac\\u09c1\\u0995\\u09c7\\u0964\\u09af\\u09be\\u09a6\\u09c7\\u09b0 \\u09b8\\u09be\\u09a5\\u09c7 \\u0998\\u099f\\u09a8\\u09be \\u0998\\u099f\\u09c7\\u099b\\u09c7 \\u09a4\\u09be\\u09a6\\u09c7\\u09b0 \\u09b8\\u09be\\u09ae\\u09be\\u099c\\u09bf\\u0995 \\u09ae\\u09b0\\u09cd\\u09af\\u09be\\u09a6\\u09be\\u09b0 \\u0995\\u09a5\\u09be \\u099a\\u09bf\\u09a8\\u09cd\\u09a4\\u09be \\u0995\\u09b0\\u09c7 \\u0986\\u09ae\\u09b0\\u09be \\u09a4\\u09be\\u09a6\\u09c7\\u09b0 \\u09a8\\u09be\\u09ae \\u09aa\\u09cd\\u09b0\\u0995\\u09be\\u09b6 \\u0995\\u09b0\\u09ac\\u09cb \\u09a8\\u09be\\u09f7 \\u09b9\\u09c1\\u09b8\\u09be\\u0987\\u09a8 \\u0995\\u09ac\\u09bf\\u09b0 \\u09a8\\u09be\\u09ae\\u09c7 \\u098f\\u0995 \\u09af\\u09c1\\u09ac\\u0995 \\u09ab\\u09c7\\u0987\\u09b8\\u09ac\\u09c1\\u0995\\u09c7 \\u0985\\u09a8\\u09cd\\u09af\\u09c7\\u09b0 \\u09aa\\u09cb\\u09b8\\u09cd\\u099f \\u0995\\u09aa\\u09bf \\u09aa\\u09c7\\u09b8\\u09cd\\u099f \\u0995\\u09b0\\u09c7 \\u09b9\\u09be\\u099c\\u09be\\u09b0 \\u0996\\u09be\\u09a8\\u09bf\\u0995 \\u09b2\\u09be\\u0987\\u0995 \\u0995\\u09be\\u09ae\\u09bf\\u09df\\u09c7 \\u09b9\\u09c1\\u099f \\u0995\\u09b0\\u09c7 \\u09b8\\u09c7\\u09b2\\u09bf\\u09ac\\u09cd\\u09b0\\u09bf\\u099f\\u09bf \\u09b9\\u09df\\u09c7 \\u0997\\u09c7\\u099b\\u09bf\\u09b2\\u09cb\\u0964 \\u09a4\\u09be\\u09b0 \\u0995\\u09ae\\u09c7\\u09a8\\u09cd\\u099f\\u09ac\\u0995\\u09cd\\u09b8\\u09c7\\u0987 \\u098f\\u0995 \\u09ae\\u09c7\\u09df\\u09c7\\u09b0 \\u09b8\\u09be\\u09a5\\u09c7 \\u09aa\\u09cd\\u09b0\\u09c7\\u09ae\\u09c7 \\u099c\\u09dc\\u09bf\\u09df\\u09c7 \\u0985\\u09ac\\u09b6\\u09c7\\u09b7\\u09c7 \\u09ac\\u09bf\\u09df\\u09c7 \\u0995\\u09b0\\u09c7 \\u09ab\\u09c7\\u09b2\\u09c7\\u0964 \\u0986\\u09b0 \\u09ac\\u09bf\\u09df\\u09c7\\u09b0 \\u09aa\\u09b0 \\u09ad\\u09be\\u09b2\\u09cb\\u0987 \\u099a\\u09b2\\u099b\\u09bf\\u09b2\\u09cb \\u09a8\\u09ac \\u09a6\\u09ae\\u09cd\\u09aa\\u09a4\\u09cd\\u09a4\\u09c0\\u09b0 \\u09ac\\u09bf\\u09ac\\u09be\\u09b9\\u09bf\\u09a4 \\u099c\\u09c0\\u09ac\\u09a8\\u0964\\u098f\\u09b0 \\u09ae\\u09a7\\u09cd\\u09af\\u09c7\\u0987 \\u0998\\u099f\\u09c7 \\u09af\\u09be\\u09df \\u0986\\u09b0\\u09c7\\u0995 \\u09a6\\u09c1\\u0983\\u0996\\u099c\\u09a8\\u0995 \\u0998\\u099f\\u09a8\\u09be\\u0964 \\u09b9\\u09a0\\u09be\\u09ce \\u0995\\u09b0\\u09c7 \\u0986\\u09b0\\u09c7\\u0995 \\u0995\\u09aa\\u09bf\\u09aa\\u09c7\\u09b8\\u09cd\\u099f \\u09b8\\u09c7\\u09b2\\u09bf\\u09ac\\u09cd\\u09b0\\u09bf\\u099f\\u09bf\\u09b0 \\u0986\\u0997\\u09ae\\u09a8 \\u0998\\u099f\\u09c7 \\u09b9\\u09c1\\u09b8\\u09be\\u0987\\u09a8 \\u0995\\u09ac\\u09bf\\u09b0\\u09c7\\u09b0 \\u09ac\\u09bf\\u09ac\\u09be\\u09b9\\u09bf\\u09a4 \\u099c\\u09c0\\u09ac\\u09a8 \\u09a6\\u09c1\\u09b0\\u09cd\\u09ac\\u09bf\\u09b7\\u09b9 \\u0995\\u09b0\\u09c7 \\u09a4\\u09cb\\u09b2\\u09c7\\u0964 \\u0995\\u09be\\u09b0\\u09a3 \\u09a4\\u0996\\u09a8 \\u09b9\\u09c1\\u09b8\\u09be\\u0987\\u09a8 \\u0995\\u09ac\\u09bf\\u09b0\\u09c7\\u09b0 \\u09ac\\u0989 \\u09a8\\u09be\\u0988\\u09ae \\u09a8\\u09be\\u09ae\\u09c7\\u09b0 \\u0995\\u09aa\\u09bf\\u09aa\\u09c7\\u09b8\\u09cd\\u099f \\u09b8\\u09c7\\u09b2\\u09bf\\u09ac\\u09cd\\u09b0\\u09c7\\u099f\\u09bf\\u09b0 \\u09b8\\u09be\\u09a5\\u09c7 \\u09ae\\u09be\\u0996\\u09be\\u09ae\\u09be\\u0996\\u09bf \\u09b6\\u09c1\\u09b0\\u09c1 \\u0995\\u09b0\\u09c7 \\u09a6\\u09bf\\u09df\\u09c7\\u099b\\u09c7\\u0964 \\u09a4\\u09be\\u09b0\\u09aa\\u09b0 \\u098f\\u0995\\u09a6\\u09bf\\u09a8 \\u0998\\u099f\\u09c7 \\u0997\\u09c7\\u09b2\\u09cb \\u09b8\\u09c7\\u0987 \\u09a6\\u09c1\\u0983\\u0996 \\u099c\\u09a8\\u0995 \\u0998\\u099f\\u09a8\\u09be\\u0964 \\u09b9\\u09c1\\u09b8\\u09be\\u0987\\u09a8 \\u0995\\u09ac\\u09bf\\u09b0\\u09c7\\u09b0 \\u09ac\\u0989 \\u09ad\\u09c7\\u0997\\u09c7 \\u0997\\u09c7\\u09b2\\u09cb \\u0986\\u09b0\\u09c7\\u0995 \\u0995\\u09aa\\u09bf\\u09aa\\u09c7\\u09b8\\u09cd\\u099f \\u09b8\\u09c7\\u09b2\\u09bf\\u09ac\\u09cd\\u09b0\\u09bf\\u099f\\u09bf \\u09a8\\u09be\\u0988\\u09ae\\u0964 \\u0986\\u09b0 \\u098f\\u09ad\\u09be\\u09ac\\u09c7 \\u09a8\\u09bf\\u099c\\u09c7\\u09b0\\u09b0 \\u0997\\u09b0\\u09cd\\u09a4\\u09c7 \\u09a8\\u09bf\\u099c\\u09c7 \\u09aa\\u09dc\\u09c7 \\u09a6\\u09bf\\u09b6\\u09c7 \\u09b9\\u09be\\u09b0\\u09be \\u098f\\u0987 \\u0995\\u09aa\\u09bf\\u09aa\\u09c7\\u09b8\\u09cd\\u099f \\u09af\\u09c1\\u09ac\\u0995\\u0995\\u09aa\\u09bf\\u09aa\\u09c7\\u09b8\\u09cd\\u099f \\u0995\\u09be\\u09b0\\u09c0\\u09b0\\u09be \\u0986\\u09ac\\u09be\\u09b0 \\u09aa\\u09dc\\u09c1\\u09a8\\u09ab\\u09c7\\u0987\\u09b8\\u09ac\\u09c1\\u0995\\u09c7 \\u098f\\u0996\\u09a8 \\u098f\\u099f\\u09be \\u0998\\u099f\\u09c7\\u0987 \\u09a5\\u09be\\u0995\\u09c7\\u0964 \\u098f\\u0995\\u099c\\u09a8\\u09c7\\u09b0 \\u09aa\\u09cb\\u09b8\\u09cd\\u099f \\u0985\\u09a8\\u09cd\\u09af\\u099c\\u09a8\\u09c7\\u09b0 \\u0995\\u09aa\\u09bf \\u0995\\u09b0\\u09be\\u0964 \\u098f\\u09ac\\u0982 \\u09b6\\u09c1\\u09a7\\u09c1 \\u0995\\u09aa\\u09bf \\u0995\\u09b0\\u09c7\\u0987 \\u0995\\u09cd\\u09b7\\u09cd\\u09af\\u09be\\u09a8\\u09cd\\u09a4 \\u09b9\\u09df \\u09a8\\u09be \\u0995\\u09ae\\u09c7\\u09a8\\u09cd\\u099f\\u09ac\\u0995\\u09cd\\u09b8\\u09c7 \\u0995\\u09c7\\u0989 \\u098f\\u099f\\u09be \\u09a7\\u09b0\\u09bf\\u09df\\u09c7 \\u09a6\\u09bf\\u09b2\\u09c7 \\u098f\\u09ae\\u09a8 \\u0986\\u099a\\u09b0\\u09a3 \\u0995\\u09b0\\u09c7 \\u09af\\u09c7\\u09a8\\u09cb \\u09a4\\u09be\\u09b0 \\u09aa\\u09cb\\u09b8\\u09cd\\u099f \\u0985\\u09a8\\u09cd\\u09af\\u0995\\u09c7\\u0989 \\u0995\\u09aa\\u09bf \\u0995\\u09b0\\u09c7\\u099b\\u09c7\\u0964 \\u0985\\u09a8\\u09c7\\u0995 \\u09ac\\u099b\\u09b0 \\u09af\\u09be\\u09ac\\u09a4 \\u098f\\u099f\\u09be \\u0998\\u099f\\u09c7 \\u0986\\u09b8\\u099b\\u09c7\\u0964 \\u09a4\\u09ac\\u09c7 \\u098f\\u0995\\u0987 \\u09ac\\u09cd\\u09af\\u09aa\\u09be\\u09b0 \\u09af\\u09c7 \\u09ac\\u09be\\u09b8\\u09cd\\u09a4\\u09ac \\u099c\\u09c0\\u09ac\\u09a8\\u09c7\\u0993 \\u0998\\u099f\\u09ac\\u09c7 \\u098f\\u099f\\u09be \\u09b9\\u09df\\u09a4\\u09cb \\u0995\\u09c7\\u0989 \\u0995\\u09cb\\u09a8\\u09a6\\u09bf\\u09a8\\u0987 \\u09ad\\u09be\\u09ac\\u09c7\\u09a8\\u09bf\\u0964 \\u09a4\\u09c7\\u09ae\\u09a8 \\u098f\\u0995\\u099f\\u09be \\u0998\\u099f\\u09a8\\u09be \\u0998\\u099f\\u09c7\\u099b\\u09c7 \\u09b0\\u09be\\u099c\\u09a7\\u09be\\u09a8\\u09c0\\u09b0 \\u09ac\\u09c1\\u0995\\u09c7\\u0964\\u09af\\u09be\\u09a6\\u09c7\\u09b0 \\u09b8\\u09be\\u09a5\\u09c7 \\u0998\\u099f\\u09a8\\u09be \\u0998\\u099f\\u09c7\\u099b\\u09c7 \\u09a4\\u09be\\u09a6\\u09c7\\u09b0 \\u09b8\\u09be\\u09ae\\u09be\\u099c\\u09bf\\u0995 \\u09ae\\u09b0\\u09cd\\u09af\\u09be\\u09a6\\u09be\\u09b0 \\u0995\\u09a5\\u09be \\u099a\\u09bf\\u09a8\\u09cd\\u09a4\\u09be \\u0995\\u09b0\\u09c7 \\u0986\\u09ae\\u09b0\\u09be \\u09a4\\u09be\\u09a6\\u09c7\\u09b0 \\u09a8\\u09be\\u09ae \\u09aa\\u09cd\\u09b0\\u0995\\u09be\\u09b6 \\u0995\\u09b0\\u09ac\\u09cb \\u09a8\\u09be\\u09f7 \\u09b9\\u09c1\\u09b8\\u09be\\u0987\\u09a8 \\u0995\\u09ac\\u09bf\\u09b0 \\u09a8\\u09be\\u09ae\\u09c7 \\u098f\\u0995 \\u09af\\u09c1\\u09ac\\u0995 \\u09ab\\u09c7\\u0987\\u09b8\\u09ac\\u09c1\\u0995\\u09c7 \\u0985\\u09a8\\u09cd\\u09af\\u09c7\\u09b0 \\u09aa\\u09cb\\u09b8\\u09cd\\u099f \\u0995\\u09aa\\u09bf \\u09aa\\u09c7\\u09b8\\u09cd\\u099f \\u0995\\u09b0\\u09c7 \\u09b9\\u09be\\u099c\\u09be\\u09b0 \\u0996\\u09be\\u09a8\\u09bf\\u0995 \\u09b2\\u09be\\u0987\\u0995 \\u0995\\u09be\\u09ae\\u09bf\\u09df\\u09c7 \\u09b9\\u09c1\\u099f \\u0995\\u09b0\\u09c7 \\u09b8\\u09c7\\u09b2\\u09bf\\u09ac\\u09cd\\u09b0\\u09bf\\u099f\\u09bf \\u09b9\\u09df\\u09c7 \\u0997\\u09c7\\u099b\\u09bf\\u09b2\\u09cb\\u0964 \\u09a4\\u09be\\u09b0 \\u0995\\u09ae\\u09c7\\u09a8\\u09cd\\u099f\\u09ac\\u0995\\u09cd\\u09b8\\u09c7\\u0987 \\u098f\\u0995 \\u09ae\\u09c7\\u09df\\u09c7\\u09b0 \\u09b8\\u09be\\u09a5\\u09c7 \\u09aa\\u09cd\\u09b0\\u09c7\\u09ae\\u09c7 \\u099c\\u09dc\\u09bf\\u09df\\u09c7 \\u0985\\u09ac\\u09b6\\u09c7\\u09b7\\u09c7 \\u09ac\\u09bf\\u09df\\u09c7 \\u0995\\u09b0\\u09c7 \\u09ab\\u09c7\\u09b2\\u09c7\\u0964 \\u0986\\u09b0 \\u09ac\\u09bf\\u09df\\u09c7\\u09b0 \\u09aa\\u09b0 \\u09ad\\u09be\\u09b2\\u09cb\\u0987 \\u099a\\u09b2\\u099b\\u09bf\\u09b2\\u09cb \\u09a8\\u09ac \\u09a6\\u09ae\\u09cd\\u09aa\\u09a4\\u09cd\\u09a4\\u09c0\\u09b0 \\u09ac\\u09bf\\u09ac\\u09be\\u09b9\\u09bf\\u09a4 \\u099c\\u09c0\\u09ac\\u09a8\\u0964\\u098f\\u09b0 \\u09ae\\u09a7\\u09cd\\u09af\\u09c7\\u0987 \\u0998\\u099f\\u09c7 \\u09af\\u09be\\u09df \\u0986\\u09b0\\u09c7\\u0995 \\u09a6\\u09c1\\u0983\\u0996\\u099c\\u09a8\\u0995 \\u0998\\u099f\\u09a8\\u09be\\u0964 \\u09b9\\u09a0\\u09be\\u09ce \\u0995\\u09b0\\u09c7 \\u0986\\u09b0\\u09c7\\u0995 \\u0995\\u09aa\\u09bf\\u09aa\\u09c7\\u09b8\\u09cd\\u099f \\u09b8\\u09c7\\u09b2\\u09bf\\u09ac\\u09cd\\u09b0\\u09bf\\u099f\\u09bf\\u09b0 \\u0986\\u0997\\u09ae\\u09a8 \\u0998\\u099f\\u09c7 \\u09b9\\u09c1\\u09b8\\u09be\\u0987\\u09a8 \\u0995\\u09ac\\u09bf\\u09b0\\u09c7\\u09b0 \\u09ac\\u09bf\\u09ac\\u09be\\u09b9\\u09bf\\u09a4 \\u099c\\u09c0\\u09ac\\u09a8 \\u09a6\\u09c1\\u09b0\\u09cd\\u09ac\\u09bf\\u09b7\\u09b9 \\u0995\\u09b0\\u09c7 \\u09a4\\u09cb\\u09b2\\u09c7\\u0964 \\u0995\\u09be\\u09b0\\u09a3 \\u09a4\\u0996\\u09a8 \\u09b9\\u09c1\\u09b8\\u09be\\u0987\\u09a8 \\u0995\\u09ac\\u09bf\\u09b0\\u09c7\\u09b0 \\u09ac\\u0989 \\u09a8\\u09be\\u0988\\u09ae \\u09a8\\u09be\\u09ae\\u09c7\\u09b0 \\u0995\\u09aa\\u09bf\\u09aa\\u09c7\\u09b8\\u09cd\\u099f \\u09b8\\u09c7\\u09b2\\u09bf\\u09ac\\u09cd\\u09b0\\u09c7\\u099f\\u09bf\\u09b0 \\u09b8\\u09be\\u09a5\\u09c7 \\u09ae\\u09be\\u0996\\u09be\\u09ae\\u09be\\u0996\\u09bf \\u09b6\\u09c1\\u09b0\\u09c1 \\u0995\\u09b0\\u09c7 \\u09a6\\u09bf\\u09df\\u09c7\\u099b\\u09c7\\u0964 \\u09a4\\u09be\\u09b0\\u09aa\\u09b0 \\u098f\\u0995\\u09a6\\u09bf\\u09a8 \\u0998\\u099f\\u09c7 \\u0997\\u09c7\\u09b2\\u09cb \\u09b8\\u09c7\\u0987 \\u09a6\\u09c1\\u0983\\u0996 \\u099c\\u09a8\\u0995 \\u0998\\u099f\\u09a8\\u09be\\u0964 \\u09b9\\u09c1\\u09b8\\u09be\\u0987\\u09a8 \\u0995\\u09ac\\u09bf\\u09b0\\u09c7\\u09b0 \\u09ac\\u0989 \\u09ad\\u09c7\\u0997\\u09c7 \\u0997\\u09c7\\u09b2\\u09cb \\u0986\\u09b0\\u09c7\\u0995 \\u0995\\u09aa\\u09bf\\u09aa\\u09c7\\u09b8\\u09cd\\u099f \\u09b8\\u09c7\\u09b2\\u09bf\\u09ac\\u09cd\\u09b0\\u09bf\\u099f\\u09bf \\u09a8\\u09be\\u0988\\u09ae\\u0964 \\u0986\\u09b0 \\u098f\\u09ad\\u09be\\u09ac\\u09c7 \\u09a8\\u09bf\\u099c\\u09c7\\u09b0\\u09b0 \\u0997\\u09b0\\u09cd\\u09a4\\u09c7 \\u09a8\\u09bf\\u099c\\u09c7 \\u09aa\\u09dc\\u09c7 \\u09a6\\u09bf\\u09b6\\u09c7 \\u09b9\\u09be\\u09b0\\u09be \\u098f\\u0987 \\u0995\\u09aa\\u09bf\\u09aa\\u09c7\\u09b8\\u09cd\\u099f \\u09af\\u09c1\\u09ac\\u0995\"\n        ],\n        \"semantic_type\": \"\",\n        \"description\": \"\"\n      }\n    }\n  ]\n}"
            }
          },
          "metadata": {},
          "execution_count": 15
        }
      ]
    },
    {
      "cell_type": "code",
      "source": [
        "import pandas as pd\n",
        "tfidf_vectorizer = TfidfVectorizer(max_features=5000)\n",
        "tfidf_matrix = tfidf_vectorizer.fit_transform(All_df['text'])\n",
        "\n",
        "tfidf_df = pd.DataFrame(tfidf_matrix.toarray(), columns=tfidf_vectorizer.get_feature_names_out())\n",
        "\n",
        "all_df = pd.concat([tfidf_df, All_df['Label']], axis=1)\n"
      ],
      "metadata": {
        "id": "FVnQhCLlfSPH"
      },
      "execution_count": null,
      "outputs": []
    },
    {
      "cell_type": "code",
      "source": [
        "X = all_df.drop('Label', axis=1)\n",
        "y = all_df['Label']\n",
        "X_train, X_test, y_train, y_test = train_test_split(X, y, test_size=0.2, random_state=42, stratify=y)"
      ],
      "metadata": {
        "id": "CkB8TohehGkN"
      },
      "execution_count": null,
      "outputs": []
    },
    {
      "cell_type": "code",
      "source": [
        "# prompt: train SVM\n",
        "\n",
        "import matplotlib.pyplot as plt\n",
        "# Train a Linear SVM model\n",
        "svm_model = LinearSVC(random_state=42)\n",
        "svm_model.fit(X_train, y_train)\n",
        "\n",
        "# Make predictions on the test set\n",
        "y_pred_svm = svm_model.predict(X_test)\n",
        "\n",
        "# Evaluate the model\n",
        "accuracy_svm = accuracy_score(y_test, y_pred_svm)\n",
        "report_svm = classification_report(y_test, y_pred_svm)\n",
        "conf_matrix_svm = confusion_matrix(y_test, y_pred_svm)\n",
        "\n",
        "print(f\"SVM Accuracy: {accuracy_svm}\")\n",
        "print(\"SVM Classification Report:\")\n",
        "print(report_svm)\n",
        "\n",
        "\n",
        "# Plot confusion matrix\n",
        "plt.figure(figsize=(8, 6))\n",
        "sns.heatmap(conf_matrix_svm, annot=True, fmt=\"d\", cmap=\"Blues\", xticklabels=['Fake', 'Real'], yticklabels=['Fake', 'Real'])\n",
        "plt.title(\"SVM Confusion Matrix\")\n",
        "plt.xlabel(\"Predicted Label\")\n",
        "plt.ylabel(\"True Label\")\n",
        "plt.show()"
      ],
      "metadata": {
        "colab": {
          "base_uri": "https://localhost:8080/",
          "height": 755
        },
        "id": "0YvTowF7hVAm",
        "outputId": "b559ac9e-765b-4e33-ebc5-a0dc450b74d4"
      },
      "execution_count": null,
      "outputs": [
        {
          "output_type": "stream",
          "name": "stdout",
          "text": [
            "SVM Accuracy: 0.9002795899347623\n",
            "SVM Classification Report:\n",
            "              precision    recall  f1-score   support\n",
            "\n",
            "           0       0.91      0.89      0.90       537\n",
            "           1       0.89      0.91      0.90       536\n",
            "\n",
            "    accuracy                           0.90      1073\n",
            "   macro avg       0.90      0.90      0.90      1073\n",
            "weighted avg       0.90      0.90      0.90      1073\n",
            "\n"
          ]
        },
        {
          "output_type": "display_data",
          "data": {
            "text/plain": [
              "<Figure size 800x600 with 2 Axes>"
            ],
            "image/png": "[encoded data removed]"
          },
          "metadata": {}
        }
      ]
    },
    {
      "cell_type": "code",
      "source": [
        "# prompt: Train Logistic Regression\n",
        "\n",
        "import matplotlib.pyplot as plt\n",
        "# Train a Logistic Regression model\n",
        "log_reg_model = LogisticRegression(random_state=42)\n",
        "log_reg_model.fit(X_train, y_train)\n",
        "\n",
        "# Make predictions on the test set\n",
        "y_pred_log_reg = log_reg_model.predict(X_test)\n",
        "\n",
        "# Evaluate the model\n",
        "accuracy_log_reg = accuracy_score(y_test, y_pred_log_reg)\n",
        "report_log_reg = classification_report(y_test, y_pred_log_reg)\n",
        "conf_matrix_log_reg = confusion_matrix(y_test, y_pred_log_reg)\n",
        "\n",
        "# Print evaluation metrics\n",
        "print(\"\\nLogistic Regression Model Evaluation:\")\n",
        "print(f\"Accuracy: {accuracy_log_reg}\")\n",
        "print(\"Classification Report:\")\n",
        "print(report_log_reg)\n",
        "\n",
        "# Plot confusion matrix\n",
        "plt.figure(figsize=(8, 6))\n",
        "sns.heatmap(conf_matrix_log_reg, annot=True, fmt=\"d\", cmap=\"Blues\", xticklabels=['Fake', 'Real'], yticklabels=['Fake', 'Real'])\n",
        "plt.title(\"Logistic Regression Confusion Matrix\")\n",
        "plt.xlabel(\"Predicted Label\")\n",
        "plt.ylabel(\"True Label\")\n",
        "plt.show()"
      ],
      "metadata": {
        "colab": {
          "base_uri": "https://localhost:8080/",
          "height": 790
        },
        "id": "YVaGb5FEhqwt",
        "outputId": "c8abfc91-f063-447a-842a-d50af22fb61f"
      },
      "execution_count": null,
      "outputs": [
        {
          "output_type": "stream",
          "name": "stdout",
          "text": [
            "\n",
            "Logistic Regression Model Evaluation:\n",
            "Accuracy: 0.9040074557315937\n",
            "Classification Report:\n",
            "              precision    recall  f1-score   support\n",
            "\n",
            "           0       0.92      0.89      0.90       537\n",
            "           1       0.89      0.92      0.91       536\n",
            "\n",
            "    accuracy                           0.90      1073\n",
            "   macro avg       0.90      0.90      0.90      1073\n",
            "weighted avg       0.90      0.90      0.90      1073\n",
            "\n"
          ]
        },
        {
          "output_type": "display_data",
          "data": {
            "text/plain": [
              "<Figure size 800x600 with 2 Axes>"
            ],
            "image/png": "[encoded data removed]"
          },
          "metadata": {}
        }
      ]
    },
    {
      "cell_type": "code",
      "source": [
        "# prompt: # Train Naive Bayes\n",
        "\n",
        "import matplotlib.pyplot as plt\n",
        "# Train a Naive Bayes model\n",
        "nb_model = MultinomialNB()\n",
        "nb_model.fit(X_train, y_train)\n",
        "\n",
        "# Make predictions on the test set\n",
        "y_pred_nb = nb_model.predict(X_test)\n",
        "\n",
        "# Evaluate the model\n",
        "accuracy_nb = accuracy_score(y_test, y_pred_nb)\n",
        "report_nb = classification_report(y_test, y_pred_nb)\n",
        "conf_matrix_nb = confusion_matrix(y_test, y_pred_nb)\n",
        "\n",
        "# Print evaluation metrics\n",
        "print(\"\\nNaive Bayes Model Evaluation:\")\n",
        "print(f\"Accuracy: {accuracy_nb}\")\n",
        "print(\"Classification Report:\")\n",
        "print(report_nb)\n",
        "\n",
        "# Plot confusion matrix\n",
        "plt.figure(figsize=(8, 6))\n",
        "sns.heatmap(conf_matrix_nb, annot=True, fmt=\"d\", cmap=\"Blues\", xticklabels=['Fake', 'Real'], yticklabels=['Fake', 'Real'])\n",
        "plt.title(\"Naive Bayes Confusion Matrix\")\n",
        "plt.xlabel(\"Predicted Label\")\n",
        "plt.ylabel(\"True Label\")\n",
        "plt.show()"
      ],
      "metadata": {
        "colab": {
          "base_uri": "https://localhost:8080/",
          "height": 790
        },
        "id": "8F0pOHwdiL1t",
        "outputId": "42bfdc30-d0ba-440b-9ce5-192c0fef3895"
      },
      "execution_count": null,
      "outputs": [
        {
          "output_type": "stream",
          "name": "stdout",
          "text": [
            "\n",
            "Naive Bayes Model Evaluation:\n",
            "Accuracy: 0.9114631873252563\n",
            "Classification Report:\n",
            "              precision    recall  f1-score   support\n",
            "\n",
            "           0       0.93      0.89      0.91       537\n",
            "           1       0.89      0.93      0.91       536\n",
            "\n",
            "    accuracy                           0.91      1073\n",
            "   macro avg       0.91      0.91      0.91      1073\n",
            "weighted avg       0.91      0.91      0.91      1073\n",
            "\n"
          ]
        },
        {
          "output_type": "display_data",
          "data": {
            "text/plain": [
              "<Figure size 800x600 with 2 Axes>"
            ],
            "image/png": "[encoded data removed]"
          },
          "metadata": {}
        }
      ]
    },
    {
      "cell_type": "code",
      "source": [
        "# Train XGBoost\n",
        "\n",
        "import matplotlib.pyplot as plt\n",
        "# Train an XGBoost model\n",
        "import xgboost as xgb\n",
        "\n",
        "xgb_model = xgb.XGBClassifier(random_state=42)\n",
        "xgb_model.fit(X_train, y_train)\n",
        "\n",
        "# Make predictions on the test set\n",
        "y_pred_xgb = xgb_model.predict(X_test)\n",
        "\n",
        "# Evaluate the model\n",
        "accuracy_xgb = accuracy_score(y_test, y_pred_xgb)\n",
        "report_xgb = classification_report(y_test, y_pred_xgb)\n",
        "conf_matrix_xgb = confusion_matrix(y_test, y_pred_xgb)\n",
        "\n",
        "# Print evaluation metrics\n",
        "print(\"\\nXGBoost Model Evaluation:\")\n",
        "print(f\"Accuracy: {accuracy_xgb}\")\n",
        "print(\"Classification Report:\")\n",
        "print(report_xgb)\n",
        "\n",
        "# Plot confusion matrix\n",
        "plt.figure(figsize=(8, 6))\n",
        "sns.heatmap(conf_matrix_xgb, annot=True, fmt=\"d\", cmap=\"Blues\", xticklabels=['Fake', 'Real'], yticklabels=['Fake', 'Real'])\n",
        "plt.title(\"XGBoost Confusion Matrix\")\n",
        "plt.xlabel(\"Predicted Label\")\n",
        "plt.ylabel(\"True Label\")\n",
        "plt.show()\n"
      ],
      "metadata": {
        "colab": {
          "base_uri": "https://localhost:8080/",
          "height": 790
        },
        "id": "yvdB6mTziUZH",
        "outputId": "ae16b0e5-c31f-43ca-b2e1-c3a403f8f6d7"
      },
      "execution_count": null,
      "outputs": [
        {
          "output_type": "stream",
          "name": "stdout",
          "text": [
            "\n",
            "XGBoost Model Evaluation:\n",
            "Accuracy: 0.9095992544268406\n",
            "Classification Report:\n",
            "              precision    recall  f1-score   support\n",
            "\n",
            "           0       0.92      0.90      0.91       537\n",
            "           1       0.90      0.92      0.91       536\n",
            "\n",
            "    accuracy                           0.91      1073\n",
            "   macro avg       0.91      0.91      0.91      1073\n",
            "weighted avg       0.91      0.91      0.91      1073\n",
            "\n"
          ]
        },
        {
          "output_type": "display_data",
          "data": {
            "text/plain": [
              "<Figure size 800x600 with 2 Axes>"
            ],
            "image/png": "[encoded data removed]"
          },
          "metadata": {}
        }
      ]
    },
    {
      "cell_type": "code",
      "source": [
        "# prompt: Train LightGBM\n",
        "\n",
        "import matplotlib.pyplot as plt\n",
        "import lightgbm as lgb\n",
        "\n",
        "# Train a LightGBM model\n",
        "lgb_model = lgb.LGBMClassifier(random_state=42)\n",
        "lgb_model.fit(X_train, y_train)\n",
        "\n",
        "# Make predictions on the test set\n",
        "y_pred_lgb = lgb_model.predict(X_test)\n",
        "\n",
        "# Evaluate the model\n",
        "accuracy_lgb = accuracy_score(y_test, y_pred_lgb)\n",
        "report_lgb = classification_report(y_test, y_pred_lgb)\n",
        "conf_matrix_lgb = confusion_matrix(y_test, y_pred_lgb)\n",
        "\n",
        "# Print evaluation metrics\n",
        "print(\"\\nLightGBM Model Evaluation:\")\n",
        "print(f\"Accuracy: {accuracy_lgb}\")\n",
        "print(\"Classification Report:\")\n",
        "print(report_lgb)\n",
        "\n",
        "# Plot confusion matrix\n",
        "plt.figure(figsize=(8, 6))\n",
        "sns.heatmap(conf_matrix_lgb, annot=True, fmt=\"d\", cmap=\"Blues\", xticklabels=['Fake', 'Real'], yticklabels=['Fake', 'Real'])\n",
        "plt.title(\"LightGBM Confusion Matrix\")\n",
        "plt.xlabel(\"Predicted Label\")\n",
        "plt.ylabel(\"True Label\")\n",
        "plt.show()"
      ],
      "metadata": {
        "colab": {
          "base_uri": "https://localhost:8080/",
          "height": 911
        },
        "id": "vf3-23n0iySu",
        "outputId": "98c38e50-cfe2-4c21-e83a-5e7a1a9051a8"
      },
      "execution_count": null,
      "outputs": [
        {
          "output_type": "stream",
          "name": "stdout",
          "text": [
            "[LightGBM] [Info] Number of positive: 2146, number of negative: 2145\n",
            "[LightGBM] [Info] Auto-choosing col-wise multi-threading, the overhead of testing was 0.107910 seconds.\n",
            "You can set `force_col_wise=true` to remove the overhead.\n",
            "[LightGBM] [Info] Total Bins 99750\n",
            "[LightGBM] [Info] Number of data points in the train set: 4291, number of used features: 1650\n",
            "[LightGBM] [Info] [binary:BoostFromScore]: pavg=0.500117 -> initscore=0.000466\n",
            "[LightGBM] [Info] Start training from score 0.000466\n",
            "\n",
            "LightGBM Model Evaluation:\n",
            "Accuracy: 0.9114631873252563\n",
            "Classification Report:\n",
            "              precision    recall  f1-score   support\n",
            "\n",
            "           0       0.93      0.89      0.91       537\n",
            "           1       0.89      0.93      0.91       536\n",
            "\n",
            "    accuracy                           0.91      1073\n",
            "   macro avg       0.91      0.91      0.91      1073\n",
            "weighted avg       0.91      0.91      0.91      1073\n",
            "\n"
          ]
        },
        {
          "output_type": "display_data",
          "data": {
            "text/plain": [
              "<Figure size 800x600 with 2 Axes>"
            ],
            "image/png": "[encoded data removed]"
          },
          "metadata": {}
        }
      ]
    },
    {
      "cell_type": "code",
      "source": [
        "# prompt: Ensemble with all 5 models\n",
        "\n",
        "import matplotlib.pyplot as plt\n",
        "# Create the ensemble model using VotingClassifier\n",
        "ensemble_model = VotingClassifier(estimators=[\n",
        "    ('svm', svm_model),\n",
        "    ('log_reg', log_reg_model),\n",
        "    ('nb', nb_model),\n",
        "    ('xgb', xgb_model),\n",
        "    ('lgb', lgb_model)\n",
        "], voting='hard') # 'hard' for majority voting\n",
        "\n",
        "# Train the ensemble model\n",
        "ensemble_model.fit(X_train, y_train)\n",
        "\n",
        "# Make predictions with the ensemble model\n",
        "y_pred_ensemble = ensemble_model.predict(X_test)\n",
        "\n",
        "# Evaluate the ensemble model\n",
        "accuracy_ensemble = accuracy_score(y_test, y_pred_ensemble)\n",
        "report_ensemble = classification_report(y_test, y_pred_ensemble)\n",
        "conf_matrix_ensemble = confusion_matrix(y_test, y_pred_ensemble)\n",
        "\n",
        "# Print evaluation metrics for the ensemble model\n",
        "print(\"\\nEnsemble Model Evaluation:\")\n",
        "print(f\"Accuracy: {accuracy_ensemble}\")\n",
        "print(\"Classification Report:\")\n",
        "print(report_ensemble)\n",
        "\n",
        "# Plot confusion matrix for the ensemble model\n",
        "plt.figure(figsize=(8, 6))\n",
        "sns.heatmap(conf_matrix_ensemble, annot=True, fmt=\"d\", cmap=\"Blues\", xticklabels=['Fake', 'Real'], yticklabels=['Fake', 'Real'])\n",
        "plt.title(\"Ensemble Model Confusion Matrix\")\n",
        "plt.xlabel(\"Predicted Label\")\n",
        "plt.ylabel(\"True Label\")\n",
        "plt.show()"
      ],
      "metadata": {
        "colab": {
          "base_uri": "https://localhost:8080/",
          "height": 911
        },
        "id": "aR_ug6d2jjNV",
        "outputId": "05917d28-5923-4a4e-ef64-098c71979be9"
      },
      "execution_count": null,
      "outputs": [
        {
          "output_type": "stream",
          "name": "stdout",
          "text": [
            "[LightGBM] [Info] Number of positive: 2146, number of negative: 2145\n",
            "[LightGBM] [Info] Auto-choosing col-wise multi-threading, the overhead of testing was 0.104717 seconds.\n",
            "You can set `force_col_wise=true` to remove the overhead.\n",
            "[LightGBM] [Info] Total Bins 99750\n",
            "[LightGBM] [Info] Number of data points in the train set: 4291, number of used features: 1650\n",
            "[LightGBM] [Info] [binary:BoostFromScore]: pavg=0.500117 -> initscore=0.000466\n",
            "[LightGBM] [Info] Start training from score 0.000466\n",
            "\n",
            "Ensemble Model Evaluation:\n",
            "Accuracy: 0.9133271202236719\n",
            "Classification Report:\n",
            "              precision    recall  f1-score   support\n",
            "\n",
            "           0       0.93      0.90      0.91       537\n",
            "           1       0.90      0.93      0.91       536\n",
            "\n",
            "    accuracy                           0.91      1073\n",
            "   macro avg       0.91      0.91      0.91      1073\n",
            "weighted avg       0.91      0.91      0.91      1073\n",
            "\n"
          ]
        },
        {
          "output_type": "display_data",
          "data": {
            "text/plain": [
              "<Figure size 800x600 with 2 Axes>"
            ],
            "image/png": "[encoded data removed]"
          },
          "metadata": {}
        }
      ]
    },
    {
      "cell_type": "code",
      "source": [
        "# prompt: Ensemble with best 3 (assumed LightGBM, XGBoost, Naive Bayes)\n",
        "\n",
        "import matplotlib.pyplot as plt\n",
        "# Create the ensemble model using VotingClassifier with the top 3 models (assuming LightGBM, XGBoost, Naive Bayes from previous output/task description)\n",
        "ensemble_model_top3 = VotingClassifier(estimators=[\n",
        "    ('lgb', lgb_model),\n",
        "    ('xgb', xgb_model),\n",
        "    ('nb', nb_model)\n",
        "], voting='hard') # 'hard' for majority voting\n",
        "\n",
        "# Train the top 3 ensemble model\n",
        "ensemble_model_top3.fit(X_train, y_train)\n",
        "\n",
        "# Make predictions with the top 3 ensemble model\n",
        "y_pred_ensemble_top3 = ensemble_model_top3.predict(X_test)\n",
        "\n",
        "# Evaluate the top 3 ensemble model\n",
        "accuracy_ensemble_top3 = accuracy_score(y_test, y_pred_ensemble_top3)\n",
        "report_ensemble_top3 = classification_report(y_test, y_pred_ensemble_top3)\n",
        "conf_matrix_ensemble_top3 = confusion_matrix(y_test, y_pred_ensemble_top3)\n",
        "\n",
        "# Print evaluation metrics for the top 3 ensemble model\n",
        "print(\"\\nTop 3 Ensemble Model Evaluation (LightGBM, XGBoost, Naive Bayes):\")\n",
        "print(f\"Accuracy: {accuracy_ensemble_top3}\")\n",
        "print(\"Classification Report:\")\n",
        "print(report_ensemble_top3)\n",
        "\n",
        "# Plot confusion matrix for the top 3 ensemble model\n",
        "plt.figure(figsize=(8, 6))\n",
        "sns.heatmap(conf_matrix_ensemble_top3, annot=True, fmt=\"d\", cmap=\"Blues\", xticklabels=['Fake', 'Real'], yticklabels=['Fake', 'Real'])\n",
        "plt.title(\"Top 3 Ensemble Model Confusion Matrix\")\n",
        "plt.xlabel(\"Predicted Label\")\n",
        "plt.ylabel(\"True Label\")\n",
        "plt.show()"
      ],
      "metadata": {
        "colab": {
          "base_uri": "https://localhost:8080/",
          "height": 928
        },
        "id": "_M8NweiYjwxc",
        "outputId": "ed166f19-7f98-4adf-9258-ce7185eee24d"
      },
      "execution_count": null,
      "outputs": [
        {
          "output_type": "stream",
          "name": "stdout",
          "text": [
            "[LightGBM] [Info] Number of positive: 2146, number of negative: 2145\n",
            "[LightGBM] [Info] Auto-choosing row-wise multi-threading, the overhead of testing was 0.129838 seconds.\n",
            "You can set `force_row_wise=true` to remove the overhead.\n",
            "And if memory is not enough, you can set `force_col_wise=true`.\n",
            "[LightGBM] [Info] Total Bins 99750\n",
            "[LightGBM] [Info] Number of data points in the train set: 4291, number of used features: 1650\n",
            "[LightGBM] [Info] [binary:BoostFromScore]: pavg=0.500117 -> initscore=0.000466\n",
            "[LightGBM] [Info] Start training from score 0.000466\n",
            "\n",
            "Top 3 Ensemble Model Evaluation (LightGBM, XGBoost, Naive Bayes):\n",
            "Accuracy: 0.918918918918919\n",
            "Classification Report:\n",
            "              precision    recall  f1-score   support\n",
            "\n",
            "           0       0.94      0.90      0.92       537\n",
            "           1       0.90      0.94      0.92       536\n",
            "\n",
            "    accuracy                           0.92      1073\n",
            "   macro avg       0.92      0.92      0.92      1073\n",
            "weighted avg       0.92      0.92      0.92      1073\n",
            "\n"
          ]
        },
        {
          "output_type": "display_data",
          "data": {
            "text/plain": [
              "<Figure size 800x600 with 2 Axes>"
            ],
            "image/png": "[encoded data removed]"
          },
          "metadata": {}
        }
      ]
    },
    {
      "cell_type": "code",
      "source": [
        "# prompt: Create a complete Keras LSTM-based fake news detection model for Bangla text in Colab. Use Tokenizer and pad_sequences for text preprocessing, build a Sequential model with Embedding and LSTM layers, and evaluate it using accuracy. Assume the All_df  has 'text' and 'label' columns.\n",
        "\n",
        "import matplotlib.pyplot as plt\n",
        "from tensorflow.keras.preprocessing.text import Tokenizer\n",
        "from tensorflow.keras.preprocessing.sequence import pad_sequences\n",
        "from tensorflow.keras.models import Sequential\n",
        "from tensorflow.keras.layers import Embedding, LSTM, Dense, Dropout\n",
        "\n",
        "# Assuming All_df is already loaded and contains 'text' and 'Label' columns\n",
        "# Split data into training and testing sets\n",
        "X_train_lstm, X_test_lstm, y_train_lstm, y_test_lstm = train_test_split(All_df['text'], All_df['Label'], test_size=0.2, random_state=42, stratify=All_df['Label'])\n",
        "\n",
        "# Define parameters for text processing\n",
        "vocab_size = 10000  # Maximum number of words to keep\n",
        "embedding_dim = 100 # Dimension of the embedding vector\n",
        "max_len = 128       # Maximum length of sequences\n",
        "\n",
        "# Initialize Tokenizer\n",
        "tokenizer = Tokenizer(num_words=vocab_size, oov_token=\"<OOV>\")\n",
        "\n",
        "# Fit tokenizer on training text data\n",
        "tokenizer.fit_on_texts(X_train_lstm)\n",
        "\n",
        "# Convert text to sequences\n",
        "train_sequences = tokenizer.texts_to_sequences(X_train_lstm)\n",
        "test_sequences = tokenizer.texts_to_sequences(X_test_lstm)\n",
        "\n",
        "# Pad sequences\n",
        "train_padded = pad_sequences(train_sequences, maxlen=max_len, padding='post', truncating='post')\n",
        "test_padded = pad_sequences(test_sequences, maxlen=max_len, padding='post', truncating='post')\n",
        "\n",
        "# Build the LSTM model\n",
        "model = Sequential([\n",
        "    Embedding(vocab_size, embedding_dim, input_length=max_len),\n",
        "    LSTM(128, return_sequences=True),\n",
        "    Dropout(0.2),\n",
        "    LSTM(64),\n",
        "    Dropout(0.2),\n",
        "    Dense(64, activation='relu'),\n",
        "    Dropout(0.2),\n",
        "    Dense(1, activation='sigmoid')  # Use sigmoid for binary classification\n",
        "])\n",
        "\n",
        "# Compile the model\n",
        "model.compile(loss='binary_crossentropy', optimizer='adam', metrics=['accuracy'])\n",
        "\n",
        "# Print model summary\n",
        "model.summary()\n",
        "\n",
        "# Train the model\n",
        "epochs = 10  # You can adjust the number of epochs\n",
        "batch_size = 32 # You can adjust the batch size\n",
        "\n",
        "history = model.fit(train_padded, y_train_lstm, epochs=epochs, validation_split=0.2, batch_size=batch_size, verbose=1)\n",
        "\n",
        "# Evaluate the model on the test set\n",
        "loss, accuracy = model.evaluate(test_padded, y_test_lstm, verbose=0)\n",
        "print(f\"\\nLSTM Model Accuracy: {accuracy}\")\n",
        "\n",
        "# Get predictions\n",
        "y_pred_lstm_proba = model.predict(test_padded)\n",
        "y_pred_lstm = (y_pred_lstm_proba > 0.5).astype(int) # Convert probabilities to binary predictions\n",
        "\n",
        "# Print classification report\n",
        "print(\"\\nLSTM Classification Report:\")\n",
        "print(classification_report(y_test_lstm, y_pred_lstm, target_names=['Fake', 'Real']))\n",
        "\n",
        "# Plot confusion matrix\n",
        "conf_matrix_lstm = confusion_matrix(y_test_lstm, y_pred_lstm)\n",
        "plt.figure(figsize=(8, 6))\n",
        "sns.heatmap(conf_matrix_lstm, annot=True, fmt=\"d\", cmap=\"Blues\", xticklabels=['Fake', 'Real'], yticklabels=['Fake', 'Real'])\n",
        "plt.title(\"LSTM Confusion Matrix\")\n",
        "plt.xlabel(\"Predicted Label\")\n",
        "plt.ylabel(\"True Label\")\n",
        "plt.show()\n",
        "\n",
        "# Plot training history (accuracy)\n",
        "plt.figure(figsize=(10, 6))\n",
        "plt.plot(history.history['accuracy'], label='Training Accuracy')\n",
        "plt.plot(history.history['val_accuracy'], label='Validation Accuracy')\n",
        "plt.title('LSTM Model Accuracy over Epochs')\n",
        "plt.xlabel('Epoch')\n",
        "plt.ylabel('Accuracy')\n",
        "plt.legend()\n",
        "plt.grid(True)\n",
        "plt.show()\n",
        "\n",
        "# Plot training history (loss)\n",
        "plt.figure(figsize=(10, 6))\n",
        "plt.plot(history.history['loss'], label='Training Loss')\n",
        "plt.plot(history.history['val_loss'], label='Validation Loss')\n",
        "plt.title('LSTM Model Loss over Epochs')\n",
        "plt.xlabel('Epoch')\n",
        "plt.ylabel('Loss')\n",
        "plt.legend()\n",
        "plt.grid(True)\n",
        "plt.show()\n"
      ],
      "metadata": {
        "colab": {
          "base_uri": "https://localhost:8080/",
          "height": 1000
        },
        "id": "6Od45KdZAhGY",
        "outputId": "587d1051-98a2-44e2-ea98-25d66e685bcf"
      },
      "execution_count": null,
      "outputs": [
        {
          "output_type": "stream",
          "name": "stderr",
          "text": [
            "/usr/local/lib/python3.11/dist-packages/keras/src/layers/core/embedding.py:90: UserWarning: Argument `input_length` is deprecated. Just remove it.\n",
            "  warnings.warn(\n"
          ]
        },
        {
          "output_type": "display_data",
          "data": {
            "text/plain": [
              "\u001b[1mModel: \"sequential\"\u001b[0m\n"
            ],
            "text/html": [
              "<pre style=\"white-space:pre;overflow-x:auto;line-height:normal;font-family:Menlo,'DejaVu Sans Mono',consolas,'Courier New',monospace\"><span style=\"font-weight: bold\">Model: \"sequential\"</span>\n",
              "</pre>\n"
            ]
          },
          "metadata": {}
        },
        {
          "output_type": "display_data",
          "data": {
            "text/plain": [
              "┏━━━━━━━━━━━━━━━━━━━━━━━━━━━━━━━━━┳━━━━━━━━━━━━━━━━━━━━━━━━┳━━━━━━━━━━━━━━━┓\n",
              "┃\u001b[1m \u001b[0m\u001b[1mLayer (type)                   \u001b[0m\u001b[1m \u001b[0m┃\u001b[1m \u001b[0m\u001b[1mOutput Shape          \u001b[0m\u001b[1m \u001b[0m┃\u001b[1m \u001b[0m\u001b[1m      Param #\u001b[0m\u001b[1m \u001b[0m┃\n",
              "┡━━━━━━━━━━━━━━━━━━━━━━━━━━━━━━━━━╇━━━━━━━━━━━━━━━━━━━━━━━━╇━━━━━━━━━━━━━━━┩\n",
              "│ embedding (\u001b[38;5;33mEmbedding\u001b[0m)           │ ?                      │   \u001b[38;5;34m0\u001b[0m (unbuilt) │\n",
              "├─────────────────────────────────┼────────────────────────┼───────────────┤\n",
              "│ lstm (\u001b[38;5;33mLSTM\u001b[0m)                     │ ?                      │   \u001b[38;5;34m0\u001b[0m (unbuilt) │\n",
              "├─────────────────────────────────┼────────────────────────┼───────────────┤\n",
              "│ dropout (\u001b[38;5;33mDropout\u001b[0m)               │ ?                      │             \u001b[38;5;34m0\u001b[0m │\n",
              "├─────────────────────────────────┼────────────────────────┼───────────────┤\n",
              "│ lstm_1 (\u001b[38;5;33mLSTM\u001b[0m)                   │ ?                      │   \u001b[38;5;34m0\u001b[0m (unbuilt) │\n",
              "├─────────────────────────────────┼────────────────────────┼───────────────┤\n",
              "│ dropout_1 (\u001b[38;5;33mDropout\u001b[0m)             │ ?                      │             \u001b[38;5;34m0\u001b[0m │\n",
              "├─────────────────────────────────┼────────────────────────┼───────────────┤\n",
              "│ dense (\u001b[38;5;33mDense\u001b[0m)                   │ ?                      │   \u001b[38;5;34m0\u001b[0m (unbuilt) │\n",
              "├─────────────────────────────────┼────────────────────────┼───────────────┤\n",
              "│ dropout_2 (\u001b[38;5;33mDropout\u001b[0m)             │ ?                      │             \u001b[38;5;34m0\u001b[0m │\n",
              "├─────────────────────────────────┼────────────────────────┼───────────────┤\n",
              "│ dense_1 (\u001b[38;5;33mDense\u001b[0m)                 │ ?                      │   \u001b[38;5;34m0\u001b[0m (unbuilt) │\n",
              "└─────────────────────────────────┴────────────────────────┴───────────────┘\n"
            ],
            "text/html": [
              "<pre style=\"white-space:pre;overflow-x:auto;line-height:normal;font-family:Menlo,'DejaVu Sans Mono',consolas,'Courier New',monospace\">┏━━━━━━━━━━━━━━━━━━━━━━━━━━━━━━━━━┳━━━━━━━━━━━━━━━━━━━━━━━━┳━━━━━━━━━━━━━━━┓\n",
              "┃<span style=\"font-weight: bold\"> Layer (type)                    </span>┃<span style=\"font-weight: bold\"> Output Shape           </span>┃<span style=\"font-weight: bold\">       Param # </span>┃\n",
              "┡━━━━━━━━━━━━━━━━━━━━━━━━━━━━━━━━━╇━━━━━━━━━━━━━━━━━━━━━━━━╇━━━━━━━━━━━━━━━┩\n",
              "│ embedding (<span style=\"color: #0087ff; text-decoration-color: #0087ff\">Embedding</span>)           │ ?                      │   <span style=\"color: #00af00; text-decoration-color: #00af00\">0</span> (unbuilt) │\n",
              "├─────────────────────────────────┼────────────────────────┼───────────────┤\n",
              "│ lstm (<span style=\"color: #0087ff; text-decoration-color: #0087ff\">LSTM</span>)                     │ ?                      │   <span style=\"color: #00af00; text-decoration-color: #00af00\">0</span> (unbuilt) │\n",
              "├─────────────────────────────────┼────────────────────────┼───────────────┤\n",
              "│ dropout (<span style=\"color: #0087ff; text-decoration-color: #0087ff\">Dropout</span>)               │ ?                      │             <span style=\"color: #00af00; text-decoration-color: #00af00\">0</span> │\n",
              "├─────────────────────────────────┼────────────────────────┼───────────────┤\n",
              "│ lstm_1 (<span style=\"color: #0087ff; text-decoration-color: #0087ff\">LSTM</span>)                   │ ?                      │   <span style=\"color: #00af00; text-decoration-color: #00af00\">0</span> (unbuilt) │\n",
              "├─────────────────────────────────┼────────────────────────┼───────────────┤\n",
              "│ dropout_1 (<span style=\"color: #0087ff; text-decoration-color: #0087ff\">Dropout</span>)             │ ?                      │             <span style=\"color: #00af00; text-decoration-color: #00af00\">0</span> │\n",
              "├─────────────────────────────────┼────────────────────────┼───────────────┤\n",
              "│ dense (<span style=\"color: #0087ff; text-decoration-color: #0087ff\">Dense</span>)                   │ ?                      │   <span style=\"color: #00af00; text-decoration-color: #00af00\">0</span> (unbuilt) │\n",
              "├─────────────────────────────────┼────────────────────────┼───────────────┤\n",
              "│ dropout_2 (<span style=\"color: #0087ff; text-decoration-color: #0087ff\">Dropout</span>)             │ ?                      │             <span style=\"color: #00af00; text-decoration-color: #00af00\">0</span> │\n",
              "├─────────────────────────────────┼────────────────────────┼───────────────┤\n",
              "│ dense_1 (<span style=\"color: #0087ff; text-decoration-color: #0087ff\">Dense</span>)                 │ ?                      │   <span style=\"color: #00af00; text-decoration-color: #00af00\">0</span> (unbuilt) │\n",
              "└─────────────────────────────────┴────────────────────────┴───────────────┘\n",
              "</pre>\n"
            ]
          },
          "metadata": {}
        },
        {
          "output_type": "display_data",
          "data": {
            "text/plain": [
              "\u001b[1m Total params: \u001b[0m\u001b[38;5;34m0\u001b[0m (0.00 B)\n"
            ],
            "text/html": [
              "<pre style=\"white-space:pre;overflow-x:auto;line-height:normal;font-family:Menlo,'DejaVu Sans Mono',consolas,'Courier New',monospace\"><span style=\"font-weight: bold\"> Total params: </span><span style=\"color: #00af00; text-decoration-color: #00af00\">0</span> (0.00 B)\n",
              "</pre>\n"
            ]
          },
          "metadata": {}
        },
        {
          "output_type": "display_data",
          "data": {
            "text/plain": [
              "\u001b[1m Trainable params: \u001b[0m\u001b[38;5;34m0\u001b[0m (0.00 B)\n"
            ],
            "text/html": [
              "<pre style=\"white-space:pre;overflow-x:auto;line-height:normal;font-family:Menlo,'DejaVu Sans Mono',consolas,'Courier New',monospace\"><span style=\"font-weight: bold\"> Trainable params: </span><span style=\"color: #00af00; text-decoration-color: #00af00\">0</span> (0.00 B)\n",
              "</pre>\n"
            ]
          },
          "metadata": {}
        },
        {
          "output_type": "display_data",
          "data": {
            "text/plain": [
              "\u001b[1m Non-trainable params: \u001b[0m\u001b[38;5;34m0\u001b[0m (0.00 B)\n"
            ],
            "text/html": [
              "<pre style=\"white-space:pre;overflow-x:auto;line-height:normal;font-family:Menlo,'DejaVu Sans Mono',consolas,'Courier New',monospace\"><span style=\"font-weight: bold\"> Non-trainable params: </span><span style=\"color: #00af00; text-decoration-color: #00af00\">0</span> (0.00 B)\n",
              "</pre>\n"
            ]
          },
          "metadata": {}
        },
        {
          "output_type": "stream",
          "name": "stdout",
          "text": [
            "Epoch 1/10\n",
            "\u001b[1m108/108\u001b[0m \u001b[32m━━━━━━━━━━━━━━━━━━━━\u001b[0m\u001b[37m\u001b[0m \u001b[1m47s\u001b[0m 379ms/step - accuracy: 0.6690 - loss: 0.5957 - val_accuracy: 0.8603 - val_loss: 0.3632\n",
            "Epoch 2/10\n",
            "\u001b[1m108/108\u001b[0m \u001b[32m━━━━━━━━━━━━━━━━━━━━\u001b[0m\u001b[37m\u001b[0m \u001b[1m82s\u001b[0m 379ms/step - accuracy: 0.8972 - loss: 0.2852 - val_accuracy: 0.8289 - val_loss: 0.4391\n",
            "Epoch 3/10\n",
            "\u001b[1m108/108\u001b[0m \u001b[32m━━━━━━━━━━━━━━━━━━━━\u001b[0m\u001b[37m\u001b[0m \u001b[1m82s\u001b[0m 382ms/step - accuracy: 0.8601 - loss: 0.3861 - val_accuracy: 0.8079 - val_loss: 0.4560\n",
            "Epoch 4/10\n",
            "\u001b[1m108/108\u001b[0m \u001b[32m━━━━━━━━━━━━━━━━━━━━\u001b[0m\u001b[37m\u001b[0m \u001b[1m40s\u001b[0m 373ms/step - accuracy: 0.7921 - loss: 0.4561 - val_accuracy: 0.8487 - val_loss: 0.5175\n",
            "Epoch 5/10\n",
            "\u001b[1m108/108\u001b[0m \u001b[32m━━━━━━━━━━━━━━━━━━━━\u001b[0m\u001b[37m\u001b[0m \u001b[1m40s\u001b[0m 371ms/step - accuracy: 0.5824 - loss: 0.7519 - val_accuracy: 0.8231 - val_loss: 0.4326\n",
            "Epoch 6/10\n",
            "\u001b[1m108/108\u001b[0m \u001b[32m━━━━━━━━━━━━━━━━━━━━\u001b[0m\u001b[37m\u001b[0m \u001b[1m42s\u001b[0m 376ms/step - accuracy: 0.7757 - loss: 0.4963 - val_accuracy: 0.8824 - val_loss: 0.3266\n",
            "Epoch 7/10\n",
            "\u001b[1m108/108\u001b[0m \u001b[32m━━━━━━━━━━━━━━━━━━━━\u001b[0m\u001b[37m\u001b[0m \u001b[1m42s\u001b[0m 389ms/step - accuracy: 0.9086 - loss: 0.2540 - val_accuracy: 0.8754 - val_loss: 0.3209\n",
            "Epoch 8/10\n",
            "\u001b[1m108/108\u001b[0m \u001b[32m━━━━━━━━━━━━━━━━━━━━\u001b[0m\u001b[37m\u001b[0m \u001b[1m83s\u001b[0m 395ms/step - accuracy: 0.9503 - loss: 0.1557 - val_accuracy: 0.9069 - val_loss: 0.2998\n",
            "Epoch 9/10\n",
            "\u001b[1m108/108\u001b[0m \u001b[32m━━━━━━━━━━━━━━━━━━━━\u001b[0m\u001b[37m\u001b[0m \u001b[1m84s\u001b[0m 417ms/step - accuracy: 0.9749 - loss: 0.0783 - val_accuracy: 0.8871 - val_loss: 0.4003\n",
            "Epoch 10/10\n",
            "\u001b[1m108/108\u001b[0m \u001b[32m━━━━━━━━━━━━━━━━━━━━\u001b[0m\u001b[37m\u001b[0m \u001b[1m77s\u001b[0m 373ms/step - accuracy: 0.9899 - loss: 0.0446 - val_accuracy: 0.9022 - val_loss: 0.3933\n",
            "\n",
            "LSTM Model Accuracy: 0.8918918967247009\n",
            "\u001b[1m34/34\u001b[0m \u001b[32m━━━━━━━━━━━━━━━━━━━━\u001b[0m\u001b[37m\u001b[0m \u001b[1m7s\u001b[0m 195ms/step\n",
            "\n",
            "LSTM Classification Report:\n",
            "              precision    recall  f1-score   support\n",
            "\n",
            "        Fake       0.94      0.84      0.89       537\n",
            "        Real       0.85      0.94      0.90       536\n",
            "\n",
            "    accuracy                           0.89      1073\n",
            "   macro avg       0.90      0.89      0.89      1073\n",
            "weighted avg       0.90      0.89      0.89      1073\n",
            "\n"
          ]
        },
        {
          "output_type": "display_data",
          "data": {
            "text/plain": [
              "<Figure size 800x600 with 2 Axes>"
            ],
            "image/png": "[encoded data removed]"
          },
          "metadata": {}
        },
        {
          "output_type": "display_data",
          "data": {
            "text/plain": [
              "<Figure size 1000x600 with 1 Axes>"
            ],
            "image/png": "[encoded data removed]"
          },
          "metadata": {}
        },
        {
          "output_type": "display_data",
          "data": {
            "text/plain": [
              "<Figure size 1000x600 with 1 Axes>"
            ],
            "image/png": "[encoded data removed]"
          },
          "metadata": {}
        }
      ]
    },
    {
      "cell_type": "code",
      "source": [
        "# prompt: Generate a complete Colab-compatible pipeline using HuggingFace Transformers to classify Bangla fake news using the model \"sagorsarker/bangla-bert-base\". The dataset should be a CSV file with columns 'text' and 'label'. Include tokenization, model loading, training using Trainer API, and evaluation using accuracy and classification report.\n",
        "\n",
        "import numpy as np\n",
        "!pip install -q transformers datasets accelerate\n",
        "import pandas as pd\n",
        "from sklearn.model_selection import train_test_split\n",
        "from datasets import Dataset\n",
        "from transformers import AutoTokenizer, AutoModelForSequenceClassification, TrainingArguments, Trainer\n",
        "from sklearn.metrics import accuracy_score, classification_report\n",
        "\n",
        "# Assuming All_df with 'text' and 'Label' columns is available from previous code\n",
        "# Create a new DataFrame with just 'text' and 'Label' for the transformer pipeline\n",
        "df_transformer = All_df[['text', 'Label']].copy()\n",
        "df_transformer.rename(columns={'Label': 'labels'}, inplace=True) # Rename 'Label' to 'labels'\n",
        "\n",
        "# Split data into train, validation, and test sets\n",
        "train_df_transformer, test_df_transformer = train_test_split(df_transformer, test_size=0.2, random_state=42, stratify=df_transformer['labels'])\n",
        "train_df_transformer, val_df_transformer = train_test_split(train_df_transformer, test_size=0.2, random_state=42, stratify=train_df_transformer['labels']) # Corrected typo here\n",
        "\n",
        "# Convert pandas DataFrames to Hugging Face Datasets\n",
        "train_dataset = Dataset.from_pandas(train_df_transformer)\n",
        "val_dataset = Dataset.from_pandas(val_df_transformer)\n",
        "test_dataset = Dataset.from_pandas(test_df_transformer)\n",
        "\n",
        "# Load the tokenizer\n",
        "model_name = \"sagorsarker/bangla-bert-base\"\n",
        "tokenizer = AutoTokenizer.from_pretrained(model_name)\n",
        "\n",
        "# Tokenization function\n",
        "def tokenize_function(examples):\n",
        "    return tokenizer(examples[\"text\"], padding=\"max_length\", truncation=True, max_length=128) # Added max_length\n",
        "\n",
        "# Apply tokenization\n",
        "tokenized_train_dataset = train_dataset.map(tokenize_function, batched=True)\n",
        "tokenized_val_dataset = val_dataset.map(tokenize_function, batched=True)\n",
        "tokenized_test_dataset = test_dataset.map(tokenize_function, batched=True)\n",
        "\n",
        "# Load the model\n",
        "model = AutoModelForSequenceClassification.from_pretrained(model_name, num_labels=2) # Assuming 2 classes: 0 and 1\n",
        "\n",
        "# Define training arguments\n",
        "training_args = TrainingArguments(\n",
        "    output_dir=\"./results\",\n",
        "    eval_strategy=\"epoch\",\n",
        "    learning_rate=2e-5,\n",
        "    per_device_train_batch_size=8,\n",
        "    per_device_eval_batch_size=8,\n",
        "    num_train_epochs=3,\n",
        "    weight_decay=0.01,\n",
        "    save_total_limit=2, # Saves latest 2 checkpoints\n",
        "    save_strategy=\"epoch\",\n",
        "    logging_dir=\"./logs\",\n",
        "    logging_steps=10,\n",
        "    load_best_model_at_end=True,\n",
        "    metric_for_best_model=\"eval_accuracy\", # Ensure this matches the output of compute_metrics\n",
        ")\n",
        "\n",
        "# Define metrics calculation function\n",
        "def compute_metrics(eval_pred):\n",
        "    logits, labels = eval_pred\n",
        "    predictions = np.argmax(logits, axis=-1)\n",
        "    accuracy = accuracy_score(labels, predictions)\n",
        "    return {\"eval_accuracy\": accuracy} # Changed key to match metric_for_best_model\n",
        "\n",
        "# Initialize the Trainer\n",
        "trainer = Trainer(\n",
        "    model=model,\n",
        "    args=training_args,\n",
        "    train_dataset=tokenized_train_dataset,\n",
        "    eval_dataset=tokenized_val_dataset,\n",
        "    compute_metrics=compute_metrics,\n",
        ")\n",
        "\n",
        "# Train the model\n",
        "trainer.train()\n",
        "\n",
        "# Evaluate the model on the test set\n",
        "eval_results = trainer.evaluate(tokenized_test_dataset)\n",
        "print(f\"Test Accuracy: {eval_results['eval_accuracy']}\")\n",
        "\n",
        "# Get predictions for classification report\n",
        "predictions, labels, _ = trainer.predict(tokenized_test_dataset)\n",
        "predictions = np.argmax(predictions, axis=1)\n",
        "\n",
        "# Print classification report\n",
        "print(\"Classification Report:\")\n",
        "print(classification_report(labels, predictions, target_names=['Fake', 'Real']))"
      ],
      "metadata": {
        "colab": {
          "base_uri": "https://localhost:8080/",
          "height": 796,
          "referenced_widgets": [
            "5619da7aaf564c45bf9f3d097c2730ef",
            "60bf559d367948feb46fd02d3e15653c",
            "90119e8004ab43c4a131065fff17a587",
            "69a81e351b034ec7be099e1315f2ceae",
            "fe3462fdb84f426d8565fb5f29ac5438",
            "4c69db757d434143bc13970189377d01",
            "9a01d49c56434238bc9d3fe45d59eec0",
            "77ecea198b2748ba910efad7755a38d1",
            "df07c9c5727f46c7bac1280bcee8e797",
            "e9f898dc179847698fb07f44878cbe07",
            "1a2ab4d826f44a02bbb6768f958e7b82",
            "41efac318a784f41bc4da92628014c3d",
            "4df7338efaa8430699623a670fe70e9f",
            "c0c00d1fb2b04241aa128448f93ab9b8",
            "e947ddcb481b4b6fba5bfa00a118706e",
            "ebf528fdfd1a47cea2cc826e7553df69",
            "811cccdc65014f2f96b4c37db7ba388d",
            "46a65e417c734bbda30a1fc9c863e327",
            "d62229b21cff4524b700f78490f5c22c",
            "cd1c9a0f1bce4a2b93deac680659464f",
            "7680adf940d548e28a7cb1b0e36ccf30",
            "54561f5112604a37a1199f89ca6f057d",
            "01fa1aba39f44874a392ede722570260",
            "2161464a27a64fbeacc5edff48495f6f",
            "3d362400819944c2a343753a53c0c327",
            "b12412bde96e46d89e24de059dbc0f77",
            "bad78703ae1349bbb0c29868c88fbd1d",
            "4291e802dd294511992250a87aa2dc41",
            "7d943dc880ee417bad4a0a789a935623",
            "b8f9fc480c4a4ab8bf87b52c22b58318",
            "5bb515ccd4e747b4a639489f20338635",
            "a8b5f7d0e68a4e95999307d05cb0b391",
            "c4cd6a76192d4969b48ff047dd10c3d4"
          ]
        },
        "id": "0rJ91Y4O30Hy",
        "outputId": "813104f9-f372-4cb0-c153-7c0205699ea3"
      },
      "execution_count": null,
      "outputs": [
        {
          "data": {
            "application/vnd.jupyter.widget-view+json": {
              "model_id": "5619da7aaf564c45bf9f3d097c2730ef",
              "version_major": 2,
              "version_minor": 0
            },
            "text/plain": [
              "Map:   0%|          | 0/3432 [00:00<?, ? examples/s]"
            ]
          },
          "metadata": {},
          "output_type": "display_data"
        },
        {
          "data": {
            "application/vnd.jupyter.widget-view+json": {
              "model_id": "41efac318a784f41bc4da92628014c3d",
              "version_major": 2,
              "version_minor": 0
            },
            "text/plain": [
              "Map:   0%|          | 0/859 [00:00<?, ? examples/s]"
            ]
          },
          "metadata": {},
          "output_type": "display_data"
        },
        {
          "data": {
            "application/vnd.jupyter.widget-view+json": {
              "model_id": "01fa1aba39f44874a392ede722570260",
              "version_major": 2,
              "version_minor": 0
            },
            "text/plain": [
              "Map:   0%|          | 0/1073 [00:00<?, ? examples/s]"
            ]
          },
          "metadata": {},
          "output_type": "display_data"
        },
        {
          "metadata": {
            "tags": null
          },
          "name": "stderr",
          "output_type": "stream",
          "text": [
            "Some weights of BertForSequenceClassification were not initialized from the model checkpoint at sagorsarker/bangla-bert-base and are newly initialized: ['classifier.bias', 'classifier.weight']\n",
            "You should probably TRAIN this model on a down-stream task to be able to use it for predictions and inference.\n"
          ]
        },
        {
          "data": {
            "application/javascript": [
              "\n",
              "        window._wandbApiKey = new Promise((resolve, reject) => {\n",
              "            function loadScript(url) {\n",
              "            return new Promise(function(resolve, reject) {\n",
              "                let newScript = document.createElement(\"script\");\n",
              "                newScript.onerror = reject;\n",
              "                newScript.onload = resolve;\n",
              "                document.body.appendChild(newScript);\n",
              "                newScript.src = url;\n",
              "            });\n",
              "            }\n",
              "            loadScript(\"https://cdn.jsdelivr.net/npm/postmate/build/postmate.min.js\").then(() => {\n",
              "            const iframe = document.createElement('iframe')\n",
              "            iframe.style.cssText = \"width:0;height:0;border:none\"\n",
              "            document.body.appendChild(iframe)\n",
              "            const handshake = new Postmate({\n",
              "                container: iframe,\n",
              "                url: 'https://wandb.ai/authorize'\n",
              "            });\n",
              "            const timeout = setTimeout(() => reject(\"Couldn't auto authenticate\"), 5000)\n",
              "            handshake.then(function(child) {\n",
              "                child.on('authorize', data => {\n",
              "                    clearTimeout(timeout)\n",
              "                    resolve(data)\n",
              "                });\n",
              "            });\n",
              "            })\n",
              "        });\n",
              "    "
            ],
            "text/plain": [
              "<IPython.core.display.Javascript object>"
            ]
          },
          "metadata": {},
          "output_type": "display_data"
        },
        {
          "metadata": {
            "tags": null
          },
          "name": "stderr",
          "output_type": "stream",
          "text": [
            "\u001b[34m\u001b[1mwandb\u001b[0m: Logging into wandb.ai. (Learn how to deploy a W&B server locally: https://wandb.me/wandb-server)\n",
            "\u001b[34m\u001b[1mwandb\u001b[0m: You can find your API key in your browser here: https://wandb.ai/authorize?ref=models\n",
            "wandb: Paste an API key from your profile and hit enter:\u001b[34m\u001b[1mwandb\u001b[0m: \u001b[33mWARNING\u001b[0m If you're specifying your api key in code, ensure this code is not shared publicly.\n",
            "\u001b[34m\u001b[1mwandb\u001b[0m: \u001b[33mWARNING\u001b[0m Consider setting the WANDB_API_KEY environment variable, or running `wandb login` from the command line.\n",
            "\u001b[34m\u001b[1mwandb\u001b[0m: No netrc file found, creating one.\n",
            "\u001b[34m\u001b[1mwandb\u001b[0m: Appending key for api.wandb.ai to your netrc file: /root/.netrc\n",
            "\u001b[34m\u001b[1mwandb\u001b[0m: Currently logged in as: \u001b[33mabidur1098\u001b[0m (\u001b[33mabidur1098-bangladesh-university-of-business-and-technology\u001b[0m) to \u001b[32mhttps://api.wandb.ai\u001b[0m. Use \u001b[1m`wandb login --relogin`\u001b[0m to force relogin\n"
          ]
        },
        {
          "data": {
            "text/html": [
              "Tracking run with wandb version 0.21.0"
            ],
            "text/plain": [
              "<IPython.core.display.HTML object>"
            ]
          },
          "metadata": {},
          "output_type": "display_data"
        },
        {
          "data": {
            "text/html": [
              "Run data is saved locally in <code>/content/wandb/run-20250709_174807-1gt9arqh</code>"
            ],
            "text/plain": [
              "<IPython.core.display.HTML object>"
            ]
          },
          "metadata": {},
          "output_type": "display_data"
        },
        {
          "data": {
            "text/html": [
              "Syncing run <strong><a href='https://wandb.ai/abidur1098-bangladesh-university-of-business-and-technology/huggingface/runs/1gt9arqh' target=\"_blank\">./results</a></strong> to <a href='https://wandb.ai/abidur1098-bangladesh-university-of-business-and-technology/huggingface' target=\"_blank\">Weights & Biases</a> (<a href='https://wandb.me/developer-guide' target=\"_blank\">docs</a>)<br>"
            ],
            "text/plain": [
              "<IPython.core.display.HTML object>"
            ]
          },
          "metadata": {},
          "output_type": "display_data"
        },
        {
          "data": {
            "text/html": [
              " View project at <a href='https://wandb.ai/abidur1098-bangladesh-university-of-business-and-technology/huggingface' target=\"_blank\">https://wandb.ai/abidur1098-bangladesh-university-of-business-and-technology/huggingface</a>"
            ],
            "text/plain": [
              "<IPython.core.display.HTML object>"
            ]
          },
          "metadata": {},
          "output_type": "display_data"
        },
        {
          "data": {
            "text/html": [
              " View run at <a href='https://wandb.ai/abidur1098-bangladesh-university-of-business-and-technology/huggingface/runs/1gt9arqh' target=\"_blank\">https://wandb.ai/abidur1098-bangladesh-university-of-business-and-technology/huggingface/runs/1gt9arqh</a>"
            ],
            "text/plain": [
              "<IPython.core.display.HTML object>"
            ]
          },
          "metadata": {},
          "output_type": "display_data"
        },
        {
          "data": {
            "text/html": [
              "\n",
              "    <div>\n",
              "      \n",
              "      <progress value='142' max='1287' style='width:300px; height:20px; vertical-align: middle;'></progress>\n",
              "      [ 142/1287 37:05 < 5:03:21, 0.06 it/s, Epoch 0.33/3]\n",
              "    </div>\n",
              "    <table border=\"1\" class=\"dataframe\">\n",
              "  <thead>\n",
              " <tr style=\"text-align: left;\">\n",
              "      <th>Epoch</th>\n",
              "      <th>Training Loss</th>\n",
              "      <th>Validation Loss</th>\n",
              "    </tr>\n",
              "  </thead>\n",
              "  <tbody>\n",
              "  </tbody>\n",
              "</table><p>"
            ],
            "text/plain": [
              "<IPython.core.display.HTML object>"
            ]
          },
          "metadata": {},
          "output_type": "display_data"
        },
        {
          "output_type": "display_data",
          "data": {
            "text/plain": [
              "<IPython.core.display.HTML object>"
            ],
            "text/html": [
              "\n",
              "    <div>\n",
              "      \n",
              "      <progress value='1287' max='1287' style='width:300px; height:20px; vertical-align: middle;'></progress>\n",
              "      [1287/1287 6:03:15, Epoch 3/3]\n",
              "    </div>\n",
              "    <table border=\"1\" class=\"dataframe\">\n",
              "  <thead>\n",
              " <tr style=\"text-align: left;\">\n",
              "      <th>Epoch</th>\n",
              "      <th>Training Loss</th>\n",
              "      <th>Validation Loss</th>\n",
              "      <th>Accuracy</th>\n",
              "    </tr>\n",
              "  </thead>\n",
              "  <tbody>\n",
              "    <tr>\n",
              "      <td>1</td>\n",
              "      <td>0.476200</td>\n",
              "      <td>0.326295</td>\n",
              "      <td>0.873108</td>\n",
              "    </tr>\n",
              "    <tr>\n",
              "      <td>2</td>\n",
              "      <td>0.225000</td>\n",
              "      <td>0.410590</td>\n",
              "      <td>0.881257</td>\n",
              "    </tr>\n",
              "    <tr>\n",
              "      <td>3</td>\n",
              "      <td>0.074200</td>\n",
              "      <td>0.471385</td>\n",
              "      <td>0.901048</td>\n",
              "    </tr>\n",
              "  </tbody>\n",
              "</table><p>"
            ]
          },
          "metadata": {}
        },
        {
          "output_type": "display_data",
          "data": {
            "text/plain": [
              "<IPython.core.display.HTML object>"
            ],
            "text/html": []
          },
          "metadata": {}
        },
        {
          "output_type": "stream",
          "name": "stdout",
          "text": [
            "Test Accuracy: 0.8825722273998136\n",
            "Classification Report:\n",
            "              precision    recall  f1-score   support\n",
            "\n",
            "        Fake       0.92      0.84      0.88       537\n",
            "        Real       0.85      0.93      0.89       536\n",
            "\n",
            "    accuracy                           0.88      1073\n",
            "   macro avg       0.89      0.88      0.88      1073\n",
            "weighted avg       0.89      0.88      0.88      1073\n",
            "\n"
          ]
        }
      ]
    },
    {
      "cell_type": "code",
      "source": [
        "# prompt: do data vitualization\n",
        "\n",
        "import matplotlib.pyplot as plt\n",
        "# Combine the accuracies of all models\n",
        "model_accuracies = {\n",
        "    'SVM': accuracy_svm,\n",
        "    'Logistic Regression': accuracy_log_reg,\n",
        "    'Naive Bayes': accuracy_nb,\n",
        "    'XGBoost': accuracy_xgb,\n",
        "    'LightGBM': accuracy_lgb,\n",
        "    'Ensemble (All)': accuracy_ensemble,\n",
        "    'Ensemble (Top 3)': accuracy_ensemble_top3,\n",
        "    'LSTM': accuracy, # Using 'accuracy' from LSTM evaluation\n",
        "    'Transformer': eval_results['eval_accuracy'] # Using 'eval_accuracy' from Transformer evaluation\n",
        "}\n",
        "\n",
        "# Sort models by accuracy\n",
        "sorted_models = sorted(model_accuracies.items(), key=lambda item: item[1], reverse=True)\n",
        "\n",
        "# Extract model names and accuracies\n",
        "model_names = [item[0] for item in sorted_models]\n",
        "accuracies = [item[1] for item in sorted_models]\n",
        "\n",
        "# Create a bar plot\n",
        "plt.figure(figsize=(12, 7))\n",
        "sns.barplot(x=accuracies, y=model_names, palette=\"viridis\")\n",
        "plt.xlabel(\"Accuracy\")\n",
        "plt.ylabel(\"Model\")\n",
        "plt.title(\"Comparison of Model Accuracies\")\n",
        "plt.xlim(0, 1.0) # Set x-axis limit to 0-1 for accuracy\n",
        "plt.grid(axis='x', linestyle='--', alpha=0.6)\n",
        "plt.show()"
      ],
      "metadata": {
        "colab": {
          "base_uri": "https://localhost:8080/",
          "height": 641
        },
        "id": "5fLXQPPoreNg",
        "outputId": "b10b8741-d10b-4c80-fd4e-d1cc96a34cdf"
      },
      "execution_count": null,
      "outputs": [
        {
          "output_type": "display_data",
          "data": {
            "text/plain": [
              "<Figure size 1200x700 with 1 Axes>"
            ],
            "image/png": "[encoded data removed]"
          },
          "metadata": {}
        }
      ]
    }
  ],
  "metadata": {
    "colab": {
      "provenance": []
    },
    "kernelspec": {
      "display_name": "Python 3",
      "name": "python3"
    },
    "language_info": {
      "name": "python"
    },
    "widgets": {
      "application/vnd.jupyter.widget-state+json": {
        "5619da7aaf564c45bf9f3d097c2730ef": {
          "model_module": "@jupyter-widgets/controls",
          "model_name": "HBoxModel",
          "model_module_version": "1.5.0",
          "state": {
            "_dom_classes": [],
            "_model_module": "@jupyter-widgets/controls",
            "_model_module_version": "1.5.0",
            "_model_name": "HBoxModel",
            "_view_count": null,
            "_view_module": "@jupyter-widgets/controls",
            "_view_module_version": "1.5.0",
            "_view_name": "HBoxView",
            "box_style": "",
            "children": [
              "IPY_MODEL_60bf559d367948feb46fd02d3e15653c",
              "IPY_MODEL_90119e8004ab43c4a131065fff17a587",
              "IPY_MODEL_69a81e351b034ec7be099e1315f2ceae"
            ],
            "layout": "IPY_MODEL_fe3462fdb84f426d8565fb5f29ac5438"
          }
        },
        "60bf559d367948feb46fd02d3e15653c": {
          "model_module": "@jupyter-widgets/controls",
          "model_name": "HTMLModel",
          "model_module_version": "1.5.0",
          "state": {
            "_dom_classes": [],
            "_model_module": "@jupyter-widgets/controls",
            "_model_module_version": "1.5.0",
            "_model_name": "HTMLModel",
            "_view_count": null,
            "_view_module": "@jupyter-widgets/controls",
            "_view_module_version": "1.5.0",
            "_view_name": "HTMLView",
            "description": "",
            "description_tooltip": null,
            "layout": "IPY_MODEL_4c69db757d434143bc13970189377d01",
            "placeholder": "​",
            "style": "IPY_MODEL_9a01d49c56434238bc9d3fe45d59eec0",
            "value": "Map: 100%"
          }
        },
        "90119e8004ab43c4a131065fff17a587": {
          "model_module": "@jupyter-widgets/controls",
          "model_name": "FloatProgressModel",
          "model_module_version": "1.5.0",
          "state": {
            "_dom_classes": [],
            "_model_module": "@jupyter-widgets/controls",
            "_model_module_version": "1.5.0",
            "_model_name": "FloatProgressModel",
            "_view_count": null,
            "_view_module": "@jupyter-widgets/controls",
            "_view_module_version": "1.5.0",
            "_view_name": "ProgressView",
            "bar_style": "success",
            "description": "",
            "description_tooltip": null,
            "layout": "IPY_MODEL_77ecea198b2748ba910efad7755a38d1",
            "max": 3432,
            "min": 0,
            "orientation": "horizontal",
            "style": "IPY_MODEL_df07c9c5727f46c7bac1280bcee8e797",
            "value": 3432
          }
        },
        "69a81e351b034ec7be099e1315f2ceae": {
          "model_module": "@jupyter-widgets/controls",
          "model_name": "HTMLModel",
          "model_module_version": "1.5.0",
          "state": {
            "_dom_classes": [],
            "_model_module": "@jupyter-widgets/controls",
            "_model_module_version": "1.5.0",
            "_model_name": "HTMLModel",
            "_view_count": null,
            "_view_module": "@jupyter-widgets/controls",
            "_view_module_version": "1.5.0",
            "_view_name": "HTMLView",
            "description": "",
            "description_tooltip": null,
            "layout": "IPY_MODEL_e9f898dc179847698fb07f44878cbe07",
            "placeholder": "​",
            "style": "IPY_MODEL_1a2ab4d826f44a02bbb6768f958e7b82",
            "value": " 3432/3432 [00:22&lt;00:00, 147.58 examples/s]"
          }
        },
        "fe3462fdb84f426d8565fb5f29ac5438": {
          "model_module": "@jupyter-widgets/base",
          "model_name": "LayoutModel",
          "model_module_version": "1.2.0",
          "state": {
            "_model_module": "@jupyter-widgets/base",
            "_model_module_version": "1.2.0",
            "_model_name": "LayoutModel",
            "_view_count": null,
            "_view_module": "@jupyter-widgets/base",
            "_view_module_version": "1.2.0",
            "_view_name": "LayoutView",
            "align_content": null,
            "align_items": null,
            "align_self": null,
            "border": null,
            "bottom": null,
            "display": null,
            "flex": null,
            "flex_flow": null,
            "grid_area": null,
            "grid_auto_columns": null,
            "grid_auto_flow": null,
            "grid_auto_rows": null,
            "grid_column": null,
            "grid_gap": null,
            "grid_row": null,
            "grid_template_areas": null,
            "grid_template_columns": null,
            "grid_template_rows": null,
            "height": null,
            "justify_content": null,
            "justify_items": null,
            "left": null,
            "margin": null,
            "max_height": null,
            "max_width": null,
            "min_height": null,
            "min_width": null,
            "object_fit": null,
            "object_position": null,
            "order": null,
            "overflow": null,
            "overflow_x": null,
            "overflow_y": null,
            "padding": null,
            "right": null,
            "top": null,
            "visibility": null,
            "width": null
          }
        },
        "4c69db757d434143bc13970189377d01": {
          "model_module": "@jupyter-widgets/base",
          "model_name": "LayoutModel",
          "model_module_version": "1.2.0",
          "state": {
            "_model_module": "@jupyter-widgets/base",
            "_model_module_version": "1.2.0",
            "_model_name": "LayoutModel",
            "_view_count": null,
            "_view_module": "@jupyter-widgets/base",
            "_view_module_version": "1.2.0",
            "_view_name": "LayoutView",
            "align_content": null,
            "align_items": null,
            "align_self": null,
            "border": null,
            "bottom": null,
            "display": null,
            "flex": null,
            "flex_flow": null,
            "grid_area": null,
            "grid_auto_columns": null,
            "grid_auto_flow": null,
            "grid_auto_rows": null,
            "grid_column": null,
            "grid_gap": null,
            "grid_row": null,
            "grid_template_areas": null,
            "grid_template_columns": null,
            "grid_template_rows": null,
            "height": null,
            "justify_content": null,
            "justify_items": null,
            "left": null,
            "margin": null,
            "max_height": null,
            "max_width": null,
            "min_height": null,
            "min_width": null,
            "object_fit": null,
            "object_position": null,
            "order": null,
            "overflow": null,
            "overflow_x": null,
            "overflow_y": null,
            "padding": null,
            "right": null,
            "top": null,
            "visibility": null,
            "width": null
          }
        },
        "9a01d49c56434238bc9d3fe45d59eec0": {
          "model_module": "@jupyter-widgets/controls",
          "model_name": "DescriptionStyleModel",
          "model_module_version": "1.5.0",
          "state": {
            "_model_module": "@jupyter-widgets/controls",
            "_model_module_version": "1.5.0",
            "_model_name": "DescriptionStyleModel",
            "_view_count": null,
            "_view_module": "@jupyter-widgets/base",
            "_view_module_version": "1.2.0",
            "_view_name": "StyleView",
            "description_width": ""
          }
        },
        "77ecea198b2748ba910efad7755a38d1": {
          "model_module": "@jupyter-widgets/base",
          "model_name": "LayoutModel",
          "model_module_version": "1.2.0",
          "state": {
            "_model_module": "@jupyter-widgets/base",
            "_model_module_version": "1.2.0",
            "_model_name": "LayoutModel",
            "_view_count": null,
            "_view_module": "@jupyter-widgets/base",
            "_view_module_version": "1.2.0",
            "_view_name": "LayoutView",
            "align_content": null,
            "align_items": null,
            "align_self": null,
            "border": null,
            "bottom": null,
            "display": null,
            "flex": null,
            "flex_flow": null,
            "grid_area": null,
            "grid_auto_columns": null,
            "grid_auto_flow": null,
            "grid_auto_rows": null,
            "grid_column": null,
            "grid_gap": null,
            "grid_row": null,
            "grid_template_areas": null,
            "grid_template_columns": null,
            "grid_template_rows": null,
            "height": null,
            "justify_content": null,
            "justify_items": null,
            "left": null,
            "margin": null,
            "max_height": null,
            "max_width": null,
            "min_height": null,
            "min_width": null,
            "object_fit": null,
            "object_position": null,
            "order": null,
            "overflow": null,
            "overflow_x": null,
            "overflow_y": null,
            "padding": null,
            "right": null,
            "top": null,
            "visibility": null,
            "width": null
          }
        },
        "df07c9c5727f46c7bac1280bcee8e797": {
          "model_module": "@jupyter-widgets/controls",
          "model_name": "ProgressStyleModel",
          "model_module_version": "1.5.0",
          "state": {
            "_model_module": "@jupyter-widgets/controls",
            "_model_module_version": "1.5.0",
            "_model_name": "ProgressStyleModel",
            "_view_count": null,
            "_view_module": "@jupyter-widgets/base",
            "_view_module_version": "1.2.0",
            "_view_name": "StyleView",
            "bar_color": null,
            "description_width": ""
          }
        },
        "e9f898dc179847698fb07f44878cbe07": {
          "model_module": "@jupyter-widgets/base",
          "model_name": "LayoutModel",
          "model_module_version": "1.2.0",
          "state": {
            "_model_module": "@jupyter-widgets/base",
            "_model_module_version": "1.2.0",
            "_model_name": "LayoutModel",
            "_view_count": null,
            "_view_module": "@jupyter-widgets/base",
            "_view_module_version": "1.2.0",
            "_view_name": "LayoutView",
            "align_content": null,
            "align_items": null,
            "align_self": null,
            "border": null,
            "bottom": null,
            "display": null,
            "flex": null,
            "flex_flow": null,
            "grid_area": null,
            "grid_auto_columns": null,
            "grid_auto_flow": null,
            "grid_auto_rows": null,
            "grid_column": null,
            "grid_gap": null,
            "grid_row": null,
            "grid_template_areas": null,
            "grid_template_columns": null,
            "grid_template_rows": null,
            "height": null,
            "justify_content": null,
            "justify_items": null,
            "left": null,
            "margin": null,
            "max_height": null,
            "max_width": null,
            "min_height": null,
            "min_width": null,
            "object_fit": null,
            "object_position": null,
            "order": null,
            "overflow": null,
            "overflow_x": null,
            "overflow_y": null,
            "padding": null,
            "right": null,
            "top": null,
            "visibility": null,
            "width": null
          }
        },
        "1a2ab4d826f44a02bbb6768f958e7b82": {
          "model_module": "@jupyter-widgets/controls",
          "model_name": "DescriptionStyleModel",
          "model_module_version": "1.5.0",
          "state": {
            "_model_module": "@jupyter-widgets/controls",
            "_model_module_version": "1.5.0",
            "_model_name": "DescriptionStyleModel",
            "_view_count": null,
            "_view_module": "@jupyter-widgets/base",
            "_view_module_version": "1.2.0",
            "_view_name": "StyleView",
            "description_width": ""
          }
        },
        "41efac318a784f41bc4da92628014c3d": {
          "model_module": "@jupyter-widgets/controls",
          "model_name": "HBoxModel",
          "model_module_version": "1.5.0",
          "state": {
            "_dom_classes": [],
            "_model_module": "@jupyter-widgets/controls",
            "_model_module_version": "1.5.0",
            "_model_name": "HBoxModel",
            "_view_count": null,
            "_view_module": "@jupyter-widgets/controls",
            "_view_module_version": "1.5.0",
            "_view_name": "HBoxView",
            "box_style": "",
            "children": [
              "IPY_MODEL_4df7338efaa8430699623a670fe70e9f",
              "IPY_MODEL_c0c00d1fb2b04241aa128448f93ab9b8",
              "IPY_MODEL_e947ddcb481b4b6fba5bfa00a118706e"
            ],
            "layout": "IPY_MODEL_ebf528fdfd1a47cea2cc826e7553df69"
          }
        },
        "4df7338efaa8430699623a670fe70e9f": {
          "model_module": "@jupyter-widgets/controls",
          "model_name": "HTMLModel",
          "model_module_version": "1.5.0",
          "state": {
            "_dom_classes": [],
            "_model_module": "@jupyter-widgets/controls",
            "_model_module_version": "1.5.0",
            "_model_name": "HTMLModel",
            "_view_count": null,
            "_view_module": "@jupyter-widgets/controls",
            "_view_module_version": "1.5.0",
            "_view_name": "HTMLView",
            "description": "",
            "description_tooltip": null,
            "layout": "IPY_MODEL_811cccdc65014f2f96b4c37db7ba388d",
            "placeholder": "​",
            "style": "IPY_MODEL_46a65e417c734bbda30a1fc9c863e327",
            "value": "Map: 100%"
          }
        },
        "c0c00d1fb2b04241aa128448f93ab9b8": {
          "model_module": "@jupyter-widgets/controls",
          "model_name": "FloatProgressModel",
          "model_module_version": "1.5.0",
          "state": {
            "_dom_classes": [],
            "_model_module": "@jupyter-widgets/controls",
            "_model_module_version": "1.5.0",
            "_model_name": "FloatProgressModel",
            "_view_count": null,
            "_view_module": "@jupyter-widgets/controls",
            "_view_module_version": "1.5.0",
            "_view_name": "ProgressView",
            "bar_style": "success",
            "description": "",
            "description_tooltip": null,
            "layout": "IPY_MODEL_d62229b21cff4524b700f78490f5c22c",
            "max": 859,
            "min": 0,
            "orientation": "horizontal",
            "style": "IPY_MODEL_cd1c9a0f1bce4a2b93deac680659464f",
            "value": 859
          }
        },
        "e947ddcb481b4b6fba5bfa00a118706e": {
          "model_module": "@jupyter-widgets/controls",
          "model_name": "HTMLModel",
          "model_module_version": "1.5.0",
          "state": {
            "_dom_classes": [],
            "_model_module": "@jupyter-widgets/controls",
            "_model_module_version": "1.5.0",
            "_model_name": "HTMLModel",
            "_view_count": null,
            "_view_module": "@jupyter-widgets/controls",
            "_view_module_version": "1.5.0",
            "_view_name": "HTMLView",
            "description": "",
            "description_tooltip": null,
            "layout": "IPY_MODEL_7680adf940d548e28a7cb1b0e36ccf30",
            "placeholder": "​",
            "style": "IPY_MODEL_54561f5112604a37a1199f89ca6f057d",
            "value": " 859/859 [00:03&lt;00:00, 219.00 examples/s]"
          }
        },
        "ebf528fdfd1a47cea2cc826e7553df69": {
          "model_module": "@jupyter-widgets/base",
          "model_name": "LayoutModel",
          "model_module_version": "1.2.0",
          "state": {
            "_model_module": "@jupyter-widgets/base",
            "_model_module_version": "1.2.0",
            "_model_name": "LayoutModel",
            "_view_count": null,
            "_view_module": "@jupyter-widgets/base",
            "_view_module_version": "1.2.0",
            "_view_name": "LayoutView",
            "align_content": null,
            "align_items": null,
            "align_self": null,
            "border": null,
            "bottom": null,
            "display": null,
            "flex": null,
            "flex_flow": null,
            "grid_area": null,
            "grid_auto_columns": null,
            "grid_auto_flow": null,
            "grid_auto_rows": null,
            "grid_column": null,
            "grid_gap": null,
            "grid_row": null,
            "grid_template_areas": null,
            "grid_template_columns": null,
            "grid_template_rows": null,
            "height": null,
            "justify_content": null,
            "justify_items": null,
            "left": null,
            "margin": null,
            "max_height": null,
            "max_width": null,
            "min_height": null,
            "min_width": null,
            "object_fit": null,
            "object_position": null,
            "order": null,
            "overflow": null,
            "overflow_x": null,
            "overflow_y": null,
            "padding": null,
            "right": null,
            "top": null,
            "visibility": null,
            "width": null
          }
        },
        "811cccdc65014f2f96b4c37db7ba388d": {
          "model_module": "@jupyter-widgets/base",
          "model_name": "LayoutModel",
          "model_module_version": "1.2.0",
          "state": {
            "_model_module": "@jupyter-widgets/base",
            "_model_module_version": "1.2.0",
            "_model_name": "LayoutModel",
            "_view_count": null,
            "_view_module": "@jupyter-widgets/base",
            "_view_module_version": "1.2.0",
            "_view_name": "LayoutView",
            "align_content": null,
            "align_items": null,
            "align_self": null,
            "border": null,
            "bottom": null,
            "display": null,
            "flex": null,
            "flex_flow": null,
            "grid_area": null,
            "grid_auto_columns": null,
            "grid_auto_flow": null,
            "grid_auto_rows": null,
            "grid_column": null,
            "grid_gap": null,
            "grid_row": null,
            "grid_template_areas": null,
            "grid_template_columns": null,
            "grid_template_rows": null,
            "height": null,
            "justify_content": null,
            "justify_items": null,
            "left": null,
            "margin": null,
            "max_height": null,
            "max_width": null,
            "min_height": null,
            "min_width": null,
            "object_fit": null,
            "object_position": null,
            "order": null,
            "overflow": null,
            "overflow_x": null,
            "overflow_y": null,
            "padding": null,
            "right": null,
            "top": null,
            "visibility": null,
            "width": null
          }
        },
        "46a65e417c734bbda30a1fc9c863e327": {
          "model_module": "@jupyter-widgets/controls",
          "model_name": "DescriptionStyleModel",
          "model_module_version": "1.5.0",
          "state": {
            "_model_module": "@jupyter-widgets/controls",
            "_model_module_version": "1.5.0",
            "_model_name": "DescriptionStyleModel",
            "_view_count": null,
            "_view_module": "@jupyter-widgets/base",
            "_view_module_version": "1.2.0",
            "_view_name": "StyleView",
            "description_width": ""
          }
        },
        "d62229b21cff4524b700f78490f5c22c": {
          "model_module": "@jupyter-widgets/base",
          "model_name": "LayoutModel",
          "model_module_version": "1.2.0",
          "state": {
            "_model_module": "@jupyter-widgets/base",
            "_model_module_version": "1.2.0",
            "_model_name": "LayoutModel",
            "_view_count": null,
            "_view_module": "@jupyter-widgets/base",
            "_view_module_version": "1.2.0",
            "_view_name": "LayoutView",
            "align_content": null,
            "align_items": null,
            "align_self": null,
            "border": null,
            "bottom": null,
            "display": null,
            "flex": null,
            "flex_flow": null,
            "grid_area": null,
            "grid_auto_columns": null,
            "grid_auto_flow": null,
            "grid_auto_rows": null,
            "grid_column": null,
            "grid_gap": null,
            "grid_row": null,
            "grid_template_areas": null,
            "grid_template_columns": null,
            "grid_template_rows": null,
            "height": null,
            "justify_content": null,
            "justify_items": null,
            "left": null,
            "margin": null,
            "max_height": null,
            "max_width": null,
            "min_height": null,
            "min_width": null,
            "object_fit": null,
            "object_position": null,
            "order": null,
            "overflow": null,
            "overflow_x": null,
            "overflow_y": null,
            "padding": null,
            "right": null,
            "top": null,
            "visibility": null,
            "width": null
          }
        },
        "cd1c9a0f1bce4a2b93deac680659464f": {
          "model_module": "@jupyter-widgets/controls",
          "model_name": "ProgressStyleModel",
          "model_module_version": "1.5.0",
          "state": {
            "_model_module": "@jupyter-widgets/controls",
            "_model_module_version": "1.5.0",
            "_model_name": "ProgressStyleModel",
            "_view_count": null,
            "_view_module": "@jupyter-widgets/base",
            "_view_module_version": "1.2.0",
            "_view_name": "StyleView",
            "bar_color": null,
            "description_width": ""
          }
        },
        "7680adf940d548e28a7cb1b0e36ccf30": {
          "model_module": "@jupyter-widgets/base",
          "model_name": "LayoutModel",
          "model_module_version": "1.2.0",
          "state": {
            "_model_module": "@jupyter-widgets/base",
            "_model_module_version": "1.2.0",
            "_model_name": "LayoutModel",
            "_view_count": null,
            "_view_module": "@jupyter-widgets/base",
            "_view_module_version": "1.2.0",
            "_view_name": "LayoutView",
            "align_content": null,
            "align_items": null,
            "align_self": null,
            "border": null,
            "bottom": null,
            "display": null,
            "flex": null,
            "flex_flow": null,
            "grid_area": null,
            "grid_auto_columns": null,
            "grid_auto_flow": null,
            "grid_auto_rows": null,
            "grid_column": null,
            "grid_gap": null,
            "grid_row": null,
            "grid_template_areas": null,
            "grid_template_columns": null,
            "grid_template_rows": null,
            "height": null,
            "justify_content": null,
            "justify_items": null,
            "left": null,
            "margin": null,
            "max_height": null,
            "max_width": null,
            "min_height": null,
            "min_width": null,
            "object_fit": null,
            "object_position": null,
            "order": null,
            "overflow": null,
            "overflow_x": null,
            "overflow_y": null,
            "padding": null,
            "right": null,
            "top": null,
            "visibility": null,
            "width": null
          }
        },
        "54561f5112604a37a1199f89ca6f057d": {
          "model_module": "@jupyter-widgets/controls",
          "model_name": "DescriptionStyleModel",
          "model_module_version": "1.5.0",
          "state": {
            "_model_module": "@jupyter-widgets/controls",
            "_model_module_version": "1.5.0",
            "_model_name": "DescriptionStyleModel",
            "_view_count": null,
            "_view_module": "@jupyter-widgets/base",
            "_view_module_version": "1.2.0",
            "_view_name": "StyleView",
            "description_width": ""
          }
        },
        "01fa1aba39f44874a392ede722570260": {
          "model_module": "@jupyter-widgets/controls",
          "model_name": "HBoxModel",
          "model_module_version": "1.5.0",
          "state": {
            "_dom_classes": [],
            "_model_module": "@jupyter-widgets/controls",
            "_model_module_version": "1.5.0",
            "_model_name": "HBoxModel",
            "_view_count": null,
            "_view_module": "@jupyter-widgets/controls",
            "_view_module_version": "1.5.0",
            "_view_name": "HBoxView",
            "box_style": "",
            "children": [
              "IPY_MODEL_2161464a27a64fbeacc5edff48495f6f",
              "IPY_MODEL_3d362400819944c2a343753a53c0c327",
              "IPY_MODEL_b12412bde96e46d89e24de059dbc0f77"
            ],
            "layout": "IPY_MODEL_bad78703ae1349bbb0c29868c88fbd1d"
          }
        },
        "2161464a27a64fbeacc5edff48495f6f": {
          "model_module": "@jupyter-widgets/controls",
          "model_name": "HTMLModel",
          "model_module_version": "1.5.0",
          "state": {
            "_dom_classes": [],
            "_model_module": "@jupyter-widgets/controls",
            "_model_module_version": "1.5.0",
            "_model_name": "HTMLModel",
            "_view_count": null,
            "_view_module": "@jupyter-widgets/controls",
            "_view_module_version": "1.5.0",
            "_view_name": "HTMLView",
            "description": "",
            "description_tooltip": null,
            "layout": "IPY_MODEL_4291e802dd294511992250a87aa2dc41",
            "placeholder": "​",
            "style": "IPY_MODEL_7d943dc880ee417bad4a0a789a935623",
            "value": "Map: 100%"
          }
        },
        "3d362400819944c2a343753a53c0c327": {
          "model_module": "@jupyter-widgets/controls",
          "model_name": "FloatProgressModel",
          "model_module_version": "1.5.0",
          "state": {
            "_dom_classes": [],
            "_model_module": "@jupyter-widgets/controls",
            "_model_module_version": "1.5.0",
            "_model_name": "FloatProgressModel",
            "_view_count": null,
            "_view_module": "@jupyter-widgets/controls",
            "_view_module_version": "1.5.0",
            "_view_name": "ProgressView",
            "bar_style": "success",
            "description": "",
            "description_tooltip": null,
            "layout": "IPY_MODEL_b8f9fc480c4a4ab8bf87b52c22b58318",
            "max": 1073,
            "min": 0,
            "orientation": "horizontal",
            "style": "IPY_MODEL_5bb515ccd4e747b4a639489f20338635",
            "value": 1073
          }
        },
        "b12412bde96e46d89e24de059dbc0f77": {
          "model_module": "@jupyter-widgets/controls",
          "model_name": "HTMLModel",
          "model_module_version": "1.5.0",
          "state": {
            "_dom_classes": [],
            "_model_module": "@jupyter-widgets/controls",
            "_model_module_version": "1.5.0",
            "_model_name": "HTMLModel",
            "_view_count": null,
            "_view_module": "@jupyter-widgets/controls",
            "_view_module_version": "1.5.0",
            "_view_name": "HTMLView",
            "description": "",
            "description_tooltip": null,
            "layout": "IPY_MODEL_a8b5f7d0e68a4e95999307d05cb0b391",
            "placeholder": "​",
            "style": "IPY_MODEL_c4cd6a76192d4969b48ff047dd10c3d4",
            "value": " 1073/1073 [00:02&lt;00:00, 392.92 examples/s]"
          }
        },
        "bad78703ae1349bbb0c29868c88fbd1d": {
          "model_module": "@jupyter-widgets/base",
          "model_name": "LayoutModel",
          "model_module_version": "1.2.0",
          "state": {
            "_model_module": "@jupyter-widgets/base",
            "_model_module_version": "1.2.0",
            "_model_name": "LayoutModel",
            "_view_count": null,
            "_view_module": "@jupyter-widgets/base",
            "_view_module_version": "1.2.0",
            "_view_name": "LayoutView",
            "align_content": null,
            "align_items": null,
            "align_self": null,
            "border": null,
            "bottom": null,
            "display": null,
            "flex": null,
            "flex_flow": null,
            "grid_area": null,
            "grid_auto_columns": null,
            "grid_auto_flow": null,
            "grid_auto_rows": null,
            "grid_column": null,
            "grid_gap": null,
            "grid_row": null,
            "grid_template_areas": null,
            "grid_template_columns": null,
            "grid_template_rows": null,
            "height": null,
            "justify_content": null,
            "justify_items": null,
            "left": null,
            "margin": null,
            "max_height": null,
            "max_width": null,
            "min_height": null,
            "min_width": null,
            "object_fit": null,
            "object_position": null,
            "order": null,
            "overflow": null,
            "overflow_x": null,
            "overflow_y": null,
            "padding": null,
            "right": null,
            "top": null,
            "visibility": null,
            "width": null
          }
        },
        "4291e802dd294511992250a87aa2dc41": {
          "model_module": "@jupyter-widgets/base",
          "model_name": "LayoutModel",
          "model_module_version": "1.2.0",
          "state": {
            "_model_module": "@jupyter-widgets/base",
            "_model_module_version": "1.2.0",
            "_model_name": "LayoutModel",
            "_view_count": null,
            "_view_module": "@jupyter-widgets/base",
            "_view_module_version": "1.2.0",
            "_view_name": "LayoutView",
            "align_content": null,
            "align_items": null,
            "align_self": null,
            "border": null,
            "bottom": null,
            "display": null,
            "flex": null,
            "flex_flow": null,
            "grid_area": null,
            "grid_auto_columns": null,
            "grid_auto_flow": null,
            "grid_auto_rows": null,
            "grid_column": null,
            "grid_gap": null,
            "grid_row": null,
            "grid_template_areas": null,
            "grid_template_columns": null,
            "grid_template_rows": null,
            "height": null,
            "justify_content": null,
            "justify_items": null,
            "left": null,
            "margin": null,
            "max_height": null,
            "max_width": null,
            "min_height": null,
            "min_width": null,
            "object_fit": null,
            "object_position": null,
            "order": null,
            "overflow": null,
            "overflow_x": null,
            "overflow_y": null,
            "padding": null,
            "right": null,
            "top": null,
            "visibility": null,
            "width": null
          }
        },
        "7d943dc880ee417bad4a0a789a935623": {
          "model_module": "@jupyter-widgets/controls",
          "model_name": "DescriptionStyleModel",
          "model_module_version": "1.5.0",
          "state": {
            "_model_module": "@jupyter-widgets/controls",
            "_model_module_version": "1.5.0",
            "_model_name": "DescriptionStyleModel",
            "_view_count": null,
            "_view_module": "@jupyter-widgets/base",
            "_view_module_version": "1.2.0",
            "_view_name": "StyleView",
            "description_width": ""
          }
        },
        "b8f9fc480c4a4ab8bf87b52c22b58318": {
          "model_module": "@jupyter-widgets/base",
          "model_name": "LayoutModel",
          "model_module_version": "1.2.0",
          "state": {
            "_model_module": "@jupyter-widgets/base",
            "_model_module_version": "1.2.0",
            "_model_name": "LayoutModel",
            "_view_count": null,
            "_view_module": "@jupyter-widgets/base",
            "_view_module_version": "1.2.0",
            "_view_name": "LayoutView",
            "align_content": null,
            "align_items": null,
            "align_self": null,
            "border": null,
            "bottom": null,
            "display": null,
            "flex": null,
            "flex_flow": null,
            "grid_area": null,
            "grid_auto_columns": null,
            "grid_auto_flow": null,
            "grid_auto_rows": null,
            "grid_column": null,
            "grid_gap": null,
            "grid_row": null,
            "grid_template_areas": null,
            "grid_template_columns": null,
            "grid_template_rows": null,
            "height": null,
            "justify_content": null,
            "justify_items": null,
            "left": null,
            "margin": null,
            "max_height": null,
            "max_width": null,
            "min_height": null,
            "min_width": null,
            "object_fit": null,
            "object_position": null,
            "order": null,
            "overflow": null,
            "overflow_x": null,
            "overflow_y": null,
            "padding": null,
            "right": null,
            "top": null,
            "visibility": null,
            "width": null
          }
        },
        "5bb515ccd4e747b4a639489f20338635": {
          "model_module": "@jupyter-widgets/controls",
          "model_name": "ProgressStyleModel",
          "model_module_version": "1.5.0",
          "state": {
            "_model_module": "@jupyter-widgets/controls",
            "_model_module_version": "1.5.0",
            "_model_name": "ProgressStyleModel",
            "_view_count": null,
            "_view_module": "@jupyter-widgets/base",
            "_view_module_version": "1.2.0",
            "_view_name": "StyleView",
            "bar_color": null,
            "description_width": ""
          }
        },
        "a8b5f7d0e68a4e95999307d05cb0b391": {
          "model_module": "@jupyter-widgets/base",
          "model_name": "LayoutModel",
          "model_module_version": "1.2.0",
          "state": {
            "_model_module": "@jupyter-widgets/base",
            "_model_module_version": "1.2.0",
            "_model_name": "LayoutModel",
            "_view_count": null,
            "_view_module": "@jupyter-widgets/base",
            "_view_module_version": "1.2.0",
            "_view_name": "LayoutView",
            "align_content": null,
            "align_items": null,
            "align_self": null,
            "border": null,
            "bottom": null,
            "display": null,
            "flex": null,
            "flex_flow": null,
            "grid_area": null,
            "grid_auto_columns": null,
            "grid_auto_flow": null,
            "grid_auto_rows": null,
            "grid_column": null,
            "grid_gap": null,
            "grid_row": null,
            "grid_template_areas": null,
            "grid_template_columns": null,
            "grid_template_rows": null,
            "height": null,
            "justify_content": null,
            "justify_items": null,
            "left": null,
            "margin": null,
            "max_height": null,
            "max_width": null,
            "min_height": null,
            "min_width": null,
            "object_fit": null,
            "object_position": null,
            "order": null,
            "overflow": null,
            "overflow_x": null,
            "overflow_y": null,
            "padding": null,
            "right": null,
            "top": null,
            "visibility": null,
            "width": null
          }
        },
        "c4cd6a76192d4969b48ff047dd10c3d4": {
          "model_module": "@jupyter-widgets/controls",
          "model_name": "DescriptionStyleModel",
          "model_module_version": "1.5.0",
          "state": {
            "_model_module": "@jupyter-widgets/controls",
            "_model_module_version": "1.5.0",
            "_model_name": "DescriptionStyleModel",
            "_view_count": null,
            "_view_module": "@jupyter-widgets/base",
            "_view_module_version": "1.2.0",
            "_view_name": "StyleView",
            "description_width": ""
          }
        }
      }
    }
  },
  "nbformat": 4,
  "nbformat_minor": 0
}