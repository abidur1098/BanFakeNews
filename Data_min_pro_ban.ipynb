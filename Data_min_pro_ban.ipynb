{
  "cells": [
    {
      "cell_type": "markdown",
      "source": [
        "# import files"
      ],
      "metadata": {
        "id": "wPdMQAZAw-_5"
      }
    },
    {
      "cell_type": "code",
      "execution_count": null,
      "metadata": {
        "id": "RhC3QHYUuE3G"
      },
      "outputs": [],
      "source": [
        "import os\n",
        "from google.colab import files\n",
        "import pandas as pd\n",
        "import numpy as np\n",
        "import string\n",
        "import matplotlib.pyplot as plt\n",
        "import seaborn as sns\n",
        "\n",
        "from sklearn.model_selection import train_test_split\n",
        "from sklearn.feature_extraction.text import TfidfVectorizer\n",
        "from sklearn.svm import LinearSVC\n",
        "from sklearn.linear_model import LogisticRegression\n",
        "from sklearn.naive_bayes import MultinomialNB\n",
        "from sklearn.ensemble import VotingClassifier\n",
        "from sklearn.metrics import accuracy_score, classification_report, confusion_matrix\n"
      ]
    },
    {
      "cell_type": "markdown",
      "source": [
        "# inpoot banfake dataset\n"
      ],
      "metadata": {
        "id": "Oubkt7K1xhVp"
      }
    },
    {
      "cell_type": "code",
      "execution_count": null,
      "metadata": {
        "colab": {
          "base_uri": "https://localhost:8080/"
        },
        "id": "f6QkwKrkuMpT",
        "outputId": "71220777-5662-456b-fe85-cc59fcb309e2"
      },
      "outputs": [
        {
          "output_type": "stream",
          "name": "stdout",
          "text": [
            "kaggle.json already exists. Skipping upload.\n",
            "Dataset URL: https://www.kaggle.com/datasets/hrithikmajumdar/bangla-fake-news\n",
            "License(s): apache-2.0\n",
            "bangla-fake-news.zip: Skipping, found more recently modified local copy (use --force to force download)\n",
            "Archive:  bangla-fake-news.zip\n",
            "  inflating: ./banfake-news/test_cleaned.csv  \n",
            "  inflating: ./banfake-news/train_cleaned.csv  \n",
            "  inflating: ./banfake-news/val_cleaned.csv  \n",
            "test_cleaned.csv  train_cleaned.csv  val_cleaned.csv\n"
          ]
        }
      ],
      "source": [
        "# Upload kaggle.json if needed\n",
        "if not os.path.exists('kaggle.json'):\n",
        "    print(\"Please upload your kaggle.json file:\")\n",
        "    uploaded = files.upload()\n",
        "else:\n",
        "    print(\"kaggle.json already exists. Skipping upload.\")\n",
        "\n",
        "# Install packages\n",
        "!pip install -q kaggle xgboost lightgbm imbalanced-learn\n",
        "\n",
        "# Kaggle CLI setup\n",
        "!mkdir -p ~/.kaggle\n",
        "!cp kaggle.json ~/.kaggle/\n",
        "!chmod 600 ~/.kaggle/kaggle.json\n",
        "\n",
        "# Download and unzip dataset\n",
        "!kaggle datasets download -d hrithikmajumdar/bangla-fake-news\n",
        "!unzip -o bangla-fake-news.zip -d ./banfake-news\n",
        "\n",
        "!ls ./banfake-news/"
      ]
    },
    {
      "cell_type": "markdown",
      "source": [
        "lode banfake dataset"
      ],
      "metadata": {
        "id": "0__2MJr6x11f"
      }
    },
    {
      "cell_type": "code",
      "execution_count": null,
      "metadata": {
        "id": "LGossyZZuQFr"
      },
      "outputs": [],
      "source": [
        "# Load datasets\n",
        "train_df = pd.read_csv('/content/banfake-news/train_cleaned.csv')\n",
        "test_df = pd.read_csv('/content/banfake-news/test_cleaned.csv')\n",
        "validation_df = pd.read_csv('/content/banfake-news/val_cleaned.csv')"
      ]
    },
    {
      "cell_type": "markdown",
      "source": [
        "take Fake (0) -> 0, Real (3) -> 1"
      ],
      "metadata": {
        "id": "cUhtDB6px9-X"
      }
    },
    {
      "cell_type": "code",
      "execution_count": null,
      "metadata": {
        "id": "8Z1Dst9AuThR"
      },
      "outputs": [],
      "source": [
        "label_column = 'Label'\n",
        "\n",
        "# Combine all data\n",
        "df_all = pd.concat([train_df, test_df, validation_df], ignore_index=True)\n",
        "\n",
        "# Binary label mapping: Fake (0) -> 0, Real (3) -> 1\n",
        "real_df = df_all[df_all['Label'] == 3].copy()\n",
        "fake_df = df_all[df_all['Label'] == 0].copy()\n",
        "\n",
        "real_df['Label'] = 1\n",
        "fake_df['Label'] = 0"
      ]
    },
    {
      "cell_type": "code",
      "source": [
        "real_df['text'] = real_df['Headline'].fillna('') + ' ' + real_df['Content'].fillna('')\n",
        "real_df['text'] = real_df['text'].astype(str).str.lower().str.translate(str.maketrans('', '', string.punctuation))\n",
        "\n",
        "fake_df['text'] = fake_df['Headline'].fillna('') + ' ' + fake_df['Content'].fillna('')\n",
        "fake_df['text'] = fake_df['text'].astype(str).str.lower().str.translate(str.maketrans('', '', string.punctuation))"
      ],
      "metadata": {
        "id": "NQ5ES9I_a1Jg"
      },
      "execution_count": null,
      "outputs": []
    },
    {
      "cell_type": "markdown",
      "source": [
        "# lode bangla_fake500 dataset"
      ],
      "metadata": {
        "id": "4SyOywmHyJhg"
      }
    },
    {
      "cell_type": "code",
      "execution_count": null,
      "metadata": {
        "colab": {
          "base_uri": "https://localhost:8080/"
        },
        "id": "K0eZr5xYtYKb",
        "outputId": "4bb398f3-3d41-41e8-834b-6bf4d9e757f9"
      },
      "outputs": [
        {
          "output_type": "stream",
          "name": "stdout",
          "text": [
            "Dataset URL: https://www.kaggle.com/datasets/zihadbappy/banglafakenews500\n",
            "License(s): CC0-1.0\n",
            "banglafakenews500.zip: Skipping, found more recently modified local copy (use --force to force download)\n",
            "Archive:  banglafakenews500.zip\n",
            "  inflating: ./bangla_fake500/BanglaFakeNews500.xlsx  \n",
            "Requirement already satisfied: openpyxl in /usr/local/lib/python3.11/dist-packages (3.1.5)\n",
            "Requirement already satisfied: et-xmlfile in /usr/local/lib/python3.11/dist-packages (from openpyxl) (2.0.0)\n"
          ]
        }
      ],
      "source": [
        "!kaggle datasets download -d zihadbappy/banglafakenews500\n",
        "!mkdir -p ./bangla_fake500\n",
        "!unzip -o banglafakenews500.zip -d ./bangla_fake500\n",
        "\n",
        "# Install openpyxl\n",
        "!pip install openpyxl\n",
        "\n",
        "# Load Excel and clean\n",
        "df500 = pd.read_excel('./bangla_fake500/BanglaFakeNews500.xlsx')\n",
        "df500['text'] = df500['headline'].fillna('') + ' ' + df500['Content'].fillna('')\n",
        "df500['text'] = df500['text'].astype(str).str.lower().str.translate(str.maketrans('', '', string.punctuation))\n",
        "df500['label'] = 0\n",
        "\n",
        "df500 = df500[['text', 'label']]"
      ]
    },
    {
      "cell_type": "markdown",
      "source": [
        "# marge buth dataset"
      ],
      "metadata": {
        "id": "WMeuk_AHycHS"
      }
    },
    {
      "cell_type": "code",
      "source": [
        "import pandas as pd\n",
        "# Rename 'label' column in df500 to match 'Label' in fake_df\n",
        "df500.rename(columns={'label': 'Label'}, inplace=True)\n",
        "\n",
        "# Concatenate fake_df and df500\n",
        "fake_df = pd.concat([fake_df, df500], ignore_index=True)\n",
        "\n",
        "print(f\"Number of fake news articles after adding df500: {len(fake_df)}\")"
      ],
      "metadata": {
        "colab": {
          "base_uri": "https://localhost:8080/"
        },
        "id": "WBLWxCs2YbQp",
        "outputId": "2e5652f1-9c95-4af5-d9b7-2c3bd6b1592b"
      },
      "execution_count": null,
      "outputs": [
        {
          "output_type": "stream",
          "name": "stdout",
          "text": [
            "Number of fake news articles after adding df500: 2682\n"
          ]
        },
        {
          "output_type": "stream",
          "name": "stderr",
          "text": [
            "/tmp/ipython-input-49-1932711138.py:3: SettingWithCopyWarning: \n",
            "A value is trying to be set on a copy of a slice from a DataFrame\n",
            "\n",
            "See the caveats in the documentation: https://pandas.pydata.org/pandas-docs/stable/user_guide/indexing.html#returning-a-view-versus-a-copy\n",
            "  df500.rename(columns={'label': 'Label'}, inplace=True)\n"
          ]
        }
      ]
    },
    {
      "cell_type": "code",
      "source": [
        "if len(real_df) > 2682:\n",
        "    real_df = real_df.sample(n=2682, random_state=42).reset_index(drop=True)\n",
        "\n",
        "print(f\"Final number of real news articles: {len(real_df)}\")"
      ],
      "metadata": {
        "colab": {
          "base_uri": "https://localhost:8080/"
        },
        "id": "yT-O0BDgZNbh",
        "outputId": "a12aa382-26ab-42e5-d12a-7086e35e6bfc"
      },
      "execution_count": null,
      "outputs": [
        {
          "output_type": "stream",
          "name": "stdout",
          "text": [
            "Final number of real news articles: 2682\n"
          ]
        }
      ]
    },
    {
      "cell_type": "code",
      "source": [
        "import pandas as pd\n",
        "# Concatenate real_df and fake_df into All_df\n",
        "All_df = pd.concat([real_df, fake_df], ignore_index=True)\n",
        "\n",
        "print(f\"Total number of articles in All_df: {len(All_df)}\")\n",
        "print(All_df['Label'].value_counts())"
      ],
      "metadata": {
        "colab": {
          "base_uri": "https://localhost:8080/"
        },
        "id": "fNYEOBAHcgLX",
        "outputId": "c47a4a30-f268-4d33-a452-f7950e0e2aaa"
      },
      "execution_count": null,
      "outputs": [
        {
          "output_type": "stream",
          "name": "stdout",
          "text": [
            "Total number of articles in All_df: 5364\n",
            "Label\n",
            "1    2682\n",
            "0    2682\n",
            "Name: count, dtype: int64\n"
          ]
        }
      ]
    },
    {
      "cell_type": "code",
      "source": [
        "# prompt: show the dize of All_df\n",
        "\n",
        "print(f\"Size of All_df: {All_df.shape}\")\n",
        "All_df.head()"
      ],
      "metadata": {
        "colab": {
          "base_uri": "https://localhost:8080/",
          "height": 224
        },
        "id": "mIdMY5ksc7JX",
        "outputId": "1133282e-8abb-492b-e4fb-6ee890c7fc90"
      },
      "execution_count": null,
      "outputs": [
        {
          "output_type": "stream",
          "name": "stdout",
          "text": [
            "Size of All_df: (5364, 4)\n"
          ]
        },
        {
          "output_type": "execute_result",
          "data": {
            "text/plain": [
              "                                            Headline  \\\n",
              "0                                   পলাতকরা কে কোথায়   \n",
              "1  ইসরাইলি বিমান হামলা সিরিয়ার সার্বভৌমত্বের লঙ্ঘ...   \n",
              "2  ঢাবিতে বিক্ষোভ সমাবেশ, আদিবাসী কোটা ৫ শতাংশ রা...   \n",
              "3                 এবারও সেরাদের সেরা রাজশাহীর মেয়েরা   \n",
              "4   জাতীয় ঐক্য’র যৌথ নেতৃত্বে বদরুদ্দোজা-কামাল-ফখরুল   \n",
              "\n",
              "                                             Content  Label  \\\n",
              "0  ভয়াবহ ২১ আগস্ট গ্রেনেড হামলার মামলায় পলাতক ১৮ ...      1   \n",
              "1  আন্তর্জাতিক ডেস্ক আরটিএনএন মস্কো: রাশিয়ার প্রে...      1   \n",
              "2  দ্য রিপোর্ট ডেস্ক : সরকারি চাকরিতে প্রথম ও দ্ব...      1   \n",
              "3  বিতর্ক উৎসবে শ্রেষ্ঠত্ব অর্জন করল রাজশাহী শহরে...      1   \n",
              "4  নিজস্ব প্রতিবেদক আরটিএনএন ঢাকা: জাতীয় ঐক্যকে এ...      1   \n",
              "\n",
              "                                                text  \n",
              "0  পলাতকরা কে কোথায় ভয়াবহ ২১ আগস্ট গ্রেনেড হামলার...  \n",
              "1  ইসরাইলি বিমান হামলা সিরিয়ার সার্বভৌমত্বের লঙ্ঘ...  \n",
              "2  ঢাবিতে বিক্ষোভ সমাবেশ আদিবাসী কোটা ৫ শতাংশ রাখ...  \n",
              "3  এবারও সেরাদের সেরা রাজশাহীর মেয়েরা বিতর্ক উৎসব...  \n",
              "4  জাতীয় ঐক্য’র যৌথ নেতৃত্বে বদরুদ্দোজাকামালফখরুল...  "
            ],
            "text/html": [
              "\n",
              "  <div id=\"df-6aa63f58-31fc-48ee-9cc0-f3291de0bc71\" class=\"colab-df-container\">\n",
              "    <div>\n",
              "<style scoped>\n",
              "    .dataframe tbody tr th:only-of-type {\n",
              "        vertical-align: middle;\n",
              "    }\n",
              "\n",
              "    .dataframe tbody tr th {\n",
              "        vertical-align: top;\n",
              "    }\n",
              "\n",
              "    .dataframe thead th {\n",
              "        text-align: right;\n",
              "    }\n",
              "</style>\n",
              "<table border=\"1\" class=\"dataframe\">\n",
              "  <thead>\n",
              "    <tr style=\"text-align: right;\">\n",
              "      <th></th>\n",
              "      <th>Headline</th>\n",
              "      <th>Content</th>\n",
              "      <th>Label</th>\n",
              "      <th>text</th>\n",
              "    </tr>\n",
              "  </thead>\n",
              "  <tbody>\n",
              "    <tr>\n",
              "      <th>0</th>\n",
              "      <td>পলাতকরা কে কোথায়</td>\n",
              "      <td>ভয়াবহ ২১ আগস্ট গ্রেনেড হামলার মামলায় পলাতক ১৮ ...</td>\n",
              "      <td>1</td>\n",
              "      <td>পলাতকরা কে কোথায় ভয়াবহ ২১ আগস্ট গ্রেনেড হামলার...</td>\n",
              "    </tr>\n",
              "    <tr>\n",
              "      <th>1</th>\n",
              "      <td>ইসরাইলি বিমান হামলা সিরিয়ার সার্বভৌমত্বের লঙ্ঘ...</td>\n",
              "      <td>আন্তর্জাতিক ডেস্ক আরটিএনএন মস্কো: রাশিয়ার প্রে...</td>\n",
              "      <td>1</td>\n",
              "      <td>ইসরাইলি বিমান হামলা সিরিয়ার সার্বভৌমত্বের লঙ্ঘ...</td>\n",
              "    </tr>\n",
              "    <tr>\n",
              "      <th>2</th>\n",
              "      <td>ঢাবিতে বিক্ষোভ সমাবেশ, আদিবাসী কোটা ৫ শতাংশ রা...</td>\n",
              "      <td>দ্য রিপোর্ট ডেস্ক : সরকারি চাকরিতে প্রথম ও দ্ব...</td>\n",
              "      <td>1</td>\n",
              "      <td>ঢাবিতে বিক্ষোভ সমাবেশ আদিবাসী কোটা ৫ শতাংশ রাখ...</td>\n",
              "    </tr>\n",
              "    <tr>\n",
              "      <th>3</th>\n",
              "      <td>এবারও সেরাদের সেরা রাজশাহীর মেয়েরা</td>\n",
              "      <td>বিতর্ক উৎসবে শ্রেষ্ঠত্ব অর্জন করল রাজশাহী শহরে...</td>\n",
              "      <td>1</td>\n",
              "      <td>এবারও সেরাদের সেরা রাজশাহীর মেয়েরা বিতর্ক উৎসব...</td>\n",
              "    </tr>\n",
              "    <tr>\n",
              "      <th>4</th>\n",
              "      <td>জাতীয় ঐক্য’র যৌথ নেতৃত্বে বদরুদ্দোজা-কামাল-ফখরুল</td>\n",
              "      <td>নিজস্ব প্রতিবেদক আরটিএনএন ঢাকা: জাতীয় ঐক্যকে এ...</td>\n",
              "      <td>1</td>\n",
              "      <td>জাতীয় ঐক্য’র যৌথ নেতৃত্বে বদরুদ্দোজাকামালফখরুল...</td>\n",
              "    </tr>\n",
              "  </tbody>\n",
              "</table>\n",
              "</div>\n",
              "    <div class=\"colab-df-buttons\">\n",
              "\n",
              "  <div class=\"colab-df-container\">\n",
              "    <button class=\"colab-df-convert\" onclick=\"convertToInteractive('df-6aa63f58-31fc-48ee-9cc0-f3291de0bc71')\"\n",
              "            title=\"Convert this dataframe to an interactive table.\"\n",
              "            style=\"display:none;\">\n",
              "\n",
              "  <svg xmlns=\"http://www.w3.org/2000/svg\" height=\"24px\" viewBox=\"0 -960 960 960\">\n",
              "    <path d=\"M120-120v-720h720v720H120Zm60-500h600v-160H180v160Zm220 220h160v-160H400v160Zm0 220h160v-160H400v160ZM180-400h160v-160H180v160Zm440 0h160v-160H620v160ZM180-180h160v-160H180v160Zm440 0h160v-160H620v160Z\"/>\n",
              "  </svg>\n",
              "    </button>\n",
              "\n",
              "  <style>\n",
              "    .colab-df-container {\n",
              "      display:flex;\n",
              "      gap: 12px;\n",
              "    }\n",
              "\n",
              "    .colab-df-convert {\n",
              "      background-color: #E8F0FE;\n",
              "      border: none;\n",
              "      border-radius: 50%;\n",
              "      cursor: pointer;\n",
              "      display: none;\n",
              "      fill: #1967D2;\n",
              "      height: 32px;\n",
              "      padding: 0 0 0 0;\n",
              "      width: 32px;\n",
              "    }\n",
              "\n",
              "    .colab-df-convert:hover {\n",
              "      background-color: #E2EBFA;\n",
              "      box-shadow: 0px 1px 2px rgba(60, 64, 67, 0.3), 0px 1px 3px 1px rgba(60, 64, 67, 0.15);\n",
              "      fill: #174EA6;\n",
              "    }\n",
              "\n",
              "    .colab-df-buttons div {\n",
              "      margin-bottom: 4px;\n",
              "    }\n",
              "\n",
              "    [theme=dark] .colab-df-convert {\n",
              "      background-color: #3B4455;\n",
              "      fill: #D2E3FC;\n",
              "    }\n",
              "\n",
              "    [theme=dark] .colab-df-convert:hover {\n",
              "      background-color: #434B5C;\n",
              "      box-shadow: 0px 1px 3px 1px rgba(0, 0, 0, 0.15);\n",
              "      filter: drop-shadow(0px 1px 2px rgba(0, 0, 0, 0.3));\n",
              "      fill: #FFFFFF;\n",
              "    }\n",
              "  </style>\n",
              "\n",
              "    <script>\n",
              "      const buttonEl =\n",
              "        document.querySelector('#df-6aa63f58-31fc-48ee-9cc0-f3291de0bc71 button.colab-df-convert');\n",
              "      buttonEl.style.display =\n",
              "        google.colab.kernel.accessAllowed ? 'block' : 'none';\n",
              "\n",
              "      async function convertToInteractive(key) {\n",
              "        const element = document.querySelector('#df-6aa63f58-31fc-48ee-9cc0-f3291de0bc71');\n",
              "        const dataTable =\n",
              "          await google.colab.kernel.invokeFunction('convertToInteractive',\n",
              "                                                    [key], {});\n",
              "        if (!dataTable) return;\n",
              "\n",
              "        const docLinkHtml = 'Like what you see? Visit the ' +\n",
              "          '<a target=\"_blank\" href=https://colab.research.google.com/notebooks/data_table.ipynb>data table notebook</a>'\n",
              "          + ' to learn more about interactive tables.';\n",
              "        element.innerHTML = '';\n",
              "        dataTable['output_type'] = 'display_data';\n",
              "        await google.colab.output.renderOutput(dataTable, element);\n",
              "        const docLink = document.createElement('div');\n",
              "        docLink.innerHTML = docLinkHtml;\n",
              "        element.appendChild(docLink);\n",
              "      }\n",
              "    </script>\n",
              "  </div>\n",
              "\n",
              "\n",
              "    <div id=\"df-8e2edfe2-c063-4a7c-b7c4-d66891fcfa43\">\n",
              "      <button class=\"colab-df-quickchart\" onclick=\"quickchart('df-8e2edfe2-c063-4a7c-b7c4-d66891fcfa43')\"\n",
              "                title=\"Suggest charts\"\n",
              "                style=\"display:none;\">\n",
              "\n",
              "<svg xmlns=\"http://www.w3.org/2000/svg\" height=\"24px\"viewBox=\"0 0 24 24\"\n",
              "     width=\"24px\">\n",
              "    <g>\n",
              "        <path d=\"M19 3H5c-1.1 0-2 .9-2 2v14c0 1.1.9 2 2 2h14c1.1 0 2-.9 2-2V5c0-1.1-.9-2-2-2zM9 17H7v-7h2v7zm4 0h-2V7h2v10zm4 0h-2v-4h2v4z\"/>\n",
              "    </g>\n",
              "</svg>\n",
              "      </button>\n",
              "\n",
              "<style>\n",
              "  .colab-df-quickchart {\n",
              "      --bg-color: #E8F0FE;\n",
              "      --fill-color: #1967D2;\n",
              "      --hover-bg-color: #E2EBFA;\n",
              "      --hover-fill-color: #174EA6;\n",
              "      --disabled-fill-color: #AAA;\n",
              "      --disabled-bg-color: #DDD;\n",
              "  }\n",
              "\n",
              "  [theme=dark] .colab-df-quickchart {\n",
              "      --bg-color: #3B4455;\n",
              "      --fill-color: #D2E3FC;\n",
              "      --hover-bg-color: #434B5C;\n",
              "      --hover-fill-color: #FFFFFF;\n",
              "      --disabled-bg-color: #3B4455;\n",
              "      --disabled-fill-color: #666;\n",
              "  }\n",
              "\n",
              "  .colab-df-quickchart {\n",
              "    background-color: var(--bg-color);\n",
              "    border: none;\n",
              "    border-radius: 50%;\n",
              "    cursor: pointer;\n",
              "    display: none;\n",
              "    fill: var(--fill-color);\n",
              "    height: 32px;\n",
              "    padding: 0;\n",
              "    width: 32px;\n",
              "  }\n",
              "\n",
              "  .colab-df-quickchart:hover {\n",
              "    background-color: var(--hover-bg-color);\n",
              "    box-shadow: 0 1px 2px rgba(60, 64, 67, 0.3), 0 1px 3px 1px rgba(60, 64, 67, 0.15);\n",
              "    fill: var(--button-hover-fill-color);\n",
              "  }\n",
              "\n",
              "  .colab-df-quickchart-complete:disabled,\n",
              "  .colab-df-quickchart-complete:disabled:hover {\n",
              "    background-color: var(--disabled-bg-color);\n",
              "    fill: var(--disabled-fill-color);\n",
              "    box-shadow: none;\n",
              "  }\n",
              "\n",
              "  .colab-df-spinner {\n",
              "    border: 2px solid var(--fill-color);\n",
              "    border-color: transparent;\n",
              "    border-bottom-color: var(--fill-color);\n",
              "    animation:\n",
              "      spin 1s steps(1) infinite;\n",
              "  }\n",
              "\n",
              "  @keyframes spin {\n",
              "    0% {\n",
              "      border-color: transparent;\n",
              "      border-bottom-color: var(--fill-color);\n",
              "      border-left-color: var(--fill-color);\n",
              "    }\n",
              "    20% {\n",
              "      border-color: transparent;\n",
              "      border-left-color: var(--fill-color);\n",
              "      border-top-color: var(--fill-color);\n",
              "    }\n",
              "    30% {\n",
              "      border-color: transparent;\n",
              "      border-left-color: var(--fill-color);\n",
              "      border-top-color: var(--fill-color);\n",
              "      border-right-color: var(--fill-color);\n",
              "    }\n",
              "    40% {\n",
              "      border-color: transparent;\n",
              "      border-right-color: var(--fill-color);\n",
              "      border-top-color: var(--fill-color);\n",
              "    }\n",
              "    60% {\n",
              "      border-color: transparent;\n",
              "      border-right-color: var(--fill-color);\n",
              "    }\n",
              "    80% {\n",
              "      border-color: transparent;\n",
              "      border-right-color: var(--fill-color);\n",
              "      border-bottom-color: var(--fill-color);\n",
              "    }\n",
              "    90% {\n",
              "      border-color: transparent;\n",
              "      border-bottom-color: var(--fill-color);\n",
              "    }\n",
              "  }\n",
              "</style>\n",
              "\n",
              "      <script>\n",
              "        async function quickchart(key) {\n",
              "          const quickchartButtonEl =\n",
              "            document.querySelector('#' + key + ' button');\n",
              "          quickchartButtonEl.disabled = true;  // To prevent multiple clicks.\n",
              "          quickchartButtonEl.classList.add('colab-df-spinner');\n",
              "          try {\n",
              "            const charts = await google.colab.kernel.invokeFunction(\n",
              "                'suggestCharts', [key], {});\n",
              "          } catch (error) {\n",
              "            console.error('Error during call to suggestCharts:', error);\n",
              "          }\n",
              "          quickchartButtonEl.classList.remove('colab-df-spinner');\n",
              "          quickchartButtonEl.classList.add('colab-df-quickchart-complete');\n",
              "        }\n",
              "        (() => {\n",
              "          let quickchartButtonEl =\n",
              "            document.querySelector('#df-8e2edfe2-c063-4a7c-b7c4-d66891fcfa43 button');\n",
              "          quickchartButtonEl.style.display =\n",
              "            google.colab.kernel.accessAllowed ? 'block' : 'none';\n",
              "        })();\n",
              "      </script>\n",
              "    </div>\n",
              "\n",
              "    </div>\n",
              "  </div>\n"
            ],
            "application/vnd.google.colaboratory.intrinsic+json": {
              "type": "dataframe",
              "variable_name": "All_df",
              "summary": "{\n  \"name\": \"All_df\",\n  \"rows\": 5364,\n  \"fields\": [\n    {\n      \"column\": \"Headline\",\n      \"properties\": {\n        \"dtype\": \"string\",\n        \"num_unique_values\": 4458,\n        \"samples\": [\n          \"\\u099b\\u09df \\u0995\\u09b0\\u09cd\\u09ae\\u0995\\u09b0\\u09cd\\u09a4\\u09be\\u0995\\u09c7 \\u09b8\\u09bf\\u09a8\\u09bf\\u09df\\u09b0 \\u09b8\\u099a\\u09bf\\u09ac \\u0993 \\u09b8\\u099a\\u09bf\\u09ac \\u09aa\\u09b0\\u09cd\\u09af\\u09be\\u09df\\u09c7 \\u09b0\\u09a6\\u09ac\\u09a6\\u09b2\",\n          \"\\u09ae\\u09be\\u09a4\\u09be\\u09b2 \\u09b6\\u09b0\\u09a3\\u09be\\u09b0\\u09cd\\u09a5\\u09c0\\u09a6\\u09c7\\u09b0 \\u09ae\\u09c1\\u0996\\u09c7 \\u09a5\\u09c1\\u09a5\\u09c1 \\u09ab\\u09c7\\u09b2\\u09c7 \\u098f\\u09ac\\u0982 \\u099c\\u09be\\u09b0\\u09cd\\u09ae\\u09be\\u09a8 \\u09a8\\u09be\\u09b0\\u09cd\\u09b8\\u09a6\\u09c7\\u09b0 \\u0995\\u09be\\u09ae\\u09a1\\u09bc \\u09a6\\u09c7\\u09af\\u09bc:\",\n          \"\\u09a6\\u09be\\u09ac\\u09bf \\u0986\\u09a6\\u09be\\u09df\\u09c7 \\u0990\\u0995\\u09cd\\u09af\\u09ac\\u09a6\\u09cd\\u09a7 \\u0986\\u09a8\\u09cd\\u09a6\\u09cb\\u09b2\\u09a8\\u09c7\\u09b0 \\u0986\\u09b9\\u09cd\\u09ac\\u09be\\u09a8\"\n        ],\n        \"semantic_type\": \"\",\n        \"description\": \"\"\n      }\n    },\n    {\n      \"column\": \"Content\",\n      \"properties\": {\n        \"dtype\": \"string\",\n        \"num_unique_values\": 4558,\n        \"samples\": [\n          \"\\u09b8\\u09b0\\u09cd\\u09ac\\u09cb\\u099a\\u09cd\\u099a \\u09b6\\u09be\\u09b8\\u09cd\\u09a4\\u09bf \\u09ae\\u09c3\\u09a4\\u09cd\\u09af\\u09c1\\u09a6\\u09a3\\u09cd\\u09a1\\u09c7\\u09b0 \\u09ac\\u09bf\\u09a7\\u09be\\u09a8 \\u09b0\\u09c7\\u0996\\u09c7 \\u09a8\\u09a4\\u09c1\\u09a8 \\u2018\\u09ae\\u09be\\u09a6\\u0995\\u09a6\\u09cd\\u09b0\\u09ac\\u09cd\\u09af \\u09a8\\u09bf\\u09df\\u09a8\\u09cd\\u09a4\\u09cd\\u09b0\\u09a3 \\u0986\\u0987\\u09a8, \\u09e8\\u09e6\\u09e7\\u09ee\\u2019 \\u098f\\u09b0 \\u0996\\u09b8\\u09dc\\u09be \\u09a8\\u09c0\\u09a4\\u09bf\\u0997\\u09a4\\u09ad\\u09be\\u09ac\\u09c7 \\u0985\\u09a8\\u09c1\\u09ae\\u09cb\\u09a6\\u09a8 \\u09a6\\u09bf\\u09df\\u09c7\\u099b\\u09c7 \\u09ae\\u09a8\\u09cd\\u09a4\\u09cd\\u09b0\\u09bf\\u09b8\\u09ad\\u09be\\u0964 \\u09b8\\u09cb\\u09ae\\u09ac\\u09be\\u09b0 \\u09b0\\u09be\\u099c\\u09a7\\u09be\\u09a8\\u09c0\\u09b0 \\u09a4\\u09c7\\u099c\\u0997\\u09be\\u0981\\u0993\\u09df\\u09c7 \\u09aa\\u09cd\\u09b0\\u09a7\\u09be\\u09a8\\u09ae\\u09a8\\u09cd\\u09a4\\u09cd\\u09b0\\u09c0\\u09b0 \\u0995\\u09be\\u09b0\\u09cd\\u09af\\u09be\\u09b2\\u09df\\u09c7 \\u09ae\\u09a8\\u09cd\\u09a4\\u09cd\\u09b0\\u09bf\\u09b8\\u09ad\\u09be \\u09ac\\u09c8\\u09a0\\u0995\\u09c7 \\u098f\\u0987 \\u0985\\u09a8\\u09c1\\u09ae\\u09cb\\u09a6\\u09a8 \\u09a6\\u09c7\\u09df\\u09be \\u09b9\\u09df\\u0964 \\u09aa\\u09cd\\u09b0\\u09a7\\u09be\\u09a8\\u09ae\\u09a8\\u09cd\\u09a4\\u09cd\\u09b0\\u09c0 \\u09b6\\u09c7\\u0996 \\u09b9\\u09be\\u09b8\\u09bf\\u09a8\\u09be \\u09ac\\u09c8\\u09a0\\u0995\\u09c7 \\u09b8\\u09ad\\u09be\\u09aa\\u09a4\\u09bf\\u09a4\\u09cd\\u09ac \\u0995\\u09b0\\u09c7\\u09a8\\u0964 \\u09ac\\u09c8\\u09a0\\u0995 \\u09b6\\u09c7\\u09b7\\u09c7 \\u09b8\\u099a\\u09bf\\u09ac\\u09be\\u09b2\\u09df\\u09c7 \\u09ae\\u09a8\\u09cd\\u09a4\\u09cd\\u09b0\\u09bf\\u09aa\\u09b0\\u09bf\\u09b7\\u09a6 \\u09b8\\u099a\\u09bf\\u09ac \\u09ae\\u09cb\\u09b9\\u09be\\u09ae\\u09cd\\u09ae\\u09a6 \\u09b6\\u09ab\\u09bf\\u0989\\u09b2 \\u0986\\u09b2\\u09ae \\u098f\\u0987 \\u0985\\u09a8\\u09c1\\u09ae\\u09cb\\u09a6\\u09a8\\u09c7\\u09b0 \\u0995\\u09a5\\u09be \\u099c\\u09be\\u09a8\\u09be\\u09a8\\u0964 \\u09a8\\u09a4\\u09c1\\u09a8 \\u0986\\u0987\\u09a8 \\u09b8\\u09ae\\u09cd\\u09aa\\u09b0\\u09cd\\u0995\\u09c7 \\u09ae\\u09a8\\u09cd\\u09a4\\u09cd\\u09b0\\u09bf\\u09aa\\u09b0\\u09bf\\u09b7\\u09a6 \\u09b8\\u099a\\u09bf\\u09ac \\u099c\\u09be\\u09a8\\u09be\\u09a8, \\u09aa\\u09cd\\u09b0\\u09b8\\u09cd\\u09a4\\u09be\\u09ac\\u09bf\\u09a4 \\u0986\\u0987\\u09a8 \\u0985\\u09a8\\u09c1\\u09af\\u09be\\u09df\\u09c0 \\u09aa\\u09be\\u0981\\u099a \\u0997\\u09cd\\u09b0\\u09be\\u09ae\\u09c7\\u09b0 \\u09ac\\u09c7\\u09b6\\u09bf \\u0987\\u09df\\u09be\\u09ac\\u09be \\u09aa\\u09b0\\u09bf\\u09ac\\u09b9\\u09a8, \\u09ae\\u099c\\u09c1\\u09a6, \\u09ac\\u09bf\\u09aa\\u09a3\\u09a8 \\u0993 \\u09b8\\u09c7\\u09ac\\u09a8\\u09c7\\u09b0 \\u0995\\u09cd\\u09b7\\u09c7\\u09a4\\u09cd\\u09b0\\u09c7 \\u09b8\\u09b0\\u09cd\\u09ac\\u09cb\\u099a\\u09cd\\u099a \\u09b6\\u09be\\u09b8\\u09cd\\u09a4\\u09bf \\u09ae\\u09c3\\u09a4\\u09cd\\u09af\\u09c1\\u09a6\\u09a3\\u09cd\\u09a1\\u0964 \\u09e8\\u09eb \\u0997\\u09cd\\u09b0\\u09be\\u09ae\\u09c7\\u09b0 \\u09ac\\u09c7\\u09b6\\u09bf \\u09b9\\u09c7\\u09b0\\u09cb\\u0987\\u09a8, \\u0995\\u09cb\\u0995\\u09c7\\u09a8\\u09b8\\u09b9 \\u09b8\\u09ae\\u099c\\u09be\\u09a4\\u09c0\\u09df \\u09ae\\u09be\\u09a6\\u0995\\u09a6\\u09cd\\u09b0\\u09ac\\u09cd\\u09af\\u09c7\\u09b0 \\u0995\\u09cd\\u09b7\\u09c7\\u09a4\\u09cd\\u09b0\\u09c7 \\u09b8\\u09b0\\u09cd\\u09ac\\u09cb\\u099a\\u09cd\\u099a \\u09b6\\u09be\\u09b8\\u09cd\\u09a4\\u09bf\\u0993 \\u09ae\\u09c3\\u09a4\\u09cd\\u09af\\u09c1\\u09a6\\u09a3\\u09cd\\u09a1\\u0964 \\u0986\\u0997\\u09c7\\u09b0 \\u0986\\u0987\\u09a8\\u09c7 \\u09ae\\u09be\\u09a6\\u0995\\u09a6\\u09cd\\u09b0\\u09ac\\u09cd\\u09af \\u09b8\\u0982\\u0995\\u09cd\\u09b0\\u09be\\u09a8\\u09cd\\u09a4 \\u0985\\u09aa\\u09b0\\u09be\\u09a7\\u09c7\\u09b0 \\u09b8\\u09b0\\u09cd\\u09ac\\u09cb\\u099a\\u09cd\\u099a \\u09b6\\u09be\\u09b8\\u09cd\\u09a4\\u09bf \\u099b\\u09bf\\u09b2 \\u09e7\\u09eb \\u09ac\\u099b\\u09b0\\u09c7\\u09b0 \\u0995\\u09be\\u09b0\\u09be\\u09a6\\u09a3\\u09cd\\u09a1\\u0964 \\u09ac\\u09bf\\u09b8\\u09cd\\u09a4\\u09be\\u09b0\\u09bf\\u09a4 \\u0986\\u09b8\\u099b\\u09c7... \\u0986\\u09b0\\u098f\\u09ae\\u098f\\u09ae/\\u098f\\u09ae\\u098f\\u0986\\u09b0/\\u09aa\\u09bf\\u0986\\u09b0\",\n          \"\\u09a8\\u09bf\\u099c\\u09b8\\u09cd\\u09ac \\u09ae\\u09a4\\u09bf\\u09ac\\u09c7\\u09a6\\u0995\\u201c\\u09aa\\u09cd\\u09b0\\u09bf\\u09a8\\u09cd\\u09b8\\u09bf\\u09aa\\u09be\\u09b2 \\u0987\\u09ac\\u09cd\\u09b0\\u09be\\u09b9\\u09c0\\u09ae \\u0996\\u09be\\u0981 \\u09ae\\u09c1\\u09b8\\u09b2\\u09bf\\u09ae \\u09ac\\u09be\\u0982\\u09b2\\u09be\\u09b0 \\u09b8\\u09be\\u09b9\\u09bf\\u09a4\\u09cd\\u09af \\u099c\\u0997\\u09a4\\u09c7\\u09b0 \\u098f\\u0995 \\u0985\\u09ac\\u09bf\\u09b8\\u09cd\\u09ae\\u09b0\\u09a8\\u09c0\\u09af\\u09bc \\u09a4\\u09be\\u09b0\\u0995\\u09be\\u0964 \\u09a4\\u09be\\u0981\\u09b0 \\u09b0\\u099a\\u09bf\\u09a4 \\u0985\\u09ae\\u09b0 \\u09b8\\u09be\\u09b9\\u09bf\\u09a4\\u09cd\\u09af\\u0995\\u09c0\\u09b0\\u09cd\\u09a4\\u09bf\\u09b0 \\u0986\\u09ae\\u09bf \\u0985\\u09a4\\u09c1\\u09b2 \\u09ad\\u0995\\u09cd\\u09a4\\u0964 \\u09a4\\u09be\\u0987 \\u09a4\\u09be\\u0981\\u09b0 \\u0997\\u09b2\\u09cd\\u09aa \\u201c\\u09aa\\u09c1\\u099f\\u09c1\\u201d \\u0985\\u09a8\\u09c1\\u09b8\\u09be\\u09b0\\u09c7 \\u0986\\u09ae\\u09bf\\u0993 \\u0986\\u09ae\\u09be\\u09b0 \\u09aa\\u09cb\\u09b7\\u09be \\u099b\\u09be\\u0997\\u09b2\\u09c7\\u09b0 \\u09a8\\u09be\\u09ae \\u09b0\\u09be\\u0996\\u09b2\\u09be\\u09ae \\u09aa\\u09c1\\u099f\\u09c1\\u0964\\u201d\\u0986\\u099c \\u098f\\u0995 \\u09b8\\u0982\\u09ac\\u09be\\u09a6 \\u09b8\\u09ae\\u09cd\\u09ae\\u09c7\\u09b2\\u09a8\\u09c7 \\u098f \\u0995\\u09a5\\u09be \\u09ac\\u09b2\\u09c7\\u09a8 \\u09ac\\u09bf\\u09b6\\u09bf\\u09b7\\u09cd\\u099f \\u0987\\u09a4\\u09bf\\u09b9\\u09be\\u09b8\\u09ac\\u09bf\\u09a6, \\u0995\\u09b2\\u09be\\u09ae\\u09bf\\u09b7\\u09cd\\u099f \\u0993 \\u0997\\u09be\\u09a8\\u09cd\\u09a7\\u09c0\\u09ac\\u09be\\u09a6\\u09c0 \\u0986\\u09a8\\u09cd\\u09a6\\u09cb\\u09b2\\u09a8\\u09c7\\u09b0 \\u0985\\u0997\\u09cd\\u09a8\\u09bf\\u09aa\\u09c1\\u09b0\\u09c1\\u09b7 \\u09b8\\u09c8\\u09af\\u09bc\\u09a6 \\u0986\\u09ac\\u09c1\\u09b2 \\u09ae\\u0995\\u09b8\\u09c1\\u09a6\\u0964 \\u098f \\u09b8\\u09ae\\u09af\\u09bc \\u09a4\\u09be\\u0981\\u09b0 \\u09aa\\u09cb\\u09b7\\u09be \\u099b\\u09be\\u0997\\u09b2\\u099f\\u09bf \\u09a4\\u09be\\u0981\\u09b0 \\u09aa\\u09be\\u09b6\\u09c7 \\u099b\\u09bf\\u09b2\\u0964\\u09ae\\u0995\\u09b8\\u09c1\\u09a6 \\u099c\\u09be\\u09a8\\u09be\\u09a8, \\u09aa\\u09c1\\u099f\\u09c1\\u09b0 \\u0986\\u0995\\u09c0\\u0995\\u09be \\u0989\\u09aa\\u09b2\\u0995\\u09cd\\u09b7\\u09cd\\u09af\\u09c7 \\u09a4\\u09bf\\u09a8\\u09bf \\u098f\\u0995\\u099f\\u09bf \\u0996\\u09be\\u09b8\\u09c0 \\u099c\\u09ac\\u09be\\u0987 \\u0995\\u09b0\\u09c7\\u099b\\u09c7\\u09a8\\u0964\\u0996\\u09be\\u09b8\\u09c0 \\u099c\\u09ac\\u09be\\u0987 \\u0995\\u09b0\\u09be \\u0985\\u09b9\\u09bf\\u0982\\u09b8 \\u09b0\\u09be\\u099c\\u09a8\\u09c0\\u09a4\\u09bf\\u09b0 \\u09ac\\u09bf\\u09aa\\u0995\\u09cd\\u09b7\\u09c7 \\u09af\\u09be\\u09af\\u09bc \\u0995\\u09bf \\u09a8\\u09be, \\u098f \\u09aa\\u09cd\\u09b0\\u09b6\\u09cd\\u09a8\\u09c7\\u09b0 \\u099c\\u09ac\\u09be\\u09ac\\u09c7 \\u09b8\\u09cd\\u09ae\\u09bf\\u09a4 \\u09b9\\u09c7\\u09b8\\u09c7 \\u09aa\\u09cd\\u09b0\\u09ac\\u09c0\\u09a8 \\u0987\\u09a4\\u09bf\\u09b9\\u09be\\u09b8\\u09ac\\u09bf\\u09a6 \\u09ae\\u0995\\u09b8\\u09c1\\u09a6 \\u09ac\\u09b2\\u09c7\\u09a8,  \\u201c\\u0985\\u09b9\\u09bf\\u0982\\u09b8\\u09be \\u09aa\\u09b0\\u09ae \\u09a7\\u09b0\\u09cd\\u09ae\\u0964 \\u0985\\u09b9\\u09bf\\u0982\\u09b8\\u09be\\u09b0 \\u099c\\u09a8\\u09cd\\u09af\\u0987 \\u0986\\u09ae\\u09bf \\u099b\\u09be\\u0997\\u09b2\\u09c7\\u09b0 \\u09a6\\u09c1\\u09a7 \\u0996\\u09be\\u0987\\u0964 \\u09b8\\u09c7\\u0987 \\u099b\\u09be\\u0997\\u09b2\\u09c7\\u09b0 \\u098f\\u0995\\u099f\\u09bf \\u09a8\\u09be\\u09ae \\u09b0\\u09be\\u0996\\u09be \\u098f\\u0987 \\u0985\\u09b9\\u09bf\\u0982\\u09b8\\u09be \\u09a7\\u09b0\\u09cd\\u09ae\\u09c7\\u09b0\\u0987 \\u0985\\u0982\\u09b6\\u0964 \\u0986\\u09b0 \\u09b8\\u09c7\\u0987 \\u09a8\\u09be\\u09ae \\u09b0\\u09be\\u0996\\u09a4\\u09c7 \\u0997\\u09bf\\u09af\\u09bc\\u09c7 \\u0986\\u0995\\u09c0\\u0995\\u09be\\u09b0 \\u099c\\u09a8\\u09cd\\u09af \\u0996\\u09be\\u09b8\\u09c0 \\u0995\\u09c7\\u09a8, \\u0986\\u09ae\\u09bf \\u09b9\\u09be\\u09a4\\u09bf\\u0993 \\u099c\\u09ac\\u09be\\u0987 \\u0995\\u09b0\\u09a4\\u09c7 \\u09aa\\u09cd\\u09b0\\u09b8\\u09cd\\u09a4\\u09c1\\u09a4\\u0964\\u201d\\u098f \\u09ac\\u09cd\\u09af\\u09be\\u09aa\\u09be\\u09b0\\u09c7 \\u09aa\\u09c1\\u099f\\u09c1 \\u0995\\u09cb\\u09a8 \\u09ae\\u09a8\\u09cd\\u09a4\\u09ac\\u09cd\\u09af \\u0995\\u09b0\\u09a4\\u09c7 \\u09b0\\u09be\\u099c\\u09bf \\u09b9\\u09a8\\u09a8\\u09bf\\u0964\\u0986\\u09ac\\u09c1\\u09b2 \\u09ae\\u0995\\u09b8\\u09c1\\u09a6 \\u09ae\\u09a4\\u09bf\\u09ac\\u09c7\\u09a6\\u0995\\u0995\\u09c7 \\u09ac\\u09b2\\u09c7\\u09a8, \\u09a4\\u09bf\\u09a8\\u09bf \\u09aa\\u09c1\\u099f\\u09c1\\u0995\\u09c7 \\u09b8\\u09be\\u09a5\\u09c0 \\u0995\\u09b0\\u09c7 \\u09ac\\u09b9\\u09c1\\u09a6\\u09c2\\u09b0 \\u09af\\u09be\\u09ac\\u09c7\\u09a8\\u0964 \\u09ae\\u0995\\u09b8\\u09c1\\u09a6 \\u09ac\\u09b2\\u09c7\\u09a8, \\u201c\\u098f\\u0996\\u09a8 \\u09aa\\u09c1\\u099f\\u09c1\\u0987 \\u0986\\u09ae\\u09be\\u09b0 \\u09b8\\u09ac\\u0964\\u201d\",\n          \"\\u09b0\\u09be\\u09ac\\u09bf: \\u09ac\\u09b9\\u09c1\\u09b2 \\u09aa\\u09cd\\u09b0\\u09a4\\u09bf\\u0995\\u09cd\\u09b7\\u09bf\\u09a4 \\u09b0\\u09be\\u099c\\u09b6\\u09be\\u09b9\\u09c0 \\u09ac\\u09bf\\u09b6\\u09cd\\u09ac\\u09ac\\u09bf\\u09a6\\u09cd\\u09af\\u09be\\u09b2\\u09df\\u09c7\\u09b0 (\\u09b0\\u09be\\u09ac\\u09bf) \\u09a6\\u09b6\\u09ae \\u09b8\\u09ae\\u09be\\u09ac\\u09b0\\u09cd\\u09a4\\u09a8 \\u0986\\u0997\\u09be\\u09ae\\u09c0 \\u09e8\\u09ef \\u09b8\\u09c7\\u09aa\\u09cd\\u099f\\u09c7\\u09ae\\u09cd\\u09ac\\u09b0 \\u0985\\u09a8\\u09c1\\u09b7\\u09cd\\u09a0\\u09bf\\u09a4 \\u09b9\\u09ac\\u09c7\\u0964 \\u09ac\\u09be\\u0995\\u09bf \\u0986\\u09b0 \\u09ae\\u09be\\u09a4\\u09cd\\u09b0 \\u09ec \\u09a6\\u09bf\\u09a8\\u0964 \\u0985\\u09a8\\u09c1\\u09b7\\u09cd\\u09a0\\u09be\\u09a8\\u09c7\\u09b0 \\u09b8\\u09ad\\u09be\\u09aa\\u09a4\\u09bf \\u09ac\\u09bf\\u09b6\\u09cd\\u09ac\\u09ac\\u09bf\\u09a6\\u09cd\\u09af\\u09be\\u09b2\\u09df\\u09c7\\u09b0 \\u0986\\u099a\\u09be\\u09b0\\u09cd\\u09af \\u0993 \\u09b0\\u09be\\u09b7\\u09cd\\u099f\\u09cd\\u09b0\\u09aa\\u09a4\\u09bf \\u0986\\u09ac\\u09cd\\u09a6\\u09c1\\u09b2 \\u09b9\\u09be\\u09ae\\u09bf\\u09a6 \\u098f\\u09ac\\u0982 \\u0997\\u09cd\\u09b0\\u09cd\\u09af\\u09be\\u099c\\u09c1\\u09df\\u09c7\\u099f\\u09a6\\u09c7\\u09b0 \\u09ac\\u09b0\\u09a3 \\u0995\\u09b0\\u09c7 \\u09a8\\u09bf\\u09a4\\u09c7 \\u09ac\\u09b0\\u09cd\\u09a3\\u09bf\\u09b2 \\u09b0\\u09c2\\u09aa\\u09c7 \\u09b8\\u09be\\u099c\\u09a4\\u09c7 \\u09b6\\u09c1\\u09b0\\u09c1 \\u0995\\u09b0\\u099b\\u09c7 \\u09ac\\u09bf\\u09b6\\u09cd\\u09ac\\u09ac\\u09bf\\u09a6\\u09cd\\u09af\\u09be\\u09b2\\u09df \\u0995\\u09cd\\u09af\\u09be\\u09ae\\u09cd\\u09aa\\u09be\\u09b8\\u0964\\u00a0 \\u09ac\\u09bf\\u09ad\\u09bf\\u09a8\\u09cd\\u09a8 \\u09ad\\u09ac\\u09a8 \\u0993 \\u098f\\u09b0 \\u0986\\u09b6\\u09aa\\u09be\\u09b6\\u09c7 \\u099a\\u09b2\\u099b\\u09c7 \\u09aa\\u09b0\\u09bf\\u099a\\u09cd\\u099b\\u09a8\\u09cd\\u09a8\\u09a4\\u09be \\u0993 \\u09b6\\u09cb\\u09ad\\u09be\\u09ac\\u09b0\\u09cd\\u09a7\\u09a8\\u09c7\\u09b0 \\u0995\\u09be\\u099c\\u0964 \\u09b8\\u09dc\\u0995\\u09c7\\u09b0 \\u09aa\\u09be\\u09b6\\u09c7\\u09b0 \\u0997\\u09be\\u099b\\u0997\\u09c1\\u09b2\\u09cb\\u09a4\\u09c7 \\u09b8\\u09be\\u09a6\\u09be-\\u09b2\\u09be\\u09b2 \\u09b0\\u0999\\u09df\\u09c7\\u09b0 \\u0986\\u09b2\\u09cb\\u0995\\u099a\\u09cd\\u099b\\u099f\\u09be\\u09df \\u099a\\u09bf\\u09b0\\u099a\\u09c7\\u09a8\\u09be \\u09b0\\u09c2\\u09aa\\u09c7 \\u09a8\\u09a4\\u09c1\\u09a8 \\u09ae\\u09be\\u09a4\\u09cd\\u09b0\\u09be \\u09af\\u09cb\\u0997 \\u09b9\\u09df\\u09c7\\u099b\\u09c7\\u0964 \\u09af\\u09be \\u09b8\\u09ae\\u09be\\u09ac\\u09b0\\u09cd\\u09a4\\u09a8\\u09c7\\u09b0 \\u0986\\u09ac\\u09c7\\u09b6\\u0995\\u09c7 \\u09ac\\u09be\\u09dc\\u09bf\\u09df\\u09c7 \\u09a6\\u09bf\\u09df\\u09c7\\u099b\\u09c7 \\u0995\\u09df\\u09c7\\u0995\\u0997\\u09c1\\u09a3\\u0964 \\u09ab\\u09b2\\u09c7 \\u09b8\\u09ae\\u09be\\u09ac\\u09b0\\u09cd\\u09a4\\u09a8\\u0995\\u09c7 \\u0998\\u09bf\\u09b0\\u09c7 \\u09b6\\u09bf\\u0995\\u09cd\\u09b7\\u0995-\\u09b6\\u09bf\\u0995\\u09cd\\u09b7\\u09be\\u09b0\\u09cd\\u09a5\\u09c0\\u09b8\\u09b9 \\u0995\\u09cd\\u09af\\u09be\\u09ae\\u09cd\\u09aa\\u09be\\u09b8\\u09c7\\u09b0 \\u0986\\u09a8\\u09be\\u099a\\u09c7-\\u0995\\u09be\\u09a8\\u09be\\u099a\\u09c7 \\u09af\\u09c7\\u09a8 \\u0989\\u09ce\\u09b8\\u09ac\\u09c7\\u09b0 \\u0986\\u09ae\\u09c7\\u099c \\u09ac\\u0987\\u099b\\u09c7\\u0964 \\u098f\\u099b\\u09be\\u09dc\\u09be \\u09b8\\u09ae\\u09be\\u09ac\\u09b0\\u09cd\\u09a4\\u09a8\\u0995\\u09c7 \\u0998\\u09bf\\u09b0\\u09c7 \\u0995\\u09cd\\u09af\\u09be\\u09ae\\u09cd\\u09aa\\u09be\\u09b8\\u09c7\\u09b0 \\u09b8\\u09be\\u09b0\\u09cd\\u09ac\\u09bf\\u0995 \\u09a8\\u09bf\\u09b0\\u09be\\u09aa\\u09a4\\u09cd\\u09a4\\u09be \\u09ac\\u09cd\\u09af\\u09ac\\u09b8\\u09cd\\u09a5\\u09be \\u099c\\u09cb\\u09b0\\u09a6\\u09be\\u09b0\\u09c7\\u09b0 \\u09aa\\u09cd\\u09b0\\u09b8\\u09cd\\u09a4\\u09c1\\u09a4\\u09bf\\u0993 \\u099a\\u09b2\\u099b\\u09c7\\u0964\\u00a0 \\u09ac\\u09bf\\u09b6\\u09cd\\u09ac\\u09ac\\u09bf\\u09a6\\u09cd\\u09af\\u09be\\u09b2\\u09df \\u09b8\\u09c2\\u09a4\\u09cd\\u09b0\\u09c7 \\u099c\\u09be\\u09a8\\u09be \\u09af\\u09be\\u09df, \\u0986\\u0997\\u09be\\u09ae\\u09c0 \\u09e8\\u09ef \\u09b8\\u09c7\\u09aa\\u09cd\\u099f\\u09c7\\u09ae\\u09cd\\u09ac\\u09b0 \\u09b0\\u09be\\u099c\\u09b6\\u09be\\u09b9\\u09c0 \\u09ac\\u09bf\\u09b6\\u09cd\\u09ac\\u09ac\\u09bf\\u09a6\\u09cd\\u09af\\u09be\\u09b2\\u09df\\u09c7\\u09b0 \\u09b8\\u09cd\\u099f\\u09c7\\u09a1\\u09bf\\u09df\\u09be\\u09ae\\u09c7 \\u09b8\\u09ae\\u09be\\u09ac\\u09b0\\u09cd\\u09a4\\u09a8 \\u0985\\u09a8\\u09c1\\u09b7\\u09cd\\u09a0\\u09be\\u09a8\\u09c7\\u09b0 \\u0986\\u09df\\u09cb\\u099c\\u09a8 \\u0995\\u09b0\\u09be \\u09b9\\u09ac\\u09c7\\u0964 \\u098f\\u09a4\\u09c7 \\u0985\\u0982\\u09b6 \\u09a8\\u09bf\\u09a4\\u09c7 \\u09ae\\u09cb\\u099f \\u09ec \\u09b9\\u09be\\u099c\\u09be\\u09b0 \\u09ef \\u099c\\u09a8 \\u0997\\u09cd\\u09b0\\u09cd\\u09af\\u09be\\u099c\\u09c1\\u09df\\u09c7\\u099f \\u09a8\\u09bf\\u09ac\\u09a8\\u09cd\\u09a7\\u09a8 \\u0995\\u09b0\\u09c7\\u099b\\u09c7\\u09a8\\u0964 \\u09b8\\u09ae\\u09be\\u09ac\\u09b0\\u09cd\\u09a4\\u09a8 \\u0989\\u09aa\\u09b2\\u0995\\u09cd\\u09b7\\u09c7 \\u0995\\u09cd\\u09af\\u09be\\u09ae\\u09cd\\u09aa\\u09be\\u09b8\\u09c7 \\u09ac\\u09cd\\u09af\\u09be\\u09aa\\u0995 \\u09b6\\u09cb\\u09ad\\u09be\\u09ac\\u09b0\\u09cd\\u09a7\\u09a8\\u09c7\\u09b0 \\u0995\\u09be\\u099c \\u099a\\u09b2\\u099b\\u09c7\\u0964 \\u098f \\u0995\\u09be\\u099c\\u09c7\\u09b0 \\u09a4\\u09a4\\u09cd\\u09a4\\u09cd\\u09ac\\u09be\\u09ac\\u09a7\\u09be\\u09a8\\u09c7 \\u09ac\\u09bf\\u09b6\\u09cd\\u09ac\\u09ac\\u09bf\\u09a6\\u09cd\\u09af\\u09be\\u09b2\\u09df \\u09aa\\u09cd\\u09b0\\u09b6\\u09be\\u09b8\\u09a8 \\u098f\\u0995\\u099f\\u09bf \\u0995\\u09ae\\u09bf\\u099f\\u09bf\\u0993 \\u0997\\u09a0\\u09a8 \\u0995\\u09b0\\u09c7\\u099b\\u09c7\\u0964 \\u09ac\\u09be\\u099c\\u09c7\\u099f \\u09a8\\u09bf\\u09b0\\u09cd\\u09a7\\u09be\\u09b0\\u09a3 \\u0995\\u09b0\\u09be \\u09b9\\u09df\\u09c7\\u099b\\u09c7 \\u09aa\\u09cd\\u09b0\\u09be\\u09df \\u09e8\\u09e8 \\u09b2\\u09be\\u0996 \\u099f\\u09be\\u0995\\u09be\\u0964 \\u09a8\\u09bf\\u09b0\\u09cd\\u09a7\\u09be\\u09b0\\u09bf\\u09a4 \\u09b8\\u09ae\\u09df\\u09c7\\u09b0 \\u0986\\u0997\\u09c7\\u0987 \\u0985\\u09a8\\u09c1\\u09b7\\u09cd\\u09a0\\u09be\\u09a8\\u09c7\\u09b0 \\u09b8\\u09ac \\u09aa\\u09cd\\u09b0\\u09b8\\u09cd\\u09a4\\u09c1\\u09a4\\u09bf \\u09b8\\u09ae\\u09cd\\u09aa\\u09a8\\u09cd\\u09a8 \\u0995\\u09b0\\u09a4\\u09c7 \\u09ac\\u09cd\\u09af\\u09b8\\u09cd\\u09a4 \\u09b8\\u09ae\\u09df \\u09aa\\u09be\\u09b0 \\u0995\\u09b0\\u099b\\u09c7\\u09a8 \\u09ac\\u09bf\\u09b6\\u09cd\\u09ac\\u09ac\\u09bf\\u09a6\\u09cd\\u09af\\u09be\\u09b2\\u09df \\u09aa\\u09cd\\u09b0\\u09b6\\u09be\\u09b8\\u09a8\\u09c7\\u09b0 \\u0995\\u09b0\\u09cd\\u09a4\\u09be-\\u09ac\\u09cd\\u09af\\u0995\\u09cd\\u09a4\\u09bf\\u09b0\\u09be\\u0964 \\u09b0\\u09cb\\u09ac\\u09ac\\u09be\\u09b0 (\\u09e8\\u09e9 \\u09b8\\u09c7\\u09aa\\u09cd\\u099f\\u09c7\\u09ae\\u09cd\\u09ac\\u09b0) \\u09b8\\u09b0\\u09c7\\u099c\\u09ae\\u09bf\\u09a8\\u09c7 \\u09a6\\u09c7\\u0996\\u09be \\u0997\\u09c7\\u099b\\u09c7, \\u09ac\\u09bf\\u09b6\\u09cd\\u09ac\\u09ac\\u09bf\\u09a6\\u09cd\\u09af\\u09be\\u09b2\\u09df\\u09c7\\u09b0 \\u09b8\\u09cd\\u099f\\u09c7\\u09a1\\u09bf\\u09df\\u09be\\u09ae\\u09c7 \\u09b8\\u09ae\\u09be\\u09ac\\u09b0\\u09cd\\u09a4\\u09a8 \\u0985\\u09a8\\u09c1\\u09b7\\u09cd\\u09a0\\u09be\\u09a8\\u09c7\\u09b0 \\u09ae\\u099e\\u09cd\\u099a \\u09a8\\u09bf\\u09b0\\u09cd\\u09ae\\u09be\\u09a3\\u09c7\\u09b0 \\u0995\\u09be\\u099c \\u09b6\\u09c1\\u09b0\\u09c1 \\u09b9\\u09df\\u09c7\\u099b\\u09c7\\u0964 \\u098f\\u09b0\\u0987 \\u09ae\\u09a7\\u09cd\\u09af\\u09c7 \\u09e8\\u099f\\u09bf \\u09aa\\u09cd\\u09b0\\u09b6\\u09be\\u09b8\\u09a8\\u09bf\\u0995 \\u09ad\\u09ac\\u09a8, \\u09b6\\u09b9\\u09c0\\u09a6 \\u09ae\\u09bf\\u09a8\\u09be\\u09b0 \\u099a\\u09a4\\u09cd\\u09ac\\u09b0, \\u09b8\\u09be\\u09ac\\u09be\\u09b8 \\u09ac\\u09be\\u0982\\u09b2\\u09be\\u09a6\\u09c7\\u09b6 \\u09ae\\u09be\\u09a0, \\u099c\\u09c1\\u09ac\\u09c7\\u09b0\\u09c0 \\u09ad\\u09ac\\u09a8, \\u09b6\\u09b9\\u09c0\\u09a6 \\u09b8\\u09c1\\u0996\\u09b0\\u099e\\u09cd\\u099c\\u09a8 \\u09b8\\u09ae\\u09be\\u09a6\\u09cd\\u09a6\\u09be\\u09b0 \\u099b\\u09be\\u09a4\\u09cd\\u09b0-\\u09b6\\u09bf\\u0995\\u09cd\\u09b7\\u0995 \\u09b8\\u09be\\u0982\\u09b8\\u09cd\\u0995\\u09c3\\u09a4\\u09bf\\u0995 \\u0995\\u09c7\\u09a8\\u09cd\\u09a6\\u09cd\\u09b0 (\\u099f\\u09bf\\u098f\\u09b8\\u09b8\\u09bf\\u09b8\\u09bf), \\u0995\\u09c7\\u09a8\\u09cd\\u09a6\\u09cd\\u09b0\\u09c0\\u09df \\u09ae\\u09b8\\u099c\\u09bf\\u09a6 \\u099a\\u09a4\\u09cd\\u09ac\\u09b0, \\u0995\\u09be\\u099c\\u09c0 \\u09a8\\u099c\\u09b0\\u09c1\\u09b2 \\u0987\\u09b8\\u09b2\\u09be\\u09ae \\u09ae\\u09bf\\u09b2\\u09a8\\u09be\\u09df\\u09a4\\u09a8, \\u0989\\u09aa\\u09be\\u099a\\u09be\\u09b0\\u09cd\\u09af\\u09c7\\u09b0 \\u09ac\\u09be\\u09b8\\u09ad\\u09ac\\u09a8, \\u09b6\\u09c7\\u09b0-\\u0987-\\u09ac\\u09be\\u0982\\u09b2\\u09be \\u0993 \\u09ac\\u0999\\u09cd\\u0997\\u09ac\\u09a8\\u09cd\\u09a7\\u09c1 \\u09b6\\u09c7\\u0996 \\u09ae\\u09c1\\u099c\\u09bf\\u09ac\\u09c1\\u09b0 \\u09b0\\u09b9\\u09ae\\u09be\\u09a8 \\u09b9\\u09b2\\u09b8\\u09b9 \\u09ac\\u09c7\\u09b6 \\u0995\\u09df\\u09c7\\u0995\\u099f\\u09bf \\u09ad\\u09ac\\u09a8 \\u09b0\\u0999 \\u0995\\u09b0\\u09be \\u09b9\\u099a\\u09cd\\u099b\\u09c7\\u0964\\u00a0 \\u098f\\u0995\\u09be\\u09a1\\u09c7\\u09ae\\u09bf\\u0995 \\u09ad\\u09ac\\u09a8\\u0997\\u09c1\\u09b2\\u09cb\\u09b0 \\u09ae\\u09a7\\u09cd\\u09af\\u09c7 \\u09b0\\u09ac\\u09c0\\u09a8\\u09cd\\u09a6\\u09cd\\u09b0 \\u09ad\\u09ac\\u09a8, \\u09aa\\u09cd\\u09b0\\u09a5\\u09ae, \\u09a6\\u09cd\\u09ac\\u09bf\\u09a4\\u09c0\\u09df \\u0993 \\u09a4\\u09c3\\u09a4\\u09c0\\u09df \\u09ac\\u09bf\\u099c\\u09cd\\u099e\\u09be\\u09a8 \\u09ad\\u09ac\\u09a8 \\u09b0\\u0999 \\u0995\\u09b0\\u09be\\u09b0 \\u09aa\\u09be\\u09b6\\u09be\\u09aa\\u09be\\u09b6\\u09bf \\u09ac\\u09bf\\u09ad\\u09bf\\u09a8\\u09cd\\u09a8 \\u09a7\\u09b0\\u09a8\\u09c7\\u09b0 \\u09ac\\u09be\\u09b9\\u09be\\u09b0\\u09bf \\u09ab\\u09c1\\u09b2\\u09c7\\u09b0 \\u0997\\u09be\\u099b \\u09b2\\u09be\\u0997\\u09be\\u09a8\\u09cb \\u09b9\\u099a\\u09cd\\u099b\\u09c7\\u0964 \\u098f\\u099b\\u09be\\u09dc\\u09be\\u0993 \\u09ac\\u09bf\\u09b6\\u09cd\\u09ac\\u09ac\\u09bf\\u09a6\\u09cd\\u09af\\u09be\\u09b2\\u09df\\u09c7\\u09b0 \\u09aa\\u09cd\\u09af\\u09be\\u09b0\\u09bf\\u09b8 \\u09b0\\u09cb\\u09a1\\u09c7\\u09b0 \\u0986\\u09b6\\u09aa\\u09be\\u09b6\\u09c7\\u09b0 \\u0997\\u09be\\u099b\\u0997\\u09c1\\u09b2\\u09cb\\u09a4\\u09c7 \\u09b0\\u0999 \\u0995\\u09b0\\u09be\\u09b8\\u09b9 \\u09ac\\u09c7\\u09b6 \\u0995\\u09df\\u09c7\\u0995\\u099f\\u09bf \\u09b8\\u09dc\\u0995 \\u09b8\\u0982\\u09b8\\u09cd\\u0995\\u09be\\u09b0 \\u0993 \\u099d\\u09cb\\u09aa\\u099d\\u09be\\u0981\\u09dc \\u09aa\\u09b0\\u09bf\\u099a\\u09cd\\u099b\\u09a8\\u09cd\\u09a8 \\u0995\\u09b0\\u09be \\u09b9\\u099a\\u09cd\\u099b\\u09c7\\u0964 \\u09ac\\u09bf\\u09b6\\u09cd\\u09ac\\u09ac\\u09bf\\u09a6\\u09cd\\u09af\\u09be\\u09b2\\u09df\\u09c7\\u09b0 \\u09aa\\u09cd\\u09b0\\u09a7\\u09be\\u09a8 \\u09ab\\u099f\\u0995\\u09c7\\u09b0 \\u09b8\\u09be\\u09ae\\u09a8\\u09c7 \\u09a5\\u09c7\\u0995\\u09c7 \\u09b6\\u09b9\\u09c0\\u09a6 \\u09a1. \\u09b6\\u09be\\u09ae\\u09b8\\u09c1\\u099c\\u09cd\\u099c\\u09cb\\u09b9\\u09be \\u099a\\u09a4\\u09cd\\u09ac\\u09b0 \\u09aa\\u09b0\\u09cd\\u09af\\u09a8\\u09cd\\u09a4 \\u09ab\\u09c1\\u099f\\u09aa\\u09be\\u09a4 \\u0993 \\u09ac\\u09be\\u0997\\u09be\\u09a8\\u09c7 \\u09b8\\u09cc\\u09a8\\u09cd\\u09a6\\u09b0\\u09cd\\u09af \\u09ac\\u09b0\\u09cd\\u09a7\\u09a8\\u09c7\\u09b0 \\u0995\\u09be\\u099c \\u099a\\u09b2\\u099b\\u09c7\\u0964 \\u099c\\u09c1\\u09ac\\u09c7\\u09b0\\u09c0 \\u09ad\\u09ac\\u09a8\\u09c7\\u09b0 \\u0995\\u09be\\u099b\\u09c7 \\u09aa\\u09cd\\u09b0\\u09b8\\u09cd\\u09a4\\u09c1\\u09a4 \\u0995\\u09b0\\u09be \\u09b9\\u09df\\u09c7\\u099b\\u09c7 \\u0985\\u09a4\\u09bf\\u09a5\\u09bf\\u09a6\\u09c7\\u09b0 \\u0997\\u09be\\u09dc\\u09bf \\u09aa\\u09be\\u09b0\\u09cd\\u0995\\u09bf\\u0982-\\u098f\\u09b0 \\u09b8\\u09cd\\u09a5\\u09be\\u09a8\\u0964 \\u09ac\\u09bf\\u09b6\\u09cd\\u09ac\\u09ac\\u09bf\\u09a6\\u09cd\\u09af\\u09be\\u09b2\\u09df\\u09c7\\u09b0 \\u09aa\\u09cd\\u09b0\\u09a7\\u09be\\u09a8 \\u09aa\\u09cd\\u09b0\\u0995\\u09cc\\u09b6\\u09b2\\u09c0 \\u09ae\\u09cb. \\u09b8\\u09bf\\u09b0\\u09be\\u099c\\u09c1\\u09ae \\u09ae\\u09c1\\u09a8\\u09c0\\u09b0 \\u09ac\\u09be\\u0982\\u09b2\\u09be\\u09a8\\u09bf\\u0989\\u099c\\u0995\\u09c7 \\u099c\\u09be\\u09a8\\u09be\\u09a8, \\u09b8\\u09ae\\u09be\\u09ac\\u09b0\\u09cd\\u09a4\\u09a8 \\u0989\\u09aa\\u09b2\\u0995\\u09cd\\u09b7\\u09c7 \\u09b0\\u09be\\u09b7\\u09cd\\u099f\\u09cd\\u09b0\\u09aa\\u09a4\\u09bf \\u0993 \\u0997\\u09cd\\u09b0\\u09cd\\u09af\\u09be\\u099c\\u09c1\\u09df\\u09c7\\u099f\\u09b0\\u09be \\u09ac\\u09bf\\u09b6\\u09cd\\u09ac\\u09ac\\u09bf\\u09a6\\u09cd\\u09af\\u09be\\u09b2\\u09df\\u09c7 \\u0986\\u09b8\\u099b\\u09c7\\u09a8\\u0964 \\u098f \\u0989\\u09aa\\u09b2\\u0995\\u09cd\\u09b7\\u09c7 \\u09b8\\u09ac\\u09be\\u09b0 \\u0995\\u09be\\u099b\\u09c7 \\u09ac\\u09bf\\u09b6\\u09cd\\u09ac\\u09ac\\u09bf\\u09a6\\u09cd\\u09af\\u09be\\u09b2\\u09df\\u0995\\u09c7 \\u09a8\\u09a4\\u09c1\\u09a8 \\u0986\\u0999\\u09cd\\u0997\\u09bf\\u0995\\u09c7 \\u0989\\u09aa\\u09b8\\u09cd\\u09a5\\u09be\\u09aa\\u09a8\\u09c7\\u09b0 \\u099c\\u09a8\\u09cd\\u09af \\u09ac\\u09bf\\u09b6\\u09cd\\u09ac\\u09ac\\u09bf\\u09a6\\u09cd\\u09af\\u09be\\u09b2\\u09df \\u09aa\\u09cd\\u09b0\\u09b6\\u09be\\u09b8\\u09a8 \\u09b8\\u09b0\\u09cd\\u09ac\\u09c7\\u09be\\u099a\\u09cd\\u099a \\u099a\\u09c7\\u09b7\\u09cd\\u099f\\u09be \\u0995\\u09b0\\u099b\\u09c7\\u0964 \\u09ac\\u09bf\\u09b6\\u09cd\\u09ac\\u09ac\\u09bf\\u09a6\\u09cd\\u09af\\u09be\\u09b2\\u09df\\u09c7\\u09b0 \\u09aa\\u09cd\\u09b0\\u0995\\u09cd\\u099f\\u09b0 \\u0985\\u09a7\\u09cd\\u09af\\u09be\\u09aa\\u0995 \\u09b2\\u09c1\\u09ce\\u09ab\\u09b0 \\u09b0\\u09b9\\u09ae\\u09be\\u09a8 \\u09ac\\u09be\\u0982\\u09b2\\u09be\\u09a8\\u09bf\\u0989\\u099c\\u0995\\u09c7 \\u09ac\\u09b2\\u09c7\\u09a8, \\u2018\\u09b8\\u09ae\\u09be\\u09ac\\u09b0\\u09cd\\u09a4\\u09a8\\u0995\\u09c7 \\u0995\\u09c7\\u09a8\\u09cd\\u09a6\\u09cd\\u09b0 \\u0995\\u09b0\\u09c7 \\u0995\\u09cd\\u09af\\u09be\\u09ae\\u09cd\\u09aa\\u09be\\u09b8\\u09c7 \\u09a8\\u09bf\\u09b0\\u09be\\u09aa\\u09a4\\u09cd\\u09a4\\u09be \\u09ac\\u09cd\\u09af\\u09ac\\u09b8\\u09cd\\u09a5\\u09be \\u099c\\u09cb\\u09b0\\u09a6\\u09be\\u09b0 \\u0995\\u09b0\\u09be \\u09b9\\u09df\\u09c7\\u099b\\u09c7\\u0964 \\u0985\\u09a8\\u09c1\\u09b7\\u09cd\\u09a0\\u09be\\u09a8\\u09c7\\u09b0 \\u09a6\\u09bf\\u09a8 \\u0995\\u09cd\\u09af\\u09be\\u09ae\\u09cd\\u09aa\\u09be\\u09b8 \\u099c\\u09c1\\u09dc\\u09c7 \\u0986\\u0987\\u09a8\\u09b6\\u09c3\\u0999\\u09cd\\u0996\\u09b2\\u09be \\u09ac\\u09be\\u09b9\\u09bf\\u09a8\\u09c0 \\u09b8\\u09b0\\u09cd\\u09ac\\u09cb\\u099a\\u09cd\\u099a \\u09b8\\u09a4\\u09b0\\u09cd\\u0995\\u09be\\u09ac\\u09b8\\u09cd\\u09a5\\u09be\\u09a8\\u09c7 \\u09a5\\u09be\\u0995\\u09ac\\u09c7\\u0964 \\u098f\\u099b\\u09be\\u09dc\\u09be\\u0993 \\u09ac\\u09bf\\u09b6\\u09cd\\u09ac\\u09ac\\u09bf\\u09a6\\u09cd\\u09af\\u09be\\u09b2\\u09df\\u09c7\\u09b0 \\u09a8\\u09bf\\u099c\\u09b8\\u09cd\\u09ac \\u09b8\\u09bf\\u09b8\\u09bf \\u0995\\u09cd\\u09af\\u09be\\u09ae\\u09c7\\u09b0\\u09be\\u09b0 \\u09ac\\u09cd\\u09af\\u09ac\\u09b8\\u09cd\\u09a5\\u09be\\u0993 \\u09b0\\u09df\\u09c7\\u099b\\u09c7\\u0964\\u2019 \\u09ac\\u09be\\u0982\\u09b2\\u09be\\u09a6\\u09c7\\u09b6 \\u09b8\\u09ae\\u09df: \\u09e7\\u09ed\\u09e6\\u09ea \\u0998\\u09a3\\u09cd\\u099f\\u09be, \\u09b8\\u09c7\\u09aa\\u09cd\\u099f\\u09c7\\u09ae\\u09cd\\u09ac\\u09b0 \\u09e8\\u09e9, \\u09e8\\u09e6\\u09e7\\u09ee \\u0986\\u09b0\\u098f\"\n        ],\n        \"semantic_type\": \"\",\n        \"description\": \"\"\n      }\n    },\n    {\n      \"column\": \"Label\",\n      \"properties\": {\n        \"dtype\": \"number\",\n        \"std\": 0,\n        \"min\": 0,\n        \"max\": 1,\n        \"num_unique_values\": 2,\n        \"samples\": [\n          0,\n          1\n        ],\n        \"semantic_type\": \"\",\n        \"description\": \"\"\n      }\n    },\n    {\n      \"column\": \"text\",\n      \"properties\": {\n        \"dtype\": \"string\",\n        \"num_unique_values\": 4898,\n        \"samples\": [\n          \"\\u098f\\u09ae\\u09c7\\u0995\\u09be \\u098f\\u0996\\u09a8\\u00a0\\u09ae\\u09cb\\u09b8\\u09cd\\u09a4\\u09ab\\u09be \\u0987\\u09b8\\u09b2\\u09be\\u09ae \\u09a7\\u09b0\\u09cd\\u09ae\\u0997\\u09cd\\u09b0\\u09b9\\u09a3 \\u0995\\u09b0\\u09b2\\u09c7\\u09a8 \\u09a2\\u09be\\u0995\\u09be \\u09ae\\u09cb\\u09b9\\u09be\\u09ae\\u09c7\\u09a1\\u09be\\u09a8\\u09c7\\u09b0 \\u0995\\u09cb\\u099a \\u098f\\u09ae\\u09c7\\u0995\\u09be\\u0964 \\u0997\\u09a4\\u0995\\u09be\\u09b2 \\u09a4\\u09bf\\u09a8\\u09bf \\u09ae\\u09a4\\u09bf\\u099d\\u09bf\\u09b2\\u09b8\\u09cd\\u09a5 \\u0995\\u09cd\\u09b2\\u09be\\u09ac \\u09ad\\u09ac\\u09a8\\u09c7 \\u099c\\u09cb\\u09b9\\u09b0 \\u09a8\\u09be\\u09ae\\u09be\\u099c \\u09aa\\u09a1\\u09bc\\u09c7 \\u0996\\u09cd\\u09b0\\u09c0\\u09b8\\u09cd\\u099f\\u09be\\u09a8 \\u09a7\\u09b0\\u09cd\\u09ae \\u09a4\\u09cd\\u09af\\u09be\\u0997 \\u0995\\u09b0\\u09c7 \\u0987\\u09b8\\u09b2\\u09be\\u09ae \\u09a7\\u09b0\\u09cd\\u09ae \\u0997\\u09cd\\u09b0\\u09b9\\u09a3 \\u0995\\u09b0\\u09c7\\u09a8\\u0964 \\u09a2\\u09be\\u0995\\u09be\\u09b0 \\u09ae\\u09be\\u09a0\\u09c7 \\u0986\\u09b2\\u09cb\\u099a\\u09bf\\u09a4 \\u09a8\\u09be\\u0987\\u099c\\u09c7\\u09b0\\u09bf\\u09af\\u09bc\\u09be\\u09a8 \\u098f \\u09ab\\u09c1\\u099f\\u09ac\\u09b2\\u09be\\u09b0 \\u098f\\u09ac\\u09be\\u09b0 \\u09ae\\u09cb\\u09b9\\u09be\\u09ae\\u09c7\\u09a1\\u09be\\u09a8\\u09c7\\u09b0 \\u0995\\u09cb\\u099a\\u09c7\\u09b0 \\u09a6\\u09be\\u09af\\u09bc\\u09bf\\u09a4\\u09cd\\u09ac \\u09a8\\u09bf\\u09af\\u09bc\\u09c7\\u099b\\u09c7\\u09a8\\u0964 \\u09af\\u09c7 \\u09a6\\u09b2\\u09c7\\u09b0 \\u09a8\\u09be\\u09ae \\u09ae\\u09cb\\u09b9\\u09be\\u09ae\\u09c7\\u09a1\\u09be\\u09a8 \\u0985\\u09b0\\u09cd\\u09a5\\u09be\\u09ce \\u09ae\\u09c1\\u09b9\\u09ae\\u09cd\\u09ae\\u09a6\\u09c0\\u09df \\u09b8\\u09c7\\u0987 \\u09a6\\u09b2\\u09c7\\u09b0 \\u0995\\u09cb\\u099a \\u0985\\u09ae\\u09c1\\u09b8\\u09b2\\u09bf\\u09ae \\u09b9\\u09a4\\u09c7 \\u09aa\\u09be\\u09b0\\u09c7 \\u09a8\\u09be \\u09ac\\u09bf\\u09a7\\u09be\\u09df \\u09aa\\u09cd\\u09b0\\u09be\\u09af\\u09bc\\u0987 \\u09a4\\u09bf\\u09a8\\u09bf \\u09a4\\u09be\\u09b0 \\u09ac\\u09a8\\u09cd\\u09a7\\u09c1\\u09a6\\u09c7\\u09b0 \\u09ac\\u09b2\\u09a4\\u09c7\\u09a8 \\u0986\\u09ae\\u09be\\u0995\\u09c7 \\u09ae\\u09c1\\u09b8\\u09b2\\u09ae\\u09be\\u09a8 \\u09b9\\u09a4\\u09c7 \\u09b9\\u09ac\\u09c7\\u0964 \\u098f\\u09ae\\u09a8 \\u0995\\u09a5\\u09be \\u099a\\u09c1\\u0995\\u09cd\\u09a4\\u09bf\\u09aa\\u09a4\\u09cd\\u09b0\\u09c7\\u0993 \\u09b2\\u09c7\\u0996\\u09be \\u0986\\u099b\\u09c7\\u0964 \\u09b6\\u09c7\\u09b7 \\u09aa\\u09b0\\u09cd\\u09af\\u09a8\\u09cd\\u09a4 \\u0997\\u09a4\\u0995\\u09be\\u09b2 \\u098f\\u09ae\\u09c7\\u0995\\u09be \\u0987\\u0989\\u099c\\u09c7\\u0997\\u09be \\u09a8\\u09be\\u09ae \\u09aa\\u09b0\\u09bf\\u09ac\\u09b0\\u09cd\\u09a4\\u09a8 \\u0995\\u09b0\\u09c7 \\u0987\\u09b8\\u09b2\\u09be\\u09ae \\u09a7\\u09b0\\u09cd\\u09ae\\u0997\\u09cd\\u09b0\\u09b9\\u09a3 \\u0995\\u09b0\\u09b2\\u09c7\\u09a8\\u0964 \\u09ae\\u09c1\\u09b8\\u09b2\\u09ae\\u09be\\u09a8 \\u09b9\\u0993\\u09af\\u09bc\\u09be\\u09b0 \\u09aa\\u09b0 \\u09a4\\u09be\\u09b0 \\u09a8\\u09a4\\u09c1\\u09a8 \\u09a8\\u09be\\u09ae \\u09b0\\u09be\\u0996\\u09be \\u09b9\\u09af\\u09bc\\u09c7\\u099b\\u09c7 \\u09ae\\u09cb\\u09b8\\u09cd\\u09a4\\u09ab\\u09be \\u09ae\\u09cb\\u09b9\\u09be\\u09ae\\u09cd\\u09ae\\u09a6\\u0964 \\u09b6\\u09c1\\u09b0\\u09c1\\u09a4\\u09c7 \\u09a4\\u09bf\\u09a8\\u09bf \\u09a4\\u09be\\u09b0 \\u09a8\\u09be\\u09ae \\u098f\\u09ae\\u09c7\\u0995\\u09be \\u0987\\u0989\\u099c\\u09c7\\u0997\\u09be\\u09b0 \\u09ac\\u09a6\\u09b2\\u09c7 \\u098f\\u09ae\\u09a6\\u09be\\u09a6\\u09c1\\u09b2 \\u0987\\u0989\\u09b8\\u09c1\\u09ab \\u09b0\\u09be\\u0996\\u09a4\\u09c7 \\u099a\\u09c7\\u09df\\u09c7\\u099b\\u09bf\\u09b2\\u09c7\\u09a8 \\u0995\\u09bf\\u09a8\\u09cd\\u09a4\\u09c1 \\u09ae\\u09be\\u0993\\u09b2\\u09be\\u09a8\\u09be\\u09b0\\u09be \\u09a4\\u09be\\u0995\\u09c7 \\u09a4\\u09be\\u09b0 \\u0995\\u09c1\\u09ab\\u09b0\\u09bf \\u0985\\u09a4\\u09c0\\u09a4\\u09c7\\u09b0 \\u09b8\\u09ae\\u09b8\\u09cd\\u09a4 \\u099a\\u09bf\\u09b9\\u09cd\\u09a8 \\u09a4\\u09cd\\u09af\\u09be\\u0997 \\u0995\\u09b0\\u09be\\u09b0 \\u09aa\\u09b0\\u09be\\u09ae\\u09b0\\u09cd\\u09b6 \\u09a6\\u09c7\\u09a8\\u0964\\n\\n\\n\\u09ae\\u09cb\\u09b9\\u09be\\u09ae\\u09c7\\u09a6\\u09bf\\u09df\\u09be\\u09a8 \\u09b0\\u09cb\\u09a8\\u09be\\u09b2\\u09a6\\u09cb\\u09b0 \\u0985\\u09aa\\u09c7\\u0995\\u09cd\\u09b7\\u09be\\u09df \\u09ae\\u09cb\\u09b8\\u09cd\\u09a4\\u09ab\\u09be\\n\\n\\u0987\\u09b8\\u09b2\\u09be\\u09ae \\u0997\\u09cd\\u09b0\\u09b9\\u09a3\\u09c7\\u09b0 \\u09aa\\u09b0 \\u09a4\\u09bf\\u09a8\\u09bf \\u0986\\u09b6\\u09be \\u09aa\\u09cd\\u09b0\\u0995\\u09be\\u09b6 \\u0995\\u09b0\\u09c7 \\u09ac\\u09b2\\u09c7\\u09a8 \\u098f\\u09b0 \\u09aa\\u09b0 \\u09a5\\u09c7\\u0995\\u09c7 \\u09ae\\u09cb\\u09b9\\u09be\\u09ae\\u09c7\\u09a1\\u09be\\u09a8 \\u09a6\\u09b2\\u09c7\\u09b0 \\u0989\\u09aa\\u09b0\\u09c7 \\u0986\\u09b2\\u09cd\\u09b2\\u09be\\u09b9\\u09aa\\u09be\\u0995\\u09c7\\u09b0 \\u09b0\\u09b9\\u09ae\\u09a4 \\u09ae\\u09c1\\u09b7\\u09b2\\u09a7\\u09be\\u09b0\\u09c7 \\u09ac\\u09b0\\u09cd\\u09b7\\u09bf\\u09a4 \\u09b9\\u09ac\\u09c7 \\u0987\\u09a8\\u09b6\\u09be\\u09b2\\u09cd\\u09b2\\u09be\\u09b9\\u0964 \\u098f\\u099b\\u09be\\u09dc\\u09be \\u09b8\\u09a6\\u09cd\\u09af \\u0987\\u09b8\\u09b2\\u09be\\u09ae \\u0997\\u09cd\\u09b0\\u09b9\\u09a3\\u0995\\u09be\\u09b0\\u09c0 \\u0986\\u099e\\u09cd\\u099c\\u09c1\\u09ae\\u09be\\u09a8 \\u0986\\u09b0\\u09be \\u099c\\u09b2\\u09bf \\u098f\\u09ac\\u0982 \\u09ae\\u09be\\u0993\\u09b2\\u09be\\u09a8\\u09be \\u09b9\\u0995\\u09bf\\u0982 \\u09ae\\u09cb\\u09b9\\u09be\\u09ae\\u09c7\\u09a1\\u09be\\u09a8\\u09c7\\u09b0 \\u0989\\u09aa\\u09a6\\u09c7\\u09b7\\u09cd\\u099f\\u09be \\u09aa\\u09b0\\u09bf\\u09b7\\u09a6\\u09c7 \\u09af\\u09cb\\u0997 \\u09a6\\u09bf\\u09a4\\u09c7 \\u09aa\\u09cd\\u09b0\\u09be\\u09a5\\u09ae\\u09bf\\u0995 \\u09b8\\u09ae\\u09cd\\u09ae\\u09a4\\u09bf \\u09a6\\u09bf\\u09df\\u09c7\\u099b\\u09c7\\u09a8 \\u09ac\\u09b2\\u09c7 \\u099c\\u09be\\u09a8\\u09be \\u0997\\u09c7\\u099b\\u09c7\\u0964 \\u09a6\\u09cd\\u09ac\\u09c0\\u09a8\\u09c7\\u09b0 \\u09a8\\u09ac\\u09c0 \\u09ae\\u09cb\\u09b8\\u09cd\\u09a4\\u09ab\\u09be \\u09ae\\u09cb\\u09b9\\u09be\\u09ae\\u09c7\\u09a1\\u09be\\u09a8\\u09c7\\u09b0 \\u0995\\u09cb\\u099a \\u09ae\\u09cb\\u09b8\\u09cd\\u09a4\\u09ab\\u09be \\u0986\\u09b0\\u0993 \\u099c\\u09be\\u09a8\\u09be\\u09a8 \\u0986\\u0997\\u09be\\u09ae\\u09c0 \\u09ae\\u09cc\\u09b8\\u09c1\\u09ae\\u09c7 \\u09ae\\u09cb\\u09b9\\u09be\\u09ae\\u09c7\\u09a1\\u09be\\u09a8 \\u09a6\\u09b2\\u09c7\\u09b0 \\u09b9\\u09df\\u09c7 \\u0996\\u09c7\\u09b2\\u09be\\u09b0 \\u0987\\u099a\\u09cd\\u099b\\u09be \\u09aa\\u09cd\\u09b0\\u0995\\u09be\\u09b6 \\u0995\\u09b0\\u09c7\\u099b\\u09c7\\u09a8 \\u09b0\\u09bf\\u09df\\u09be\\u09b2 \\u09ae\\u09be\\u09a6\\u09cd\\u09b0\\u09bf\\u09a6 \\u09a6\\u09b2\\u09c7\\u09b0 \\u0995\\u09be\\u09ab\\u09c7\\u09b0 \\u09ab\\u09c1\\u099f\\u09ac\\u09b2\\u09be\\u09b0 \\u0996\\u09cd\\u09b0\\u09bf\\u09b7\\u09cd\\u099f\\u09bf\\u09df\\u09be\\u09a8 \\u09b0\\u09cb\\u09a8\\u09be\\u09b2\\u09a6\\u09cb\\u0964 \\u09a4\\u09bf\\u09a8\\u09bf\\u0993 \\u0987\\u09b8\\u09b2\\u09be\\u09ae \\u0997\\u09cd\\u09b0\\u09b9\\u09a3 \\u0995\\u09b0\\u09ac\\u09c7\\u09a8 \\u098f\\u09ac\\u0982 \\u09a8\\u09bf\\u099c\\u09c7\\u09b0 \\u0986\\u09a6\\u09bf \\u09a8\\u09be\\u09ae \\u0996\\u09cd\\u09b0\\u09bf\\u09b7\\u09cd\\u099f\\u09bf\\u09df\\u09be\\u09a8 \\u09b0\\u09cb\\u09a8\\u09be\\u09b2\\u09a6\\u09cb \\u09aa\\u09b0\\u09bf\\u09ac\\u09b0\\u09cd\\u09a4\\u09a8 \\u0995\\u09b0\\u09c7 \\u09ae\\u09cb\\u09b9\\u09be\\u09ae\\u09c7\\u09a6\\u09bf\\u09df\\u09be\\u09a8 \\u09b0\\u09cb\\u09a8\\u09be\\u09b2\\u09a6\\u09cb \\u09b0\\u09be\\u0996\\u09ac\\u09c7\\u09a8\\u0964 \\u09a4\\u09be\\u09b0 \\u099c\\u09be\\u09b0\\u09cd\\u09b8\\u09bf\\u09b0 \\u09a8\\u09ae\\u09cd\\u09ac\\u09b0 \\u09b9\\u09ac\\u09c7 \\u09ed\\u09ee\\u09ec\\u0964\\n\\n\",\n          \"\\u09ab\\u09c7\\u0987\\u09b8\\u09ac\\u09c1\\u0995\\u09c7 \\u0985\\u09a8\\u09cd\\u09af\\u09c7\\u09b0 \\u09aa\\u09cb\\u09b8\\u09cd\\u099f \\u0995\\u09aa\\u09bf \\u0995\\u09b0\\u09be \\u09af\\u09c1\\u09ac\\u0995\\u09c7\\u09b0 \\u09ac\\u0989 \\u09a8\\u09bf\\u09df\\u09c7 \\u09ad\\u09c7\\u0997\\u09c7 \\u0997\\u09c7\\u09b2\\u09cb \\u0986\\u09b0\\u09c7\\u0995 \\u0995\\u09aa\\u09bf\\u09aa\\u09c7\\u09b8\\u09cd\\u099f \\u09af\\u09c1\\u09ac\\u0995 \\u09ab\\u09c7\\u0987\\u09b8\\u09ac\\u09c1\\u0995\\u09c7 \\u098f\\u0996\\u09a8 \\u098f\\u099f\\u09be \\u0998\\u099f\\u09c7\\u0987 \\u09a5\\u09be\\u0995\\u09c7\\u0964 \\u098f\\u0995\\u099c\\u09a8\\u09c7\\u09b0 \\u09aa\\u09cb\\u09b8\\u09cd\\u099f \\u0985\\u09a8\\u09cd\\u09af\\u099c\\u09a8\\u09c7\\u09b0 \\u0995\\u09aa\\u09bf \\u0995\\u09b0\\u09be\\u0964 \\u098f\\u09ac\\u0982 \\u09b6\\u09c1\\u09a7\\u09c1 \\u0995\\u09aa\\u09bf \\u0995\\u09b0\\u09c7\\u0987 \\u0995\\u09cd\\u09b7\\u09cd\\u09af\\u09be\\u09a8\\u09cd\\u09a4 \\u09b9\\u09df \\u09a8\\u09be \\u0995\\u09ae\\u09c7\\u09a8\\u09cd\\u099f\\u09ac\\u0995\\u09cd\\u09b8\\u09c7 \\u0995\\u09c7\\u0989 \\u098f\\u099f\\u09be \\u09a7\\u09b0\\u09bf\\u09df\\u09c7 \\u09a6\\u09bf\\u09b2\\u09c7 \\u098f\\u09ae\\u09a8 \\u0986\\u099a\\u09b0\\u09a3 \\u0995\\u09b0\\u09c7 \\u09af\\u09c7\\u09a8\\u09cb \\u09a4\\u09be\\u09b0 \\u09aa\\u09cb\\u09b8\\u09cd\\u099f \\u0985\\u09a8\\u09cd\\u09af\\u0995\\u09c7\\u0989 \\u0995\\u09aa\\u09bf \\u0995\\u09b0\\u09c7\\u099b\\u09c7\\u0964 \\u0985\\u09a8\\u09c7\\u0995 \\u09ac\\u099b\\u09b0 \\u09af\\u09be\\u09ac\\u09a4 \\u098f\\u099f\\u09be \\u0998\\u099f\\u09c7 \\u0986\\u09b8\\u099b\\u09c7\\u0964 \\u09a4\\u09ac\\u09c7 \\u098f\\u0995\\u0987 \\u09ac\\u09cd\\u09af\\u09aa\\u09be\\u09b0 \\u09af\\u09c7 \\u09ac\\u09be\\u09b8\\u09cd\\u09a4\\u09ac \\u099c\\u09c0\\u09ac\\u09a8\\u09c7\\u0993 \\u0998\\u099f\\u09ac\\u09c7 \\u098f\\u099f\\u09be \\u09b9\\u09df\\u09a4\\u09cb \\u0995\\u09c7\\u0989 \\u0995\\u09cb\\u09a8\\u09a6\\u09bf\\u09a8\\u0987 \\u09ad\\u09be\\u09ac\\u09c7\\u09a8\\u09bf\\u0964 \\u09a4\\u09c7\\u09ae\\u09a8 \\u098f\\u0995\\u099f\\u09be \\u0998\\u099f\\u09a8\\u09be \\u0998\\u099f\\u09c7\\u099b\\u09c7 \\u09b0\\u09be\\u099c\\u09a7\\u09be\\u09a8\\u09c0\\u09b0 \\u09ac\\u09c1\\u0995\\u09c7\\u0964\\u09af\\u09be\\u09a6\\u09c7\\u09b0 \\u09b8\\u09be\\u09a5\\u09c7 \\u0998\\u099f\\u09a8\\u09be \\u0998\\u099f\\u09c7\\u099b\\u09c7 \\u09a4\\u09be\\u09a6\\u09c7\\u09b0 \\u09b8\\u09be\\u09ae\\u09be\\u099c\\u09bf\\u0995 \\u09ae\\u09b0\\u09cd\\u09af\\u09be\\u09a6\\u09be\\u09b0 \\u0995\\u09a5\\u09be \\u099a\\u09bf\\u09a8\\u09cd\\u09a4\\u09be \\u0995\\u09b0\\u09c7 \\u0986\\u09ae\\u09b0\\u09be \\u09a4\\u09be\\u09a6\\u09c7\\u09b0 \\u09a8\\u09be\\u09ae \\u09aa\\u09cd\\u09b0\\u0995\\u09be\\u09b6 \\u0995\\u09b0\\u09ac\\u09cb \\u09a8\\u09be\\u09f7 \\u09b9\\u09c1\\u09b8\\u09be\\u0987\\u09a8 \\u0995\\u09ac\\u09bf\\u09b0 \\u09a8\\u09be\\u09ae\\u09c7 \\u098f\\u0995 \\u09af\\u09c1\\u09ac\\u0995 \\u09ab\\u09c7\\u0987\\u09b8\\u09ac\\u09c1\\u0995\\u09c7 \\u0985\\u09a8\\u09cd\\u09af\\u09c7\\u09b0 \\u09aa\\u09cb\\u09b8\\u09cd\\u099f \\u0995\\u09aa\\u09bf \\u09aa\\u09c7\\u09b8\\u09cd\\u099f \\u0995\\u09b0\\u09c7 \\u09b9\\u09be\\u099c\\u09be\\u09b0 \\u0996\\u09be\\u09a8\\u09bf\\u0995 \\u09b2\\u09be\\u0987\\u0995 \\u0995\\u09be\\u09ae\\u09bf\\u09df\\u09c7 \\u09b9\\u09c1\\u099f \\u0995\\u09b0\\u09c7 \\u09b8\\u09c7\\u09b2\\u09bf\\u09ac\\u09cd\\u09b0\\u09bf\\u099f\\u09bf \\u09b9\\u09df\\u09c7 \\u0997\\u09c7\\u099b\\u09bf\\u09b2\\u09cb\\u0964 \\u09a4\\u09be\\u09b0 \\u0995\\u09ae\\u09c7\\u09a8\\u09cd\\u099f\\u09ac\\u0995\\u09cd\\u09b8\\u09c7\\u0987 \\u098f\\u0995 \\u09ae\\u09c7\\u09df\\u09c7\\u09b0 \\u09b8\\u09be\\u09a5\\u09c7 \\u09aa\\u09cd\\u09b0\\u09c7\\u09ae\\u09c7 \\u099c\\u09dc\\u09bf\\u09df\\u09c7 \\u0985\\u09ac\\u09b6\\u09c7\\u09b7\\u09c7 \\u09ac\\u09bf\\u09df\\u09c7 \\u0995\\u09b0\\u09c7 \\u09ab\\u09c7\\u09b2\\u09c7\\u0964 \\u0986\\u09b0 \\u09ac\\u09bf\\u09df\\u09c7\\u09b0 \\u09aa\\u09b0 \\u09ad\\u09be\\u09b2\\u09cb\\u0987 \\u099a\\u09b2\\u099b\\u09bf\\u09b2\\u09cb \\u09a8\\u09ac \\u09a6\\u09ae\\u09cd\\u09aa\\u09a4\\u09cd\\u09a4\\u09c0\\u09b0 \\u09ac\\u09bf\\u09ac\\u09be\\u09b9\\u09bf\\u09a4 \\u099c\\u09c0\\u09ac\\u09a8\\u0964\\u098f\\u09b0 \\u09ae\\u09a7\\u09cd\\u09af\\u09c7\\u0987 \\u0998\\u099f\\u09c7 \\u09af\\u09be\\u09df \\u0986\\u09b0\\u09c7\\u0995 \\u09a6\\u09c1\\u0983\\u0996\\u099c\\u09a8\\u0995 \\u0998\\u099f\\u09a8\\u09be\\u0964 \\u09b9\\u09a0\\u09be\\u09ce \\u0995\\u09b0\\u09c7 \\u0986\\u09b0\\u09c7\\u0995 \\u0995\\u09aa\\u09bf\\u09aa\\u09c7\\u09b8\\u09cd\\u099f \\u09b8\\u09c7\\u09b2\\u09bf\\u09ac\\u09cd\\u09b0\\u09bf\\u099f\\u09bf\\u09b0 \\u0986\\u0997\\u09ae\\u09a8 \\u0998\\u099f\\u09c7 \\u09b9\\u09c1\\u09b8\\u09be\\u0987\\u09a8 \\u0995\\u09ac\\u09bf\\u09b0\\u09c7\\u09b0 \\u09ac\\u09bf\\u09ac\\u09be\\u09b9\\u09bf\\u09a4 \\u099c\\u09c0\\u09ac\\u09a8 \\u09a6\\u09c1\\u09b0\\u09cd\\u09ac\\u09bf\\u09b7\\u09b9 \\u0995\\u09b0\\u09c7 \\u09a4\\u09cb\\u09b2\\u09c7\\u0964 \\u0995\\u09be\\u09b0\\u09a3 \\u09a4\\u0996\\u09a8 \\u09b9\\u09c1\\u09b8\\u09be\\u0987\\u09a8 \\u0995\\u09ac\\u09bf\\u09b0\\u09c7\\u09b0 \\u09ac\\u0989 \\u09a8\\u09be\\u0988\\u09ae \\u09a8\\u09be\\u09ae\\u09c7\\u09b0 \\u0995\\u09aa\\u09bf\\u09aa\\u09c7\\u09b8\\u09cd\\u099f \\u09b8\\u09c7\\u09b2\\u09bf\\u09ac\\u09cd\\u09b0\\u09c7\\u099f\\u09bf\\u09b0 \\u09b8\\u09be\\u09a5\\u09c7 \\u09ae\\u09be\\u0996\\u09be\\u09ae\\u09be\\u0996\\u09bf \\u09b6\\u09c1\\u09b0\\u09c1 \\u0995\\u09b0\\u09c7 \\u09a6\\u09bf\\u09df\\u09c7\\u099b\\u09c7\\u0964 \\u09a4\\u09be\\u09b0\\u09aa\\u09b0 \\u098f\\u0995\\u09a6\\u09bf\\u09a8 \\u0998\\u099f\\u09c7 \\u0997\\u09c7\\u09b2\\u09cb \\u09b8\\u09c7\\u0987 \\u09a6\\u09c1\\u0983\\u0996 \\u099c\\u09a8\\u0995 \\u0998\\u099f\\u09a8\\u09be\\u0964 \\u09b9\\u09c1\\u09b8\\u09be\\u0987\\u09a8 \\u0995\\u09ac\\u09bf\\u09b0\\u09c7\\u09b0 \\u09ac\\u0989 \\u09ad\\u09c7\\u0997\\u09c7 \\u0997\\u09c7\\u09b2\\u09cb \\u0986\\u09b0\\u09c7\\u0995 \\u0995\\u09aa\\u09bf\\u09aa\\u09c7\\u09b8\\u09cd\\u099f \\u09b8\\u09c7\\u09b2\\u09bf\\u09ac\\u09cd\\u09b0\\u09bf\\u099f\\u09bf \\u09a8\\u09be\\u0988\\u09ae\\u0964 \\u0986\\u09b0 \\u098f\\u09ad\\u09be\\u09ac\\u09c7 \\u09a8\\u09bf\\u099c\\u09c7\\u09b0\\u09b0 \\u0997\\u09b0\\u09cd\\u09a4\\u09c7 \\u09a8\\u09bf\\u099c\\u09c7 \\u09aa\\u09dc\\u09c7 \\u09a6\\u09bf\\u09b6\\u09c7 \\u09b9\\u09be\\u09b0\\u09be \\u098f\\u0987 \\u0995\\u09aa\\u09bf\\u09aa\\u09c7\\u09b8\\u09cd\\u099f \\u09af\\u09c1\\u09ac\\u0995\\u0995\\u09aa\\u09bf\\u09aa\\u09c7\\u09b8\\u09cd\\u099f \\u0995\\u09be\\u09b0\\u09c0\\u09b0\\u09be \\u0986\\u09ac\\u09be\\u09b0 \\u09aa\\u09dc\\u09c1\\u09a8\\u09ab\\u09c7\\u0987\\u09b8\\u09ac\\u09c1\\u0995\\u09c7 \\u098f\\u0996\\u09a8 \\u098f\\u099f\\u09be \\u0998\\u099f\\u09c7\\u0987 \\u09a5\\u09be\\u0995\\u09c7\\u0964 \\u098f\\u0995\\u099c\\u09a8\\u09c7\\u09b0 \\u09aa\\u09cb\\u09b8\\u09cd\\u099f \\u0985\\u09a8\\u09cd\\u09af\\u099c\\u09a8\\u09c7\\u09b0 \\u0995\\u09aa\\u09bf \\u0995\\u09b0\\u09be\\u0964 \\u098f\\u09ac\\u0982 \\u09b6\\u09c1\\u09a7\\u09c1 \\u0995\\u09aa\\u09bf \\u0995\\u09b0\\u09c7\\u0987 \\u0995\\u09cd\\u09b7\\u09cd\\u09af\\u09be\\u09a8\\u09cd\\u09a4 \\u09b9\\u09df \\u09a8\\u09be \\u0995\\u09ae\\u09c7\\u09a8\\u09cd\\u099f\\u09ac\\u0995\\u09cd\\u09b8\\u09c7 \\u0995\\u09c7\\u0989 \\u098f\\u099f\\u09be \\u09a7\\u09b0\\u09bf\\u09df\\u09c7 \\u09a6\\u09bf\\u09b2\\u09c7 \\u098f\\u09ae\\u09a8 \\u0986\\u099a\\u09b0\\u09a3 \\u0995\\u09b0\\u09c7 \\u09af\\u09c7\\u09a8\\u09cb \\u09a4\\u09be\\u09b0 \\u09aa\\u09cb\\u09b8\\u09cd\\u099f \\u0985\\u09a8\\u09cd\\u09af\\u0995\\u09c7\\u0989 \\u0995\\u09aa\\u09bf \\u0995\\u09b0\\u09c7\\u099b\\u09c7\\u0964 \\u0985\\u09a8\\u09c7\\u0995 \\u09ac\\u099b\\u09b0 \\u09af\\u09be\\u09ac\\u09a4 \\u098f\\u099f\\u09be \\u0998\\u099f\\u09c7 \\u0986\\u09b8\\u099b\\u09c7\\u0964 \\u09a4\\u09ac\\u09c7 \\u098f\\u0995\\u0987 \\u09ac\\u09cd\\u09af\\u09aa\\u09be\\u09b0 \\u09af\\u09c7 \\u09ac\\u09be\\u09b8\\u09cd\\u09a4\\u09ac \\u099c\\u09c0\\u09ac\\u09a8\\u09c7\\u0993 \\u0998\\u099f\\u09ac\\u09c7 \\u098f\\u099f\\u09be \\u09b9\\u09df\\u09a4\\u09cb \\u0995\\u09c7\\u0989 \\u0995\\u09cb\\u09a8\\u09a6\\u09bf\\u09a8\\u0987 \\u09ad\\u09be\\u09ac\\u09c7\\u09a8\\u09bf\\u0964 \\u09a4\\u09c7\\u09ae\\u09a8 \\u098f\\u0995\\u099f\\u09be \\u0998\\u099f\\u09a8\\u09be \\u0998\\u099f\\u09c7\\u099b\\u09c7 \\u09b0\\u09be\\u099c\\u09a7\\u09be\\u09a8\\u09c0\\u09b0 \\u09ac\\u09c1\\u0995\\u09c7\\u0964\\u09af\\u09be\\u09a6\\u09c7\\u09b0 \\u09b8\\u09be\\u09a5\\u09c7 \\u0998\\u099f\\u09a8\\u09be \\u0998\\u099f\\u09c7\\u099b\\u09c7 \\u09a4\\u09be\\u09a6\\u09c7\\u09b0 \\u09b8\\u09be\\u09ae\\u09be\\u099c\\u09bf\\u0995 \\u09ae\\u09b0\\u09cd\\u09af\\u09be\\u09a6\\u09be\\u09b0 \\u0995\\u09a5\\u09be \\u099a\\u09bf\\u09a8\\u09cd\\u09a4\\u09be \\u0995\\u09b0\\u09c7 \\u0986\\u09ae\\u09b0\\u09be \\u09a4\\u09be\\u09a6\\u09c7\\u09b0 \\u09a8\\u09be\\u09ae \\u09aa\\u09cd\\u09b0\\u0995\\u09be\\u09b6 \\u0995\\u09b0\\u09ac\\u09cb \\u09a8\\u09be\\u09f7 \\u09b9\\u09c1\\u09b8\\u09be\\u0987\\u09a8 \\u0995\\u09ac\\u09bf\\u09b0 \\u09a8\\u09be\\u09ae\\u09c7 \\u098f\\u0995 \\u09af\\u09c1\\u09ac\\u0995 \\u09ab\\u09c7\\u0987\\u09b8\\u09ac\\u09c1\\u0995\\u09c7 \\u0985\\u09a8\\u09cd\\u09af\\u09c7\\u09b0 \\u09aa\\u09cb\\u09b8\\u09cd\\u099f \\u0995\\u09aa\\u09bf \\u09aa\\u09c7\\u09b8\\u09cd\\u099f \\u0995\\u09b0\\u09c7 \\u09b9\\u09be\\u099c\\u09be\\u09b0 \\u0996\\u09be\\u09a8\\u09bf\\u0995 \\u09b2\\u09be\\u0987\\u0995 \\u0995\\u09be\\u09ae\\u09bf\\u09df\\u09c7 \\u09b9\\u09c1\\u099f \\u0995\\u09b0\\u09c7 \\u09b8\\u09c7\\u09b2\\u09bf\\u09ac\\u09cd\\u09b0\\u09bf\\u099f\\u09bf \\u09b9\\u09df\\u09c7 \\u0997\\u09c7\\u099b\\u09bf\\u09b2\\u09cb\\u0964 \\u09a4\\u09be\\u09b0 \\u0995\\u09ae\\u09c7\\u09a8\\u09cd\\u099f\\u09ac\\u0995\\u09cd\\u09b8\\u09c7\\u0987 \\u098f\\u0995 \\u09ae\\u09c7\\u09df\\u09c7\\u09b0 \\u09b8\\u09be\\u09a5\\u09c7 \\u09aa\\u09cd\\u09b0\\u09c7\\u09ae\\u09c7 \\u099c\\u09dc\\u09bf\\u09df\\u09c7 \\u0985\\u09ac\\u09b6\\u09c7\\u09b7\\u09c7 \\u09ac\\u09bf\\u09df\\u09c7 \\u0995\\u09b0\\u09c7 \\u09ab\\u09c7\\u09b2\\u09c7\\u0964 \\u0986\\u09b0 \\u09ac\\u09bf\\u09df\\u09c7\\u09b0 \\u09aa\\u09b0 \\u09ad\\u09be\\u09b2\\u09cb\\u0987 \\u099a\\u09b2\\u099b\\u09bf\\u09b2\\u09cb \\u09a8\\u09ac \\u09a6\\u09ae\\u09cd\\u09aa\\u09a4\\u09cd\\u09a4\\u09c0\\u09b0 \\u09ac\\u09bf\\u09ac\\u09be\\u09b9\\u09bf\\u09a4 \\u099c\\u09c0\\u09ac\\u09a8\\u0964\\u098f\\u09b0 \\u09ae\\u09a7\\u09cd\\u09af\\u09c7\\u0987 \\u0998\\u099f\\u09c7 \\u09af\\u09be\\u09df \\u0986\\u09b0\\u09c7\\u0995 \\u09a6\\u09c1\\u0983\\u0996\\u099c\\u09a8\\u0995 \\u0998\\u099f\\u09a8\\u09be\\u0964 \\u09b9\\u09a0\\u09be\\u09ce \\u0995\\u09b0\\u09c7 \\u0986\\u09b0\\u09c7\\u0995 \\u0995\\u09aa\\u09bf\\u09aa\\u09c7\\u09b8\\u09cd\\u099f \\u09b8\\u09c7\\u09b2\\u09bf\\u09ac\\u09cd\\u09b0\\u09bf\\u099f\\u09bf\\u09b0 \\u0986\\u0997\\u09ae\\u09a8 \\u0998\\u099f\\u09c7 \\u09b9\\u09c1\\u09b8\\u09be\\u0987\\u09a8 \\u0995\\u09ac\\u09bf\\u09b0\\u09c7\\u09b0 \\u09ac\\u09bf\\u09ac\\u09be\\u09b9\\u09bf\\u09a4 \\u099c\\u09c0\\u09ac\\u09a8 \\u09a6\\u09c1\\u09b0\\u09cd\\u09ac\\u09bf\\u09b7\\u09b9 \\u0995\\u09b0\\u09c7 \\u09a4\\u09cb\\u09b2\\u09c7\\u0964 \\u0995\\u09be\\u09b0\\u09a3 \\u09a4\\u0996\\u09a8 \\u09b9\\u09c1\\u09b8\\u09be\\u0987\\u09a8 \\u0995\\u09ac\\u09bf\\u09b0\\u09c7\\u09b0 \\u09ac\\u0989 \\u09a8\\u09be\\u0988\\u09ae \\u09a8\\u09be\\u09ae\\u09c7\\u09b0 \\u0995\\u09aa\\u09bf\\u09aa\\u09c7\\u09b8\\u09cd\\u099f \\u09b8\\u09c7\\u09b2\\u09bf\\u09ac\\u09cd\\u09b0\\u09c7\\u099f\\u09bf\\u09b0 \\u09b8\\u09be\\u09a5\\u09c7 \\u09ae\\u09be\\u0996\\u09be\\u09ae\\u09be\\u0996\\u09bf \\u09b6\\u09c1\\u09b0\\u09c1 \\u0995\\u09b0\\u09c7 \\u09a6\\u09bf\\u09df\\u09c7\\u099b\\u09c7\\u0964 \\u09a4\\u09be\\u09b0\\u09aa\\u09b0 \\u098f\\u0995\\u09a6\\u09bf\\u09a8 \\u0998\\u099f\\u09c7 \\u0997\\u09c7\\u09b2\\u09cb \\u09b8\\u09c7\\u0987 \\u09a6\\u09c1\\u0983\\u0996 \\u099c\\u09a8\\u0995 \\u0998\\u099f\\u09a8\\u09be\\u0964 \\u09b9\\u09c1\\u09b8\\u09be\\u0987\\u09a8 \\u0995\\u09ac\\u09bf\\u09b0\\u09c7\\u09b0 \\u09ac\\u0989 \\u09ad\\u09c7\\u0997\\u09c7 \\u0997\\u09c7\\u09b2\\u09cb \\u0986\\u09b0\\u09c7\\u0995 \\u0995\\u09aa\\u09bf\\u09aa\\u09c7\\u09b8\\u09cd\\u099f \\u09b8\\u09c7\\u09b2\\u09bf\\u09ac\\u09cd\\u09b0\\u09bf\\u099f\\u09bf \\u09a8\\u09be\\u0988\\u09ae\\u0964 \\u0986\\u09b0 \\u098f\\u09ad\\u09be\\u09ac\\u09c7 \\u09a8\\u09bf\\u099c\\u09c7\\u09b0\\u09b0 \\u0997\\u09b0\\u09cd\\u09a4\\u09c7 \\u09a8\\u09bf\\u099c\\u09c7 \\u09aa\\u09dc\\u09c7 \\u09a6\\u09bf\\u09b6\\u09c7 \\u09b9\\u09be\\u09b0\\u09be \\u098f\\u0987 \\u0995\\u09aa\\u09bf\\u09aa\\u09c7\\u09b8\\u09cd\\u099f \\u09af\\u09c1\\u09ac\\u0995\"\n        ],\n        \"semantic_type\": \"\",\n        \"description\": \"\"\n      }\n    }\n  ]\n}"
            }
          },
          "metadata": {},
          "execution_count": 52
        }
      ]
    },
    {
      "cell_type": "code",
      "source": [
        "import pandas as pd\n",
        "tfidf_vectorizer = TfidfVectorizer(max_features=5000)\n",
        "tfidf_matrix = tfidf_vectorizer.fit_transform(All_df['text'])\n",
        "\n",
        "tfidf_df = pd.DataFrame(tfidf_matrix.toarray(), columns=tfidf_vectorizer.get_feature_names_out())\n",
        "\n",
        "all_df = pd.concat([tfidf_df, All_df['Label']], axis=1)\n"
      ],
      "metadata": {
        "id": "FVnQhCLlfSPH"
      },
      "execution_count": null,
      "outputs": []
    },
    {
      "cell_type": "code",
      "source": [
        "X = all_df.drop('Label', axis=1)\n",
        "y = all_df['Label']\n",
        "X_train, X_test, y_train, y_test = train_test_split(X, y, test_size=0.2, random_state=42, stratify=y)"
      ],
      "metadata": {
        "id": "CkB8TohehGkN"
      },
      "execution_count": null,
      "outputs": []
    },
    {
      "cell_type": "code",
      "source": [
        "# prompt: train SVM\n",
        "\n",
        "import matplotlib.pyplot as plt\n",
        "# Train a Linear SVM model\n",
        "svm_model = LinearSVC(random_state=42)\n",
        "svm_model.fit(X_train, y_train)\n",
        "\n",
        "# Make predictions on the test set\n",
        "y_pred_svm = svm_model.predict(X_test)\n",
        "\n",
        "# Evaluate the model\n",
        "accuracy_svm = accuracy_score(y_test, y_pred_svm)\n",
        "report_svm = classification_report(y_test, y_pred_svm)\n",
        "conf_matrix_svm = confusion_matrix(y_test, y_pred_svm)\n",
        "\n",
        "print(f\"SVM Accuracy: {accuracy_svm}\")\n",
        "print(\"SVM Classification Report:\")\n",
        "print(report_svm)\n",
        "\n",
        "\n",
        "# Plot confusion matrix\n",
        "plt.figure(figsize=(8, 6))\n",
        "sns.heatmap(conf_matrix_svm, annot=True, fmt=\"d\", cmap=\"Oranges\", xticklabels=['Fake', 'Real'], yticklabels=['Fake', 'Real'])\n",
        "plt.title(\"SVM Confusion Matrix\")\n",
        "plt.xlabel(\"Predicted Label\")\n",
        "plt.ylabel(\"True Label\")\n",
        "plt.show()"
      ],
      "metadata": {
        "colab": {
          "base_uri": "https://localhost:8080/",
          "height": 755
        },
        "id": "0YvTowF7hVAm",
        "outputId": "67ab2029-2e79-485c-976f-d30b7ea801b3"
      },
      "execution_count": null,
      "outputs": [
        {
          "output_type": "stream",
          "name": "stdout",
          "text": [
            "SVM Accuracy: 0.9002795899347623\n",
            "SVM Classification Report:\n",
            "              precision    recall  f1-score   support\n",
            "\n",
            "           0       0.91      0.89      0.90       537\n",
            "           1       0.89      0.91      0.90       536\n",
            "\n",
            "    accuracy                           0.90      1073\n",
            "   macro avg       0.90      0.90      0.90      1073\n",
            "weighted avg       0.90      0.90      0.90      1073\n",
            "\n"
          ]
        },
        {
          "output_type": "display_data",
          "data": {
            "text/plain": [
              "<Figure size 800x600 with 2 Axes>"
            ],
            "image/png": "[encoded data removed]"
          },
          "metadata": {}
        }
      ]
    },
    {
      "cell_type": "code",
      "source": [
        "# prompt: Train Logistic Regression\n",
        "\n",
        "import matplotlib.pyplot as plt\n",
        "# Train a Logistic Regression model\n",
        "log_reg_model = LogisticRegression(random_state=42)\n",
        "log_reg_model.fit(X_train, y_train)\n",
        "\n",
        "# Make predictions on the test set\n",
        "y_pred_log_reg = log_reg_model.predict(X_test)\n",
        "\n",
        "# Evaluate the model\n",
        "accuracy_log_reg = accuracy_score(y_test, y_pred_log_reg)\n",
        "report_log_reg = classification_report(y_test, y_pred_log_reg)\n",
        "conf_matrix_log_reg = confusion_matrix(y_test, y_pred_log_reg)\n",
        "\n",
        "# Print evaluation metrics\n",
        "print(\"\\nLogistic Regression Model Evaluation:\")\n",
        "print(f\"Accuracy: {accuracy_log_reg}\")\n",
        "print(\"Classification Report:\")\n",
        "print(report_log_reg)\n",
        "\n",
        "# Plot confusion matrix\n",
        "plt.figure(figsize=(8, 6))\n",
        "sns.heatmap(conf_matrix_log_reg, annot=True, fmt=\"d\", cmap=\"Greens\", xticklabels=['Fake', 'Real'], yticklabels=['Fake', 'Real'])\n",
        "plt.title(\"Logistic Regression Confusion Matrix\")\n",
        "plt.xlabel(\"Predicted Label\")\n",
        "plt.ylabel(\"True Label\")\n",
        "plt.show()"
      ],
      "metadata": {
        "id": "YVaGb5FEhqwt",
        "colab": {
          "base_uri": "https://localhost:8080/",
          "height": 790
        },
        "outputId": "addff7f2-a66a-4aa6-b1b8-e8b3cdc34cf3"
      },
      "execution_count": null,
      "outputs": [
        {
          "output_type": "stream",
          "name": "stdout",
          "text": [
            "\n",
            "Logistic Regression Model Evaluation:\n",
            "Accuracy: 0.9040074557315937\n",
            "Classification Report:\n",
            "              precision    recall  f1-score   support\n",
            "\n",
            "           0       0.92      0.89      0.90       537\n",
            "           1       0.89      0.92      0.91       536\n",
            "\n",
            "    accuracy                           0.90      1073\n",
            "   macro avg       0.90      0.90      0.90      1073\n",
            "weighted avg       0.90      0.90      0.90      1073\n",
            "\n"
          ]
        },
        {
          "output_type": "display_data",
          "data": {
            "text/plain": [
              "<Figure size 800x600 with 2 Axes>"
            ],
            "image/png": "[encoded data removed]"
          },
          "metadata": {}
        }
      ]
    },
    {
      "cell_type": "code",
      "source": [
        "# prompt: # Train Naive Bayes\n",
        "\n",
        "import matplotlib.pyplot as plt\n",
        "# Train a Naive Bayes model\n",
        "nb_model = MultinomialNB()\n",
        "nb_model.fit(X_train, y_train)\n",
        "\n",
        "# Make predictions on the test set\n",
        "y_pred_nb = nb_model.predict(X_test)\n",
        "\n",
        "# Evaluate the model\n",
        "accuracy_nb = accuracy_score(y_test, y_pred_nb)\n",
        "report_nb = classification_report(y_test, y_pred_nb)\n",
        "conf_matrix_nb = confusion_matrix(y_test, y_pred_nb)\n",
        "\n",
        "# Print evaluation metrics\n",
        "print(\"\\nNaive Bayes Model Evaluation:\")\n",
        "print(f\"Accuracy: {accuracy_nb}\")\n",
        "print(\"Classification Report:\")\n",
        "print(report_nb)\n",
        "\n",
        "# Plot confusion matrix\n",
        "plt.figure(figsize=(8, 6))\n",
        "sns.heatmap(conf_matrix_nb, annot=True, fmt=\"d\", cmap=\"Blues\", xticklabels=['Fake', 'Real'], yticklabels=['Fake', 'Real'])\n",
        "plt.title(\"Naive Bayes Confusion Matrix\")\n",
        "plt.xlabel(\"Predicted Label\")\n",
        "plt.ylabel(\"True Label\")\n",
        "plt.show()"
      ],
      "metadata": {
        "id": "8F0pOHwdiL1t",
        "colab": {
          "base_uri": "https://localhost:8080/",
          "height": 790
        },
        "outputId": "0b53b3aa-3dad-4f41-f7af-e4900cc7598a"
      },
      "execution_count": null,
      "outputs": [
        {
          "output_type": "stream",
          "name": "stdout",
          "text": [
            "\n",
            "Naive Bayes Model Evaluation:\n",
            "Accuracy: 0.9114631873252563\n",
            "Classification Report:\n",
            "              precision    recall  f1-score   support\n",
            "\n",
            "           0       0.93      0.89      0.91       537\n",
            "           1       0.89      0.93      0.91       536\n",
            "\n",
            "    accuracy                           0.91      1073\n",
            "   macro avg       0.91      0.91      0.91      1073\n",
            "weighted avg       0.91      0.91      0.91      1073\n",
            "\n"
          ]
        },
        {
          "output_type": "display_data",
          "data": {
            "text/plain": [
              "<Figure size 800x600 with 2 Axes>"
            ],
            "image/png": "[encoded data removed]"
          },
          "metadata": {}
        }
      ]
    },
    {
      "cell_type": "code",
      "source": [
        "# Train XGBoost\n",
        "\n",
        "import matplotlib.pyplot as plt\n",
        "# Train an XGBoost model\n",
        "import xgboost as xgb\n",
        "\n",
        "xgb_model = xgb.XGBClassifier(random_state=42)\n",
        "xgb_model.fit(X_train, y_train)\n",
        "\n",
        "# Make predictions on the test set\n",
        "y_pred_xgb = xgb_model.predict(X_test)\n",
        "\n",
        "# Evaluate the model\n",
        "accuracy_xgb = accuracy_score(y_test, y_pred_xgb)\n",
        "report_xgb = classification_report(y_test, y_pred_xgb)\n",
        "conf_matrix_xgb = confusion_matrix(y_test, y_pred_xgb)\n",
        "\n",
        "# Print evaluation metrics\n",
        "print(\"\\nXGBoost Model Evaluation:\")\n",
        "print(f\"Accuracy: {accuracy_xgb}\")\n",
        "print(\"Classification Report:\")\n",
        "print(report_xgb)\n",
        "\n",
        "# Plot confusion matrix\n",
        "plt.figure(figsize=(8, 6))\n",
        "sns.heatmap(conf_matrix_xgb, annot=True, fmt=\"d\", cmap=\"Reds\", xticklabels=['Fake', 'Real'], yticklabels=['Fake', 'Real'])\n",
        "plt.title(\"XGBoost Confusion Matrix\")\n",
        "plt.xlabel(\"Predicted Label\")\n",
        "plt.ylabel(\"True Label\")\n",
        "plt.show()\n"
      ],
      "metadata": {
        "id": "yvdB6mTziUZH",
        "colab": {
          "base_uri": "https://localhost:8080/",
          "height": 790
        },
        "outputId": "795eb971-60c8-42ab-b7ad-d757aa12ee64"
      },
      "execution_count": null,
      "outputs": [
        {
          "output_type": "stream",
          "name": "stdout",
          "text": [
            "\n",
            "XGBoost Model Evaluation:\n",
            "Accuracy: 0.9095992544268406\n",
            "Classification Report:\n",
            "              precision    recall  f1-score   support\n",
            "\n",
            "           0       0.92      0.90      0.91       537\n",
            "           1       0.90      0.92      0.91       536\n",
            "\n",
            "    accuracy                           0.91      1073\n",
            "   macro avg       0.91      0.91      0.91      1073\n",
            "weighted avg       0.91      0.91      0.91      1073\n",
            "\n"
          ]
        },
        {
          "output_type": "display_data",
          "data": {
            "text/plain": [
              "<Figure size 800x600 with 2 Axes>"
            ],
            "image/png": "[encoded data removed]"
          },
          "metadata": {}
        }
      ]
    },
    {
      "cell_type": "code",
      "source": [
        "# prompt: Train LightGBM\n",
        "\n",
        "import matplotlib.pyplot as plt\n",
        "import lightgbm as lgb\n",
        "\n",
        "# Train a LightGBM model\n",
        "lgb_model = lgb.LGBMClassifier(random_state=42)\n",
        "lgb_model.fit(X_train, y_train)\n",
        "\n",
        "# Make predictions on the test set\n",
        "y_pred_lgb = lgb_model.predict(X_test)\n",
        "\n",
        "# Evaluate the model\n",
        "accuracy_lgb = accuracy_score(y_test, y_pred_lgb)\n",
        "report_lgb = classification_report(y_test, y_pred_lgb)\n",
        "conf_matrix_lgb = confusion_matrix(y_test, y_pred_lgb)\n",
        "\n",
        "# Print evaluation metrics\n",
        "print(\"\\nLightGBM Model Evaluation:\")\n",
        "print(f\"Accuracy: {accuracy_lgb}\")\n",
        "print(\"Classification Report:\")\n",
        "print(report_lgb)\n",
        "\n",
        "# Plot confusion matrix\n",
        "plt.figure(figsize=(8, 6))\n",
        "sns.heatmap(conf_matrix_lgb, annot=True, fmt=\"d\", cmap=\"Purples\", xticklabels=['Fake', 'Real'], yticklabels=['Fake', 'Real'])\n",
        "plt.title(\"LightGBM Confusion Matrix\")\n",
        "plt.xlabel(\"Predicted Label\")\n",
        "plt.ylabel(\"True Label\")\n",
        "plt.show()"
      ],
      "metadata": {
        "id": "vf3-23n0iySu",
        "colab": {
          "base_uri": "https://localhost:8080/",
          "height": 929
        },
        "outputId": "1eaa1500-34ea-4ca0-c762-43dbd0ad2305"
      },
      "execution_count": null,
      "outputs": [
        {
          "output_type": "stream",
          "name": "stdout",
          "text": [
            "[LightGBM] [Info] Number of positive: 2146, number of negative: 2145\n",
            "[LightGBM] [Info] Auto-choosing row-wise multi-threading, the overhead of testing was 0.150899 seconds.\n",
            "You can set `force_row_wise=true` to remove the overhead.\n",
            "And if memory is not enough, you can set `force_col_wise=true`.\n",
            "[LightGBM] [Info] Total Bins 99750\n",
            "[LightGBM] [Info] Number of data points in the train set: 4291, number of used features: 1650\n",
            "[LightGBM] [Info] [binary:BoostFromScore]: pavg=0.500117 -> initscore=0.000466\n",
            "[LightGBM] [Info] Start training from score 0.000466\n",
            "\n",
            "LightGBM Model Evaluation:\n",
            "Accuracy: 0.9114631873252563\n",
            "Classification Report:\n",
            "              precision    recall  f1-score   support\n",
            "\n",
            "           0       0.93      0.89      0.91       537\n",
            "           1       0.89      0.93      0.91       536\n",
            "\n",
            "    accuracy                           0.91      1073\n",
            "   macro avg       0.91      0.91      0.91      1073\n",
            "weighted avg       0.91      0.91      0.91      1073\n",
            "\n"
          ]
        },
        {
          "output_type": "display_data",
          "data": {
            "text/plain": [
              "<Figure size 800x600 with 2 Axes>"
            ],
            "image/png": "[encoded data removed]"
          },
          "metadata": {}
        }
      ]
    },
    {
      "cell_type": "code",
      "source": [
        "# prompt: Ensemble with all 5 models\n",
        "\n",
        "import matplotlib.pyplot as plt\n",
        "# Create the ensemble model using VotingClassifier\n",
        "ensemble_model = VotingClassifier(estimators=[\n",
        "    ('svm', svm_model),\n",
        "    ('log_reg', log_reg_model),\n",
        "    ('nb', nb_model),\n",
        "    ('xgb', xgb_model),\n",
        "    ('lgb', lgb_model)\n",
        "], voting='hard') # 'hard' for majority voting\n",
        "\n",
        "# Train the ensemble model\n",
        "ensemble_model.fit(X_train, y_train)\n",
        "\n",
        "# Make predictions with the ensemble model\n",
        "y_pred_ensemble = ensemble_model.predict(X_test)\n",
        "\n",
        "# Evaluate the ensemble model\n",
        "accuracy_ensemble = accuracy_score(y_test, y_pred_ensemble)\n",
        "report_ensemble = classification_report(y_test, y_pred_ensemble)\n",
        "conf_matrix_ensemble = confusion_matrix(y_test, y_pred_ensemble)\n",
        "\n",
        "# Print evaluation metrics for the ensemble model\n",
        "print(\"\\nEnsemble Model Evaluation:\")\n",
        "print(f\"Accuracy: {accuracy_ensemble}\")\n",
        "print(\"Classification Report:\")\n",
        "print(report_ensemble)\n",
        "\n",
        "# Plot confusion matrix for the ensemble model\n",
        "plt.figure(figsize=(8, 6))\n",
        "sns.heatmap(conf_matrix_ensemble, annot=True, fmt=\"d\", cmap=\"Blues\", xticklabels=['Fake', 'Real'], yticklabels=['Fake', 'Real'])\n",
        "plt.title(\"Ensemble Model Confusion Matrix\")\n",
        "plt.xlabel(\"Predicted Label\")\n",
        "plt.ylabel(\"True Label\")\n",
        "plt.show()"
      ],
      "metadata": {
        "id": "aR_ug6d2jjNV",
        "colab": {
          "base_uri": "https://localhost:8080/",
          "height": 929
        },
        "outputId": "9666aede-796c-4165-a057-f42041c6187f"
      },
      "execution_count": null,
      "outputs": [
        {
          "output_type": "stream",
          "name": "stdout",
          "text": [
            "[LightGBM] [Info] Number of positive: 2146, number of negative: 2145\n",
            "[LightGBM] [Info] Auto-choosing row-wise multi-threading, the overhead of testing was 0.149923 seconds.\n",
            "You can set `force_row_wise=true` to remove the overhead.\n",
            "And if memory is not enough, you can set `force_col_wise=true`.\n",
            "[LightGBM] [Info] Total Bins 99750\n",
            "[LightGBM] [Info] Number of data points in the train set: 4291, number of used features: 1650\n",
            "[LightGBM] [Info] [binary:BoostFromScore]: pavg=0.500117 -> initscore=0.000466\n",
            "[LightGBM] [Info] Start training from score 0.000466\n",
            "\n",
            "Ensemble Model Evaluation:\n",
            "Accuracy: 0.9133271202236719\n",
            "Classification Report:\n",
            "              precision    recall  f1-score   support\n",
            "\n",
            "           0       0.93      0.90      0.91       537\n",
            "           1       0.90      0.93      0.91       536\n",
            "\n",
            "    accuracy                           0.91      1073\n",
            "   macro avg       0.91      0.91      0.91      1073\n",
            "weighted avg       0.91      0.91      0.91      1073\n",
            "\n"
          ]
        },
        {
          "output_type": "display_data",
          "data": {
            "text/plain": [
              "<Figure size 800x600 with 2 Axes>"
            ],
            "image/png": "[encoded data removed]"
          },
          "metadata": {}
        }
      ]
    },
    {
      "cell_type": "code",
      "source": [
        "# prompt: Ensemble with best 3 (assumed LightGBM, XGBoost, Naive Bayes)\n",
        "\n",
        "import matplotlib.pyplot as plt\n",
        "# Create the ensemble model using VotingClassifier with the top 3 models (assuming LightGBM, XGBoost, Naive Bayes from previous output/task description)\n",
        "ensemble_model_top3 = VotingClassifier(estimators=[\n",
        "    ('lgb', lgb_model),\n",
        "    ('xgb', xgb_model),\n",
        "    ('nb', nb_model)\n",
        "], voting='hard') # 'hard' for majority voting\n",
        "\n",
        "# Train the top 3 ensemble model\n",
        "ensemble_model_top3.fit(X_train, y_train)\n",
        "\n",
        "# Make predictions with the top 3 ensemble model\n",
        "y_pred_ensemble_top3 = ensemble_model_top3.predict(X_test)\n",
        "\n",
        "# Evaluate the top 3 ensemble model\n",
        "accuracy_ensemble_top3 = accuracy_score(y_test, y_pred_ensemble_top3)\n",
        "report_ensemble_top3 = classification_report(y_test, y_pred_ensemble_top3)\n",
        "conf_matrix_ensemble_top3 = confusion_matrix(y_test, y_pred_ensemble_top3)\n",
        "\n",
        "# Print evaluation metrics for the top 3 ensemble model\n",
        "print(\"\\nTop 3 Ensemble Model Evaluation (LightGBM, XGBoost, Naive Bayes):\")\n",
        "print(f\"Accuracy: {accuracy_ensemble_top3}\")\n",
        "print(\"Classification Report:\")\n",
        "print(report_ensemble_top3)\n",
        "\n",
        "# Plot confusion matrix for the top 3 ensemble model\n",
        "plt.figure(figsize=(8, 6))\n",
        "sns.heatmap(conf_matrix_ensemble_top3, annot=True, fmt=\"d\", cmap=\"Greens\", xticklabels=['Fake', 'Real'], yticklabels=['Fake', 'Real'])\n",
        "plt.title(\"Top 3 Ensemble Model Confusion Matrix\")\n",
        "plt.xlabel(\"Predicted Label\")\n",
        "plt.ylabel(\"True Label\")\n",
        "plt.show()"
      ],
      "metadata": {
        "id": "_M8NweiYjwxc",
        "colab": {
          "base_uri": "https://localhost:8080/",
          "height": 929
        },
        "outputId": "4a231e76-a33f-4ebd-c4bf-77b71c07ccc0"
      },
      "execution_count": null,
      "outputs": [
        {
          "output_type": "stream",
          "name": "stdout",
          "text": [
            "[LightGBM] [Info] Number of positive: 2146, number of negative: 2145\n",
            "[LightGBM] [Info] Auto-choosing row-wise multi-threading, the overhead of testing was 0.155447 seconds.\n",
            "You can set `force_row_wise=true` to remove the overhead.\n",
            "And if memory is not enough, you can set `force_col_wise=true`.\n",
            "[LightGBM] [Info] Total Bins 99750\n",
            "[LightGBM] [Info] Number of data points in the train set: 4291, number of used features: 1650\n",
            "[LightGBM] [Info] [binary:BoostFromScore]: pavg=0.500117 -> initscore=0.000466\n",
            "[LightGBM] [Info] Start training from score 0.000466\n",
            "\n",
            "Top 3 Ensemble Model Evaluation (LightGBM, XGBoost, Naive Bayes):\n",
            "Accuracy: 0.918918918918919\n",
            "Classification Report:\n",
            "              precision    recall  f1-score   support\n",
            "\n",
            "           0       0.94      0.90      0.92       537\n",
            "           1       0.90      0.94      0.92       536\n",
            "\n",
            "    accuracy                           0.92      1073\n",
            "   macro avg       0.92      0.92      0.92      1073\n",
            "weighted avg       0.92      0.92      0.92      1073\n",
            "\n"
          ]
        },
        {
          "output_type": "display_data",
          "data": {
            "text/plain": [
              "<Figure size 800x600 with 2 Axes>"
            ],
            "image/png": "[encoded data removed]"
          },
          "metadata": {}
        }
      ]
    },
    {
      "cell_type": "code",
      "source": [
        "# prompt: Create a complete Keras LSTM-based fake news detection model for Bangla text in Colab. Use Tokenizer and pad_sequences for text preprocessing, build a Sequential model with Embedding and LSTM layers, and evaluate it using accuracy. Assume the All_df  has 'text' and 'label' columns.\n",
        "\n",
        "import matplotlib.pyplot as plt\n",
        "from tensorflow.keras.preprocessing.text import Tokenizer\n",
        "from tensorflow.keras.preprocessing.sequence import pad_sequences\n",
        "from tensorflow.keras.models import Sequential\n",
        "from tensorflow.keras.layers import Embedding, LSTM, Dense, Dropout\n",
        "\n",
        "# Assuming All_df is already loaded and contains 'text' and 'Label' columns\n",
        "# Split data into training and testing sets\n",
        "X_train_lstm, X_test_lstm, y_train_lstm, y_test_lstm = train_test_split(All_df['text'], All_df['Label'], test_size=0.2, random_state=42, stratify=All_df['Label'])\n",
        "\n",
        "# Define parameters for text processing\n",
        "vocab_size = 10000  # Maximum number of words to keep\n",
        "embedding_dim = 100 # Dimension of the embedding vector\n",
        "max_len = 128       # Maximum length of sequences\n",
        "\n",
        "# Initialize Tokenizer\n",
        "tokenizer = Tokenizer(num_words=vocab_size, oov_token=\"<OOV>\")\n",
        "\n",
        "# Fit tokenizer on training text data\n",
        "tokenizer.fit_on_texts(X_train_lstm)\n",
        "\n",
        "# Convert text to sequences\n",
        "train_sequences = tokenizer.texts_to_sequences(X_train_lstm)\n",
        "test_sequences = tokenizer.texts_to_sequences(X_test_lstm)\n",
        "\n",
        "# Pad sequences\n",
        "train_padded = pad_sequences(train_sequences, maxlen=max_len, padding='post', truncating='post')\n",
        "test_padded = pad_sequences(test_sequences, maxlen=max_len, padding='post', truncating='post')\n",
        "\n",
        "# Build the LSTM model\n",
        "model = Sequential([\n",
        "    Embedding(vocab_size, embedding_dim, input_length=max_len),\n",
        "    LSTM(128, return_sequences=True),\n",
        "    Dropout(0.2),\n",
        "    LSTM(64),\n",
        "    Dropout(0.2),\n",
        "    Dense(64, activation='relu'),\n",
        "    Dropout(0.2),\n",
        "    Dense(1, activation='sigmoid')  # Use sigmoid for binary classification\n",
        "])\n",
        "\n",
        "# Compile the model\n",
        "model.compile(loss='binary_crossentropy', optimizer='adam', metrics=['accuracy'])\n",
        "\n",
        "# Print model summary\n",
        "model.summary()\n",
        "\n",
        "# Train the model\n",
        "epochs = 10  # You can adjust the number of epochs\n",
        "batch_size = 32 # You can adjust the batch size\n",
        "\n",
        "history = model.fit(train_padded, y_train_lstm, epochs=epochs, validation_split=0.2, batch_size=batch_size, verbose=1)\n",
        "\n",
        "# Evaluate the model on the test set\n",
        "loss, accuracy = model.evaluate(test_padded, y_test_lstm, verbose=0)\n",
        "print(f\"\\nLSTM Model Accuracy: {accuracy}\")\n",
        "\n",
        "# Get predictions\n",
        "y_pred_lstm_proba = model.predict(test_padded)\n",
        "y_pred_lstm = (y_pred_lstm_proba > 0.5).astype(int) # Convert probabilities to binary predictions\n",
        "\n",
        "# Print classification report\n",
        "print(\"\\nLSTM Classification Report:\")\n",
        "print(classification_report(y_test_lstm, y_pred_lstm, target_names=['Fake', 'Real']))\n",
        "\n",
        "# Plot confusion matrix\n",
        "conf_matrix_lstm = confusion_matrix(y_test_lstm, y_pred_lstm)\n",
        "plt.figure(figsize=(8, 6))\n",
        "sns.heatmap(conf_matrix_lstm, annot=True, fmt=\"d\", cmap=\"Blues\", xticklabels=['Fake', 'Real'], yticklabels=['Fake', 'Real'])\n",
        "plt.title(\"LSTM Confusion Matrix\")\n",
        "plt.xlabel(\"Predicted Label\")\n",
        "plt.ylabel(\"True Label\")\n",
        "plt.show()\n",
        "\n",
        "# Plot training history (accuracy)\n",
        "plt.figure(figsize=(10, 6))\n",
        "plt.plot(history.history['accuracy'], label='Training Accuracy')\n",
        "plt.plot(history.history['val_accuracy'], label='Validation Accuracy')\n",
        "plt.title('LSTM Model Accuracy over Epochs')\n",
        "plt.xlabel('Epoch')\n",
        "plt.ylabel('Accuracy')\n",
        "plt.legend()\n",
        "plt.grid(True)\n",
        "plt.show()\n",
        "\n",
        "# Plot training history (loss)\n",
        "plt.figure(figsize=(10, 6))\n",
        "plt.plot(history.history['loss'], label='Training Loss')\n",
        "plt.plot(history.history['val_loss'], label='Validation Loss')\n",
        "plt.title('LSTM Model Loss over Epochs')\n",
        "plt.xlabel('Epoch')\n",
        "plt.ylabel('Loss')\n",
        "plt.legend()\n",
        "plt.grid(True)\n",
        "plt.show()\n"
      ],
      "metadata": {
        "id": "6Od45KdZAhGY",
        "colab": {
          "base_uri": "https://localhost:8080/",
          "height": 1000
        },
        "outputId": "dc77e2da-faa0-4168-c88e-dbe5f370be77"
      },
      "execution_count": null,
      "outputs": [
        {
          "output_type": "stream",
          "name": "stderr",
          "text": [
            "/usr/local/lib/python3.11/dist-packages/keras/src/layers/core/embedding.py:90: UserWarning: Argument `input_length` is deprecated. Just remove it.\n",
            "  warnings.warn(\n"
          ]
        },
        {
          "output_type": "display_data",
          "data": {
            "text/plain": [
              "\u001b[1mModel: \"sequential_5\"\u001b[0m\n"
            ],
            "text/html": [
              "<pre style=\"white-space:pre;overflow-x:auto;line-height:normal;font-family:Menlo,'DejaVu Sans Mono',consolas,'Courier New',monospace\"><span style=\"font-weight: bold\">Model: \"sequential_5\"</span>\n",
              "</pre>\n"
            ]
          },
          "metadata": {}
        },
        {
          "output_type": "display_data",
          "data": {
            "text/plain": [
              "┏━━━━━━━━━━━━━━━━━━━━━━━━━━━━━━━━━┳━━━━━━━━━━━━━━━━━━━━━━━━┳━━━━━━━━━━━━━━━┓\n",
              "┃\u001b[1m \u001b[0m\u001b[1mLayer (type)                   \u001b[0m\u001b[1m \u001b[0m┃\u001b[1m \u001b[0m\u001b[1mOutput Shape          \u001b[0m\u001b[1m \u001b[0m┃\u001b[1m \u001b[0m\u001b[1m      Param #\u001b[0m\u001b[1m \u001b[0m┃\n",
              "┡━━━━━━━━━━━━━━━━━━━━━━━━━━━━━━━━━╇━━━━━━━━━━━━━━━━━━━━━━━━╇━━━━━━━━━━━━━━━┩\n",
              "│ embedding_5 (\u001b[38;5;33mEmbedding\u001b[0m)         │ ?                      │   \u001b[38;5;34m0\u001b[0m (unbuilt) │\n",
              "├─────────────────────────────────┼────────────────────────┼───────────────┤\n",
              "│ lstm_8 (\u001b[38;5;33mLSTM\u001b[0m)                   │ ?                      │   \u001b[38;5;34m0\u001b[0m (unbuilt) │\n",
              "├─────────────────────────────────┼────────────────────────┼───────────────┤\n",
              "│ dropout_9 (\u001b[38;5;33mDropout\u001b[0m)             │ ?                      │             \u001b[38;5;34m0\u001b[0m │\n",
              "├─────────────────────────────────┼────────────────────────┼───────────────┤\n",
              "│ lstm_9 (\u001b[38;5;33mLSTM\u001b[0m)                   │ ?                      │   \u001b[38;5;34m0\u001b[0m (unbuilt) │\n",
              "├─────────────────────────────────┼────────────────────────┼───────────────┤\n",
              "│ dropout_10 (\u001b[38;5;33mDropout\u001b[0m)            │ ?                      │             \u001b[38;5;34m0\u001b[0m │\n",
              "├─────────────────────────────────┼────────────────────────┼───────────────┤\n",
              "│ dense_8 (\u001b[38;5;33mDense\u001b[0m)                 │ ?                      │   \u001b[38;5;34m0\u001b[0m (unbuilt) │\n",
              "├─────────────────────────────────┼────────────────────────┼───────────────┤\n",
              "│ dropout_11 (\u001b[38;5;33mDropout\u001b[0m)            │ ?                      │             \u001b[38;5;34m0\u001b[0m │\n",
              "├─────────────────────────────────┼────────────────────────┼───────────────┤\n",
              "│ dense_9 (\u001b[38;5;33mDense\u001b[0m)                 │ ?                      │   \u001b[38;5;34m0\u001b[0m (unbuilt) │\n",
              "└─────────────────────────────────┴────────────────────────┴───────────────┘\n"
            ],
            "text/html": [
              "<pre style=\"white-space:pre;overflow-x:auto;line-height:normal;font-family:Menlo,'DejaVu Sans Mono',consolas,'Courier New',monospace\">┏━━━━━━━━━━━━━━━━━━━━━━━━━━━━━━━━━┳━━━━━━━━━━━━━━━━━━━━━━━━┳━━━━━━━━━━━━━━━┓\n",
              "┃<span style=\"font-weight: bold\"> Layer (type)                    </span>┃<span style=\"font-weight: bold\"> Output Shape           </span>┃<span style=\"font-weight: bold\">       Param # </span>┃\n",
              "┡━━━━━━━━━━━━━━━━━━━━━━━━━━━━━━━━━╇━━━━━━━━━━━━━━━━━━━━━━━━╇━━━━━━━━━━━━━━━┩\n",
              "│ embedding_5 (<span style=\"color: #0087ff; text-decoration-color: #0087ff\">Embedding</span>)         │ ?                      │   <span style=\"color: #00af00; text-decoration-color: #00af00\">0</span> (unbuilt) │\n",
              "├─────────────────────────────────┼────────────────────────┼───────────────┤\n",
              "│ lstm_8 (<span style=\"color: #0087ff; text-decoration-color: #0087ff\">LSTM</span>)                   │ ?                      │   <span style=\"color: #00af00; text-decoration-color: #00af00\">0</span> (unbuilt) │\n",
              "├─────────────────────────────────┼────────────────────────┼───────────────┤\n",
              "│ dropout_9 (<span style=\"color: #0087ff; text-decoration-color: #0087ff\">Dropout</span>)             │ ?                      │             <span style=\"color: #00af00; text-decoration-color: #00af00\">0</span> │\n",
              "├─────────────────────────────────┼────────────────────────┼───────────────┤\n",
              "│ lstm_9 (<span style=\"color: #0087ff; text-decoration-color: #0087ff\">LSTM</span>)                   │ ?                      │   <span style=\"color: #00af00; text-decoration-color: #00af00\">0</span> (unbuilt) │\n",
              "├─────────────────────────────────┼────────────────────────┼───────────────┤\n",
              "│ dropout_10 (<span style=\"color: #0087ff; text-decoration-color: #0087ff\">Dropout</span>)            │ ?                      │             <span style=\"color: #00af00; text-decoration-color: #00af00\">0</span> │\n",
              "├─────────────────────────────────┼────────────────────────┼───────────────┤\n",
              "│ dense_8 (<span style=\"color: #0087ff; text-decoration-color: #0087ff\">Dense</span>)                 │ ?                      │   <span style=\"color: #00af00; text-decoration-color: #00af00\">0</span> (unbuilt) │\n",
              "├─────────────────────────────────┼────────────────────────┼───────────────┤\n",
              "│ dropout_11 (<span style=\"color: #0087ff; text-decoration-color: #0087ff\">Dropout</span>)            │ ?                      │             <span style=\"color: #00af00; text-decoration-color: #00af00\">0</span> │\n",
              "├─────────────────────────────────┼────────────────────────┼───────────────┤\n",
              "│ dense_9 (<span style=\"color: #0087ff; text-decoration-color: #0087ff\">Dense</span>)                 │ ?                      │   <span style=\"color: #00af00; text-decoration-color: #00af00\">0</span> (unbuilt) │\n",
              "└─────────────────────────────────┴────────────────────────┴───────────────┘\n",
              "</pre>\n"
            ]
          },
          "metadata": {}
        },
        {
          "output_type": "display_data",
          "data": {
            "text/plain": [
              "\u001b[1m Total params: \u001b[0m\u001b[38;5;34m0\u001b[0m (0.00 B)\n"
            ],
            "text/html": [
              "<pre style=\"white-space:pre;overflow-x:auto;line-height:normal;font-family:Menlo,'DejaVu Sans Mono',consolas,'Courier New',monospace\"><span style=\"font-weight: bold\"> Total params: </span><span style=\"color: #00af00; text-decoration-color: #00af00\">0</span> (0.00 B)\n",
              "</pre>\n"
            ]
          },
          "metadata": {}
        },
        {
          "output_type": "display_data",
          "data": {
            "text/plain": [
              "\u001b[1m Trainable params: \u001b[0m\u001b[38;5;34m0\u001b[0m (0.00 B)\n"
            ],
            "text/html": [
              "<pre style=\"white-space:pre;overflow-x:auto;line-height:normal;font-family:Menlo,'DejaVu Sans Mono',consolas,'Courier New',monospace\"><span style=\"font-weight: bold\"> Trainable params: </span><span style=\"color: #00af00; text-decoration-color: #00af00\">0</span> (0.00 B)\n",
              "</pre>\n"
            ]
          },
          "metadata": {}
        },
        {
          "output_type": "display_data",
          "data": {
            "text/plain": [
              "\u001b[1m Non-trainable params: \u001b[0m\u001b[38;5;34m0\u001b[0m (0.00 B)\n"
            ],
            "text/html": [
              "<pre style=\"white-space:pre;overflow-x:auto;line-height:normal;font-family:Menlo,'DejaVu Sans Mono',consolas,'Courier New',monospace\"><span style=\"font-weight: bold\"> Non-trainable params: </span><span style=\"color: #00af00; text-decoration-color: #00af00\">0</span> (0.00 B)\n",
              "</pre>\n"
            ]
          },
          "metadata": {}
        },
        {
          "output_type": "stream",
          "name": "stdout",
          "text": [
            "Epoch 1/10\n",
            "\u001b[1m108/108\u001b[0m \u001b[32m━━━━━━━━━━━━━━━━━━━━\u001b[0m\u001b[37m\u001b[0m \u001b[1m50s\u001b[0m 383ms/step - accuracy: 0.6110 - loss: 0.6426 - val_accuracy: 0.8894 - val_loss: 0.3409\n",
            "Epoch 2/10\n",
            "\u001b[1m108/108\u001b[0m \u001b[32m━━━━━━━━━━━━━━━━━━━━\u001b[0m\u001b[37m\u001b[0m \u001b[1m78s\u001b[0m 347ms/step - accuracy: 0.8779 - loss: 0.3602 - val_accuracy: 0.8778 - val_loss: 0.3646\n",
            "Epoch 3/10\n",
            "\u001b[1m108/108\u001b[0m \u001b[32m━━━━━━━━━━━━━━━━━━━━\u001b[0m\u001b[37m\u001b[0m \u001b[1m42s\u001b[0m 360ms/step - accuracy: 0.9173 - loss: 0.2687 - val_accuracy: 0.8952 - val_loss: 0.3033\n",
            "Epoch 4/10\n",
            "\u001b[1m108/108\u001b[0m \u001b[32m━━━━━━━━━━━━━━━━━━━━\u001b[0m\u001b[37m\u001b[0m \u001b[1m39s\u001b[0m 345ms/step - accuracy: 0.9339 - loss: 0.2257 - val_accuracy: 0.9057 - val_loss: 0.2937\n",
            "Epoch 5/10\n",
            "\u001b[1m108/108\u001b[0m \u001b[32m━━━━━━━━━━━━━━━━━━━━\u001b[0m\u001b[37m\u001b[0m \u001b[1m41s\u001b[0m 345ms/step - accuracy: 0.7410 - loss: 0.4878 - val_accuracy: 0.5704 - val_loss: 0.6391\n",
            "Epoch 6/10\n",
            "\u001b[1m108/108\u001b[0m \u001b[32m━━━━━━━━━━━━━━━━━━━━\u001b[0m\u001b[37m\u001b[0m \u001b[1m39s\u001b[0m 361ms/step - accuracy: 0.5430 - loss: 0.6562 - val_accuracy: 0.5681 - val_loss: 0.6372\n",
            "Epoch 7/10\n",
            "\u001b[1m108/108\u001b[0m \u001b[32m━━━━━━━━━━━━━━━━━━━━\u001b[0m\u001b[37m\u001b[0m \u001b[1m40s\u001b[0m 354ms/step - accuracy: 0.5485 - loss: 0.6684 - val_accuracy: 0.5052 - val_loss: 0.6793\n",
            "Epoch 8/10\n",
            "\u001b[1m108/108\u001b[0m \u001b[32m━━━━━━━━━━━━━━━━━━━━\u001b[0m\u001b[37m\u001b[0m \u001b[1m43s\u001b[0m 369ms/step - accuracy: 0.5299 - loss: 0.6768 - val_accuracy: 0.5367 - val_loss: 0.6738\n",
            "Epoch 9/10\n",
            "\u001b[1m108/108\u001b[0m \u001b[32m━━━━━━━━━━━━━━━━━━━━\u001b[0m\u001b[37m\u001b[0m \u001b[1m39s\u001b[0m 349ms/step - accuracy: 0.5726 - loss: 0.6668 - val_accuracy: 0.5693 - val_loss: 0.6436\n",
            "Epoch 10/10\n",
            "\u001b[1m108/108\u001b[0m \u001b[32m━━━━━━━━━━━━━━━━━━━━\u001b[0m\u001b[37m\u001b[0m \u001b[1m41s\u001b[0m 350ms/step - accuracy: 0.6747 - loss: 0.5657 - val_accuracy: 0.8068 - val_loss: 0.4717\n",
            "\n",
            "LSTM Model Accuracy: 0.8164026141166687\n",
            "\u001b[1m34/34\u001b[0m \u001b[32m━━━━━━━━━━━━━━━━━━━━\u001b[0m\u001b[37m\u001b[0m \u001b[1m5s\u001b[0m 126ms/step\n",
            "\n",
            "LSTM Classification Report:\n",
            "              precision    recall  f1-score   support\n",
            "\n",
            "        Fake       0.75      0.96      0.84       537\n",
            "        Real       0.94      0.68      0.79       536\n",
            "\n",
            "    accuracy                           0.82      1073\n",
            "   macro avg       0.84      0.82      0.81      1073\n",
            "weighted avg       0.84      0.82      0.81      1073\n",
            "\n"
          ]
        },
        {
          "output_type": "display_data",
          "data": {
            "text/plain": [
              "<Figure size 800x600 with 2 Axes>"
            ],
            "image/png": "[encoded data removed]"
          },
          "metadata": {}
        },
        {
          "output_type": "display_data",
          "data": {
            "text/plain": [
              "<Figure size 1000x600 with 1 Axes>"
            ],
            "image/png": "[encoded data removed]"
          },
          "metadata": {}
        },
        {
          "output_type": "display_data",
          "data": {
            "text/plain": [
              "<Figure size 1000x600 with 1 Axes>"
            ],
            "image/png": "[encoded data removed]"
          },
          "metadata": {}
        }
      ]
    },
    {
      "cell_type": "code",
      "metadata": {
        "id": "1298f7e9"
      },
      "source": [
        "!pip install -q tensorflow"
      ],
      "execution_count": null,
      "outputs": []
    },
    {
      "cell_type": "code",
      "source": [
        "# prompt: Generate a complete Colab-compatible pipeline using HuggingFace Transformers to classify Bangla fake news using the model \"sagorsarker/bangla-bert-base\". The dataset should be a CSV file with columns 'text' and 'label'. Include tokenization, model loading, training using Trainer API, and evaluation using accuracy and classification report.\n",
        "\n",
        "import numpy as np\n",
        "!pip install -q transformers datasets accelerate\n",
        "import pandas as pd\n",
        "from sklearn.model_selection import train_test_split\n",
        "from datasets import Dataset\n",
        "from transformers import AutoTokenizer, AutoModelForSequenceClassification, TrainingArguments, Trainer\n",
        "from sklearn.metrics import accuracy_score, classification_report\n",
        "\n",
        "# Assuming All_df with 'text' and 'Label' columns is available from previous code\n",
        "# Create a new DataFrame with just 'text' and 'Label' for the transformer pipeline\n",
        "df_transformer = All_df[['text', 'Label']].copy()\n",
        "df_transformer.rename(columns={'Label': 'labels'}, inplace=True) # Rename 'Label' to 'labels'\n",
        "\n",
        "# Split data into train, validation, and test sets\n",
        "train_df_transformer, test_df_transformer = train_test_split(df_transformer, test_size=0.2, random_state=42, stratify=df_transformer['labels'])\n",
        "train_df_transformer, val_df_transformer = train_test_split(train_df_transformer, test_size=0.2, random_state=42, stratify=train_df_transformer['labels']) # Corrected typo here\n",
        "\n",
        "# Convert pandas DataFrames to Hugging Face Datasets\n",
        "train_dataset = Dataset.from_pandas(train_df_transformer)\n",
        "val_dataset = Dataset.from_pandas(val_df_transformer)\n",
        "test_dataset = Dataset.from_pandas(test_df_transformer)\n",
        "\n",
        "# Load the tokenizer\n",
        "model_name = \"sagorsarker/bangla-bert-base\"\n",
        "tokenizer = AutoTokenizer.from_pretrained(model_name)\n",
        "\n",
        "# Tokenization function\n",
        "def tokenize_function(examples):\n",
        "    return tokenizer(examples[\"text\"], padding=\"max_length\", truncation=True, max_length=128) # Added max_length\n",
        "\n",
        "# Apply tokenization\n",
        "tokenized_train_dataset = train_dataset.map(tokenize_function, batched=True)\n",
        "tokenized_val_dataset = val_dataset.map(tokenize_function, batched=True)\n",
        "tokenized_test_dataset = test_dataset.map(tokenize_function, batched=True)\n",
        "\n",
        "# Load the model\n",
        "model = AutoModelForSequenceClassification.from_pretrained(model_name, num_labels=2) # Assuming 2 classes: 0 and 1\n",
        "\n",
        "# Define training arguments\n",
        "training_args = TrainingArguments(\n",
        "    output_dir=\"./results\",\n",
        "    eval_strategy=\"epoch\",\n",
        "    learning_rate=2e-5,\n",
        "    per_device_train_batch_size=8,\n",
        "    per_device_eval_batch_size=8,\n",
        "    num_train_epochs=3,\n",
        "    weight_decay=0.01,\n",
        "    save_total_limit=2, # Saves latest 2 checkpoints\n",
        "    save_strategy=\"epoch\",\n",
        "    logging_dir=\"./logs\",\n",
        "    logging_steps=10,\n",
        "    load_best_model_at_end=True,\n",
        "    metric_for_best_model=\"eval_accuracy\", # Ensure this matches the output of compute_metrics\n",
        ")\n",
        "\n",
        "# Define metrics calculation function\n",
        "def compute_metrics(eval_pred):\n",
        "    logits, labels = eval_pred\n",
        "    predictions = np.argmax(logits, axis=-1)\n",
        "    accuracy = accuracy_score(labels, predictions)\n",
        "    return {\"eval_accuracy\": accuracy} # Changed key to match metric_for_best_model\n",
        "\n",
        "# Initialize the Trainer\n",
        "trainer = Trainer(\n",
        "    model=model,\n",
        "    args=training_args,\n",
        "    train_dataset=tokenized_train_dataset,\n",
        "    eval_dataset=tokenized_val_dataset,\n",
        "    compute_metrics=compute_metrics,\n",
        ")\n",
        "\n",
        "# Train the model\n",
        "trainer.train()\n",
        "\n",
        "# Evaluate the model on the test set\n",
        "eval_results = trainer.evaluate(tokenized_test_dataset)\n",
        "print(f\"Test Accuracy: {eval_results['eval_accuracy']}\")\n",
        "\n",
        "# Get predictions for classification report\n",
        "predictions, labels, _ = trainer.predict(tokenized_test_dataset)\n",
        "predictions = np.argmax(predictions, axis=1)\n",
        "\n",
        "# Print classification report\n",
        "print(\"Classification Report:\")\n",
        "print(classification_report(labels, predictions, target_names=['Fake', 'Real']))"
      ],
      "metadata": {
        "colab": {
          "base_uri": "https://localhost:8080/",
          "height": 1000,
          "referenced_widgets": [
            "8ef2c503ad074eb28d4175af58e02a1c",
            "fea6d22e4e7648b39dbe26a5f108b898",
            "138a815b20824abcbe11333297374e1e",
            "1016129f4e4947d68740b3564763b5a9",
            "a64afaacb8f64299bf785a50abc4e1d2",
            "79c1ac5d1bce49f6b94dbfcac18cae39",
            "dfe58be603054b9c8a94df371845eaf3",
            "e68473ccf23a4fd5b4d9396a079e74a2",
            "00c110a92b194a4dbfa109913433140d",
            "a59a6d3101804c1599c62e97c1eb32c2",
            "125a7f5046fc42428bd06fe6173e1fd8",
            "e240d7c38e5f4f648c333e435e56f909",
            "7ef66b40d30a4257a50bed16fb07324d",
            "407d6ad6318a4acf9623595eb06f356a",
            "1ae8fc4928f8447caccd22d4e4453337",
            "58ae5abfd371487ca35d7df7331bd522",
            "fec4a2dbbcfd45929d45d62e5f2e5e42",
            "871019980b7141488e7f011ddb5baeae",
            "4b97a7722107493d905f886841adbb7d",
            "3bb84067edab4fa6a9873d78007d8e1e",
            "7c635c68336d4963bba21283bddb4a9c",
            "ef62c3caf62c404da2d76ac76e24b1d2",
            "65e989c0ef9d412ab17397c98c416d0e",
            "568599b0e1b54556afc1f120cc115edd",
            "9285f1f6930a4472a6bfa326f76e2c76",
            "fff01093103744b38d129633222ecbd8",
            "88ad21330d87499e8dfaf1333899f36e",
            "2ec871cdd7314f7cb00a314eb0b2b804",
            "c646f5228acc400dbe2e1da050bd46ff",
            "6b61312cb9854dc199763601f80e1f53",
            "f499e91fdf134d86b282e3aaaa611a53",
            "0e72f5683ab841c692a22f47e6dc604a",
            "f814ad3ac1384cf2be2f66b8e0d985c4",
            "1772ee0b9eba4ec1ad60bd4c3f2bed17",
            "27bc96dfc47d45bca1ebc4b1f0a2c87a",
            "547cb5de07224607b0fc4bce0a08a6d8",
            "fdf7c36381f240cea00bad2896d5147e",
            "d6fd9f5640e34dd8b8c72139c1aa0e01",
            "ead75d326a854043b8d043e13ae33840",
            "4751bcbf246342a498d3bf0ea633c12f",
            "1f2f62d9e5cf4eae89291fa1d8964174",
            "7db56e2f48a14c7dbffafdb2276ab7d6",
            "87ba7bd484484d5992b2cbfa8e64adc8",
            "4f8c01de1b824cbd9b8b60be57c6fedd",
            "2ae4e40d71074f36a7aab5bc9447b7b9",
            "935795d2867f4352af8551ea788c788b",
            "833b6738a4ed430ca3a6a86f7dafd771",
            "eb9e9fd929d44d14804730828f18f365",
            "62ba89ee27b54fff9e3eaaa78e33431e",
            "2a3ea477a9c143299cf9f8d3e48f60da",
            "ae3fb706fcc448cf8e5d664eef062556",
            "b95d8667a4804e36b76b09066ea946d5",
            "082386c4ab804099a4597c9b0b4e7c82",
            "502d145152cd4c0f81765f72f1c4c16f",
            "75980812f7c44c57a7de3d2eed74a118",
            "2c6254d58723443fac6d8913b97c1d98",
            "f8827b1c6887417ab40a1031d1018c2b",
            "d8d135e44a72413483c268e739c1bd67",
            "eaa110ce88584300950997f73fd96aed",
            "1b38a4bb6549418f8756c5ff358d5210",
            "2ef3c65cd77a4839ae0b8edbf2f71d75",
            "b91746700d9c4042824588334daa5408",
            "c3ac724643cc47d1bb4cce5a9a116ec8",
            "bd1c5edfca61481da322e07b04f980a4",
            "c20720c2f1c94e05881c4c9c04c8ded9",
            "acbd7cd04632495b8c3e02aa4d5cb9d3"
          ]
        },
        "id": "0rJ91Y4O30Hy",
        "outputId": "5eef2886-4425-4a7f-cfe2-e400c59b0175"
      },
      "execution_count": 64,
      "outputs": [
        {
          "metadata": {
            "tags": null
          },
          "name": "stdout",
          "output_type": "stream",
          "text": [
            "\u001b[2K   \u001b[90m━━━━━━━━━━━━━━━━━━━━━━━━━━━━━━━━━━━━━━━━\u001b[0m \u001b[32m363.4/363.4 MB\u001b[0m \u001b[31m2.8 MB/s\u001b[0m eta \u001b[36m0:00:00\u001b[0m\n",
            "\u001b[2K   \u001b[90m━━━━━━━━━━━━━━━━━━━━━━━━━━━━━━━━━━━━━━━━\u001b[0m \u001b[32m13.8/13.8 MB\u001b[0m \u001b[31m45.4 MB/s\u001b[0m eta \u001b[36m0:00:00\u001b[0m\n",
            "\u001b[2K   \u001b[90m━━━━━━━━━━━━━━━━━━━━━━━━━━━━━━━━━━━━━━━━\u001b[0m \u001b[32m24.6/24.6 MB\u001b[0m \u001b[31m33.2 MB/s\u001b[0m eta \u001b[36m0:00:00\u001b[0m\n",
            "\u001b[2K   \u001b[90m━━━━━━━━━━━━━━━━━━━━━━━━━━━━━━━━━━━━━━━━\u001b[0m \u001b[32m883.7/883.7 kB\u001b[0m \u001b[31m26.5 MB/s\u001b[0m eta \u001b[36m0:00:00\u001b[0m\n",
            "\u001b[2K   \u001b[90m━━━━━━━━━━━━━━━━━━━━━━━━━━━━━━━━━━━━━━━\u001b[0m \u001b[32m664.8/664.8 MB\u001b[0m \u001b[31m763.8 kB/s\u001b[0m eta \u001b[36m0:00:00\u001b[0m\n",
            "\u001b[2K   \u001b[90m━━━━━━━━━━━━━━━━━━━━━━━━━━━━━━━━━━━━━━━━\u001b[0m \u001b[32m211.5/211.5 MB\u001b[0m \u001b[31m5.5 MB/s\u001b[0m eta \u001b[36m0:00:00\u001b[0m\n",
            "\u001b[2K   \u001b[90m━━━━━━━━━━━━━━━━━━━━━━━━━━━━━━━━━━━━━━━━\u001b[0m \u001b[32m56.3/56.3 MB\u001b[0m \u001b[31m7.6 MB/s\u001b[0m eta \u001b[36m0:00:00\u001b[0m\n",
            "\u001b[2K   \u001b[90m━━━━━━━━━━━━━━━━━━━━━━━━━━━━━━━━━━━━━━━━\u001b[0m \u001b[32m127.9/127.9 MB\u001b[0m \u001b[31m9.0 MB/s\u001b[0m eta \u001b[36m0:00:00\u001b[0m\n",
            "\u001b[2K   \u001b[90m━━━━━━━━━━━━━━━━━━━━━━━━━━━━━━━━━━━━━━━━\u001b[0m \u001b[32m207.5/207.5 MB\u001b[0m \u001b[31m2.6 MB/s\u001b[0m eta \u001b[36m0:00:00\u001b[0m\n",
            "\u001b[2K   \u001b[90m━━━━━━━━━━━━━━━━━━━━━━━━━━━━━━━━━━━━━━━━\u001b[0m \u001b[32m21.1/21.1 MB\u001b[0m \u001b[31m59.0 MB/s\u001b[0m eta \u001b[36m0:00:00\u001b[0m\n",
            "\u001b[?25h"
          ]
        },
        {
          "metadata": {
            "tags": null
          },
          "name": "stderr",
          "output_type": "stream",
          "text": [
            "/usr/local/lib/python3.11/dist-packages/huggingface_hub/utils/_auth.py:94: UserWarning: \n",
            "The secret `HF_TOKEN` does not exist in your Colab secrets.\n",
            "To authenticate with the Hugging Face Hub, create a token in your settings tab (https://huggingface.co/settings/tokens), set it as secret in your Google Colab and restart your session.\n",
            "You will be able to reuse this secret in all of your notebooks.\n",
            "Please note that authentication is recommended but still optional to access public models or datasets.\n",
            "  warnings.warn(\n"
          ]
        },
        {
          "data": {
            "application/vnd.jupyter.widget-view+json": {
              "model_id": "8ef2c503ad074eb28d4175af58e02a1c",
              "version_major": 2,
              "version_minor": 0
            },
            "text/plain": [
              "config.json:   0%|          | 0.00/491 [00:00<?, ?B/s]"
            ]
          },
          "metadata": {},
          "output_type": "display_data"
        },
        {
          "data": {
            "application/vnd.jupyter.widget-view+json": {
              "model_id": "e240d7c38e5f4f648c333e435e56f909",
              "version_major": 2,
              "version_minor": 0
            },
            "text/plain": [
              "vocab.txt: 0.00B [00:00, ?B/s]"
            ]
          },
          "metadata": {},
          "output_type": "display_data"
        },
        {
          "data": {
            "application/vnd.jupyter.widget-view+json": {
              "model_id": "65e989c0ef9d412ab17397c98c416d0e",
              "version_major": 2,
              "version_minor": 0
            },
            "text/plain": [
              "Map:   0%|          | 0/3432 [00:00<?, ? examples/s]"
            ]
          },
          "metadata": {},
          "output_type": "display_data"
        },
        {
          "data": {
            "application/vnd.jupyter.widget-view+json": {
              "model_id": "1772ee0b9eba4ec1ad60bd4c3f2bed17",
              "version_major": 2,
              "version_minor": 0
            },
            "text/plain": [
              "Map:   0%|          | 0/859 [00:00<?, ? examples/s]"
            ]
          },
          "metadata": {},
          "output_type": "display_data"
        },
        {
          "data": {
            "application/vnd.jupyter.widget-view+json": {
              "model_id": "2ae4e40d71074f36a7aab5bc9447b7b9",
              "version_major": 2,
              "version_minor": 0
            },
            "text/plain": [
              "Map:   0%|          | 0/1073 [00:00<?, ? examples/s]"
            ]
          },
          "metadata": {},
          "output_type": "display_data"
        },
        {
          "data": {
            "application/vnd.jupyter.widget-view+json": {
              "model_id": "2c6254d58723443fac6d8913b97c1d98",
              "version_major": 2,
              "version_minor": 0
            },
            "text/plain": [
              "model.safetensors:   0%|          | 0.00/660M [00:00<?, ?B/s]"
            ]
          },
          "metadata": {},
          "output_type": "display_data"
        },
        {
          "metadata": {
            "tags": null
          },
          "name": "stderr",
          "output_type": "stream",
          "text": [
            "Some weights of BertForSequenceClassification were not initialized from the model checkpoint at sagorsarker/bangla-bert-base and are newly initialized: ['classifier.bias', 'classifier.weight']\n",
            "You should probably TRAIN this model on a down-stream task to be able to use it for predictions and inference.\n",
            "\u001b[34m\u001b[1mwandb\u001b[0m: \u001b[33mWARNING\u001b[0m The `run_name` is currently set to the same value as `TrainingArguments.output_dir`. If this was not intended, please specify a different run name by setting the `TrainingArguments.run_name` parameter.\n"
          ]
        },
        {
          "data": {
            "application/javascript": [
              "\n",
              "        window._wandbApiKey = new Promise((resolve, reject) => {\n",
              "            function loadScript(url) {\n",
              "            return new Promise(function(resolve, reject) {\n",
              "                let newScript = document.createElement(\"script\");\n",
              "                newScript.onerror = reject;\n",
              "                newScript.onload = resolve;\n",
              "                document.body.appendChild(newScript);\n",
              "                newScript.src = url;\n",
              "            });\n",
              "            }\n",
              "            loadScript(\"https://cdn.jsdelivr.net/npm/postmate/build/postmate.min.js\").then(() => {\n",
              "            const iframe = document.createElement('iframe')\n",
              "            iframe.style.cssText = \"width:0;height:0;border:none\"\n",
              "            document.body.appendChild(iframe)\n",
              "            const handshake = new Postmate({\n",
              "                container: iframe,\n",
              "                url: 'https://wandb.ai/authorize'\n",
              "            });\n",
              "            const timeout = setTimeout(() => reject(\"Couldn't auto authenticate\"), 5000)\n",
              "            handshake.then(function(child) {\n",
              "                child.on('authorize', data => {\n",
              "                    clearTimeout(timeout)\n",
              "                    resolve(data)\n",
              "                });\n",
              "            });\n",
              "            })\n",
              "        });\n",
              "    "
            ],
            "text/plain": [
              "<IPython.core.display.Javascript object>"
            ]
          },
          "metadata": {},
          "output_type": "display_data"
        },
        {
          "metadata": {
            "tags": null
          },
          "name": "stderr",
          "output_type": "stream",
          "text": [
            "\u001b[34m\u001b[1mwandb\u001b[0m: Logging into wandb.ai. (Learn how to deploy a W&B server locally: https://wandb.me/wandb-server)\n",
            "\u001b[34m\u001b[1mwandb\u001b[0m: You can find your API key in your browser here: https://wandb.ai/authorize?ref=models\n",
            "wandb: Paste an API key from your profile and hit enter:\u001b[34m\u001b[1mwandb\u001b[0m: \u001b[33mWARNING\u001b[0m If you're specifying your api key in code, ensure this code is not shared publicly.\n",
            "\u001b[34m\u001b[1mwandb\u001b[0m: \u001b[33mWARNING\u001b[0m Consider setting the WANDB_API_KEY environment variable, or running `wandb login` from the command line.\n",
            "\u001b[34m\u001b[1mwandb\u001b[0m: No netrc file found, creating one.\n",
            "\u001b[34m\u001b[1mwandb\u001b[0m: Appending key for api.wandb.ai to your netrc file: /root/.netrc\n",
            "\u001b[34m\u001b[1mwandb\u001b[0m: Currently logged in as: \u001b[33mabidur1098\u001b[0m (\u001b[33mabidur1098-bangladesh-university-of-business-and-technology\u001b[0m) to \u001b[32mhttps://api.wandb.ai\u001b[0m. Use \u001b[1m`wandb login --relogin`\u001b[0m to force relogin\n"
          ]
        },
        {
          "data": {
            "text/html": [
              "Tracking run with wandb version 0.21.0"
            ],
            "text/plain": [
              "<IPython.core.display.HTML object>"
            ]
          },
          "metadata": {},
          "output_type": "display_data"
        },
        {
          "data": {
            "text/html": [
              "Run data is saved locally in <code>/content/wandb/run-20250719_174116-xullr4jl</code>"
            ],
            "text/plain": [
              "<IPython.core.display.HTML object>"
            ]
          },
          "metadata": {},
          "output_type": "display_data"
        },
        {
          "data": {
            "text/html": [
              "Syncing run <strong><a href='https://wandb.ai/abidur1098-bangladesh-university-of-business-and-technology/huggingface/runs/xullr4jl' target=\"_blank\">./results</a></strong> to <a href='https://wandb.ai/abidur1098-bangladesh-university-of-business-and-technology/huggingface' target=\"_blank\">Weights & Biases</a> (<a href='https://wandb.me/developer-guide' target=\"_blank\">docs</a>)<br>"
            ],
            "text/plain": [
              "<IPython.core.display.HTML object>"
            ]
          },
          "metadata": {},
          "output_type": "display_data"
        },
        {
          "data": {
            "text/html": [
              " View project at <a href='https://wandb.ai/abidur1098-bangladesh-university-of-business-and-technology/huggingface' target=\"_blank\">https://wandb.ai/abidur1098-bangladesh-university-of-business-and-technology/huggingface</a>"
            ],
            "text/plain": [
              "<IPython.core.display.HTML object>"
            ]
          },
          "metadata": {},
          "output_type": "display_data"
        },
        {
          "data": {
            "text/html": [
              " View run at <a href='https://wandb.ai/abidur1098-bangladesh-university-of-business-and-technology/huggingface/runs/xullr4jl' target=\"_blank\">https://wandb.ai/abidur1098-bangladesh-university-of-business-and-technology/huggingface/runs/xullr4jl</a>"
            ],
            "text/plain": [
              "<IPython.core.display.HTML object>"
            ]
          },
          "metadata": {},
          "output_type": "display_data"
        },
        {
          "data": {
            "text/html": [
              "\n",
              "    <div>\n",
              "      \n",
              "      <progress value='116' max='1287' style='width:300px; height:20px; vertical-align: middle;'></progress>\n",
              "      [ 116/1287 25:00 < 4:16:54, 0.08 it/s, Epoch 0.27/3]\n",
              "    </div>\n",
              "    <table border=\"1\" class=\"dataframe\">\n",
              "  <thead>\n",
              " <tr style=\"text-align: left;\">\n",
              "      <th>Epoch</th>\n",
              "      <th>Training Loss</th>\n",
              "      <th>Validation Loss</th>\n",
              "    </tr>\n",
              "  </thead>\n",
              "  <tbody>\n",
              "  </tbody>\n",
              "</table><p>"
            ],
            "text/plain": [
              "<IPython.core.display.HTML object>"
            ]
          },
          "metadata": {},
          "output_type": "display_data"
        },
        {
          "output_type": "display_data",
          "data": {
            "text/plain": [
              "<IPython.core.display.HTML object>"
            ],
            "text/html": [
              "\n",
              "    <div>\n",
              "      \n",
              "      <progress value='1287' max='1287' style='width:300px; height:20px; vertical-align: middle;'></progress>\n",
              "      [1287/1287 5:02:04, Epoch 3/3]\n",
              "    </div>\n",
              "    <table border=\"1\" class=\"dataframe\">\n",
              "  <thead>\n",
              " <tr style=\"text-align: left;\">\n",
              "      <th>Epoch</th>\n",
              "      <th>Training Loss</th>\n",
              "      <th>Validation Loss</th>\n",
              "      <th>Accuracy</th>\n",
              "    </tr>\n",
              "  </thead>\n",
              "  <tbody>\n",
              "    <tr>\n",
              "      <td>1</td>\n",
              "      <td>0.431500</td>\n",
              "      <td>0.327947</td>\n",
              "      <td>0.882421</td>\n",
              "    </tr>\n",
              "    <tr>\n",
              "      <td>2</td>\n",
              "      <td>0.232500</td>\n",
              "      <td>0.445293</td>\n",
              "      <td>0.883586</td>\n",
              "    </tr>\n",
              "    <tr>\n",
              "      <td>3</td>\n",
              "      <td>0.180800</td>\n",
              "      <td>0.488084</td>\n",
              "      <td>0.891735</td>\n",
              "    </tr>\n",
              "  </tbody>\n",
              "</table><p>"
            ]
          },
          "metadata": {}
        },
        {
          "output_type": "display_data",
          "data": {
            "text/plain": [
              "<IPython.core.display.HTML object>"
            ],
            "text/html": []
          },
          "metadata": {}
        },
        {
          "output_type": "stream",
          "name": "stdout",
          "text": [
            "Test Accuracy: 0.8797763280521901\n",
            "Classification Report:\n",
            "              precision    recall  f1-score   support\n",
            "\n",
            "        Fake       0.91      0.84      0.88       537\n",
            "        Real       0.85      0.92      0.88       536\n",
            "\n",
            "    accuracy                           0.88      1073\n",
            "   macro avg       0.88      0.88      0.88      1073\n",
            "weighted avg       0.88      0.88      0.88      1073\n",
            "\n"
          ]
        }
      ]
    },
    {
      "cell_type": "code",
      "source": [
        "# prompt: genarate  a confution metriex for the transfer learning model\n",
        "\n",
        "import matplotlib.pyplot as plt\n",
        "# Generate confusion matrix for the transfer learning model\n",
        "conf_matrix_transformer = confusion_matrix(labels, predictions)\n",
        "\n",
        "# Plot confusion matrix for the transformer model\n",
        "plt.figure(figsize=(8, 6))\n",
        "sns.heatmap(conf_matrix_transformer, annot=True, fmt=\"d\", cmap=\"Reds\", xticklabels=['Fake', 'Real'], yticklabels=['Fake', 'Real'])\n",
        "plt.title(\"Transfer Model Confusion Matrix\")\n",
        "plt.xlabel(\"Predicted Label\")\n",
        "plt.ylabel(\"True Label\")\n",
        "plt.show()"
      ],
      "metadata": {
        "id": "iL_W72NGmD5r",
        "colab": {
          "base_uri": "https://localhost:8080/",
          "height": 564
        },
        "outputId": "b1a12121-1d43-4841-f3c3-b0783cb1f2a5"
      },
      "execution_count": 72,
      "outputs": [
        {
          "output_type": "display_data",
          "data": {
            "text/plain": [
              "<Figure size 800x600 with 2 Axes>"
            ],
            "image/png": "[encoded data removed]"
          },
          "metadata": {}
        }
      ]
    },
    {
      "cell_type": "code",
      "source": [
        "# prompt: make a ROC carve diagram for all the 9 models\n",
        "\n",
        "import matplotlib.pyplot as plt\n",
        "from sklearn.metrics import roc_curve, auc\n",
        "from scipy.special import softmax\n",
        "\n",
        "# Re-run the cells that train the models to ensure they are defined\n",
        "# This is a workaround for interactive environments like Colab if cells are run out of order.\n",
        "# In a production script, you would ensure the models are trained sequentially.\n",
        "\n",
        "# Cell 0YvTowF7hVAm: Train SVM\n",
        "if 'svm_model' not in locals():\n",
        "    print(\"Training SVM...\")\n",
        "    svm_model = LinearSVC(random_state=42)\n",
        "    svm_model.fit(X_train, y_train)\n",
        "\n",
        "# Cell YVaGb5FEhqwt: Train Logistic Regression\n",
        "if 'log_reg_model' not in locals():\n",
        "    print(\"Training Logistic Regression...\")\n",
        "    log_reg_model = LogisticRegression(random_state=42)\n",
        "    log_reg_model.fit(X_train, y_train)\n",
        "\n",
        "# Cell 8F0pOHwdiL1t: Train Naive Bayes\n",
        "if 'nb_model' not in locals():\n",
        "    print(\"Training Naive Bayes...\")\n",
        "    nb_model = MultinomialNB()\n",
        "    nb_model.fit(X_train, y_train)\n",
        "\n",
        "# Cell yvdB6mTziUZH: Train XGBoost\n",
        "if 'xgb_model' not in locals():\n",
        "    print(\"Training XGBoost...\")\n",
        "    import xgboost as xgb\n",
        "    xgb_model = xgb.XGBClassifier(random_state=42)\n",
        "    xgb_model.fit(X_train, y_train)\n",
        "\n",
        "# Cell vf3-23n0iySu: Train LightGBM\n",
        "if 'lgb_model' not in locals():\n",
        "    print(\"Training LightGBM...\")\n",
        "    import lightgbm as lgb\n",
        "    lgb_model = lgb.LGBMClassifier(random_state=42)\n",
        "    lgb_model.fit(X_train, y_train)\n",
        "\n",
        "# Cell 6Od45KdZAhGY: Train LSTM\n",
        "# Assuming the variables from LSTM training (y_test_lstm, y_pred_lstm_proba) are needed\n",
        "# If this cell was not run, these variables would also be undefined.\n",
        "# For simplicity here, we assume if the model is not defined, the training needs to happen.\n",
        "# A more robust solution would check for the required variables.\n",
        "if 'model' not in locals():\n",
        "    print(\"Training LSTM...\")\n",
        "    # This requires the full LSTM training code from cell 6Od45KdZAhGY\n",
        "    # Due to the complexity of rerunning the entire cell, we will skip rerunning the LSTM training\n",
        "    # here and assume the user has run it previously. If the error persists,\n",
        "    # the user should manually run the LSTM training cell.\n",
        "    pass # Placeholder - ideally would rerun the LSTM training if needed\n",
        "\n",
        "\n",
        "# Get probability predictions for models that support it\n",
        "y_proba_svm = svm_model.decision_function(X_test) # LinearSVC uses decision_function\n",
        "y_proba_log_reg = log_reg_model.predict_proba(X_test)[:, 1]\n",
        "y_proba_nb = nb_model.predict_proba(X_test)[:, 1]\n",
        "y_proba_xgb = xgb_model.predict_proba(X_test)[:, 1]\n",
        "y_proba_lgb = lgb_model.predict_proba(X_test)[:, 1]\n",
        "# For ensemble with hard voting, ROC is not directly applicable based on probabilities.\n",
        "# We can either use one of the base models or retrain with soft voting.\n",
        "# For this example, we'll use the base models' probabilities.\n",
        "\n",
        "# LSTM probability predictions were already obtained\n",
        "# Ensure y_test_lstm and y_proba_lstm are available from LSTM training\n",
        "if 'y_test_lstm' in locals() and 'y_pred_lstm_proba' in locals():\n",
        "    y_proba_lstm = y_pred_lstm_proba.flatten() # Flatten the array if it's (n, 1)\n",
        "    fpr_lstm, tpr_lstm, _ = roc_curve(y_test_lstm, y_proba_lstm)\n",
        "    roc_auc_lstm = auc(fpr_lstm, tpr_lstm)\n",
        "    plot_lstm = True\n",
        "else:\n",
        "    print(\"LSTM model or predictions not found. Skipping LSTM ROC plot.\")\n",
        "    plot_lstm = False\n",
        "\n",
        "\n",
        "# Transformer probability predictions\n",
        "# Need to get raw logits and then apply softmax\n",
        "# trainer.predict returns logits, labels, metrics\n",
        "# Ensure trainer, tokenized_test_dataset, and labels are available from transformer training\n",
        "if 'trainer' in locals() and 'tokenized_test_dataset' in locals() and 'labels' in locals():\n",
        "    transformer_outputs = trainer.predict(tokenized_test_dataset)\n",
        "    transformer_logits = transformer_outputs.predictions\n",
        "    transformer_proba = softmax(transformer_logits, axis=1)[:, 1] # Probabilities for the positive class (label 1)\n",
        "    fpr_transformer, tpr_transformer, _ = roc_curve(labels, transformer_proba)\n",
        "    roc_auc_transformer = auc(fpr_transformer, tpr_transformer)\n",
        "    plot_transformer = True\n",
        "else:\n",
        "    print(\"Transformer model or predictions not found. Skipping Transformer ROC plot.\")\n",
        "    plot_transformer = False\n",
        "\n",
        "\n",
        "# Calculate ROC curve and AUC for each model\n",
        "fpr_svm, tpr_svm, _ = roc_curve(y_test, y_proba_svm)\n",
        "roc_auc_svm = auc(fpr_svm, tpr_svm)\n",
        "\n",
        "fpr_log_reg, tpr_log_reg, _ = roc_curve(y_test, y_proba_log_reg)\n",
        "roc_auc_log_reg = auc(fpr_log_reg, tpr_log_reg)\n",
        "\n",
        "fpr_nb, tpr_nb, _ = roc_curve(y_test, y_proba_nb)\n",
        "roc_auc_nb = auc(fpr_nb, tpr_nb)\n",
        "\n",
        "fpr_xgb, tpr_xgb, _ = roc_curve(y_test, y_proba_xgb)\n",
        "roc_auc_xgb = auc(fpr_xgb, tpr_xgb)\n",
        "\n",
        "fpr_lgb, tpr_lgb, _ = roc_curve(y_test, y_proba_lgb)\n",
        "roc_auc_lgb = auc(fpr_lgb, tpr_lgb)\n",
        "\n",
        "# Ensemble models with hard voting don't provide probabilities directly for ROC.\n",
        "# If you want ROC for an ensemble, use soft voting or consider the average/median probabilities\n",
        "# of the base models. For this example, we'll skip the hard voting ensembles for ROC.\n",
        "\n",
        "\n",
        "# Plot ROC curves\n",
        "plt.figure(figsize=(10, 8))\n",
        "plt.plot(fpr_svm, tpr_svm, color='darkorange', lw=2, label=f'SVM (AUC = {roc_auc_svm:.2f})')\n",
        "plt.plot(fpr_log_reg, tpr_log_reg, color='green', lw=2, label=f'Logistic Regression (AUC = {roc_auc_log_reg:.2f})')\n",
        "plt.plot(fpr_nb, tpr_nb, color='blue', lw=2, label=f'Naive Bayes (AUC = {roc_auc_nb:.2f})')\n",
        "plt.plot(fpr_xgb, tpr_xgb, color='red', lw=2, label=f'XGBoost (AUC = {roc_auc_xgb:.2f})')\n",
        "plt.plot(fpr_lgb, tpr_lgb, color='purple', lw=2, label=f'LightGBM (AUC = {roc_auc_lgb:.2f})')\n",
        "\n",
        "if plot_lstm:\n",
        "    plt.plot(fpr_lstm, tpr_lstm, color='brown', lw=2, label=f'LSTM (AUC = {roc_auc_lstm:.2f})')\n",
        "\n",
        "if plot_transformer:\n",
        "    plt.plot(fpr_transformer, tpr_transformer, color='teal', lw=2, label=f'Transformer (AUC = {roc_auc_transformer:.2f})')\n",
        "\n",
        "\n",
        "plt.plot([0, 1], [0, 1], color='navy', lw=2, linestyle='--')\n",
        "plt.xlim([0.0, 1.0])\n",
        "plt.ylim([0.0, 1.05])\n",
        "plt.xlabel('False Positive Rate')\n",
        "plt.ylabel('True Positive Rate')\n",
        "plt.title('Receiver Operating Characteristic (ROC) Curve for Multiple Models')\n",
        "plt.legend(loc=\"lower right\")\n",
        "plt.grid(True)\n",
        "plt.show()"
      ],
      "metadata": {
        "id": "CXlxufrzRBPW",
        "colab": {
          "base_uri": "https://localhost:8080/",
          "height": 718
        },
        "outputId": "44af9abd-44d8-45ec-daf1-07cc1934354b"
      },
      "execution_count": 66,
      "outputs": [
        {
          "output_type": "display_data",
          "data": {
            "text/plain": [
              "<IPython.core.display.HTML object>"
            ],
            "text/html": []
          },
          "metadata": {}
        },
        {
          "output_type": "display_data",
          "data": {
            "text/plain": [
              "<Figure size 1000x800 with 1 Axes>"
            ],
            "image/png": "[encoded data removed]"
          },
          "metadata": {}
        }
      ]
    }
  ],
  "metadata": {
    "colab": {
      "provenance": []
    },
    "kernelspec": {
      "display_name": "Python 3",
      "name": "python3"
    },
    "language_info": {
      "name": "python"
    },
    "widgets": {
      "application/vnd.jupyter.widget-state+json": {
        "8ef2c503ad074eb28d4175af58e02a1c": {
          "model_module": "@jupyter-widgets/controls",
          "model_name": "HBoxModel",
          "model_module_version": "1.5.0",
          "state": {
            "_dom_classes": [],
            "_model_module": "@jupyter-widgets/controls",
            "_model_module_version": "1.5.0",
            "_model_name": "HBoxModel",
            "_view_count": null,
            "_view_module": "@jupyter-widgets/controls",
            "_view_module_version": "1.5.0",
            "_view_name": "HBoxView",
            "box_style": "",
            "children": [
              "IPY_MODEL_fea6d22e4e7648b39dbe26a5f108b898",
              "IPY_MODEL_138a815b20824abcbe11333297374e1e",
              "IPY_MODEL_1016129f4e4947d68740b3564763b5a9"
            ],
            "layout": "IPY_MODEL_a64afaacb8f64299bf785a50abc4e1d2"
          }
        },
        "fea6d22e4e7648b39dbe26a5f108b898": {
          "model_module": "@jupyter-widgets/controls",
          "model_name": "HTMLModel",
          "model_module_version": "1.5.0",
          "state": {
            "_dom_classes": [],
            "_model_module": "@jupyter-widgets/controls",
            "_model_module_version": "1.5.0",
            "_model_name": "HTMLModel",
            "_view_count": null,
            "_view_module": "@jupyter-widgets/controls",
            "_view_module_version": "1.5.0",
            "_view_name": "HTMLView",
            "description": "",
            "description_tooltip": null,
            "layout": "IPY_MODEL_79c1ac5d1bce49f6b94dbfcac18cae39",
            "placeholder": "​",
            "style": "IPY_MODEL_dfe58be603054b9c8a94df371845eaf3",
            "value": "config.json: 100%"
          }
        },
        "138a815b20824abcbe11333297374e1e": {
          "model_module": "@jupyter-widgets/controls",
          "model_name": "FloatProgressModel",
          "model_module_version": "1.5.0",
          "state": {
            "_dom_classes": [],
            "_model_module": "@jupyter-widgets/controls",
            "_model_module_version": "1.5.0",
            "_model_name": "FloatProgressModel",
            "_view_count": null,
            "_view_module": "@jupyter-widgets/controls",
            "_view_module_version": "1.5.0",
            "_view_name": "ProgressView",
            "bar_style": "success",
            "description": "",
            "description_tooltip": null,
            "layout": "IPY_MODEL_e68473ccf23a4fd5b4d9396a079e74a2",
            "max": 491,
            "min": 0,
            "orientation": "horizontal",
            "style": "IPY_MODEL_00c110a92b194a4dbfa109913433140d",
            "value": 491
          }
        },
        "1016129f4e4947d68740b3564763b5a9": {
          "model_module": "@jupyter-widgets/controls",
          "model_name": "HTMLModel",
          "model_module_version": "1.5.0",
          "state": {
            "_dom_classes": [],
            "_model_module": "@jupyter-widgets/controls",
            "_model_module_version": "1.5.0",
            "_model_name": "HTMLModel",
            "_view_count": null,
            "_view_module": "@jupyter-widgets/controls",
            "_view_module_version": "1.5.0",
            "_view_name": "HTMLView",
            "description": "",
            "description_tooltip": null,
            "layout": "IPY_MODEL_a59a6d3101804c1599c62e97c1eb32c2",
            "placeholder": "​",
            "style": "IPY_MODEL_125a7f5046fc42428bd06fe6173e1fd8",
            "value": " 491/491 [00:00&lt;00:00, 39.4kB/s]"
          }
        },
        "a64afaacb8f64299bf785a50abc4e1d2": {
          "model_module": "@jupyter-widgets/base",
          "model_name": "LayoutModel",
          "model_module_version": "1.2.0",
          "state": {
            "_model_module": "@jupyter-widgets/base",
            "_model_module_version": "1.2.0",
            "_model_name": "LayoutModel",
            "_view_count": null,
            "_view_module": "@jupyter-widgets/base",
            "_view_module_version": "1.2.0",
            "_view_name": "LayoutView",
            "align_content": null,
            "align_items": null,
            "align_self": null,
            "border": null,
            "bottom": null,
            "display": null,
            "flex": null,
            "flex_flow": null,
            "grid_area": null,
            "grid_auto_columns": null,
            "grid_auto_flow": null,
            "grid_auto_rows": null,
            "grid_column": null,
            "grid_gap": null,
            "grid_row": null,
            "grid_template_areas": null,
            "grid_template_columns": null,
            "grid_template_rows": null,
            "height": null,
            "justify_content": null,
            "justify_items": null,
            "left": null,
            "margin": null,
            "max_height": null,
            "max_width": null,
            "min_height": null,
            "min_width": null,
            "object_fit": null,
            "object_position": null,
            "order": null,
            "overflow": null,
            "overflow_x": null,
            "overflow_y": null,
            "padding": null,
            "right": null,
            "top": null,
            "visibility": null,
            "width": null
          }
        },
        "79c1ac5d1bce49f6b94dbfcac18cae39": {
          "model_module": "@jupyter-widgets/base",
          "model_name": "LayoutModel",
          "model_module_version": "1.2.0",
          "state": {
            "_model_module": "@jupyter-widgets/base",
            "_model_module_version": "1.2.0",
            "_model_name": "LayoutModel",
            "_view_count": null,
            "_view_module": "@jupyter-widgets/base",
            "_view_module_version": "1.2.0",
            "_view_name": "LayoutView",
            "align_content": null,
            "align_items": null,
            "align_self": null,
            "border": null,
            "bottom": null,
            "display": null,
            "flex": null,
            "flex_flow": null,
            "grid_area": null,
            "grid_auto_columns": null,
            "grid_auto_flow": null,
            "grid_auto_rows": null,
            "grid_column": null,
            "grid_gap": null,
            "grid_row": null,
            "grid_template_areas": null,
            "grid_template_columns": null,
            "grid_template_rows": null,
            "height": null,
            "justify_content": null,
            "justify_items": null,
            "left": null,
            "margin": null,
            "max_height": null,
            "max_width": null,
            "min_height": null,
            "min_width": null,
            "object_fit": null,
            "object_position": null,
            "order": null,
            "overflow": null,
            "overflow_x": null,
            "overflow_y": null,
            "padding": null,
            "right": null,
            "top": null,
            "visibility": null,
            "width": null
          }
        },
        "dfe58be603054b9c8a94df371845eaf3": {
          "model_module": "@jupyter-widgets/controls",
          "model_name": "DescriptionStyleModel",
          "model_module_version": "1.5.0",
          "state": {
            "_model_module": "@jupyter-widgets/controls",
            "_model_module_version": "1.5.0",
            "_model_name": "DescriptionStyleModel",
            "_view_count": null,
            "_view_module": "@jupyter-widgets/base",
            "_view_module_version": "1.2.0",
            "_view_name": "StyleView",
            "description_width": ""
          }
        },
        "e68473ccf23a4fd5b4d9396a079e74a2": {
          "model_module": "@jupyter-widgets/base",
          "model_name": "LayoutModel",
          "model_module_version": "1.2.0",
          "state": {
            "_model_module": "@jupyter-widgets/base",
            "_model_module_version": "1.2.0",
            "_model_name": "LayoutModel",
            "_view_count": null,
            "_view_module": "@jupyter-widgets/base",
            "_view_module_version": "1.2.0",
            "_view_name": "LayoutView",
            "align_content": null,
            "align_items": null,
            "align_self": null,
            "border": null,
            "bottom": null,
            "display": null,
            "flex": null,
            "flex_flow": null,
            "grid_area": null,
            "grid_auto_columns": null,
            "grid_auto_flow": null,
            "grid_auto_rows": null,
            "grid_column": null,
            "grid_gap": null,
            "grid_row": null,
            "grid_template_areas": null,
            "grid_template_columns": null,
            "grid_template_rows": null,
            "height": null,
            "justify_content": null,
            "justify_items": null,
            "left": null,
            "margin": null,
            "max_height": null,
            "max_width": null,
            "min_height": null,
            "min_width": null,
            "object_fit": null,
            "object_position": null,
            "order": null,
            "overflow": null,
            "overflow_x": null,
            "overflow_y": null,
            "padding": null,
            "right": null,
            "top": null,
            "visibility": null,
            "width": null
          }
        },
        "00c110a92b194a4dbfa109913433140d": {
          "model_module": "@jupyter-widgets/controls",
          "model_name": "ProgressStyleModel",
          "model_module_version": "1.5.0",
          "state": {
            "_model_module": "@jupyter-widgets/controls",
            "_model_module_version": "1.5.0",
            "_model_name": "ProgressStyleModel",
            "_view_count": null,
            "_view_module": "@jupyter-widgets/base",
            "_view_module_version": "1.2.0",
            "_view_name": "StyleView",
            "bar_color": null,
            "description_width": ""
          }
        },
        "a59a6d3101804c1599c62e97c1eb32c2": {
          "model_module": "@jupyter-widgets/base",
          "model_name": "LayoutModel",
          "model_module_version": "1.2.0",
          "state": {
            "_model_module": "@jupyter-widgets/base",
            "_model_module_version": "1.2.0",
            "_model_name": "LayoutModel",
            "_view_count": null,
            "_view_module": "@jupyter-widgets/base",
            "_view_module_version": "1.2.0",
            "_view_name": "LayoutView",
            "align_content": null,
            "align_items": null,
            "align_self": null,
            "border": null,
            "bottom": null,
            "display": null,
            "flex": null,
            "flex_flow": null,
            "grid_area": null,
            "grid_auto_columns": null,
            "grid_auto_flow": null,
            "grid_auto_rows": null,
            "grid_column": null,
            "grid_gap": null,
            "grid_row": null,
            "grid_template_areas": null,
            "grid_template_columns": null,
            "grid_template_rows": null,
            "height": null,
            "justify_content": null,
            "justify_items": null,
            "left": null,
            "margin": null,
            "max_height": null,
            "max_width": null,
            "min_height": null,
            "min_width": null,
            "object_fit": null,
            "object_position": null,
            "order": null,
            "overflow": null,
            "overflow_x": null,
            "overflow_y": null,
            "padding": null,
            "right": null,
            "top": null,
            "visibility": null,
            "width": null
          }
        },
        "125a7f5046fc42428bd06fe6173e1fd8": {
          "model_module": "@jupyter-widgets/controls",
          "model_name": "DescriptionStyleModel",
          "model_module_version": "1.5.0",
          "state": {
            "_model_module": "@jupyter-widgets/controls",
            "_model_module_version": "1.5.0",
            "_model_name": "DescriptionStyleModel",
            "_view_count": null,
            "_view_module": "@jupyter-widgets/base",
            "_view_module_version": "1.2.0",
            "_view_name": "StyleView",
            "description_width": ""
          }
        },
        "e240d7c38e5f4f648c333e435e56f909": {
          "model_module": "@jupyter-widgets/controls",
          "model_name": "HBoxModel",
          "model_module_version": "1.5.0",
          "state": {
            "_dom_classes": [],
            "_model_module": "@jupyter-widgets/controls",
            "_model_module_version": "1.5.0",
            "_model_name": "HBoxModel",
            "_view_count": null,
            "_view_module": "@jupyter-widgets/controls",
            "_view_module_version": "1.5.0",
            "_view_name": "HBoxView",
            "box_style": "",
            "children": [
              "IPY_MODEL_7ef66b40d30a4257a50bed16fb07324d",
              "IPY_MODEL_407d6ad6318a4acf9623595eb06f356a",
              "IPY_MODEL_1ae8fc4928f8447caccd22d4e4453337"
            ],
            "layout": "IPY_MODEL_58ae5abfd371487ca35d7df7331bd522"
          }
        },
        "7ef66b40d30a4257a50bed16fb07324d": {
          "model_module": "@jupyter-widgets/controls",
          "model_name": "HTMLModel",
          "model_module_version": "1.5.0",
          "state": {
            "_dom_classes": [],
            "_model_module": "@jupyter-widgets/controls",
            "_model_module_version": "1.5.0",
            "_model_name": "HTMLModel",
            "_view_count": null,
            "_view_module": "@jupyter-widgets/controls",
            "_view_module_version": "1.5.0",
            "_view_name": "HTMLView",
            "description": "",
            "description_tooltip": null,
            "layout": "IPY_MODEL_fec4a2dbbcfd45929d45d62e5f2e5e42",
            "placeholder": "​",
            "style": "IPY_MODEL_871019980b7141488e7f011ddb5baeae",
            "value": "vocab.txt: "
          }
        },
        "407d6ad6318a4acf9623595eb06f356a": {
          "model_module": "@jupyter-widgets/controls",
          "model_name": "FloatProgressModel",
          "model_module_version": "1.5.0",
          "state": {
            "_dom_classes": [],
            "_model_module": "@jupyter-widgets/controls",
            "_model_module_version": "1.5.0",
            "_model_name": "FloatProgressModel",
            "_view_count": null,
            "_view_module": "@jupyter-widgets/controls",
            "_view_module_version": "1.5.0",
            "_view_name": "ProgressView",
            "bar_style": "success",
            "description": "",
            "description_tooltip": null,
            "layout": "IPY_MODEL_4b97a7722107493d905f886841adbb7d",
            "max": 1,
            "min": 0,
            "orientation": "horizontal",
            "style": "IPY_MODEL_3bb84067edab4fa6a9873d78007d8e1e",
            "value": 1
          }
        },
        "1ae8fc4928f8447caccd22d4e4453337": {
          "model_module": "@jupyter-widgets/controls",
          "model_name": "HTMLModel",
          "model_module_version": "1.5.0",
          "state": {
            "_dom_classes": [],
            "_model_module": "@jupyter-widgets/controls",
            "_model_module_version": "1.5.0",
            "_model_name": "HTMLModel",
            "_view_count": null,
            "_view_module": "@jupyter-widgets/controls",
            "_view_module_version": "1.5.0",
            "_view_name": "HTMLView",
            "description": "",
            "description_tooltip": null,
            "layout": "IPY_MODEL_7c635c68336d4963bba21283bddb4a9c",
            "placeholder": "​",
            "style": "IPY_MODEL_ef62c3caf62c404da2d76ac76e24b1d2",
            "value": " 2.24M/? [00:00&lt;00:00, 15.0MB/s]"
          }
        },
        "58ae5abfd371487ca35d7df7331bd522": {
          "model_module": "@jupyter-widgets/base",
          "model_name": "LayoutModel",
          "model_module_version": "1.2.0",
          "state": {
            "_model_module": "@jupyter-widgets/base",
            "_model_module_version": "1.2.0",
            "_model_name": "LayoutModel",
            "_view_count": null,
            "_view_module": "@jupyter-widgets/base",
            "_view_module_version": "1.2.0",
            "_view_name": "LayoutView",
            "align_content": null,
            "align_items": null,
            "align_self": null,
            "border": null,
            "bottom": null,
            "display": null,
            "flex": null,
            "flex_flow": null,
            "grid_area": null,
            "grid_auto_columns": null,
            "grid_auto_flow": null,
            "grid_auto_rows": null,
            "grid_column": null,
            "grid_gap": null,
            "grid_row": null,
            "grid_template_areas": null,
            "grid_template_columns": null,
            "grid_template_rows": null,
            "height": null,
            "justify_content": null,
            "justify_items": null,
            "left": null,
            "margin": null,
            "max_height": null,
            "max_width": null,
            "min_height": null,
            "min_width": null,
            "object_fit": null,
            "object_position": null,
            "order": null,
            "overflow": null,
            "overflow_x": null,
            "overflow_y": null,
            "padding": null,
            "right": null,
            "top": null,
            "visibility": null,
            "width": null
          }
        },
        "fec4a2dbbcfd45929d45d62e5f2e5e42": {
          "model_module": "@jupyter-widgets/base",
          "model_name": "LayoutModel",
          "model_module_version": "1.2.0",
          "state": {
            "_model_module": "@jupyter-widgets/base",
            "_model_module_version": "1.2.0",
            "_model_name": "LayoutModel",
            "_view_count": null,
            "_view_module": "@jupyter-widgets/base",
            "_view_module_version": "1.2.0",
            "_view_name": "LayoutView",
            "align_content": null,
            "align_items": null,
            "align_self": null,
            "border": null,
            "bottom": null,
            "display": null,
            "flex": null,
            "flex_flow": null,
            "grid_area": null,
            "grid_auto_columns": null,
            "grid_auto_flow": null,
            "grid_auto_rows": null,
            "grid_column": null,
            "grid_gap": null,
            "grid_row": null,
            "grid_template_areas": null,
            "grid_template_columns": null,
            "grid_template_rows": null,
            "height": null,
            "justify_content": null,
            "justify_items": null,
            "left": null,
            "margin": null,
            "max_height": null,
            "max_width": null,
            "min_height": null,
            "min_width": null,
            "object_fit": null,
            "object_position": null,
            "order": null,
            "overflow": null,
            "overflow_x": null,
            "overflow_y": null,
            "padding": null,
            "right": null,
            "top": null,
            "visibility": null,
            "width": null
          }
        },
        "871019980b7141488e7f011ddb5baeae": {
          "model_module": "@jupyter-widgets/controls",
          "model_name": "DescriptionStyleModel",
          "model_module_version": "1.5.0",
          "state": {
            "_model_module": "@jupyter-widgets/controls",
            "_model_module_version": "1.5.0",
            "_model_name": "DescriptionStyleModel",
            "_view_count": null,
            "_view_module": "@jupyter-widgets/base",
            "_view_module_version": "1.2.0",
            "_view_name": "StyleView",
            "description_width": ""
          }
        },
        "4b97a7722107493d905f886841adbb7d": {
          "model_module": "@jupyter-widgets/base",
          "model_name": "LayoutModel",
          "model_module_version": "1.2.0",
          "state": {
            "_model_module": "@jupyter-widgets/base",
            "_model_module_version": "1.2.0",
            "_model_name": "LayoutModel",
            "_view_count": null,
            "_view_module": "@jupyter-widgets/base",
            "_view_module_version": "1.2.0",
            "_view_name": "LayoutView",
            "align_content": null,
            "align_items": null,
            "align_self": null,
            "border": null,
            "bottom": null,
            "display": null,
            "flex": null,
            "flex_flow": null,
            "grid_area": null,
            "grid_auto_columns": null,
            "grid_auto_flow": null,
            "grid_auto_rows": null,
            "grid_column": null,
            "grid_gap": null,
            "grid_row": null,
            "grid_template_areas": null,
            "grid_template_columns": null,
            "grid_template_rows": null,
            "height": null,
            "justify_content": null,
            "justify_items": null,
            "left": null,
            "margin": null,
            "max_height": null,
            "max_width": null,
            "min_height": null,
            "min_width": null,
            "object_fit": null,
            "object_position": null,
            "order": null,
            "overflow": null,
            "overflow_x": null,
            "overflow_y": null,
            "padding": null,
            "right": null,
            "top": null,
            "visibility": null,
            "width": "20px"
          }
        },
        "3bb84067edab4fa6a9873d78007d8e1e": {
          "model_module": "@jupyter-widgets/controls",
          "model_name": "ProgressStyleModel",
          "model_module_version": "1.5.0",
          "state": {
            "_model_module": "@jupyter-widgets/controls",
            "_model_module_version": "1.5.0",
            "_model_name": "ProgressStyleModel",
            "_view_count": null,
            "_view_module": "@jupyter-widgets/base",
            "_view_module_version": "1.2.0",
            "_view_name": "StyleView",
            "bar_color": null,
            "description_width": ""
          }
        },
        "7c635c68336d4963bba21283bddb4a9c": {
          "model_module": "@jupyter-widgets/base",
          "model_name": "LayoutModel",
          "model_module_version": "1.2.0",
          "state": {
            "_model_module": "@jupyter-widgets/base",
            "_model_module_version": "1.2.0",
            "_model_name": "LayoutModel",
            "_view_count": null,
            "_view_module": "@jupyter-widgets/base",
            "_view_module_version": "1.2.0",
            "_view_name": "LayoutView",
            "align_content": null,
            "align_items": null,
            "align_self": null,
            "border": null,
            "bottom": null,
            "display": null,
            "flex": null,
            "flex_flow": null,
            "grid_area": null,
            "grid_auto_columns": null,
            "grid_auto_flow": null,
            "grid_auto_rows": null,
            "grid_column": null,
            "grid_gap": null,
            "grid_row": null,
            "grid_template_areas": null,
            "grid_template_columns": null,
            "grid_template_rows": null,
            "height": null,
            "justify_content": null,
            "justify_items": null,
            "left": null,
            "margin": null,
            "max_height": null,
            "max_width": null,
            "min_height": null,
            "min_width": null,
            "object_fit": null,
            "object_position": null,
            "order": null,
            "overflow": null,
            "overflow_x": null,
            "overflow_y": null,
            "padding": null,
            "right": null,
            "top": null,
            "visibility": null,
            "width": null
          }
        },
        "ef62c3caf62c404da2d76ac76e24b1d2": {
          "model_module": "@jupyter-widgets/controls",
          "model_name": "DescriptionStyleModel",
          "model_module_version": "1.5.0",
          "state": {
            "_model_module": "@jupyter-widgets/controls",
            "_model_module_version": "1.5.0",
            "_model_name": "DescriptionStyleModel",
            "_view_count": null,
            "_view_module": "@jupyter-widgets/base",
            "_view_module_version": "1.2.0",
            "_view_name": "StyleView",
            "description_width": ""
          }
        },
        "65e989c0ef9d412ab17397c98c416d0e": {
          "model_module": "@jupyter-widgets/controls",
          "model_name": "HBoxModel",
          "model_module_version": "1.5.0",
          "state": {
            "_dom_classes": [],
            "_model_module": "@jupyter-widgets/controls",
            "_model_module_version": "1.5.0",
            "_model_name": "HBoxModel",
            "_view_count": null,
            "_view_module": "@jupyter-widgets/controls",
            "_view_module_version": "1.5.0",
            "_view_name": "HBoxView",
            "box_style": "",
            "children": [
              "IPY_MODEL_568599b0e1b54556afc1f120cc115edd",
              "IPY_MODEL_9285f1f6930a4472a6bfa326f76e2c76",
              "IPY_MODEL_fff01093103744b38d129633222ecbd8"
            ],
            "layout": "IPY_MODEL_88ad21330d87499e8dfaf1333899f36e"
          }
        },
        "568599b0e1b54556afc1f120cc115edd": {
          "model_module": "@jupyter-widgets/controls",
          "model_name": "HTMLModel",
          "model_module_version": "1.5.0",
          "state": {
            "_dom_classes": [],
            "_model_module": "@jupyter-widgets/controls",
            "_model_module_version": "1.5.0",
            "_model_name": "HTMLModel",
            "_view_count": null,
            "_view_module": "@jupyter-widgets/controls",
            "_view_module_version": "1.5.0",
            "_view_name": "HTMLView",
            "description": "",
            "description_tooltip": null,
            "layout": "IPY_MODEL_2ec871cdd7314f7cb00a314eb0b2b804",
            "placeholder": "​",
            "style": "IPY_MODEL_c646f5228acc400dbe2e1da050bd46ff",
            "value": "Map: 100%"
          }
        },
        "9285f1f6930a4472a6bfa326f76e2c76": {
          "model_module": "@jupyter-widgets/controls",
          "model_name": "FloatProgressModel",
          "model_module_version": "1.5.0",
          "state": {
            "_dom_classes": [],
            "_model_module": "@jupyter-widgets/controls",
            "_model_module_version": "1.5.0",
            "_model_name": "FloatProgressModel",
            "_view_count": null,
            "_view_module": "@jupyter-widgets/controls",
            "_view_module_version": "1.5.0",
            "_view_name": "ProgressView",
            "bar_style": "success",
            "description": "",
            "description_tooltip": null,
            "layout": "IPY_MODEL_6b61312cb9854dc199763601f80e1f53",
            "max": 3432,
            "min": 0,
            "orientation": "horizontal",
            "style": "IPY_MODEL_f499e91fdf134d86b282e3aaaa611a53",
            "value": 3432
          }
        },
        "fff01093103744b38d129633222ecbd8": {
          "model_module": "@jupyter-widgets/controls",
          "model_name": "HTMLModel",
          "model_module_version": "1.5.0",
          "state": {
            "_dom_classes": [],
            "_model_module": "@jupyter-widgets/controls",
            "_model_module_version": "1.5.0",
            "_model_name": "HTMLModel",
            "_view_count": null,
            "_view_module": "@jupyter-widgets/controls",
            "_view_module_version": "1.5.0",
            "_view_name": "HTMLView",
            "description": "",
            "description_tooltip": null,
            "layout": "IPY_MODEL_0e72f5683ab841c692a22f47e6dc604a",
            "placeholder": "​",
            "style": "IPY_MODEL_f814ad3ac1384cf2be2f66b8e0d985c4",
            "value": " 3432/3432 [00:11&lt;00:00, 314.04 examples/s]"
          }
        },
        "88ad21330d87499e8dfaf1333899f36e": {
          "model_module": "@jupyter-widgets/base",
          "model_name": "LayoutModel",
          "model_module_version": "1.2.0",
          "state": {
            "_model_module": "@jupyter-widgets/base",
            "_model_module_version": "1.2.0",
            "_model_name": "LayoutModel",
            "_view_count": null,
            "_view_module": "@jupyter-widgets/base",
            "_view_module_version": "1.2.0",
            "_view_name": "LayoutView",
            "align_content": null,
            "align_items": null,
            "align_self": null,
            "border": null,
            "bottom": null,
            "display": null,
            "flex": null,
            "flex_flow": null,
            "grid_area": null,
            "grid_auto_columns": null,
            "grid_auto_flow": null,
            "grid_auto_rows": null,
            "grid_column": null,
            "grid_gap": null,
            "grid_row": null,
            "grid_template_areas": null,
            "grid_template_columns": null,
            "grid_template_rows": null,
            "height": null,
            "justify_content": null,
            "justify_items": null,
            "left": null,
            "margin": null,
            "max_height": null,
            "max_width": null,
            "min_height": null,
            "min_width": null,
            "object_fit": null,
            "object_position": null,
            "order": null,
            "overflow": null,
            "overflow_x": null,
            "overflow_y": null,
            "padding": null,
            "right": null,
            "top": null,
            "visibility": null,
            "width": null
          }
        },
        "2ec871cdd7314f7cb00a314eb0b2b804": {
          "model_module": "@jupyter-widgets/base",
          "model_name": "LayoutModel",
          "model_module_version": "1.2.0",
          "state": {
            "_model_module": "@jupyter-widgets/base",
            "_model_module_version": "1.2.0",
            "_model_name": "LayoutModel",
            "_view_count": null,
            "_view_module": "@jupyter-widgets/base",
            "_view_module_version": "1.2.0",
            "_view_name": "LayoutView",
            "align_content": null,
            "align_items": null,
            "align_self": null,
            "border": null,
            "bottom": null,
            "display": null,
            "flex": null,
            "flex_flow": null,
            "grid_area": null,
            "grid_auto_columns": null,
            "grid_auto_flow": null,
            "grid_auto_rows": null,
            "grid_column": null,
            "grid_gap": null,
            "grid_row": null,
            "grid_template_areas": null,
            "grid_template_columns": null,
            "grid_template_rows": null,
            "height": null,
            "justify_content": null,
            "justify_items": null,
            "left": null,
            "margin": null,
            "max_height": null,
            "max_width": null,
            "min_height": null,
            "min_width": null,
            "object_fit": null,
            "object_position": null,
            "order": null,
            "overflow": null,
            "overflow_x": null,
            "overflow_y": null,
            "padding": null,
            "right": null,
            "top": null,
            "visibility": null,
            "width": null
          }
        },
        "c646f5228acc400dbe2e1da050bd46ff": {
          "model_module": "@jupyter-widgets/controls",
          "model_name": "DescriptionStyleModel",
          "model_module_version": "1.5.0",
          "state": {
            "_model_module": "@jupyter-widgets/controls",
            "_model_module_version": "1.5.0",
            "_model_name": "DescriptionStyleModel",
            "_view_count": null,
            "_view_module": "@jupyter-widgets/base",
            "_view_module_version": "1.2.0",
            "_view_name": "StyleView",
            "description_width": ""
          }
        },
        "6b61312cb9854dc199763601f80e1f53": {
          "model_module": "@jupyter-widgets/base",
          "model_name": "LayoutModel",
          "model_module_version": "1.2.0",
          "state": {
            "_model_module": "@jupyter-widgets/base",
            "_model_module_version": "1.2.0",
            "_model_name": "LayoutModel",
            "_view_count": null,
            "_view_module": "@jupyter-widgets/base",
            "_view_module_version": "1.2.0",
            "_view_name": "LayoutView",
            "align_content": null,
            "align_items": null,
            "align_self": null,
            "border": null,
            "bottom": null,
            "display": null,
            "flex": null,
            "flex_flow": null,
            "grid_area": null,
            "grid_auto_columns": null,
            "grid_auto_flow": null,
            "grid_auto_rows": null,
            "grid_column": null,
            "grid_gap": null,
            "grid_row": null,
            "grid_template_areas": null,
            "grid_template_columns": null,
            "grid_template_rows": null,
            "height": null,
            "justify_content": null,
            "justify_items": null,
            "left": null,
            "margin": null,
            "max_height": null,
            "max_width": null,
            "min_height": null,
            "min_width": null,
            "object_fit": null,
            "object_position": null,
            "order": null,
            "overflow": null,
            "overflow_x": null,
            "overflow_y": null,
            "padding": null,
            "right": null,
            "top": null,
            "visibility": null,
            "width": null
          }
        },
        "f499e91fdf134d86b282e3aaaa611a53": {
          "model_module": "@jupyter-widgets/controls",
          "model_name": "ProgressStyleModel",
          "model_module_version": "1.5.0",
          "state": {
            "_model_module": "@jupyter-widgets/controls",
            "_model_module_version": "1.5.0",
            "_model_name": "ProgressStyleModel",
            "_view_count": null,
            "_view_module": "@jupyter-widgets/base",
            "_view_module_version": "1.2.0",
            "_view_name": "StyleView",
            "bar_color": null,
            "description_width": ""
          }
        },
        "0e72f5683ab841c692a22f47e6dc604a": {
          "model_module": "@jupyter-widgets/base",
          "model_name": "LayoutModel",
          "model_module_version": "1.2.0",
          "state": {
            "_model_module": "@jupyter-widgets/base",
            "_model_module_version": "1.2.0",
            "_model_name": "LayoutModel",
            "_view_count": null,
            "_view_module": "@jupyter-widgets/base",
            "_view_module_version": "1.2.0",
            "_view_name": "LayoutView",
            "align_content": null,
            "align_items": null,
            "align_self": null,
            "border": null,
            "bottom": null,
            "display": null,
            "flex": null,
            "flex_flow": null,
            "grid_area": null,
            "grid_auto_columns": null,
            "grid_auto_flow": null,
            "grid_auto_rows": null,
            "grid_column": null,
            "grid_gap": null,
            "grid_row": null,
            "grid_template_areas": null,
            "grid_template_columns": null,
            "grid_template_rows": null,
            "height": null,
            "justify_content": null,
            "justify_items": null,
            "left": null,
            "margin": null,
            "max_height": null,
            "max_width": null,
            "min_height": null,
            "min_width": null,
            "object_fit": null,
            "object_position": null,
            "order": null,
            "overflow": null,
            "overflow_x": null,
            "overflow_y": null,
            "padding": null,
            "right": null,
            "top": null,
            "visibility": null,
            "width": null
          }
        },
        "f814ad3ac1384cf2be2f66b8e0d985c4": {
          "model_module": "@jupyter-widgets/controls",
          "model_name": "DescriptionStyleModel",
          "model_module_version": "1.5.0",
          "state": {
            "_model_module": "@jupyter-widgets/controls",
            "_model_module_version": "1.5.0",
            "_model_name": "DescriptionStyleModel",
            "_view_count": null,
            "_view_module": "@jupyter-widgets/base",
            "_view_module_version": "1.2.0",
            "_view_name": "StyleView",
            "description_width": ""
          }
        },
        "1772ee0b9eba4ec1ad60bd4c3f2bed17": {
          "model_module": "@jupyter-widgets/controls",
          "model_name": "HBoxModel",
          "model_module_version": "1.5.0",
          "state": {
            "_dom_classes": [],
            "_model_module": "@jupyter-widgets/controls",
            "_model_module_version": "1.5.0",
            "_model_name": "HBoxModel",
            "_view_count": null,
            "_view_module": "@jupyter-widgets/controls",
            "_view_module_version": "1.5.0",
            "_view_name": "HBoxView",
            "box_style": "",
            "children": [
              "IPY_MODEL_27bc96dfc47d45bca1ebc4b1f0a2c87a",
              "IPY_MODEL_547cb5de07224607b0fc4bce0a08a6d8",
              "IPY_MODEL_fdf7c36381f240cea00bad2896d5147e"
            ],
            "layout": "IPY_MODEL_d6fd9f5640e34dd8b8c72139c1aa0e01"
          }
        },
        "27bc96dfc47d45bca1ebc4b1f0a2c87a": {
          "model_module": "@jupyter-widgets/controls",
          "model_name": "HTMLModel",
          "model_module_version": "1.5.0",
          "state": {
            "_dom_classes": [],
            "_model_module": "@jupyter-widgets/controls",
            "_model_module_version": "1.5.0",
            "_model_name": "HTMLModel",
            "_view_count": null,
            "_view_module": "@jupyter-widgets/controls",
            "_view_module_version": "1.5.0",
            "_view_name": "HTMLView",
            "description": "",
            "description_tooltip": null,
            "layout": "IPY_MODEL_ead75d326a854043b8d043e13ae33840",
            "placeholder": "​",
            "style": "IPY_MODEL_4751bcbf246342a498d3bf0ea633c12f",
            "value": "Map: 100%"
          }
        },
        "547cb5de07224607b0fc4bce0a08a6d8": {
          "model_module": "@jupyter-widgets/controls",
          "model_name": "FloatProgressModel",
          "model_module_version": "1.5.0",
          "state": {
            "_dom_classes": [],
            "_model_module": "@jupyter-widgets/controls",
            "_model_module_version": "1.5.0",
            "_model_name": "FloatProgressModel",
            "_view_count": null,
            "_view_module": "@jupyter-widgets/controls",
            "_view_module_version": "1.5.0",
            "_view_name": "ProgressView",
            "bar_style": "success",
            "description": "",
            "description_tooltip": null,
            "layout": "IPY_MODEL_1f2f62d9e5cf4eae89291fa1d8964174",
            "max": 859,
            "min": 0,
            "orientation": "horizontal",
            "style": "IPY_MODEL_7db56e2f48a14c7dbffafdb2276ab7d6",
            "value": 859
          }
        },
        "fdf7c36381f240cea00bad2896d5147e": {
          "model_module": "@jupyter-widgets/controls",
          "model_name": "HTMLModel",
          "model_module_version": "1.5.0",
          "state": {
            "_dom_classes": [],
            "_model_module": "@jupyter-widgets/controls",
            "_model_module_version": "1.5.0",
            "_model_name": "HTMLModel",
            "_view_count": null,
            "_view_module": "@jupyter-widgets/controls",
            "_view_module_version": "1.5.0",
            "_view_name": "HTMLView",
            "description": "",
            "description_tooltip": null,
            "layout": "IPY_MODEL_87ba7bd484484d5992b2cbfa8e64adc8",
            "placeholder": "​",
            "style": "IPY_MODEL_4f8c01de1b824cbd9b8b60be57c6fedd",
            "value": " 859/859 [00:01&lt;00:00, 516.00 examples/s]"
          }
        },
        "d6fd9f5640e34dd8b8c72139c1aa0e01": {
          "model_module": "@jupyter-widgets/base",
          "model_name": "LayoutModel",
          "model_module_version": "1.2.0",
          "state": {
            "_model_module": "@jupyter-widgets/base",
            "_model_module_version": "1.2.0",
            "_model_name": "LayoutModel",
            "_view_count": null,
            "_view_module": "@jupyter-widgets/base",
            "_view_module_version": "1.2.0",
            "_view_name": "LayoutView",
            "align_content": null,
            "align_items": null,
            "align_self": null,
            "border": null,
            "bottom": null,
            "display": null,
            "flex": null,
            "flex_flow": null,
            "grid_area": null,
            "grid_auto_columns": null,
            "grid_auto_flow": null,
            "grid_auto_rows": null,
            "grid_column": null,
            "grid_gap": null,
            "grid_row": null,
            "grid_template_areas": null,
            "grid_template_columns": null,
            "grid_template_rows": null,
            "height": null,
            "justify_content": null,
            "justify_items": null,
            "left": null,
            "margin": null,
            "max_height": null,
            "max_width": null,
            "min_height": null,
            "min_width": null,
            "object_fit": null,
            "object_position": null,
            "order": null,
            "overflow": null,
            "overflow_x": null,
            "overflow_y": null,
            "padding": null,
            "right": null,
            "top": null,
            "visibility": null,
            "width": null
          }
        },
        "ead75d326a854043b8d043e13ae33840": {
          "model_module": "@jupyter-widgets/base",
          "model_name": "LayoutModel",
          "model_module_version": "1.2.0",
          "state": {
            "_model_module": "@jupyter-widgets/base",
            "_model_module_version": "1.2.0",
            "_model_name": "LayoutModel",
            "_view_count": null,
            "_view_module": "@jupyter-widgets/base",
            "_view_module_version": "1.2.0",
            "_view_name": "LayoutView",
            "align_content": null,
            "align_items": null,
            "align_self": null,
            "border": null,
            "bottom": null,
            "display": null,
            "flex": null,
            "flex_flow": null,
            "grid_area": null,
            "grid_auto_columns": null,
            "grid_auto_flow": null,
            "grid_auto_rows": null,
            "grid_column": null,
            "grid_gap": null,
            "grid_row": null,
            "grid_template_areas": null,
            "grid_template_columns": null,
            "grid_template_rows": null,
            "height": null,
            "justify_content": null,
            "justify_items": null,
            "left": null,
            "margin": null,
            "max_height": null,
            "max_width": null,
            "min_height": null,
            "min_width": null,
            "object_fit": null,
            "object_position": null,
            "order": null,
            "overflow": null,
            "overflow_x": null,
            "overflow_y": null,
            "padding": null,
            "right": null,
            "top": null,
            "visibility": null,
            "width": null
          }
        },
        "4751bcbf246342a498d3bf0ea633c12f": {
          "model_module": "@jupyter-widgets/controls",
          "model_name": "DescriptionStyleModel",
          "model_module_version": "1.5.0",
          "state": {
            "_model_module": "@jupyter-widgets/controls",
            "_model_module_version": "1.5.0",
            "_model_name": "DescriptionStyleModel",
            "_view_count": null,
            "_view_module": "@jupyter-widgets/base",
            "_view_module_version": "1.2.0",
            "_view_name": "StyleView",
            "description_width": ""
          }
        },
        "1f2f62d9e5cf4eae89291fa1d8964174": {
          "model_module": "@jupyter-widgets/base",
          "model_name": "LayoutModel",
          "model_module_version": "1.2.0",
          "state": {
            "_model_module": "@jupyter-widgets/base",
            "_model_module_version": "1.2.0",
            "_model_name": "LayoutModel",
            "_view_count": null,
            "_view_module": "@jupyter-widgets/base",
            "_view_module_version": "1.2.0",
            "_view_name": "LayoutView",
            "align_content": null,
            "align_items": null,
            "align_self": null,
            "border": null,
            "bottom": null,
            "display": null,
            "flex": null,
            "flex_flow": null,
            "grid_area": null,
            "grid_auto_columns": null,
            "grid_auto_flow": null,
            "grid_auto_rows": null,
            "grid_column": null,
            "grid_gap": null,
            "grid_row": null,
            "grid_template_areas": null,
            "grid_template_columns": null,
            "grid_template_rows": null,
            "height": null,
            "justify_content": null,
            "justify_items": null,
            "left": null,
            "margin": null,
            "max_height": null,
            "max_width": null,
            "min_height": null,
            "min_width": null,
            "object_fit": null,
            "object_position": null,
            "order": null,
            "overflow": null,
            "overflow_x": null,
            "overflow_y": null,
            "padding": null,
            "right": null,
            "top": null,
            "visibility": null,
            "width": null
          }
        },
        "7db56e2f48a14c7dbffafdb2276ab7d6": {
          "model_module": "@jupyter-widgets/controls",
          "model_name": "ProgressStyleModel",
          "model_module_version": "1.5.0",
          "state": {
            "_model_module": "@jupyter-widgets/controls",
            "_model_module_version": "1.5.0",
            "_model_name": "ProgressStyleModel",
            "_view_count": null,
            "_view_module": "@jupyter-widgets/base",
            "_view_module_version": "1.2.0",
            "_view_name": "StyleView",
            "bar_color": null,
            "description_width": ""
          }
        },
        "87ba7bd484484d5992b2cbfa8e64adc8": {
          "model_module": "@jupyter-widgets/base",
          "model_name": "LayoutModel",
          "model_module_version": "1.2.0",
          "state": {
            "_model_module": "@jupyter-widgets/base",
            "_model_module_version": "1.2.0",
            "_model_name": "LayoutModel",
            "_view_count": null,
            "_view_module": "@jupyter-widgets/base",
            "_view_module_version": "1.2.0",
            "_view_name": "LayoutView",
            "align_content": null,
            "align_items": null,
            "align_self": null,
            "border": null,
            "bottom": null,
            "display": null,
            "flex": null,
            "flex_flow": null,
            "grid_area": null,
            "grid_auto_columns": null,
            "grid_auto_flow": null,
            "grid_auto_rows": null,
            "grid_column": null,
            "grid_gap": null,
            "grid_row": null,
            "grid_template_areas": null,
            "grid_template_columns": null,
            "grid_template_rows": null,
            "height": null,
            "justify_content": null,
            "justify_items": null,
            "left": null,
            "margin": null,
            "max_height": null,
            "max_width": null,
            "min_height": null,
            "min_width": null,
            "object_fit": null,
            "object_position": null,
            "order": null,
            "overflow": null,
            "overflow_x": null,
            "overflow_y": null,
            "padding": null,
            "right": null,
            "top": null,
            "visibility": null,
            "width": null
          }
        },
        "4f8c01de1b824cbd9b8b60be57c6fedd": {
          "model_module": "@jupyter-widgets/controls",
          "model_name": "DescriptionStyleModel",
          "model_module_version": "1.5.0",
          "state": {
            "_model_module": "@jupyter-widgets/controls",
            "_model_module_version": "1.5.0",
            "_model_name": "DescriptionStyleModel",
            "_view_count": null,
            "_view_module": "@jupyter-widgets/base",
            "_view_module_version": "1.2.0",
            "_view_name": "StyleView",
            "description_width": ""
          }
        },
        "2ae4e40d71074f36a7aab5bc9447b7b9": {
          "model_module": "@jupyter-widgets/controls",
          "model_name": "HBoxModel",
          "model_module_version": "1.5.0",
          "state": {
            "_dom_classes": [],
            "_model_module": "@jupyter-widgets/controls",
            "_model_module_version": "1.5.0",
            "_model_name": "HBoxModel",
            "_view_count": null,
            "_view_module": "@jupyter-widgets/controls",
            "_view_module_version": "1.5.0",
            "_view_name": "HBoxView",
            "box_style": "",
            "children": [
              "IPY_MODEL_935795d2867f4352af8551ea788c788b",
              "IPY_MODEL_833b6738a4ed430ca3a6a86f7dafd771",
              "IPY_MODEL_eb9e9fd929d44d14804730828f18f365"
            ],
            "layout": "IPY_MODEL_62ba89ee27b54fff9e3eaaa78e33431e"
          }
        },
        "935795d2867f4352af8551ea788c788b": {
          "model_module": "@jupyter-widgets/controls",
          "model_name": "HTMLModel",
          "model_module_version": "1.5.0",
          "state": {
            "_dom_classes": [],
            "_model_module": "@jupyter-widgets/controls",
            "_model_module_version": "1.5.0",
            "_model_name": "HTMLModel",
            "_view_count": null,
            "_view_module": "@jupyter-widgets/controls",
            "_view_module_version": "1.5.0",
            "_view_name": "HTMLView",
            "description": "",
            "description_tooltip": null,
            "layout": "IPY_MODEL_2a3ea477a9c143299cf9f8d3e48f60da",
            "placeholder": "​",
            "style": "IPY_MODEL_ae3fb706fcc448cf8e5d664eef062556",
            "value": "Map: 100%"
          }
        },
        "833b6738a4ed430ca3a6a86f7dafd771": {
          "model_module": "@jupyter-widgets/controls",
          "model_name": "FloatProgressModel",
          "model_module_version": "1.5.0",
          "state": {
            "_dom_classes": [],
            "_model_module": "@jupyter-widgets/controls",
            "_model_module_version": "1.5.0",
            "_model_name": "FloatProgressModel",
            "_view_count": null,
            "_view_module": "@jupyter-widgets/controls",
            "_view_module_version": "1.5.0",
            "_view_name": "ProgressView",
            "bar_style": "success",
            "description": "",
            "description_tooltip": null,
            "layout": "IPY_MODEL_b95d8667a4804e36b76b09066ea946d5",
            "max": 1073,
            "min": 0,
            "orientation": "horizontal",
            "style": "IPY_MODEL_082386c4ab804099a4597c9b0b4e7c82",
            "value": 1073
          }
        },
        "eb9e9fd929d44d14804730828f18f365": {
          "model_module": "@jupyter-widgets/controls",
          "model_name": "HTMLModel",
          "model_module_version": "1.5.0",
          "state": {
            "_dom_classes": [],
            "_model_module": "@jupyter-widgets/controls",
            "_model_module_version": "1.5.0",
            "_model_name": "HTMLModel",
            "_view_count": null,
            "_view_module": "@jupyter-widgets/controls",
            "_view_module_version": "1.5.0",
            "_view_name": "HTMLView",
            "description": "",
            "description_tooltip": null,
            "layout": "IPY_MODEL_502d145152cd4c0f81765f72f1c4c16f",
            "placeholder": "​",
            "style": "IPY_MODEL_75980812f7c44c57a7de3d2eed74a118",
            "value": " 1073/1073 [00:03&lt;00:00, 309.61 examples/s]"
          }
        },
        "62ba89ee27b54fff9e3eaaa78e33431e": {
          "model_module": "@jupyter-widgets/base",
          "model_name": "LayoutModel",
          "model_module_version": "1.2.0",
          "state": {
            "_model_module": "@jupyter-widgets/base",
            "_model_module_version": "1.2.0",
            "_model_name": "LayoutModel",
            "_view_count": null,
            "_view_module": "@jupyter-widgets/base",
            "_view_module_version": "1.2.0",
            "_view_name": "LayoutView",
            "align_content": null,
            "align_items": null,
            "align_self": null,
            "border": null,
            "bottom": null,
            "display": null,
            "flex": null,
            "flex_flow": null,
            "grid_area": null,
            "grid_auto_columns": null,
            "grid_auto_flow": null,
            "grid_auto_rows": null,
            "grid_column": null,
            "grid_gap": null,
            "grid_row": null,
            "grid_template_areas": null,
            "grid_template_columns": null,
            "grid_template_rows": null,
            "height": null,
            "justify_content": null,
            "justify_items": null,
            "left": null,
            "margin": null,
            "max_height": null,
            "max_width": null,
            "min_height": null,
            "min_width": null,
            "object_fit": null,
            "object_position": null,
            "order": null,
            "overflow": null,
            "overflow_x": null,
            "overflow_y": null,
            "padding": null,
            "right": null,
            "top": null,
            "visibility": null,
            "width": null
          }
        },
        "2a3ea477a9c143299cf9f8d3e48f60da": {
          "model_module": "@jupyter-widgets/base",
          "model_name": "LayoutModel",
          "model_module_version": "1.2.0",
          "state": {
            "_model_module": "@jupyter-widgets/base",
            "_model_module_version": "1.2.0",
            "_model_name": "LayoutModel",
            "_view_count": null,
            "_view_module": "@jupyter-widgets/base",
            "_view_module_version": "1.2.0",
            "_view_name": "LayoutView",
            "align_content": null,
            "align_items": null,
            "align_self": null,
            "border": null,
            "bottom": null,
            "display": null,
            "flex": null,
            "flex_flow": null,
            "grid_area": null,
            "grid_auto_columns": null,
            "grid_auto_flow": null,
            "grid_auto_rows": null,
            "grid_column": null,
            "grid_gap": null,
            "grid_row": null,
            "grid_template_areas": null,
            "grid_template_columns": null,
            "grid_template_rows": null,
            "height": null,
            "justify_content": null,
            "justify_items": null,
            "left": null,
            "margin": null,
            "max_height": null,
            "max_width": null,
            "min_height": null,
            "min_width": null,
            "object_fit": null,
            "object_position": null,
            "order": null,
            "overflow": null,
            "overflow_x": null,
            "overflow_y": null,
            "padding": null,
            "right": null,
            "top": null,
            "visibility": null,
            "width": null
          }
        },
        "ae3fb706fcc448cf8e5d664eef062556": {
          "model_module": "@jupyter-widgets/controls",
          "model_name": "DescriptionStyleModel",
          "model_module_version": "1.5.0",
          "state": {
            "_model_module": "@jupyter-widgets/controls",
            "_model_module_version": "1.5.0",
            "_model_name": "DescriptionStyleModel",
            "_view_count": null,
            "_view_module": "@jupyter-widgets/base",
            "_view_module_version": "1.2.0",
            "_view_name": "StyleView",
            "description_width": ""
          }
        },
        "b95d8667a4804e36b76b09066ea946d5": {
          "model_module": "@jupyter-widgets/base",
          "model_name": "LayoutModel",
          "model_module_version": "1.2.0",
          "state": {
            "_model_module": "@jupyter-widgets/base",
            "_model_module_version": "1.2.0",
            "_model_name": "LayoutModel",
            "_view_count": null,
            "_view_module": "@jupyter-widgets/base",
            "_view_module_version": "1.2.0",
            "_view_name": "LayoutView",
            "align_content": null,
            "align_items": null,
            "align_self": null,
            "border": null,
            "bottom": null,
            "display": null,
            "flex": null,
            "flex_flow": null,
            "grid_area": null,
            "grid_auto_columns": null,
            "grid_auto_flow": null,
            "grid_auto_rows": null,
            "grid_column": null,
            "grid_gap": null,
            "grid_row": null,
            "grid_template_areas": null,
            "grid_template_columns": null,
            "grid_template_rows": null,
            "height": null,
            "justify_content": null,
            "justify_items": null,
            "left": null,
            "margin": null,
            "max_height": null,
            "max_width": null,
            "min_height": null,
            "min_width": null,
            "object_fit": null,
            "object_position": null,
            "order": null,
            "overflow": null,
            "overflow_x": null,
            "overflow_y": null,
            "padding": null,
            "right": null,
            "top": null,
            "visibility": null,
            "width": null
          }
        },
        "082386c4ab804099a4597c9b0b4e7c82": {
          "model_module": "@jupyter-widgets/controls",
          "model_name": "ProgressStyleModel",
          "model_module_version": "1.5.0",
          "state": {
            "_model_module": "@jupyter-widgets/controls",
            "_model_module_version": "1.5.0",
            "_model_name": "ProgressStyleModel",
            "_view_count": null,
            "_view_module": "@jupyter-widgets/base",
            "_view_module_version": "1.2.0",
            "_view_name": "StyleView",
            "bar_color": null,
            "description_width": ""
          }
        },
        "502d145152cd4c0f81765f72f1c4c16f": {
          "model_module": "@jupyter-widgets/base",
          "model_name": "LayoutModel",
          "model_module_version": "1.2.0",
          "state": {
            "_model_module": "@jupyter-widgets/base",
            "_model_module_version": "1.2.0",
            "_model_name": "LayoutModel",
            "_view_count": null,
            "_view_module": "@jupyter-widgets/base",
            "_view_module_version": "1.2.0",
            "_view_name": "LayoutView",
            "align_content": null,
            "align_items": null,
            "align_self": null,
            "border": null,
            "bottom": null,
            "display": null,
            "flex": null,
            "flex_flow": null,
            "grid_area": null,
            "grid_auto_columns": null,
            "grid_auto_flow": null,
            "grid_auto_rows": null,
            "grid_column": null,
            "grid_gap": null,
            "grid_row": null,
            "grid_template_areas": null,
            "grid_template_columns": null,
            "grid_template_rows": null,
            "height": null,
            "justify_content": null,
            "justify_items": null,
            "left": null,
            "margin": null,
            "max_height": null,
            "max_width": null,
            "min_height": null,
            "min_width": null,
            "object_fit": null,
            "object_position": null,
            "order": null,
            "overflow": null,
            "overflow_x": null,
            "overflow_y": null,
            "padding": null,
            "right": null,
            "top": null,
            "visibility": null,
            "width": null
          }
        },
        "75980812f7c44c57a7de3d2eed74a118": {
          "model_module": "@jupyter-widgets/controls",
          "model_name": "DescriptionStyleModel",
          "model_module_version": "1.5.0",
          "state": {
            "_model_module": "@jupyter-widgets/controls",
            "_model_module_version": "1.5.0",
            "_model_name": "DescriptionStyleModel",
            "_view_count": null,
            "_view_module": "@jupyter-widgets/base",
            "_view_module_version": "1.2.0",
            "_view_name": "StyleView",
            "description_width": ""
          }
        },
        "2c6254d58723443fac6d8913b97c1d98": {
          "model_module": "@jupyter-widgets/controls",
          "model_name": "HBoxModel",
          "model_module_version": "1.5.0",
          "state": {
            "_dom_classes": [],
            "_model_module": "@jupyter-widgets/controls",
            "_model_module_version": "1.5.0",
            "_model_name": "HBoxModel",
            "_view_count": null,
            "_view_module": "@jupyter-widgets/controls",
            "_view_module_version": "1.5.0",
            "_view_name": "HBoxView",
            "box_style": "",
            "children": [
              "IPY_MODEL_f8827b1c6887417ab40a1031d1018c2b",
              "IPY_MODEL_d8d135e44a72413483c268e739c1bd67",
              "IPY_MODEL_eaa110ce88584300950997f73fd96aed"
            ],
            "layout": "IPY_MODEL_1b38a4bb6549418f8756c5ff358d5210"
          }
        },
        "f8827b1c6887417ab40a1031d1018c2b": {
          "model_module": "@jupyter-widgets/controls",
          "model_name": "HTMLModel",
          "model_module_version": "1.5.0",
          "state": {
            "_dom_classes": [],
            "_model_module": "@jupyter-widgets/controls",
            "_model_module_version": "1.5.0",
            "_model_name": "HTMLModel",
            "_view_count": null,
            "_view_module": "@jupyter-widgets/controls",
            "_view_module_version": "1.5.0",
            "_view_name": "HTMLView",
            "description": "",
            "description_tooltip": null,
            "layout": "IPY_MODEL_2ef3c65cd77a4839ae0b8edbf2f71d75",
            "placeholder": "​",
            "style": "IPY_MODEL_b91746700d9c4042824588334daa5408",
            "value": "model.safetensors: 100%"
          }
        },
        "d8d135e44a72413483c268e739c1bd67": {
          "model_module": "@jupyter-widgets/controls",
          "model_name": "FloatProgressModel",
          "model_module_version": "1.5.0",
          "state": {
            "_dom_classes": [],
            "_model_module": "@jupyter-widgets/controls",
            "_model_module_version": "1.5.0",
            "_model_name": "FloatProgressModel",
            "_view_count": null,
            "_view_module": "@jupyter-widgets/controls",
            "_view_module_version": "1.5.0",
            "_view_name": "ProgressView",
            "bar_style": "success",
            "description": "",
            "description_tooltip": null,
            "layout": "IPY_MODEL_c3ac724643cc47d1bb4cce5a9a116ec8",
            "max": 660393036,
            "min": 0,
            "orientation": "horizontal",
            "style": "IPY_MODEL_bd1c5edfca61481da322e07b04f980a4",
            "value": 660393036
          }
        },
        "eaa110ce88584300950997f73fd96aed": {
          "model_module": "@jupyter-widgets/controls",
          "model_name": "HTMLModel",
          "model_module_version": "1.5.0",
          "state": {
            "_dom_classes": [],
            "_model_module": "@jupyter-widgets/controls",
            "_model_module_version": "1.5.0",
            "_model_name": "HTMLModel",
            "_view_count": null,
            "_view_module": "@jupyter-widgets/controls",
            "_view_module_version": "1.5.0",
            "_view_name": "HTMLView",
            "description": "",
            "description_tooltip": null,
            "layout": "IPY_MODEL_c20720c2f1c94e05881c4c9c04c8ded9",
            "placeholder": "​",
            "style": "IPY_MODEL_acbd7cd04632495b8c3e02aa4d5cb9d3",
            "value": " 660M/660M [00:11&lt;00:00, 36.8MB/s]"
          }
        },
        "1b38a4bb6549418f8756c5ff358d5210": {
          "model_module": "@jupyter-widgets/base",
          "model_name": "LayoutModel",
          "model_module_version": "1.2.0",
          "state": {
            "_model_module": "@jupyter-widgets/base",
            "_model_module_version": "1.2.0",
            "_model_name": "LayoutModel",
            "_view_count": null,
            "_view_module": "@jupyter-widgets/base",
            "_view_module_version": "1.2.0",
            "_view_name": "LayoutView",
            "align_content": null,
            "align_items": null,
            "align_self": null,
            "border": null,
            "bottom": null,
            "display": null,
            "flex": null,
            "flex_flow": null,
            "grid_area": null,
            "grid_auto_columns": null,
            "grid_auto_flow": null,
            "grid_auto_rows": null,
            "grid_column": null,
            "grid_gap": null,
            "grid_row": null,
            "grid_template_areas": null,
            "grid_template_columns": null,
            "grid_template_rows": null,
            "height": null,
            "justify_content": null,
            "justify_items": null,
            "left": null,
            "margin": null,
            "max_height": null,
            "max_width": null,
            "min_height": null,
            "min_width": null,
            "object_fit": null,
            "object_position": null,
            "order": null,
            "overflow": null,
            "overflow_x": null,
            "overflow_y": null,
            "padding": null,
            "right": null,
            "top": null,
            "visibility": null,
            "width": null
          }
        },
        "2ef3c65cd77a4839ae0b8edbf2f71d75": {
          "model_module": "@jupyter-widgets/base",
          "model_name": "LayoutModel",
          "model_module_version": "1.2.0",
          "state": {
            "_model_module": "@jupyter-widgets/base",
            "_model_module_version": "1.2.0",
            "_model_name": "LayoutModel",
            "_view_count": null,
            "_view_module": "@jupyter-widgets/base",
            "_view_module_version": "1.2.0",
            "_view_name": "LayoutView",
            "align_content": null,
            "align_items": null,
            "align_self": null,
            "border": null,
            "bottom": null,
            "display": null,
            "flex": null,
            "flex_flow": null,
            "grid_area": null,
            "grid_auto_columns": null,
            "grid_auto_flow": null,
            "grid_auto_rows": null,
            "grid_column": null,
            "grid_gap": null,
            "grid_row": null,
            "grid_template_areas": null,
            "grid_template_columns": null,
            "grid_template_rows": null,
            "height": null,
            "justify_content": null,
            "justify_items": null,
            "left": null,
            "margin": null,
            "max_height": null,
            "max_width": null,
            "min_height": null,
            "min_width": null,
            "object_fit": null,
            "object_position": null,
            "order": null,
            "overflow": null,
            "overflow_x": null,
            "overflow_y": null,
            "padding": null,
            "right": null,
            "top": null,
            "visibility": null,
            "width": null
          }
        },
        "b91746700d9c4042824588334daa5408": {
          "model_module": "@jupyter-widgets/controls",
          "model_name": "DescriptionStyleModel",
          "model_module_version": "1.5.0",
          "state": {
            "_model_module": "@jupyter-widgets/controls",
            "_model_module_version": "1.5.0",
            "_model_name": "DescriptionStyleModel",
            "_view_count": null,
            "_view_module": "@jupyter-widgets/base",
            "_view_module_version": "1.2.0",
            "_view_name": "StyleView",
            "description_width": ""
          }
        },
        "c3ac724643cc47d1bb4cce5a9a116ec8": {
          "model_module": "@jupyter-widgets/base",
          "model_name": "LayoutModel",
          "model_module_version": "1.2.0",
          "state": {
            "_model_module": "@jupyter-widgets/base",
            "_model_module_version": "1.2.0",
            "_model_name": "LayoutModel",
            "_view_count": null,
            "_view_module": "@jupyter-widgets/base",
            "_view_module_version": "1.2.0",
            "_view_name": "LayoutView",
            "align_content": null,
            "align_items": null,
            "align_self": null,
            "border": null,
            "bottom": null,
            "display": null,
            "flex": null,
            "flex_flow": null,
            "grid_area": null,
            "grid_auto_columns": null,
            "grid_auto_flow": null,
            "grid_auto_rows": null,
            "grid_column": null,
            "grid_gap": null,
            "grid_row": null,
            "grid_template_areas": null,
            "grid_template_columns": null,
            "grid_template_rows": null,
            "height": null,
            "justify_content": null,
            "justify_items": null,
            "left": null,
            "margin": null,
            "max_height": null,
            "max_width": null,
            "min_height": null,
            "min_width": null,
            "object_fit": null,
            "object_position": null,
            "order": null,
            "overflow": null,
            "overflow_x": null,
            "overflow_y": null,
            "padding": null,
            "right": null,
            "top": null,
            "visibility": null,
            "width": null
          }
        },
        "bd1c5edfca61481da322e07b04f980a4": {
          "model_module": "@jupyter-widgets/controls",
          "model_name": "ProgressStyleModel",
          "model_module_version": "1.5.0",
          "state": {
            "_model_module": "@jupyter-widgets/controls",
            "_model_module_version": "1.5.0",
            "_model_name": "ProgressStyleModel",
            "_view_count": null,
            "_view_module": "@jupyter-widgets/base",
            "_view_module_version": "1.2.0",
            "_view_name": "StyleView",
            "bar_color": null,
            "description_width": ""
          }
        },
        "c20720c2f1c94e05881c4c9c04c8ded9": {
          "model_module": "@jupyter-widgets/base",
          "model_name": "LayoutModel",
          "model_module_version": "1.2.0",
          "state": {
            "_model_module": "@jupyter-widgets/base",
            "_model_module_version": "1.2.0",
            "_model_name": "LayoutModel",
            "_view_count": null,
            "_view_module": "@jupyter-widgets/base",
            "_view_module_version": "1.2.0",
            "_view_name": "LayoutView",
            "align_content": null,
            "align_items": null,
            "align_self": null,
            "border": null,
            "bottom": null,
            "display": null,
            "flex": null,
            "flex_flow": null,
            "grid_area": null,
            "grid_auto_columns": null,
            "grid_auto_flow": null,
            "grid_auto_rows": null,
            "grid_column": null,
            "grid_gap": null,
            "grid_row": null,
            "grid_template_areas": null,
            "grid_template_columns": null,
            "grid_template_rows": null,
            "height": null,
            "justify_content": null,
            "justify_items": null,
            "left": null,
            "margin": null,
            "max_height": null,
            "max_width": null,
            "min_height": null,
            "min_width": null,
            "object_fit": null,
            "object_position": null,
            "order": null,
            "overflow": null,
            "overflow_x": null,
            "overflow_y": null,
            "padding": null,
            "right": null,
            "top": null,
            "visibility": null,
            "width": null
          }
        },
        "acbd7cd04632495b8c3e02aa4d5cb9d3": {
          "model_module": "@jupyter-widgets/controls",
          "model_name": "DescriptionStyleModel",
          "model_module_version": "1.5.0",
          "state": {
            "_model_module": "@jupyter-widgets/controls",
            "_model_module_version": "1.5.0",
            "_model_name": "DescriptionStyleModel",
            "_view_count": null,
            "_view_module": "@jupyter-widgets/base",
            "_view_module_version": "1.2.0",
            "_view_name": "StyleView",
            "description_width": ""
          }
        }
      }
    }
  },
  "nbformat": 4,
  "nbformat_minor": 0
}